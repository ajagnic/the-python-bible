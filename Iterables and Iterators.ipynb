{
 "cells": [
  {
   "cell_type": "markdown",
   "id": "cc1cd8ab",
   "metadata": {},
   "source": [
    "Iterators: get next item, no index needed (consumable)\n",
    "\n",
    "Iterables: collections that implement iterators\n",
    "\n",
    "### Iterating Collections\n",
    "\n",
    "Iteration can be more general than sequential indexing. All we need is:\n",
    "- a bucket of items (collection, container)\n",
    "- the ability to get the *next* item, no ordering needed\n",
    "\n",
    "__Building an \"Iterable\" from Scratch__\n",
    "\n",
    "This approach has some issues:\n",
    "- cannot iterate using for loops, comprehensions\n",
    "- once the iteration starts it cannot be restarted\n",
    "- once all items have been iterated over, the object becomes useless"
   ]
  },
  {
   "cell_type": "code",
   "execution_count": 6,
   "id": "995b3b6d",
   "metadata": {},
   "outputs": [],
   "source": [
    "class Squares:\n",
    "    def __init__(self, length):\n",
    "        self.i = 0\n",
    "        self.length = length\n",
    "        \n",
    "    def __next__(self):\n",
    "        if self.i >= self.length:\n",
    "            raise StopIteration\n",
    "        else:\n",
    "            result = self.i ** 2\n",
    "            self.i += 1\n",
    "            return result"
   ]
  },
  {
   "cell_type": "code",
   "execution_count": 7,
   "id": "55014855",
   "metadata": {},
   "outputs": [
    {
     "name": "stdout",
     "output_type": "stream",
     "text": [
      "0\n",
      "1\n",
      "4\n",
      "9\n",
      "16\n"
     ]
    }
   ],
   "source": [
    "sq = Squares(5)\n",
    "\n",
    "while True:\n",
    "    try:\n",
    "        item = next(sq)\n",
    "        print(item)\n",
    "    except StopIteration:\n",
    "        break"
   ]
  },
  {
   "cell_type": "markdown",
   "id": "58b2653a",
   "metadata": {},
   "source": [
    "### Iterators\n",
    "\n",
    "__The Iterator Protocol__\n",
    "\n",
    "A __protocol__ is simply a way of saying our class implements certain functionality that Python can count on.\n",
    "\n",
    "A class implements the iterator protocol by defining two methods:\n",
    "- `__iter__`: returns the class instance itself\n",
    "- `__next__`: handles returning next items and raising StopIteration\n",
    "\n",
    "If an object is an *iterator* (implements the protocol), then it can be used with for loops and in comprehensions, etc."
   ]
  },
  {
   "cell_type": "code",
   "execution_count": 8,
   "id": "9548c227",
   "metadata": {},
   "outputs": [],
   "source": [
    "class Squares:\n",
    "    def __init__(self, length):\n",
    "        self.i = 0\n",
    "        self.length = length\n",
    "        \n",
    "    def __next__(self):\n",
    "        if self.i >= self.length:\n",
    "            raise StopIteration\n",
    "        else:\n",
    "            result = self.i ** 2\n",
    "            self.i += 1\n",
    "            return result\n",
    "        \n",
    "    def __iter__(self):\n",
    "        return self"
   ]
  },
  {
   "cell_type": "code",
   "execution_count": 9,
   "id": "e33da88f",
   "metadata": {},
   "outputs": [
    {
     "name": "stdout",
     "output_type": "stream",
     "text": [
      "0\n",
      "1\n",
      "4\n",
      "9\n",
      "16\n"
     ]
    }
   ],
   "source": [
    "sq = Squares(5)\n",
    "\n",
    "for item in sq:\n",
    "    print(item)"
   ]
  },
  {
   "cell_type": "markdown",
   "id": "4e78218c",
   "metadata": {},
   "source": [
    "This approach still has issues, because we still cannot restart the iteration. If we want to iterate again, we would have to create a new object.\n",
    "\n",
    "### Iterables\n",
    "\n",
    "__Separating the Collection from the Iterator__\n",
    "\n",
    "We would prefer to separate these two functionalities:\n",
    "- maintaining the data of the collection (iterable)\n",
    "- iterating over the data (iterator)\n",
    "\n",
    "The *iterable* is created once, but the *iterator* is created every time we need to start a fresh iteration."
   ]
  },
  {
   "cell_type": "code",
   "execution_count": 10,
   "id": "ecf5a305",
   "metadata": {},
   "outputs": [],
   "source": [
    "class Cities:\n",
    "    def __init__(self):\n",
    "        self.cities = ['Paris', 'Amsterdam', 'London', 'Vienna']\n",
    "        self.i = 0\n",
    "        \n",
    "    def __iter__(self):\n",
    "        return self\n",
    "    \n",
    "    def __next__(self):\n",
    "        if self.i >= self.length:\n",
    "            raise StopIteration\n",
    "        else:\n",
    "            result = self.i ** 2\n",
    "            self.i += 1\n",
    "            return result"
   ]
  },
  {
   "cell_type": "markdown",
   "id": "6fbb3207",
   "metadata": {},
   "source": [
    "The `Cities` instance is the iterator, but it also maintains the collection. So the collection must be recreated every time we start a new iteration, this is wasteful."
   ]
  },
  {
   "cell_type": "code",
   "execution_count": 12,
   "id": "ff29497a",
   "metadata": {},
   "outputs": [],
   "source": [
    "class Cities:\n",
    "    def __init__(self):\n",
    "        self.cities = ['Paris', 'Amsterdam', 'London', 'Vienna']\n",
    "        \n",
    "    def __len__(self):\n",
    "        return len(self.cities)"
   ]
  },
  {
   "cell_type": "code",
   "execution_count": 17,
   "id": "6ec5635a",
   "metadata": {},
   "outputs": [],
   "source": [
    "class CityIterator:\n",
    "    def __init__(self, cities):\n",
    "        self._cities = cities\n",
    "        self._index = 0\n",
    "        \n",
    "    def __iter__(self):\n",
    "        return self\n",
    "    \n",
    "    def __next__(self):\n",
    "        if self._index >= len(self._cities):\n",
    "            raise StopIteration\n",
    "        else:\n",
    "            result = self._index ** 2\n",
    "            self._index += 1\n",
    "            return result"
   ]
  },
  {
   "cell_type": "code",
   "execution_count": 18,
   "id": "d9ec03ea",
   "metadata": {},
   "outputs": [
    {
     "name": "stdout",
     "output_type": "stream",
     "text": [
      "0\n",
      "1\n",
      "4\n",
      "9\n"
     ]
    }
   ],
   "source": [
    "cities = Cities()\n",
    "cities_iter = CityIterator(cities)\n",
    "\n",
    "for city in cities_iter:\n",
    "    print(city)"
   ]
  },
  {
   "cell_type": "code",
   "execution_count": 19,
   "id": "17001eed",
   "metadata": {},
   "outputs": [
    {
     "name": "stdout",
     "output_type": "stream",
     "text": [
      "0\n",
      "1\n",
      "4\n",
      "9\n"
     ]
    }
   ],
   "source": [
    "# Here we can restart iteration without recreating the whole collection of cities\n",
    "cities_iter = CityIterator(cities)\n",
    "\n",
    "for city in cities_iter:\n",
    "    print(city)"
   ]
  },
  {
   "cell_type": "markdown",
   "id": "351c78c1",
   "metadata": {},
   "source": [
    "Now we can iterate over the collection many times, but we have to recreate the Iterator every time. How can we iterate over the Cities object instead?\n",
    "\n",
    "__The Iterable Protocol__\n",
    "\n",
    "A class implements the iterable protocol by defining the `__iter__` method. But the method returns a new instance of the *iterator* instead of the object itself."
   ]
  },
  {
   "cell_type": "code",
   "execution_count": 20,
   "id": "ca6a7e95",
   "metadata": {},
   "outputs": [],
   "source": [
    "class Cities:\n",
    "    def __init__(self):\n",
    "        self.cities = ['Paris', 'Amsterdam', 'London', 'Vienna']\n",
    "        \n",
    "    def __len__(self):\n",
    "        return len(self.cities)\n",
    "    \n",
    "    def __iter__(self):\n",
    "        return CityIterator(self)"
   ]
  },
  {
   "cell_type": "markdown",
   "id": "682a8d8e",
   "metadata": {},
   "source": [
    "__Iterable vs. Iterator__\n",
    "\n",
    "An __iterable__ is an object that implements:\n",
    "- `__iter__`: which returns an *iterator* (a new instance)\n",
    "\n",
    "An __iterator__ is an object that implements:\n",
    "- `__iter__`: which returns itself (an iterator)\n",
    "- `__next__`: returns the next element\n",
    "\n",
    "So iterators are themselves iterables, but they are iterables that become exhausted.\n",
    "\n",
    "Iterables never become exhausted, because they always return a new iterator."
   ]
  },
  {
   "cell_type": "markdown",
   "id": "601df343",
   "metadata": {},
   "source": [
    "### Lazy Iterables\n",
    "\n",
    "__Lazy Evaluation__\n",
    "\n",
    "Often used for class properties, this is the technique of evaluating the value of a property when it is requested, rather than at instantiation."
   ]
  },
  {
   "cell_type": "code",
   "execution_count": 22,
   "id": "4b09d670",
   "metadata": {},
   "outputs": [],
   "source": [
    "# Example\n",
    "class Actor:\n",
    "    def __init__(self, id):\n",
    "        self.id = id\n",
    "        self.bio = lookup_actor_in_db(self.id)\n",
    "        self.movies = None\n",
    "        \n",
    "    @property\n",
    "    def movies(self):\n",
    "        if self.movies is None:\n",
    "            self.movies = lookup_movies_in_db(self.id)\n",
    "        return self.movies"
   ]
  },
  {
   "cell_type": "markdown",
   "id": "affc12f4",
   "metadata": {},
   "source": [
    "__Application to Iterables__\n",
    "\n",
    "An example would be an iterable of Factorial(n), which does not pre-compute all the factorials, but waits until the nbext one is called, then calculates it (lazy evaluation).\n",
    "\n",
    "Or an iterable of Posts, where each call to next will fetch more posts from te database and return them (lazy loading).\n",
    "\n",
    "__Beware__: Lazy evaluation can mean having infinite iterables, so using them in a for loop requires caution."
   ]
  },
  {
   "cell_type": "code",
   "execution_count": 31,
   "id": "04bed2e5",
   "metadata": {},
   "outputs": [],
   "source": [
    "import math\n",
    "\n",
    "class Factorials:        \n",
    "    def __iter__(self):\n",
    "        return self.FactIter()\n",
    "        \n",
    "    class FactIter:\n",
    "        def __init__(self):\n",
    "            self.i = 0\n",
    "            \n",
    "        def __iter__(self):\n",
    "            return self\n",
    "        \n",
    "        def __next__(self):\n",
    "            result = math.factorial(self.i)\n",
    "            self.i += 1\n",
    "            return result"
   ]
  },
  {
   "cell_type": "code",
   "execution_count": 32,
   "id": "46e61451",
   "metadata": {},
   "outputs": [],
   "source": [
    "facts = Factorials()"
   ]
  },
  {
   "cell_type": "code",
   "execution_count": 33,
   "id": "c7de05e7",
   "metadata": {},
   "outputs": [],
   "source": [
    "fact_iter = iter(facts)"
   ]
  },
  {
   "cell_type": "code",
   "execution_count": 34,
   "id": "35152ca2",
   "metadata": {},
   "outputs": [
    {
     "name": "stdout",
     "output_type": "stream",
     "text": [
      "1\n",
      "1\n",
      "2\n",
      "6\n",
      "24\n"
     ]
    }
   ],
   "source": [
    "for _ in range(5):\n",
    "    print(next(fact_iter))"
   ]
  },
  {
   "cell_type": "markdown",
   "id": "1d8544fe",
   "metadata": {},
   "source": [
    "### The `iter()` Function\n",
    "\n",
    "What happens when Python performs iteration over an iterable?\n",
    "\n",
    "Firstly, Python calls the `iter()` function on the object, if the object implements the `__iter__` method, it is called and Python uses the returned iterator.\n",
    "\n",
    "What happens when an object does not implement the `__iter__` method?\n",
    "\n",
    "For example, sequence types, which maybe only implement `__getitem__`. The `iter()` function will detect only a `__getitem__` method and return an iterator type object for us.It does this by incrementing an index until an IndexError is raised.\n",
    "\n",
    "`iter(obj)` is called:\n",
    "\n",
    "    -> Python looks for an __iter__ method\n",
    "        -> If it exists, use it\n",
    "        -> If not:\n",
    "            -> Python looks for a __getitem__ method\n",
    "                -> If it exists, it creates an iterator object and returns it\n",
    "                -> If not, raise a TypeError"
   ]
  },
  {
   "cell_type": "markdown",
   "id": "34968829",
   "metadata": {},
   "source": [
    "__Iterating a Callable__\n",
    "\n",
    "There is are two forms of `iter()`:\n",
    "- `iter(iterable)`\n",
    "- `iter(callable, sentinel)`\n",
    "\n",
    "The second form will return an iterator that will:\n",
    "- call the callable when `next()` is called\n",
    "- raise `StopIteration` if the result of the call is equal to the sentinel value"
   ]
  },
  {
   "cell_type": "code",
   "execution_count": 60,
   "id": "4f773815",
   "metadata": {},
   "outputs": [],
   "source": [
    "def counter():\n",
    "    i = 0\n",
    "    def inc():\n",
    "        nonlocal i\n",
    "        i += 1\n",
    "        return i\n",
    "    \n",
    "    return inc"
   ]
  },
  {
   "cell_type": "code",
   "execution_count": 61,
   "id": "3a908faa",
   "metadata": {},
   "outputs": [],
   "source": [
    "class CallableIter:\n",
    "    def __init__(self, callable_, sentinel):\n",
    "        self.callable_ = callable_\n",
    "        self.sentinel = sentinel\n",
    "        self.consumed = False\n",
    "        \n",
    "    def __iter__(self):\n",
    "        return self\n",
    "    \n",
    "    def __next__(self):\n",
    "        if self.consumed:\n",
    "            raise StopIteration\n",
    "        else:\n",
    "            result = self.callable_()\n",
    "            if result == self.sentinel:\n",
    "                self.consumed = True\n",
    "                raise StopIteration\n",
    "            else:\n",
    "                return result"
   ]
  },
  {
   "cell_type": "code",
   "execution_count": 62,
   "id": "0bcfc32f",
   "metadata": {},
   "outputs": [],
   "source": [
    "cnt = counter()\n",
    "cnt_iter = CallableIter(cnt, 5)"
   ]
  },
  {
   "cell_type": "code",
   "execution_count": 63,
   "id": "40e601f2",
   "metadata": {},
   "outputs": [
    {
     "name": "stdout",
     "output_type": "stream",
     "text": [
      "1\n",
      "2\n",
      "3\n",
      "4\n"
     ]
    }
   ],
   "source": [
    "for c in cnt_iter:\n",
    "    print(c)"
   ]
  },
  {
   "cell_type": "code",
   "execution_count": 64,
   "id": "5fc2ab8d",
   "metadata": {},
   "outputs": [
    {
     "ename": "StopIteration",
     "evalue": "",
     "output_type": "error",
     "traceback": [
      "\u001b[0;31m---------------------------------------------------------------------------\u001b[0m",
      "\u001b[0;31mStopIteration\u001b[0m                             Traceback (most recent call last)",
      "\u001b[0;32m/tmp/ipykernel_98424/4217083180.py\u001b[0m in \u001b[0;36m<module>\u001b[0;34m\u001b[0m\n\u001b[1;32m      1\u001b[0m \u001b[0;31m# Without the consumed flag, the iterator would resume after the sentinel value.\u001b[0m\u001b[0;34m\u001b[0m\u001b[0;34m\u001b[0m\u001b[0m\n\u001b[1;32m      2\u001b[0m \u001b[0;31m# Since in this example, the counter would increment to 6 and wouldn't raise StopIteration anymore.\u001b[0m\u001b[0;34m\u001b[0m\u001b[0;34m\u001b[0m\u001b[0m\n\u001b[0;32m----> 3\u001b[0;31m \u001b[0mnext\u001b[0m\u001b[0;34m(\u001b[0m\u001b[0mcnt_iter\u001b[0m\u001b[0;34m)\u001b[0m\u001b[0;34m\u001b[0m\u001b[0;34m\u001b[0m\u001b[0m\n\u001b[0m",
      "\u001b[0;32m/tmp/ipykernel_98424/2223161471.py\u001b[0m in \u001b[0;36m__next__\u001b[0;34m(self)\u001b[0m\n\u001b[1;32m     10\u001b[0m     \u001b[0;32mdef\u001b[0m \u001b[0m__next__\u001b[0m\u001b[0;34m(\u001b[0m\u001b[0mself\u001b[0m\u001b[0;34m)\u001b[0m\u001b[0;34m:\u001b[0m\u001b[0;34m\u001b[0m\u001b[0;34m\u001b[0m\u001b[0m\n\u001b[1;32m     11\u001b[0m         \u001b[0;32mif\u001b[0m \u001b[0mself\u001b[0m\u001b[0;34m.\u001b[0m\u001b[0mconsumed\u001b[0m\u001b[0;34m:\u001b[0m\u001b[0;34m\u001b[0m\u001b[0;34m\u001b[0m\u001b[0m\n\u001b[0;32m---> 12\u001b[0;31m             \u001b[0;32mraise\u001b[0m \u001b[0mStopIteration\u001b[0m\u001b[0;34m\u001b[0m\u001b[0;34m\u001b[0m\u001b[0m\n\u001b[0m\u001b[1;32m     13\u001b[0m         \u001b[0;32melse\u001b[0m\u001b[0;34m:\u001b[0m\u001b[0;34m\u001b[0m\u001b[0;34m\u001b[0m\u001b[0m\n\u001b[1;32m     14\u001b[0m             \u001b[0mresult\u001b[0m \u001b[0;34m=\u001b[0m \u001b[0mself\u001b[0m\u001b[0;34m.\u001b[0m\u001b[0mcallable_\u001b[0m\u001b[0;34m(\u001b[0m\u001b[0;34m)\u001b[0m\u001b[0;34m\u001b[0m\u001b[0;34m\u001b[0m\u001b[0m\n",
      "\u001b[0;31mStopIteration\u001b[0m: "
     ]
    }
   ],
   "source": [
    "# Without the consumed flag, the iterator would resume after the sentinel value.\n",
    "# Since in this example, the counter would increment to 6 and wouldn't raise StopIteration anymore.\n",
    "next(cnt_iter)"
   ]
  },
  {
   "cell_type": "markdown",
   "id": "6b34443a",
   "metadata": {},
   "source": [
    "__Using `iter` with a Callable__"
   ]
  },
  {
   "cell_type": "code",
   "execution_count": 69,
   "id": "041dee13",
   "metadata": {},
   "outputs": [],
   "source": [
    "cnt = counter()\n",
    "cnt_iter = iter(cnt, 5)"
   ]
  },
  {
   "cell_type": "code",
   "execution_count": 70,
   "id": "d0e61747",
   "metadata": {},
   "outputs": [
    {
     "name": "stdout",
     "output_type": "stream",
     "text": [
      "1\n",
      "2\n",
      "3\n",
      "4\n"
     ]
    }
   ],
   "source": [
    "for c in cnt_iter:\n",
    "    print(c)"
   ]
  },
  {
   "cell_type": "code",
   "execution_count": 71,
   "id": "7f14dcf7",
   "metadata": {
    "scrolled": true
   },
   "outputs": [
    {
     "ename": "StopIteration",
     "evalue": "",
     "output_type": "error",
     "traceback": [
      "\u001b[0;31m---------------------------------------------------------------------------\u001b[0m",
      "\u001b[0;31mStopIteration\u001b[0m                             Traceback (most recent call last)",
      "\u001b[0;32m/tmp/ipykernel_98424/4114624902.py\u001b[0m in \u001b[0;36m<module>\u001b[0;34m\u001b[0m\n\u001b[0;32m----> 1\u001b[0;31m \u001b[0mnext\u001b[0m\u001b[0;34m(\u001b[0m\u001b[0mcnt_iter\u001b[0m\u001b[0;34m)\u001b[0m\u001b[0;34m\u001b[0m\u001b[0;34m\u001b[0m\u001b[0m\n\u001b[0m",
      "\u001b[0;31mStopIteration\u001b[0m: "
     ]
    }
   ],
   "source": [
    "next(cnt_iter)"
   ]
  },
  {
   "cell_type": "markdown",
   "id": "92de191a",
   "metadata": {},
   "source": [
    "### Reverse Iteration\n",
    "\n",
    "__Iterating a Sequence in Reverse__"
   ]
  },
  {
   "cell_type": "code",
   "execution_count": 72,
   "id": "a5944297",
   "metadata": {},
   "outputs": [],
   "source": [
    "seq = [1, 2, 3, 4, 5]"
   ]
  },
  {
   "cell_type": "code",
   "execution_count": 73,
   "id": "6a49ae38",
   "metadata": {},
   "outputs": [
    {
     "name": "stdout",
     "output_type": "stream",
     "text": [
      "5\n",
      "4\n",
      "3\n",
      "2\n",
      "1\n"
     ]
    }
   ],
   "source": [
    "# This approach may be wasteful since we are creating a copy of the sequence.\n",
    "for item in seq[::-1]:\n",
    "    print(item)"
   ]
  },
  {
   "cell_type": "code",
   "execution_count": 75,
   "id": "b3daf580",
   "metadata": {},
   "outputs": [
    {
     "name": "stdout",
     "output_type": "stream",
     "text": [
      "5\n",
      "4\n",
      "3\n",
      "2\n",
      "1\n"
     ]
    }
   ],
   "source": [
    "# This is more efficient, but the syntax is messy\n",
    "for i in range(len(seq)-1, -1, -1):\n",
    "    print(seq[i])"
   ]
  },
  {
   "cell_type": "markdown",
   "id": "fb33eaeb",
   "metadata": {},
   "source": [
    "The below would be the best approach, since it creates an iterator and does not copy the sequence. __But__ the sequence must have `__getitem__` and `__len__` implemented. You can override how `reversed()` works by implementing the `__reversed__` method."
   ]
  },
  {
   "cell_type": "code",
   "execution_count": 78,
   "id": "4b842e95",
   "metadata": {},
   "outputs": [
    {
     "name": "stdout",
     "output_type": "stream",
     "text": [
      "5\n",
      "4\n",
      "3\n",
      "2\n",
      "1\n"
     ]
    }
   ],
   "source": [
    "# Best approach\n",
    "for item in reversed(seq):\n",
    "    print(item)"
   ]
  },
  {
   "cell_type": "markdown",
   "id": "d02a87e1",
   "metadata": {},
   "source": [
    "__Iterating an Iterable in Reverse__\n",
    "\n",
    "When we call `reversed()` on a custom iterable, Python will look for the `__reversed__` method. This function should return an iterator.\n",
    "\n",
    "Just like `iter()`, when we call `reversed()`:\n",
    "- Python looks for and calls `__reversed__`\n",
    "- If not implemented, it will use `__getitem__` and `__len__` to create an iterator for us\n",
    "- Otherwise, raises an exception\n",
    "\n"
   ]
  },
  {
   "cell_type": "code",
   "execution_count": null,
   "id": "126c1953",
   "metadata": {},
   "outputs": [],
   "source": []
  }
 ],
 "metadata": {
  "kernelspec": {
   "display_name": "Python 3 (ipykernel)",
   "language": "python",
   "name": "python3"
  },
  "language_info": {
   "codemirror_mode": {
    "name": "ipython",
    "version": 3
   },
   "file_extension": ".py",
   "mimetype": "text/x-python",
   "name": "python",
   "nbconvert_exporter": "python",
   "pygments_lexer": "ipython3",
   "version": "3.9.7"
  }
 },
 "nbformat": 4,
 "nbformat_minor": 5
}
