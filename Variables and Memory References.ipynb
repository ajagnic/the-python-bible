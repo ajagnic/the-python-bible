{
 "cells": [
  {
   "cell_type": "markdown",
   "id": "778fcb5f",
   "metadata": {},
   "source": [
    "### Variables are just Memory References\n",
    "\n",
    "Objects are stored on the heap at different memory addresses.\n",
    "\n",
    "e.g. `my_var = 10`\n",
    "\n",
    "my_var --> Reference (0x100) --> Memory Address (0x100) --> 10"
   ]
  },
  {
   "cell_type": "code",
   "execution_count": 1,
   "id": "a0ee0679",
   "metadata": {},
   "outputs": [],
   "source": [
    "# 'my_var' just references the memory address which holds the actual value.\n",
    "my_var = 10"
   ]
  },
  {
   "cell_type": "code",
   "execution_count": 2,
   "id": "86155c50",
   "metadata": {},
   "outputs": [
    {
     "data": {
      "text/plain": [
       "139947211917904"
      ]
     },
     "execution_count": 2,
     "metadata": {},
     "output_type": "execute_result"
    }
   ],
   "source": [
    "# You can find the memory address referenced by a variable by using the \n",
    "# id() function, this returns a base-10 number.\n",
    "id(my_var)"
   ]
  },
  {
   "cell_type": "code",
   "execution_count": 3,
   "id": "6519146a",
   "metadata": {},
   "outputs": [
    {
     "data": {
      "text/plain": [
       "'0x7f47ffda8a50'"
      ]
     },
     "execution_count": 3,
     "metadata": {},
     "output_type": "execute_result"
    }
   ],
   "source": [
    "# You can convert this to hexadecimal by using the `hex()` function.\n",
    "hex(id(my_var))"
   ]
  },
  {
   "cell_type": "markdown",
   "id": "11be1999",
   "metadata": {},
   "source": [
    "__Reference Counting__\n",
    "\n",
    "The Python Memory Manager keeps track of the amount of references to a particular memory address."
   ]
  },
  {
   "cell_type": "code",
   "execution_count": 4,
   "id": "75014d7e",
   "metadata": {},
   "outputs": [],
   "source": [
    "# We can have 2 references to the same memory address.\n",
    "my_var = 10\n",
    "other_var = my_var"
   ]
  },
  {
   "cell_type": "markdown",
   "id": "8f88e901",
   "metadata": {},
   "source": [
    "my_var ----->\n",
    "\n",
    "            0x100 --> 10\n",
    "               \n",
    "other_var -->\n",
    "\n",
    "When all references to an address are deleted or out of scope, \n",
    "the Python Memory Manager will allow that address to be re-allocated, essentially deleting the object from memory.\n",
    "\n",
    "__Finding the Reference Count__"
   ]
  },
  {
   "cell_type": "code",
   "execution_count": 6,
   "id": "ed97f5f4",
   "metadata": {},
   "outputs": [
    {
     "data": {
      "text/plain": [
       "2"
      ]
     },
     "execution_count": 6,
     "metadata": {},
     "output_type": "execute_result"
    }
   ],
   "source": [
    "import sys\n",
    "\n",
    "a = [1, 2, 3]\n",
    "\n",
    "# This increases the reference count by 1, since variables are passed by reference in Python.\n",
    "sys.getrefcount(a)"
   ]
  },
  {
   "cell_type": "code",
   "execution_count": 7,
   "id": "b842b2f4",
   "metadata": {},
   "outputs": [],
   "source": [
    "import ctypes\n",
    "\n",
    "# This will avoid the extra reference count\n",
    "def true_ref_count(address: int):\n",
    "    return ctypes.c_long.from_address(address).value"
   ]
  },
  {
   "cell_type": "code",
   "execution_count": 8,
   "id": "7d7aab6f",
   "metadata": {},
   "outputs": [
    {
     "data": {
      "text/plain": [
       "1"
      ]
     },
     "execution_count": 8,
     "metadata": {},
     "output_type": "execute_result"
    }
   ],
   "source": [
    "b = [2, 4, 6]\n",
    "\n",
    "true_ref_count(id(b))"
   ]
  },
  {
   "cell_type": "code",
   "execution_count": 9,
   "id": "a203397d",
   "metadata": {},
   "outputs": [
    {
     "data": {
      "text/plain": [
       "2"
      ]
     },
     "execution_count": 9,
     "metadata": {},
     "output_type": "execute_result"
    }
   ],
   "source": [
    "c = [3, 5, 7]\n",
    "d = c\n",
    "\n",
    "true_ref_count(id(c))"
   ]
  },
  {
   "cell_type": "markdown",
   "id": "5c0f48db",
   "metadata": {},
   "source": [
    "### Garbage Collection\n",
    "\n",
    "__Circular References__\n",
    "\n",
    "my_var --> Object A --> Object B --> Object A\n",
    "\n",
    "When `my_var` is deleted, Object A still is referenced by Object B, so its space is not re-allocated. This results in a __memory leak__.\n",
    "\n",
    "The garbage collector can identify these circular references and clean them  up.\n",
    "\n",
    "__Garbage Collection__\n",
    "\n",
    "- Can be controlled programmatically using the `gc` module.\n",
    "- runs periodically on its own\n",
    "- can be called manually\n",
    "- by default is turned _on_, but can be turned _off_ for performance reasons\n",
    "    * __Beware!__ Be sure code does not create circular references, otherwise this will result in memory leaks.\n"
   ]
  },
  {
   "cell_type": "code",
   "execution_count": 8,
   "id": "72285566",
   "metadata": {},
   "outputs": [],
   "source": [
    "import ctypes\n",
    "import gc\n",
    "\n",
    "def true_ref_count(address: int):\n",
    "    return ctypes.c_long.from_address(address).value\n",
    "\n",
    "def object_exists(address: int):\n",
    "    for obj in gc.get_objects():\n",
    "        if id(obj) == address:\n",
    "            return True\n",
    "    \n",
    "    return False"
   ]
  },
  {
   "cell_type": "code",
   "execution_count": 9,
   "id": "56fa4271",
   "metadata": {},
   "outputs": [],
   "source": [
    "class A:\n",
    "    def __init__(self):\n",
    "        self.b = B(self)\n",
    "        \n",
    "        print(f\"A - self: {hex(id(self))}\\n b: {hex(id(self.b))}\")\n"
   ]
  },
  {
   "cell_type": "code",
   "execution_count": 10,
   "id": "b41ae751",
   "metadata": {},
   "outputs": [],
   "source": [
    "class B:\n",
    "    def __init__(self, a):\n",
    "        self.a = a\n",
    "        \n",
    "        print(f\"B - self: {hex(id(self))}\\n a: {hex(id(self.a))}\")"
   ]
  },
  {
   "cell_type": "code",
   "execution_count": 11,
   "id": "190bd4b1",
   "metadata": {},
   "outputs": [],
   "source": [
    "gc.disable()"
   ]
  },
  {
   "cell_type": "code",
   "execution_count": 12,
   "id": "5812a916",
   "metadata": {},
   "outputs": [
    {
     "name": "stdout",
     "output_type": "stream",
     "text": [
      "B - self: 0x7f3a0c3c4100\n",
      " a: 0x7f3a0c3c4340\n",
      "A - self: 0x7f3a0c3c4340\n",
      " b: 0x7f3a0c3c4100\n"
     ]
    }
   ],
   "source": [
    "my_var = A()"
   ]
  },
  {
   "cell_type": "code",
   "execution_count": 13,
   "id": "f5d11808",
   "metadata": {},
   "outputs": [],
   "source": [
    "a_id = id(my_var)\n",
    "b_id = id(my_var.b)"
   ]
  },
  {
   "cell_type": "code",
   "execution_count": 14,
   "id": "580098df",
   "metadata": {},
   "outputs": [
    {
     "data": {
      "text/plain": [
       "2"
      ]
     },
     "execution_count": 14,
     "metadata": {},
     "output_type": "execute_result"
    }
   ],
   "source": [
    "true_ref_count(a_id)"
   ]
  },
  {
   "cell_type": "code",
   "execution_count": 15,
   "id": "90f0b717",
   "metadata": {},
   "outputs": [
    {
     "data": {
      "text/plain": [
       "1"
      ]
     },
     "execution_count": 15,
     "metadata": {},
     "output_type": "execute_result"
    }
   ],
   "source": [
    "true_ref_count(b_id)"
   ]
  },
  {
   "cell_type": "code",
   "execution_count": 16,
   "id": "6c39ba84",
   "metadata": {},
   "outputs": [
    {
     "data": {
      "text/plain": [
       "True"
      ]
     },
     "execution_count": 16,
     "metadata": {},
     "output_type": "execute_result"
    }
   ],
   "source": [
    "object_exists(a_id)"
   ]
  },
  {
   "cell_type": "code",
   "execution_count": 17,
   "id": "3a42d01c",
   "metadata": {},
   "outputs": [
    {
     "data": {
      "text/plain": [
       "True"
      ]
     },
     "execution_count": 17,
     "metadata": {},
     "output_type": "execute_result"
    }
   ],
   "source": [
    "object_exists(b_id)"
   ]
  },
  {
   "cell_type": "code",
   "execution_count": 18,
   "id": "64da3a15",
   "metadata": {},
   "outputs": [],
   "source": [
    "my_var = None"
   ]
  },
  {
   "cell_type": "code",
   "execution_count": 19,
   "id": "2c69664f",
   "metadata": {},
   "outputs": [
    {
     "data": {
      "text/plain": [
       "1"
      ]
     },
     "execution_count": 19,
     "metadata": {},
     "output_type": "execute_result"
    }
   ],
   "source": [
    "true_ref_count(a_id)"
   ]
  },
  {
   "cell_type": "code",
   "execution_count": 28,
   "id": "ee025f3d",
   "metadata": {},
   "outputs": [
    {
     "data": {
      "text/plain": [
       "1"
      ]
     },
     "execution_count": 28,
     "metadata": {},
     "output_type": "execute_result"
    }
   ],
   "source": [
    "true_ref_count(b_id)"
   ]
  },
  {
   "cell_type": "markdown",
   "id": "6eafb4c4",
   "metadata": {},
   "source": [
    "__Variable Re-Assignment__"
   ]
  },
  {
   "cell_type": "code",
   "execution_count": 11,
   "id": "effb9e1a",
   "metadata": {},
   "outputs": [
    {
     "name": "stdout",
     "output_type": "stream",
     "text": [
      "0x7f47ffda8a50\n"
     ]
    }
   ],
   "source": [
    "# Here, my_var references an object at a certain memory address\n",
    "my_var = 10\n",
    "\n",
    "print(hex(id(my_var)))"
   ]
  },
  {
   "cell_type": "code",
   "execution_count": 12,
   "id": "82699281",
   "metadata": {},
   "outputs": [
    {
     "name": "stdout",
     "output_type": "stream",
     "text": [
      "0x7f47ffda8af0\n"
     ]
    }
   ],
   "source": [
    "# Here, the value at the original memory address does NOT change.\n",
    "# my_var simply references a *different* address with the new value\n",
    "my_var = 15\n",
    "\n",
    "print(hex(id(my_var)))"
   ]
  },
  {
   "cell_type": "markdown",
   "id": "4f100ea3",
   "metadata": {},
   "source": [
    "Even when incrementing a value, the value of the original address\n",
    "is not modified.\n",
    "\n",
    "A new address with the incremented value is created and the reference\n",
    "of `my_var` is changed\n",
    "\n",
    "In fact, the value of `int` objects can never be changed (immutability)"
   ]
  },
  {
   "cell_type": "code",
   "execution_count": 13,
   "id": "163deed2",
   "metadata": {},
   "outputs": [
    {
     "name": "stdout",
     "output_type": "stream",
     "text": [
      "0x7f47ffda8b90\n"
     ]
    }
   ],
   "source": [
    "my_var = my_var + 5\n",
    "\n",
    "print(hex(id(my_var)))"
   ]
  },
  {
   "cell_type": "markdown",
   "id": "82d62b0d",
   "metadata": {},
   "source": [
    "Somewhat surprisingly, here we can see that when 2 variables are assigned to the same value, even in separate statements, they share the same reference!"
   ]
  },
  {
   "cell_type": "code",
   "execution_count": 14,
   "id": "3c5e7031",
   "metadata": {},
   "outputs": [],
   "source": [
    "x = 10\n",
    "y = 10"
   ]
  },
  {
   "cell_type": "code",
   "execution_count": 15,
   "id": "0d13eb4b",
   "metadata": {},
   "outputs": [
    {
     "name": "stdout",
     "output_type": "stream",
     "text": [
      "0x7f47ffda8a50\n",
      "0x7f47ffda8a50\n"
     ]
    }
   ],
   "source": [
    "print(hex(id(x)))\n",
    "print(hex(id(y)))"
   ]
  },
  {
   "cell_type": "markdown",
   "id": "547ec228",
   "metadata": {},
   "source": [
    "__Variable Equality__\n",
    "\n",
    "We can think of variable equality in two fundamental ways:\n",
    "\n",
    "Using the _identity operator_ `is`\n",
    "- Compares the memory addresses of two objects\n",
    "\n",
    "Using the _equality_ operator `==`\n",
    "- Compares the object state or data"
   ]
  },
  {
   "cell_type": "code",
   "execution_count": 2,
   "id": "24e1a047",
   "metadata": {},
   "outputs": [
    {
     "name": "stdout",
     "output_type": "stream",
     "text": [
      "True\n",
      "True\n"
     ]
    }
   ],
   "source": [
    "a = 10\n",
    "b = a\n",
    "\n",
    "print(a is b)\n",
    "print(a == b)"
   ]
  },
  {
   "cell_type": "code",
   "execution_count": 3,
   "id": "ca47d06b",
   "metadata": {},
   "outputs": [
    {
     "name": "stdout",
     "output_type": "stream",
     "text": [
      "True\n",
      "True\n"
     ]
    }
   ],
   "source": [
    "a = 'hello'\n",
    "b = 'hello'\n",
    "\n",
    "print(a is b)\n",
    "print(a == b)"
   ]
  },
  {
   "cell_type": "code",
   "execution_count": 4,
   "id": "2ed36b9e",
   "metadata": {},
   "outputs": [
    {
     "name": "stdout",
     "output_type": "stream",
     "text": [
      "False\n",
      "True\n"
     ]
    }
   ],
   "source": [
    "a = [1, 2, 3]\n",
    "b = [1, 2, 3]\n",
    "\n",
    "print(a is b)\n",
    "print(a == b)"
   ]
  },
  {
   "cell_type": "code",
   "execution_count": 5,
   "id": "6dc3d203",
   "metadata": {},
   "outputs": [
    {
     "name": "stdout",
     "output_type": "stream",
     "text": [
      "False\n",
      "True\n"
     ]
    }
   ],
   "source": [
    "a = 10\n",
    "b = 10.0\n",
    "\n",
    "print(a is b)\n",
    "print(a == b)"
   ]
  },
  {
   "cell_type": "markdown",
   "id": "c90474cf",
   "metadata": {},
   "source": [
    "__The None object__\n",
    "\n",
    "The `None` object can be assigned to variables to indicate they're values are not yet set as expected e.g. an \"empty\" or null pointer\n",
    "\n",
    "The None object is a real object that is managed by the Python Memory Manager, and furthermore will always use a shared reference when assignined to variables.\n",
    "\n",
    "We can test is a variable is null by comparing its memory address to the address of the `None` object, using the `is` operator\n",
    "\n",
    "e.g. `a is None`"
   ]
  },
  {
   "cell_type": "code",
   "execution_count": 6,
   "id": "f06e0394",
   "metadata": {},
   "outputs": [
    {
     "data": {
      "text/plain": [
       "True"
      ]
     },
     "execution_count": 6,
     "metadata": {},
     "output_type": "execute_result"
    }
   ],
   "source": [
    "a = None\n",
    "b = None\n",
    "c = None\n",
    "\n",
    "a is b is c"
   ]
  },
  {
   "cell_type": "markdown",
   "id": "ea1ad2d6",
   "metadata": {},
   "source": [
    "### Interning\n",
    "\n",
    "At startup, Python (CPython) pre-loads, or caches, a global list of integers in the range **[-5, 256]** (inclusive).\n",
    "\n",
    "Any time an integer is referenced in that range, Python will use the cached version of that object\n",
    "\n",
    "These are Singleton objects, and this is done as an optimization strategy since small integers are used often.\n",
    "\n",
    "When we write `a = 10`, Python just has to point to the existing cached reference for 10\n",
    "\n",
    "But when we write `a = 257` or any integrer outside of that range, Python will create a new object every time"
   ]
  },
  {
   "cell_type": "code",
   "execution_count": 1,
   "id": "e1f750eb",
   "metadata": {},
   "outputs": [
    {
     "data": {
      "text/plain": [
       "True"
      ]
     },
     "execution_count": 1,
     "metadata": {},
     "output_type": "execute_result"
    }
   ],
   "source": [
    "a = 10\n",
    "b = 10\n",
    "\n",
    "a is b # a and b are the same memory address"
   ]
  },
  {
   "cell_type": "code",
   "execution_count": 2,
   "id": "c0e8166e",
   "metadata": {},
   "outputs": [
    {
     "data": {
      "text/plain": [
       "False"
      ]
     },
     "execution_count": 2,
     "metadata": {},
     "output_type": "execute_result"
    }
   ],
   "source": [
    "a = 257\n",
    "b = 257\n",
    "\n",
    "a is b"
   ]
  },
  {
   "cell_type": "code",
   "execution_count": 3,
   "id": "61eca50d",
   "metadata": {},
   "outputs": [
    {
     "data": {
      "text/plain": [
       "True"
      ]
     },
     "execution_count": 3,
     "metadata": {},
     "output_type": "execute_result"
    }
   ],
   "source": [
    "a = 10\n",
    "b = int(10)\n",
    "c = int('10')\n",
    "d = int('1010', 2)\n",
    "\n",
    "a is b is c is d"
   ]
  },
  {
   "cell_type": "markdown",
   "id": "8eefe78f",
   "metadata": {},
   "source": [
    "__String Interning__\n",
    "\n",
    "Python, both internally and in your code, deals with lots of dictionary type lookups, on string keys, which means a lot of string equality testing.\n",
    "\n",
    "If we want to see if 2 strings are equal...\n",
    "\n",
    "e.g.\n",
    "\n",
    "```\n",
    "a = 'some_long_string'\n",
    "b = 'some_long_string'\n",
    "```\n",
    "\n",
    "Using `a == b`, we ned to compare the 2 strings character by character.\n",
    "\n",
    "But if we know that they have been __interned__, or cached, then `a` and `b` are pointing to the same string in memory and we can compare using the identity operator: `is`\n",
    "\n",
    "In this case, we are comparing 2 integers (memory addresses) and is therefore much faster\n",
    "\n",
    "Some strings are also automatically interned - but not all\n",
    "\n",
    "As Python code is compiled, identifiers are interned:\n",
    "- variable names\n",
    "- function names\n",
    "- class names\n",
    "- etc...\n",
    "\n",
    "Identifiers must start with an \\_ or a letter and can only contain \\_, letters, and numbers\n",
    "\n",
    "_Some_ string literals may also be automatically interned:\n",
    "- string literals that look like identifiers (e.g. 'hello_world')\n",
    "- although if it starts with a digit, even though that is not a valid identifier, it may still get interned. __But dont count on it!__\n",
    "\n",
    "[ ! ] Not all strings are interned by python\n",
    "\n",
    "You can also force strings to be interned:\n",
    "\n",
    "```\n",
    "import sys\n",
    "\n",
    "a = sys.intern('the quick brown fox')\n",
    "b = sys.intern('the quick brown fox')\n",
    "```\n",
    "\n",
    "But in general, you should avoid forcing interning unless you have a specific need to, like:\n",
    "- dealing with a large number of strings that could have high repetition, e.g. tokenizing large corpus of text (NLP)\n",
    "- lots of string comparisons\n"
   ]
  },
  {
   "cell_type": "code",
   "execution_count": 4,
   "id": "498a7038",
   "metadata": {},
   "outputs": [
    {
     "data": {
      "text/plain": [
       "True"
      ]
     },
     "execution_count": 4,
     "metadata": {},
     "output_type": "execute_result"
    }
   ],
   "source": [
    "a = 'hello'\n",
    "b = 'hello'\n",
    "\n",
    "a is b"
   ]
  },
  {
   "cell_type": "code",
   "execution_count": 5,
   "id": "ee5ef0c2",
   "metadata": {},
   "outputs": [
    {
     "data": {
      "text/plain": [
       "False"
      ]
     },
     "execution_count": 5,
     "metadata": {},
     "output_type": "execute_result"
    }
   ],
   "source": [
    "a = 'hello world'\n",
    "b = 'hello world'\n",
    "\n",
    "a is b"
   ]
  },
  {
   "cell_type": "code",
   "execution_count": 6,
   "id": "77a6aa7d",
   "metadata": {},
   "outputs": [
    {
     "data": {
      "text/plain": [
       "True"
      ]
     },
     "execution_count": 6,
     "metadata": {},
     "output_type": "execute_result"
    }
   ],
   "source": [
    "a = '_this_is_a_long_string_that_could_be_an_identifier'\n",
    "b = '_this_is_a_long_string_that_could_be_an_identifier'\n",
    "\n",
    "a is b"
   ]
  },
  {
   "cell_type": "markdown",
   "id": "49498d29",
   "metadata": {},
   "source": [
    "### Peephole Optimizations\n",
    "\n",
    "This is another variety of optimizations that can occur at compile time.\n",
    "\n",
    "__Constant Expressions__\n",
    "\n",
    "Numeric Calculations:\n",
    "\n",
    "e.g. `24 * 60`, Python will pre-calculate 24\\*60 -> 1440 and store it\n",
    "\n",
    "Short Sequences (__length < 20__)\n",
    "\n",
    "e.g.\n",
    "\n",
    "`(1, 2) * 5` -> (1, 2, 1, 2, 1, 2, 1, 2, 1, 2)\n",
    "\n",
    "`'abc' * 5` -> abcabcabc\n",
    "\n",
    "`'hello + ' world'` -> hello world\n",
    "\n",
    "[ ! ] Expressions like the ones above can essentially be thought of as constants, so they are pre-calculated at compile time and the result is used whenever the same expression re-appears\n"
   ]
  },
  {
   "cell_type": "code",
   "execution_count": 17,
   "id": "91dc3d1c",
   "metadata": {},
   "outputs": [],
   "source": [
    "def my_func():\n",
    "    a = 24 * 60\n",
    "    b = (1, 2) * 5\n",
    "    c = 'abc' * 3\n",
    "    d = ['a', 'b'] * 3 # will not be cached since lists are mutable"
   ]
  },
  {
   "cell_type": "code",
   "execution_count": 18,
   "id": "8080722a",
   "metadata": {},
   "outputs": [
    {
     "data": {
      "text/plain": [
       "(None, 1440, (1, 2, 1, 2, 1, 2, 1, 2, 1, 2), 'abcabcabc', 'a', 'b', 3)"
      ]
     },
     "execution_count": 18,
     "metadata": {},
     "output_type": "execute_result"
    }
   ],
   "source": [
    "my_func.__code__.co_consts"
   ]
  },
  {
   "cell_type": "markdown",
   "id": "ae8e3b3e",
   "metadata": {},
   "source": [
    "__Membership Tests: Mutables are replaced by Immutables__\n",
    "\n",
    "When membership tests such as:\n",
    "\n",
    "`if e in [1, 2, 3]`\n",
    "\n",
    "are encountered, the list literal is replaced by its immutable counterpart (a tuple), `(1, 2, 3)`\n",
    "\n",
    "- lists -> tuples\n",
    "- sets -> frozensets\n",
    "\n",
    "[ ! ] Set membership is much faster than list or tuple membership (since sets are basically hashmaps like dictionaries)\n",
    "\n",
    "So instead of writing:\n",
    "\n",
    "`if e in [1, 2, 3]` OR `if e in (1, 2, 3)`\n",
    "\n",
    "write `if e in {1, 2, 3}`"
   ]
  },
  {
   "cell_type": "code",
   "execution_count": 21,
   "id": "1deb9f85",
   "metadata": {},
   "outputs": [],
   "source": [
    "def is_member(e):\n",
    "    if e in [1, 2, 3]: # this will become a tuple\n",
    "        pass"
   ]
  },
  {
   "cell_type": "code",
   "execution_count": 22,
   "id": "967725b6",
   "metadata": {},
   "outputs": [
    {
     "data": {
      "text/plain": [
       "(None, (1, 2, 3))"
      ]
     },
     "execution_count": 22,
     "metadata": {},
     "output_type": "execute_result"
    }
   ],
   "source": [
    "is_member.__code__.co_consts"
   ]
  },
  {
   "cell_type": "code",
   "execution_count": 25,
   "id": "a0c98578",
   "metadata": {},
   "outputs": [],
   "source": [
    "def is_member(e):\n",
    "    if e in {1, 2, 3}: # this will become a frozenset\n",
    "        pass"
   ]
  },
  {
   "cell_type": "code",
   "execution_count": 26,
   "id": "58bcd294",
   "metadata": {},
   "outputs": [
    {
     "data": {
      "text/plain": [
       "(None, frozenset({1, 2, 3}))"
      ]
     },
     "execution_count": 26,
     "metadata": {},
     "output_type": "execute_result"
    }
   ],
   "source": [
    "is_member.__code__.co_consts"
   ]
  },
  {
   "cell_type": "code",
   "execution_count": null,
   "id": "53398ff0",
   "metadata": {},
   "outputs": [],
   "source": []
  }
 ],
 "metadata": {
  "kernelspec": {
   "display_name": "Python 3 (ipykernel)",
   "language": "python",
   "name": "python3"
  },
  "language_info": {
   "codemirror_mode": {
    "name": "ipython",
    "version": 3
   },
   "file_extension": ".py",
   "mimetype": "text/x-python",
   "name": "python",
   "nbconvert_exporter": "python",
   "pygments_lexer": "ipython3",
   "version": "3.9.7"
  }
 },
 "nbformat": 4,
 "nbformat_minor": 5
}
