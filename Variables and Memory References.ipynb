{
 "cells": [
  {
   "cell_type": "markdown",
   "id": "778fcb5f",
   "metadata": {},
   "source": [
    "### Variables are just Memory References\n",
    "\n",
    "Objects are stored on the heap at different memory addresses.\n",
    "\n",
    "e.g. `my_var = 10`\n",
    "\n",
    "my_var --> Reference (0x100) --> Memory Address (0x100) --> 10\n",
    "\n",
    "[ ! ] `my_var` just references the memory address which holds the actual value.\n",
    "\n",
    "We can find the memory address referenced by a variable by using the \n",
    "`id()` function, this returns a base-10 number. You can convert this to hexadecimal by using the `hex()` function."
   ]
  },
  {
   "cell_type": "code",
   "execution_count": 1,
   "id": "a0ee0679",
   "metadata": {},
   "outputs": [],
   "source": [
    "my_var = 10"
   ]
  },
  {
   "cell_type": "code",
   "execution_count": 2,
   "id": "86155c50",
   "metadata": {},
   "outputs": [
    {
     "data": {
      "text/plain": [
       "139887429536336"
      ]
     },
     "execution_count": 2,
     "metadata": {},
     "output_type": "execute_result"
    }
   ],
   "source": [
    "id(my_var)"
   ]
  },
  {
   "cell_type": "code",
   "execution_count": 3,
   "id": "6519146a",
   "metadata": {},
   "outputs": [
    {
     "data": {
      "text/plain": [
       "'0x7f3a148bca50'"
      ]
     },
     "execution_count": 3,
     "metadata": {},
     "output_type": "execute_result"
    }
   ],
   "source": [
    "hex(id(my_var))"
   ]
  },
  {
   "cell_type": "markdown",
   "id": "11be1999",
   "metadata": {},
   "source": [
    "__Reference Counting__\n",
    "\n",
    "The Python Memory Manager keeps track of the amount of references to a particular memory address.\n",
    "\n",
    "We can have 2 references to the same memory address.\n",
    "\n",
    "e.g.\n",
    "\n",
    "`my_var = 10`\n",
    "\n",
    "`other_var = my_var`\n",
    "\n",
    "my_var ----->\n",
    "\n",
    "            0x100 --> 10\n",
    "               \n",
    "other_var -->\n",
    "\n",
    "[ ! ] When all references to an address are deleted or out of scope, \n",
    "the Python Memory Manager will allow that address to be re-allocated, essentially deleting the object from memory.\n",
    "\n",
    "__Finding the Reference Count__\n",
    "\n",
    "[ ! ] This increases the reference count by 1, since variables are passed by reference in Python."
   ]
  },
  {
   "cell_type": "code",
   "execution_count": 4,
   "id": "ed97f5f4",
   "metadata": {},
   "outputs": [
    {
     "data": {
      "text/plain": [
       "2"
      ]
     },
     "execution_count": 4,
     "metadata": {},
     "output_type": "execute_result"
    }
   ],
   "source": [
    "import sys\n",
    "\n",
    "a = [1, 2, 3]\n",
    "\n",
    "sys.getrefcount(a)"
   ]
  },
  {
   "cell_type": "markdown",
   "id": "f8c7bb3f",
   "metadata": {},
   "source": [
    "[ ! ] This will avoid the extra reference count"
   ]
  },
  {
   "cell_type": "code",
   "execution_count": 5,
   "id": "b842b2f4",
   "metadata": {},
   "outputs": [],
   "source": [
    "import ctypes\n",
    "\n",
    "def true_ref_count(address: int):\n",
    "    return ctypes.c_long.from_address(address).value"
   ]
  },
  {
   "cell_type": "code",
   "execution_count": 6,
   "id": "7d7aab6f",
   "metadata": {},
   "outputs": [
    {
     "data": {
      "text/plain": [
       "1"
      ]
     },
     "execution_count": 6,
     "metadata": {},
     "output_type": "execute_result"
    }
   ],
   "source": [
    "b = [2, 4, 6]\n",
    "\n",
    "true_ref_count(id(b))"
   ]
  },
  {
   "cell_type": "code",
   "execution_count": 7,
   "id": "a203397d",
   "metadata": {},
   "outputs": [
    {
     "data": {
      "text/plain": [
       "2"
      ]
     },
     "execution_count": 7,
     "metadata": {},
     "output_type": "execute_result"
    }
   ],
   "source": [
    "c = [3, 5, 7]\n",
    "d = c\n",
    "\n",
    "true_ref_count(id(c))"
   ]
  },
  {
   "cell_type": "markdown",
   "id": "5c0f48db",
   "metadata": {},
   "source": [
    "### Garbage Collection\n",
    "\n",
    "__Circular References__\n",
    "\n",
    "my_var --> Object A --> Object B --> Object A\n",
    "\n",
    "[ ! ] When `my_var` is deleted, Object A still is referenced by Object B, so its space is not re-allocated. This results in a __memory leak__.\n",
    "\n",
    "The garbage collector can identify these circular references and clean them  up.\n",
    "\n",
    "__Garbage Collection__\n",
    "\n",
    "- Can be controlled programmatically using the `gc` module.\n",
    "- runs periodically on its own\n",
    "- can be called manually\n",
    "- by default is turned _on_, but can be turned _off_ for performance reasons\n",
    "    * __Beware!__ Be sure code does not create circular references, otherwise this will result in memory leaks.\n"
   ]
  },
  {
   "cell_type": "code",
   "execution_count": 8,
   "id": "72285566",
   "metadata": {},
   "outputs": [],
   "source": [
    "import ctypes\n",
    "import gc\n",
    "\n",
    "def true_ref_count(address: int):\n",
    "    return ctypes.c_long.from_address(address).value\n",
    "\n",
    "def object_exists(address: int):\n",
    "    for obj in gc.get_objects():\n",
    "        if id(obj) == address:\n",
    "            return True\n",
    "    \n",
    "    return False"
   ]
  },
  {
   "cell_type": "code",
   "execution_count": 9,
   "id": "56fa4271",
   "metadata": {},
   "outputs": [],
   "source": [
    "class A:\n",
    "    def __init__(self):\n",
    "        self.b = B(self)\n",
    "        \n",
    "        print(f\"A - self: {hex(id(self))}\\n b: {hex(id(self.b))}\")\n"
   ]
  },
  {
   "cell_type": "code",
   "execution_count": 10,
   "id": "b41ae751",
   "metadata": {},
   "outputs": [],
   "source": [
    "class B:\n",
    "    def __init__(self, a):\n",
    "        self.a = a\n",
    "        \n",
    "        print(f\"B - self: {hex(id(self))}\\n a: {hex(id(self.a))}\")"
   ]
  },
  {
   "cell_type": "code",
   "execution_count": 11,
   "id": "190bd4b1",
   "metadata": {},
   "outputs": [],
   "source": [
    "gc.disable()"
   ]
  },
  {
   "cell_type": "code",
   "execution_count": 12,
   "id": "5812a916",
   "metadata": {},
   "outputs": [
    {
     "name": "stdout",
     "output_type": "stream",
     "text": [
      "B - self: 0x7f3a0c3c4100\n",
      " a: 0x7f3a0c3c4340\n",
      "A - self: 0x7f3a0c3c4340\n",
      " b: 0x7f3a0c3c4100\n"
     ]
    }
   ],
   "source": [
    "my_var = A()"
   ]
  },
  {
   "cell_type": "code",
   "execution_count": 13,
   "id": "f5d11808",
   "metadata": {},
   "outputs": [],
   "source": [
    "a_id = id(my_var)\n",
    "b_id = id(my_var.b)"
   ]
  },
  {
   "cell_type": "code",
   "execution_count": 14,
   "id": "580098df",
   "metadata": {},
   "outputs": [
    {
     "data": {
      "text/plain": [
       "2"
      ]
     },
     "execution_count": 14,
     "metadata": {},
     "output_type": "execute_result"
    }
   ],
   "source": [
    "true_ref_count(a_id)"
   ]
  },
  {
   "cell_type": "code",
   "execution_count": 15,
   "id": "90f0b717",
   "metadata": {},
   "outputs": [
    {
     "data": {
      "text/plain": [
       "1"
      ]
     },
     "execution_count": 15,
     "metadata": {},
     "output_type": "execute_result"
    }
   ],
   "source": [
    "true_ref_count(b_id)"
   ]
  },
  {
   "cell_type": "code",
   "execution_count": 16,
   "id": "6c39ba84",
   "metadata": {},
   "outputs": [
    {
     "data": {
      "text/plain": [
       "True"
      ]
     },
     "execution_count": 16,
     "metadata": {},
     "output_type": "execute_result"
    }
   ],
   "source": [
    "object_exists(a_id)"
   ]
  },
  {
   "cell_type": "code",
   "execution_count": 17,
   "id": "3a42d01c",
   "metadata": {},
   "outputs": [
    {
     "data": {
      "text/plain": [
       "True"
      ]
     },
     "execution_count": 17,
     "metadata": {},
     "output_type": "execute_result"
    }
   ],
   "source": [
    "object_exists(b_id)"
   ]
  },
  {
   "cell_type": "code",
   "execution_count": 18,
   "id": "64da3a15",
   "metadata": {},
   "outputs": [],
   "source": [
    "my_var = None"
   ]
  },
  {
   "cell_type": "code",
   "execution_count": 19,
   "id": "2c69664f",
   "metadata": {},
   "outputs": [
    {
     "data": {
      "text/plain": [
       "1"
      ]
     },
     "execution_count": 19,
     "metadata": {},
     "output_type": "execute_result"
    }
   ],
   "source": [
    "true_ref_count(a_id)"
   ]
  },
  {
   "cell_type": "code",
   "execution_count": 28,
   "id": "ee025f3d",
   "metadata": {},
   "outputs": [
    {
     "data": {
      "text/plain": [
       "1"
      ]
     },
     "execution_count": 28,
     "metadata": {},
     "output_type": "execute_result"
    }
   ],
   "source": [
    "true_ref_count(b_id)"
   ]
  },
  {
   "cell_type": "markdown",
   "id": "6eafb4c4",
   "metadata": {},
   "source": [
    "__Variable Re-Assignment__\n",
    "\n",
    "Here, my_var references an object at a certain memory address"
   ]
  },
  {
   "cell_type": "code",
   "execution_count": 32,
   "id": "effb9e1a",
   "metadata": {},
   "outputs": [
    {
     "name": "stdout",
     "output_type": "stream",
     "text": [
      "0x7f3a148bca50\n"
     ]
    }
   ],
   "source": [
    "my_var = 10\n",
    "\n",
    "print(hex(id(my_var)))"
   ]
  },
  {
   "cell_type": "markdown",
   "id": "4e09e443",
   "metadata": {},
   "source": [
    "Here, the value at the original memory address does NOT change.\n",
    "\n",
    "my_var simply references a *different* address with the new value"
   ]
  },
  {
   "cell_type": "code",
   "execution_count": 33,
   "id": "82699281",
   "metadata": {},
   "outputs": [
    {
     "name": "stdout",
     "output_type": "stream",
     "text": [
      "0x7f3a148bcaf0\n"
     ]
    }
   ],
   "source": [
    "my_var = 15\n",
    "\n",
    "print(hex(id(my_var)))"
   ]
  },
  {
   "cell_type": "markdown",
   "id": "4f100ea3",
   "metadata": {},
   "source": [
    "Even when incrementing a value, the value of the original address\n",
    "is not modified.\n",
    "\n",
    "A new address with the incremented value is created and the reference\n",
    "of my_var is changed\n",
    "\n",
    "[ ! ] In fact, the value of `int` objects can never be changed (immutability)"
   ]
  },
  {
   "cell_type": "code",
   "execution_count": 34,
   "id": "163deed2",
   "metadata": {},
   "outputs": [
    {
     "name": "stdout",
     "output_type": "stream",
     "text": [
      "0x7f3a148bcb90\n"
     ]
    }
   ],
   "source": [
    "my_var = my_var + 5\n",
    "\n",
    "print(hex(id(my_var)))"
   ]
  },
  {
   "cell_type": "markdown",
   "id": "82d62b0d",
   "metadata": {},
   "source": [
    "Somewhat surprisingly, here we can see that when 2 variables are assigned to the same value, even in separate statements, they share the same reference!"
   ]
  },
  {
   "cell_type": "code",
   "execution_count": 37,
   "id": "3c5e7031",
   "metadata": {},
   "outputs": [],
   "source": [
    "x = 10\n",
    "y = 10"
   ]
  },
  {
   "cell_type": "code",
   "execution_count": 38,
   "id": "0d13eb4b",
   "metadata": {},
   "outputs": [
    {
     "name": "stdout",
     "output_type": "stream",
     "text": [
      "0x7f3a148bca50\n",
      "0x7f3a148bca50\n"
     ]
    }
   ],
   "source": [
    "print(hex(id(x)))\n",
    "print(hex(id(y)))"
   ]
  },
  {
   "cell_type": "code",
   "execution_count": null,
   "id": "99a98055",
   "metadata": {},
   "outputs": [],
   "source": []
  }
 ],
 "metadata": {
  "kernelspec": {
   "display_name": "Python 3 (ipykernel)",
   "language": "python",
   "name": "python3"
  },
  "language_info": {
   "codemirror_mode": {
    "name": "ipython",
    "version": 3
   },
   "file_extension": ".py",
   "mimetype": "text/x-python",
   "name": "python",
   "nbconvert_exporter": "python",
   "pygments_lexer": "ipython3",
   "version": "3.9.6"
  }
 },
 "nbformat": 4,
 "nbformat_minor": 5
}
