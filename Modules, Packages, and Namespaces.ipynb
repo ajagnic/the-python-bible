{
 "cells": [
  {
   "cell_type": "markdown",
   "id": "f6fe50f1",
   "metadata": {},
   "source": [
    "### What is a Module"
   ]
  },
  {
   "cell_type": "code",
   "execution_count": 1,
   "id": "12e22fd6",
   "metadata": {},
   "outputs": [],
   "source": [
    "import math"
   ]
  },
  {
   "cell_type": "code",
   "execution_count": 5,
   "id": "1087692d",
   "metadata": {},
   "outputs": [
    {
     "name": "stdout",
     "output_type": "stream",
     "text": [
      "<class 'module'>\n"
     ]
    },
    {
     "data": {
      "text/plain": [
       "<module 'math' from '/usr/lib64/python3.9/lib-dynload/math.cpython-39-x86_64-linux-gnu.so'>"
      ]
     },
     "execution_count": 5,
     "metadata": {},
     "output_type": "execute_result"
    }
   ],
   "source": [
    "# We can see that 'math' is actually an object of type module\n",
    "print(type(math))\n",
    "math"
   ]
  },
  {
   "cell_type": "code",
   "execution_count": 4,
   "id": "9c13b566",
   "metadata": {},
   "outputs": [
    {
     "data": {
      "text/plain": [
       "<module 'math' from '/usr/lib64/python3.9/lib-dynload/math.cpython-39-x86_64-linux-gnu.so'>"
      ]
     },
     "execution_count": 4,
     "metadata": {},
     "output_type": "execute_result"
    }
   ],
   "source": [
    "# When we import math, the symbol pointing to the module object is located\n",
    "# in the global namespace\n",
    "globals()['math']"
   ]
  },
  {
   "cell_type": "code",
   "execution_count": 6,
   "id": "eaa169e0",
   "metadata": {},
   "outputs": [
    {
     "data": {
      "text/plain": [
       "True"
      ]
     },
     "execution_count": 6,
     "metadata": {},
     "output_type": "execute_result"
    }
   ],
   "source": [
    "# When modules are imported, they are stored in a global cache.\n",
    "# Re-importing the module does not create a new reference.\n",
    "first_math_import = id(math)\n",
    "\n",
    "import math\n",
    "id(math) == first_math_import"
   ]
  },
  {
   "cell_type": "code",
   "execution_count": 7,
   "id": "d4f67eaa",
   "metadata": {},
   "outputs": [],
   "source": [
    "import sys"
   ]
  },
  {
   "cell_type": "code",
   "execution_count": 8,
   "id": "e51afa89",
   "metadata": {},
   "outputs": [
    {
     "data": {
      "text/plain": [
       "True"
      ]
     },
     "execution_count": 8,
     "metadata": {},
     "output_type": "execute_result"
    }
   ],
   "source": [
    "# We can look at the global cache to see where the math module object is stored.\n",
    "id(sys.modules['math']) == first_math_import"
   ]
  },
  {
   "cell_type": "code",
   "execution_count": 9,
   "id": "ac175ad7",
   "metadata": {},
   "outputs": [
    {
     "data": {
      "text/plain": [
       "{'__name__': 'math',\n",
       " '__doc__': 'This module provides access to the mathematical functions\\ndefined by the C standard.',\n",
       " '__package__': '',\n",
       " '__loader__': <_frozen_importlib_external.ExtensionFileLoader at 0x7f63bd17c3d0>,\n",
       " '__spec__': ModuleSpec(name='math', loader=<_frozen_importlib_external.ExtensionFileLoader object at 0x7f63bd17c3d0>, origin='/usr/lib64/python3.9/lib-dynload/math.cpython-39-x86_64-linux-gnu.so'),\n",
       " 'acos': <function math.acos(x, /)>,\n",
       " 'acosh': <function math.acosh(x, /)>,\n",
       " 'asin': <function math.asin(x, /)>,\n",
       " 'asinh': <function math.asinh(x, /)>,\n",
       " 'atan': <function math.atan(x, /)>,\n",
       " 'atan2': <function math.atan2(y, x, /)>,\n",
       " 'atanh': <function math.atanh(x, /)>,\n",
       " 'ceil': <function math.ceil(x, /)>,\n",
       " 'copysign': <function math.copysign(x, y, /)>,\n",
       " 'cos': <function math.cos(x, /)>,\n",
       " 'cosh': <function math.cosh(x, /)>,\n",
       " 'degrees': <function math.degrees(x, /)>,\n",
       " 'dist': <function math.dist(p, q, /)>,\n",
       " 'erf': <function math.erf(x, /)>,\n",
       " 'erfc': <function math.erfc(x, /)>,\n",
       " 'exp': <function math.exp(x, /)>,\n",
       " 'expm1': <function math.expm1(x, /)>,\n",
       " 'fabs': <function math.fabs(x, /)>,\n",
       " 'factorial': <function math.factorial(x, /)>,\n",
       " 'floor': <function math.floor(x, /)>,\n",
       " 'fmod': <function math.fmod(x, y, /)>,\n",
       " 'frexp': <function math.frexp(x, /)>,\n",
       " 'fsum': <function math.fsum(seq, /)>,\n",
       " 'gamma': <function math.gamma(x, /)>,\n",
       " 'gcd': <function math.gcd(*integers)>,\n",
       " 'hypot': <function math.hypot>,\n",
       " 'isclose': <function math.isclose(a, b, *, rel_tol=1e-09, abs_tol=0.0)>,\n",
       " 'isfinite': <function math.isfinite(x, /)>,\n",
       " 'isinf': <function math.isinf(x, /)>,\n",
       " 'isnan': <function math.isnan(x, /)>,\n",
       " 'isqrt': <function math.isqrt(n, /)>,\n",
       " 'lcm': <function math.lcm(*integers)>,\n",
       " 'ldexp': <function math.ldexp(x, i, /)>,\n",
       " 'lgamma': <function math.lgamma(x, /)>,\n",
       " 'log': <function math.log>,\n",
       " 'log1p': <function math.log1p(x, /)>,\n",
       " 'log10': <function math.log10(x, /)>,\n",
       " 'log2': <function math.log2(x, /)>,\n",
       " 'modf': <function math.modf(x, /)>,\n",
       " 'pow': <function math.pow(x, y, /)>,\n",
       " 'radians': <function math.radians(x, /)>,\n",
       " 'remainder': <function math.remainder(x, y, /)>,\n",
       " 'sin': <function math.sin(x, /)>,\n",
       " 'sinh': <function math.sinh(x, /)>,\n",
       " 'sqrt': <function math.sqrt(x, /)>,\n",
       " 'tan': <function math.tan(x, /)>,\n",
       " 'tanh': <function math.tanh(x, /)>,\n",
       " 'trunc': <function math.trunc(x, /)>,\n",
       " 'prod': <function math.prod(iterable, /, *, start=1)>,\n",
       " 'perm': <function math.perm(n, k=None, /)>,\n",
       " 'comb': <function math.comb(n, k, /)>,\n",
       " 'nextafter': <function math.nextafter(x, y, /)>,\n",
       " 'ulp': <function math.ulp(x, /)>,\n",
       " '__file__': '/usr/lib64/python3.9/lib-dynload/math.cpython-39-x86_64-linux-gnu.so',\n",
       " 'pi': 3.141592653589793,\n",
       " 'e': 2.718281828459045,\n",
       " 'tau': 6.283185307179586,\n",
       " 'inf': inf,\n",
       " 'nan': nan}"
      ]
     },
     "execution_count": 9,
     "metadata": {},
     "output_type": "execute_result"
    }
   ],
   "source": [
    "# Modules are containers for global variables\n",
    "math.__dict__"
   ]
  },
  {
   "cell_type": "code",
   "execution_count": 11,
   "id": "233a64ce",
   "metadata": {},
   "outputs": [],
   "source": [
    "from types import ModuleType\n",
    "\n",
    "# Since modules are just objects of the type 'module', we can create our own module.\n",
    "my_module = ModuleType('test_module', 'This is a test module.')"
   ]
  },
  {
   "cell_type": "code",
   "execution_count": 13,
   "id": "8132e850",
   "metadata": {},
   "outputs": [
    {
     "data": {
      "text/plain": [
       "{'__name__': 'test_module',\n",
       " '__doc__': 'This is a test module.',\n",
       " '__package__': None,\n",
       " '__loader__': None,\n",
       " '__spec__': None}"
      ]
     },
     "execution_count": 13,
     "metadata": {},
     "output_type": "execute_result"
    }
   ],
   "source": [
    "my_module.__dict__"
   ]
  },
  {
   "cell_type": "code",
   "execution_count": 16,
   "id": "19725a39",
   "metadata": {},
   "outputs": [],
   "source": [
    "# we can assign attributes to this created module as if they were defined within a .py file.\n",
    "my_module.pi = 3.14\n",
    "my_module.hello = lambda: 'Hello!'"
   ]
  },
  {
   "cell_type": "code",
   "execution_count": 17,
   "id": "0f034e41",
   "metadata": {},
   "outputs": [
    {
     "data": {
      "text/plain": [
       "'Hello!'"
      ]
     },
     "execution_count": 17,
     "metadata": {},
     "output_type": "execute_result"
    }
   ],
   "source": [
    "my_module.hello()"
   ]
  },
  {
   "cell_type": "markdown",
   "id": "181098d8",
   "metadata": {},
   "source": [
    "### How does Python Import Modules\n",
    "\n",
    "When we run the statement `import fractions`, Python does this import at *run-time*. There is a relatively complex system for finding and loading modules."
   ]
  },
  {
   "cell_type": "code",
   "execution_count": 27,
   "id": "55356fdd",
   "metadata": {},
   "outputs": [
    {
     "name": "stdout",
     "output_type": "stream",
     "text": [
      "/usr\n",
      "/usr\n"
     ]
    }
   ],
   "source": [
    "# The sys module has a few properties that tell us where Python is going to look\n",
    "# for modules (either built-in, local, or 3rd-party)\n",
    "import sys\n",
    "\n",
    "# Where is Python installed\n",
    "print(sys.prefix)\n",
    "\n",
    "# Where are C binaries located\n",
    "print(sys.exec_prefix)"
   ]
  },
  {
   "cell_type": "code",
   "execution_count": 28,
   "id": "79c43bce",
   "metadata": {},
   "outputs": [
    {
     "name": "stdout",
     "output_type": "stream",
     "text": [
      "/home/ajagnic/Software/python/the-python-bible\n",
      "/usr/lib64/python39.zip\n",
      "/usr/lib64/python3.9\n",
      "/usr/lib64/python3.9/lib-dynload\n",
      "\n",
      "/home/ajagnic/.local/lib/python3.9/site-packages\n",
      "/usr/lib64/python3.9/site-packages\n",
      "/usr/lib/python3.9/site-packages\n",
      "/home/ajagnic/.local/lib/python3.9/site-packages/IPython/extensions\n",
      "/home/ajagnic/.ipython\n"
     ]
    }
   ],
   "source": [
    "# Where does Python look for imports\n",
    "print(*sys.path, sep='\\n')"
   ]
  },
  {
   "cell_type": "markdown",
   "id": "3684b8f1",
   "metadata": {},
   "source": [
    "What does Python do when we try to import a module from a file:\n",
    "- checks the `sys.modules` cache to see if the module was already imported\n",
    "- creates a new module object\n",
    "- loads the source code from the file\n",
    "- adds entry to `sys.modules`\n",
    "- compiles and __executes__ the source code"
   ]
  },
  {
   "cell_type": "code",
   "execution_count": 33,
   "id": "fcfca9dd",
   "metadata": {},
   "outputs": [],
   "source": [
    "# We can re-create the import process manually\n",
    "module_name = 'my_module'\n",
    "my_module = ModuleType(module_name)\n",
    "\n",
    "source_code = '''\n",
    "def hello():\n",
    "    print('Hello!')\n",
    "'''\n",
    "\n",
    "sys.modules[module_name] = my_module\n",
    "\n",
    "code = compile(source_code, filename='/test_module', mode='exec')\n",
    "exec(code, my_module.__dict__)"
   ]
  },
  {
   "cell_type": "code",
   "execution_count": 36,
   "id": "a9952bb5",
   "metadata": {},
   "outputs": [
    {
     "name": "stdout",
     "output_type": "stream",
     "text": [
      "Hello!\n"
     ]
    }
   ],
   "source": [
    "import my_module\n",
    "\n",
    "my_module.hello()"
   ]
  },
  {
   "cell_type": "markdown",
   "id": "8d8b7ea8",
   "metadata": {},
   "source": [
    "### Imports and `importlib`\n",
    "\n"
   ]
  },
  {
   "cell_type": "code",
   "execution_count": null,
   "id": "11f7c834",
   "metadata": {},
   "outputs": [],
   "source": []
  }
 ],
 "metadata": {
  "kernelspec": {
   "display_name": "Python 3 (ipykernel)",
   "language": "python",
   "name": "python3"
  },
  "language_info": {
   "codemirror_mode": {
    "name": "ipython",
    "version": 3
   },
   "file_extension": ".py",
   "mimetype": "text/x-python",
   "name": "python",
   "nbconvert_exporter": "python",
   "pygments_lexer": "ipython3",
   "version": "3.9.7"
  }
 },
 "nbformat": 4,
 "nbformat_minor": 5
}
