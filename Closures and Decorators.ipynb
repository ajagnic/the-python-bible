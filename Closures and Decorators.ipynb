{
 "cells": [
  {
   "cell_type": "markdown",
   "id": "f29243f6",
   "metadata": {},
   "source": [
    "### Global and Local Scopes\n",
    "\n",
    "For the example `a = 10`, we say that the variable 'a' points to, or is bound to, the integer object. That object can accessed using the variable in various parts of our code...but not everywhere!\n",
    "\n",
    "The variable name and its binding only exist in specific parts of our code.\n",
    "\n",
    "The portion of code where the name/binding is defined is called the *lexical scope* of the variable.\n",
    "\n",
    "These bindings are stored in __namespaces__, and each scope has an associated namespace.\n",
    "\n",
    "__The Global Scope__\n",
    "\n",
    "The global scope is essentially the module scope, and spans a single file only.\n",
    "\n",
    "[ ! ] Global scopes are nested inside the built-in scope.\n",
    "\n",
    "            |-----------------------(Built-in Scope)-----------------------|\n",
    "                   (Module1 Scope)                     (Module2 Scope)\n",
    "                   \n",
    "\n",
    "If you reference a variable name inside a scope and Python does not find it in that scope's namespace, it will traverse upwards and look in an enclosing scopes namespace.\n",
    "\n",
    "__The Local Scope__\n",
    "\n",
    "Variables defined inside a function are not created until the function is called, and every time the function is called, a new scope is created.\n",
    "\n",
    "Variables defined inside the function are assigned to that scope (the function local scope).\n",
    "\n",
    "[ ! ] The actual object the variable references could be different each time the function called\n",
    "\n"
   ]
  },
  {
   "cell_type": "code",
   "execution_count": 1,
   "id": "87338027",
   "metadata": {},
   "outputs": [],
   "source": [
    "# Here, a, b, and c are defined inside the function local scope, and will be created when\n",
    "# the function is called.\n",
    "def my_func(a, b):\n",
    "    c = a * b\n",
    "    return c"
   ]
  },
  {
   "cell_type": "code",
   "execution_count": 2,
   "id": "0ea68797",
   "metadata": {},
   "outputs": [
    {
     "data": {
      "text/plain": [
       "50"
      ]
     },
     "execution_count": 2,
     "metadata": {},
     "output_type": "execute_result"
    }
   ],
   "source": [
    "# a = 'z', b = 2, c = 'zz'\n",
    "my_func('z', 2)\n",
    "\n",
    "# a = 10, b = 5, c = 50\n",
    "my_func(10, 5)\n",
    "\n",
    "# The variable names are the same, yet they are stored in different scopes"
   ]
  },
  {
   "cell_type": "markdown",
   "id": "a4a6fb9e",
   "metadata": {},
   "source": [
    "__Nested Scopes__\n",
    "\n",
    "            |-----------------------(Built-in Scope)-----------------------|\n",
    "               |---------(Module Scope)---------|\n",
    "                 (Local Scope)    (Local Scope)\n",
    "\n",
    "__Namespace Lookups__\n",
    "\n",
    "When requesting the object bound to a variable name: eg. `print(a)` ...\n",
    "\n",
    "Python will try to find the object bound to the variable\n",
    "- in the current local scope first\n",
    "- then works up the chain of enclosing scopes\n",
    "\n",
    "__Accessing the Global Scope from a Local Scope__\n",
    "\n",
    "What if we modify a global variable from inside a function?"
   ]
  },
  {
   "cell_type": "code",
   "execution_count": 3,
   "id": "6afec502",
   "metadata": {},
   "outputs": [
    {
     "name": "stdout",
     "output_type": "stream",
     "text": [
      "100\n",
      "0\n"
     ]
    }
   ],
   "source": [
    "# Defined in global scope\n",
    "a = 0\n",
    "\n",
    "# Since we make an assigment to 'a' inside the function, Python will interpret 'a' as a \n",
    "# local variable to the function\n",
    "def my_func():\n",
    "    a = 100 # local var 'a' masks global variable 'a'\n",
    "    print(a)\n",
    "\n",
    "my_func()\n",
    "\n",
    "print(a) #Will print 0, since this global variable was never modified by my_func"
   ]
  },
  {
   "cell_type": "markdown",
   "id": "8c0705fb",
   "metadata": {},
   "source": [
    "__`global`__\n",
    "\n",
    "We can tell Python that a variable is meant to be scoped in the global scope by using the `global` keyword."
   ]
  },
  {
   "cell_type": "code",
   "execution_count": 4,
   "id": "6c022949",
   "metadata": {},
   "outputs": [
    {
     "name": "stdout",
     "output_type": "stream",
     "text": [
      "100\n"
     ]
    }
   ],
   "source": [
    "a = 0\n",
    "\n",
    "def my_func():\n",
    "    global a #This tells Python to access this variable from the global namespace.\n",
    "    a = 100\n",
    "\n",
    "my_func()\n",
    "\n",
    "print(a) # Will print 100, since my_func modified 'a' from the global scope."
   ]
  },
  {
   "cell_type": "markdown",
   "id": "efe2359e",
   "metadata": {},
   "source": [
    "__Global and Local Scoping__\n",
    "\n",
    "When Python encounters a function definition at compile-time, it will scan for any labels (variables) that have values __assigned__ to them anywhere in the function.\n",
    "\n",
    "If the label has not been specified as global, then it will be local.\n",
    "\n",
    "Variables that are referenced but __not assigned__ a value anywhere in the function will not be local, and Python will, at run-time, look for them in enclosing scopes."
   ]
  },
  {
   "cell_type": "code",
   "execution_count": 5,
   "id": "07b970bb",
   "metadata": {},
   "outputs": [],
   "source": [
    "a = 10\n",
    "\n",
    "def func1():\n",
    "    print(a) # Since 'a' is only referenced, its treated as nonlocal\n",
    "    \n",
    "def func2():\n",
    "    a = 100 # Assignment, therefore treated as local\n",
    "\n",
    "def func3():\n",
    "    global a # Specified global, will treat as nonlocal\n",
    "    a = 100\n",
    "    \n",
    "def func4():\n",
    "    print(a) #Assignment elsewhere in function, treated as local but not defined -> Exception\n",
    "    a = 100 "
   ]
  },
  {
   "cell_type": "markdown",
   "id": "5ecfca83",
   "metadata": {},
   "source": [
    "### Non-Local Scopes\n",
    "\n",
    "__Inner Functions__\n",
    "\n",
    "We can define functions inside another function."
   ]
  },
  {
   "cell_type": "code",
   "execution_count": 1,
   "id": "0e459291",
   "metadata": {},
   "outputs": [],
   "source": [
    "def outer_func():\n",
    "    \n",
    "    def inner_func():\n",
    "        pass\n",
    "    \n",
    "    inner_func()\n",
    "    \n",
    "outer_func()"
   ]
  },
  {
   "cell_type": "markdown",
   "id": "0f43b81b",
   "metadata": {},
   "source": [
    "Both functions have acess to the global and built-in scopes as well as their respective local scopes. But the *inner* function also has access to its enclosing scope - the scope of the *outer* function. This scope is called a __non-local__ scope.\n",
    "\n",
    "__Modifying global Variables__"
   ]
  },
  {
   "cell_type": "code",
   "execution_count": 3,
   "id": "f0261377",
   "metadata": {},
   "outputs": [
    {
     "name": "stdout",
     "output_type": "stream",
     "text": [
      "hello\n"
     ]
    }
   ],
   "source": [
    "a = 10\n",
    "\n",
    "def outer_func():\n",
    "    def inner_func():\n",
    "        global a\n",
    "        a = 'hello'\n",
    "        \n",
    "    inner_func()\n",
    "    \n",
    "outer_func()\n",
    "print(a)"
   ]
  },
  {
   "cell_type": "markdown",
   "id": "b7eafbf2",
   "metadata": {},
   "source": [
    "__Modifying nonlocal Variables__"
   ]
  },
  {
   "cell_type": "code",
   "execution_count": 6,
   "id": "18acb7b1",
   "metadata": {},
   "outputs": [
    {
     "name": "stdout",
     "output_type": "stream",
     "text": [
      "python\n"
     ]
    }
   ],
   "source": [
    "def outer_func():\n",
    "    x = 'hello'\n",
    "    \n",
    "    #Since 'x' is assigned to in inner_func, and therefore treated as a local var, \n",
    "    #we must specify that its nonlocal\n",
    "    def inner_func():\n",
    "        nonlocal x\n",
    "        x = 'python'\n",
    "        \n",
    "    inner_func()\n",
    "    print(x)\n",
    "    \n",
    "outer_func()"
   ]
  },
  {
   "cell_type": "markdown",
   "id": "b390cf93",
   "metadata": {},
   "source": [
    "__Nonlocal Variables__\n",
    "\n",
    "Whenever Python is told a variable is `nonlocal`, it will look for it in the *enclosing local scopes chain* until it first encounters the variable name.\n",
    "\n",
    "__Beware:__ It will only look in local scopes, it will NOT look in the global scope"
   ]
  },
  {
   "cell_type": "markdown",
   "id": "bfb93333",
   "metadata": {},
   "source": [
    "### Closures\n",
    "\n",
    "__Free Variables and Closures__"
   ]
  },
  {
   "cell_type": "code",
   "execution_count": 8,
   "id": "9245efd6",
   "metadata": {},
   "outputs": [
    {
     "name": "stdout",
     "output_type": "stream",
     "text": [
      "python rocks!\n"
     ]
    }
   ],
   "source": [
    "def outer():\n",
    "    x = 'python'\n",
    "    \n",
    "    # When inner is created, before it is called, it will enclose the variable 'x'.\n",
    "    # The value of 'x' will be evaluated when the function is called.\n",
    "    # So if we return this function, it will retain its access to 'x' and can be accessed\n",
    "    # when the returned function is called. This is a closure.\n",
    "    def inner():\n",
    "        # This x refers to the one in outer's scope. This nonlocal variable is called\n",
    "        # a 'free variable'.\n",
    "        print(f\"{x} rocks!\")\n",
    "        \n",
    "    inner()\n",
    "    \n",
    "outer()"
   ]
  },
  {
   "cell_type": "markdown",
   "id": "9af48c90",
   "metadata": {},
   "source": [
    "__Returning the inner Function__"
   ]
  },
  {
   "cell_type": "code",
   "execution_count": 11,
   "id": "3884176c",
   "metadata": {},
   "outputs": [],
   "source": [
    "def outer():\n",
    "    x = 'python'\n",
    "    def inner():\n",
    "        print(f\"{x} rocks!\")\n",
    "    \n",
    "    return inner"
   ]
  },
  {
   "cell_type": "code",
   "execution_count": 13,
   "id": "89cd58da",
   "metadata": {},
   "outputs": [
    {
     "name": "stdout",
     "output_type": "stream",
     "text": [
      "python rocks!\n"
     ]
    }
   ],
   "source": [
    "encloses_x = outer()\n",
    "\n",
    "# This function call still has access to 'x', even though outer has already finished running\n",
    "# and its scope is gone.\n",
    "encloses_x()"
   ]
  },
  {
   "cell_type": "markdown",
   "id": "d865152a",
   "metadata": {},
   "source": [
    "__Python Cells and Multi-Scoped Variables__\n",
    "\n",
    "Here, the value of `x` is shared between two scopes: *outer* and the *inner* closure\n",
    "\n",
    "```\n",
    "def outer():\n",
    "    x = 'python'\n",
    "    def inner():\n",
    "        print(x)\n",
    "    return inner\n",
    "```\n",
    "\n",
    "The label `x` is in two different scopes, the always references the same value.\n",
    "\n",
    "Python does this by creating a __cell__ as an intermediary object.\n",
    "\n",
    "outer scope(x) --->\n",
    "\n",
    "                    cell 0x100 ---> memory address 0x200 ---> 'python'\n",
    "                    \n",
    "inner scope(x) --->\n",
    "\n",
    "In effect, both variables 'x' point to the same *cell*. When requesting the value of the variable, Python does a \"double-hop\" to the final value stored at the memory address.\n",
    "\n",
    "__Closures__\n",
    "\n",
    "You can think of closures as a function plus an extended scope that the contains free varaibles. The free varaibles value is the object the cell points to - so that could change!"
   ]
  },
  {
   "cell_type": "markdown",
   "id": "9ac81213",
   "metadata": {},
   "source": [
    "__Closure Introspection__"
   ]
  },
  {
   "cell_type": "code",
   "execution_count": 14,
   "id": "fccaa325",
   "metadata": {},
   "outputs": [],
   "source": [
    "def outer():\n",
    "    x = 10\n",
    "    y = 'python'\n",
    "    def inner():\n",
    "        x = 10\n",
    "        print(y)\n",
    "    return inner"
   ]
  },
  {
   "cell_type": "code",
   "execution_count": 15,
   "id": "65973c93",
   "metadata": {},
   "outputs": [
    {
     "data": {
      "text/plain": [
       "('y',)"
      ]
     },
     "execution_count": 15,
     "metadata": {},
     "output_type": "execute_result"
    }
   ],
   "source": [
    "fn = outer()\n",
    "\n",
    "fn.__code__.co_freevars"
   ]
  },
  {
   "cell_type": "code",
   "execution_count": 16,
   "id": "8f14eb42",
   "metadata": {},
   "outputs": [
    {
     "data": {
      "text/plain": [
       "(<cell at 0x7faf55793850: str object at 0x7faf719b2c30>,)"
      ]
     },
     "execution_count": 16,
     "metadata": {},
     "output_type": "execute_result"
    }
   ],
   "source": [
    "fn.__closure__"
   ]
  },
  {
   "cell_type": "markdown",
   "id": "ceed01a0",
   "metadata": {},
   "source": [
    "__Modifying Free Variables__"
   ]
  },
  {
   "cell_type": "code",
   "execution_count": 17,
   "id": "62d53e48",
   "metadata": {},
   "outputs": [],
   "source": [
    "def counter():\n",
    "    count = 0\n",
    "    \n",
    "    def inc():\n",
    "        nonlocal count\n",
    "        count += 1\n",
    "        return count\n",
    "    \n",
    "    return inc"
   ]
  },
  {
   "cell_type": "code",
   "execution_count": 18,
   "id": "5c926fc1",
   "metadata": {},
   "outputs": [
    {
     "data": {
      "text/plain": [
       "1"
      ]
     },
     "execution_count": 18,
     "metadata": {},
     "output_type": "execute_result"
    }
   ],
   "source": [
    "inc_counter = counter()\n",
    "\n",
    "inc_counter()"
   ]
  },
  {
   "cell_type": "code",
   "execution_count": 20,
   "id": "ac3286ae",
   "metadata": {},
   "outputs": [
    {
     "data": {
      "text/plain": [
       "2"
      ]
     },
     "execution_count": 20,
     "metadata": {},
     "output_type": "execute_result"
    }
   ],
   "source": [
    "inc_counter()"
   ]
  },
  {
   "cell_type": "markdown",
   "id": "e0a3bd40",
   "metadata": {},
   "source": [
    "__Multiple Instances of Closures__\n",
    "\n",
    "Every time we run a function, a new scope is created. If that function generates a closure, a new closure is created every time as well."
   ]
  },
  {
   "cell_type": "code",
   "execution_count": 21,
   "id": "861f474b",
   "metadata": {},
   "outputs": [
    {
     "data": {
      "text/plain": [
       "2"
      ]
     },
     "execution_count": 21,
     "metadata": {},
     "output_type": "execute_result"
    }
   ],
   "source": [
    "f1 = counter()\n",
    "f2 = counter()\n",
    "\n",
    "f1()\n",
    "f1()"
   ]
  },
  {
   "cell_type": "code",
   "execution_count": 22,
   "id": "a27533fc",
   "metadata": {},
   "outputs": [
    {
     "data": {
      "text/plain": [
       "1"
      ]
     },
     "execution_count": 22,
     "metadata": {},
     "output_type": "execute_result"
    }
   ],
   "source": [
    "f2()"
   ]
  },
  {
   "cell_type": "markdown",
   "id": "4860971e",
   "metadata": {},
   "source": [
    "__Shared Extended Scopes__"
   ]
  },
  {
   "cell_type": "code",
   "execution_count": 23,
   "id": "8d50f31e",
   "metadata": {},
   "outputs": [],
   "source": [
    "def outer():\n",
    "    count = 0\n",
    "    \n",
    "    def inner1():\n",
    "        nonlocal count\n",
    "        count += 1\n",
    "        return count\n",
    "    def inner2():\n",
    "        nonlocal count\n",
    "        count += 1\n",
    "        return count\n",
    "    \n",
    "    return inner1, inner2"
   ]
  },
  {
   "cell_type": "code",
   "execution_count": 25,
   "id": "272ce455",
   "metadata": {},
   "outputs": [
    {
     "data": {
      "text/plain": [
       "2"
      ]
     },
     "execution_count": 25,
     "metadata": {},
     "output_type": "execute_result"
    }
   ],
   "source": [
    "f1, f2 = outer()\n",
    "\n",
    "f1() # Increments 0 to 1\n",
    "f2() # Increments the same object, so increments 1 to 2"
   ]
  },
  {
   "cell_type": "markdown",
   "id": "63079541",
   "metadata": {},
   "source": [
    "__Nested Closures__"
   ]
  },
  {
   "cell_type": "code",
   "execution_count": 31,
   "id": "ee51c94c",
   "metadata": {},
   "outputs": [],
   "source": [
    "def incrementer(step):\n",
    "    # incrementer returns the closure of inner + freevar of step\n",
    "    def inner(start):\n",
    "        # inner returns the closure of inc + freevars step and current\n",
    "        current = start\n",
    "        def inc():\n",
    "            nonlocal current\n",
    "            current += step\n",
    "            return current\n",
    "        \n",
    "        return inc\n",
    "    return inner"
   ]
  },
  {
   "cell_type": "code",
   "execution_count": 32,
   "id": "ddbd5b44",
   "metadata": {},
   "outputs": [
    {
     "data": {
      "text/plain": [
       "104"
      ]
     },
     "execution_count": 32,
     "metadata": {},
     "output_type": "execute_result"
    }
   ],
   "source": [
    "add_2 = incrementer(2)\n",
    "\n",
    "inc = add_2(100)\n",
    "inc()\n",
    "inc()"
   ]
  },
  {
   "cell_type": "markdown",
   "id": "9b2defae",
   "metadata": {},
   "source": [
    "### Decorators\n",
    "\n",
    "In general, a *decorator* function:\n",
    "- takes a function as an argument\n",
    "- returns a closure\n",
    "- the closure usually accepts any combination of parameters\n",
    "- runs some code in the inner function (closure)\n",
    "- the closure function calls the passed in function using the arguments passed to the closure\n",
    "- returns whatever is returned by that function call"
   ]
  },
  {
   "cell_type": "code",
   "execution_count": 2,
   "id": "6c9a6dba",
   "metadata": {},
   "outputs": [],
   "source": [
    "def counter(fn):\n",
    "    count = 0\n",
    "    \n",
    "    def inner(*args, **kwargs):\n",
    "        nonlocal count\n",
    "        count += 1\n",
    "        print(f\"Function {fn.__name__} was called {count} times.\")\n",
    "        return fn(*args, **kwargs)\n",
    "    return inner"
   ]
  },
  {
   "cell_type": "code",
   "execution_count": 3,
   "id": "b30c0777",
   "metadata": {},
   "outputs": [],
   "source": [
    "def add(a, b=0):\n",
    "    return a + b"
   ]
  },
  {
   "cell_type": "code",
   "execution_count": 4,
   "id": "01ed650f",
   "metadata": {},
   "outputs": [
    {
     "name": "stdout",
     "output_type": "stream",
     "text": [
      "Function add was called 1 times.\n",
      "3\n"
     ]
    }
   ],
   "source": [
    "# We are essentially modifying out add function by wrapping it inside another\n",
    "# function that adds some functionality to it.\n",
    "add = counter(add)\n",
    "\n",
    "res = add(1, 2)\n",
    "print(res)"
   ]
  },
  {
   "cell_type": "markdown",
   "id": "8f06f85d",
   "metadata": {},
   "source": [
    "__Decorators and the `@` Symbol__\n"
   ]
  },
  {
   "cell_type": "code",
   "execution_count": 7,
   "id": "3199f45e",
   "metadata": {},
   "outputs": [],
   "source": [
    "# We can decorate a function using the explicit way:\n",
    "def add(a, b):\n",
    "    return a + b\n",
    "\n",
    "add = counter(add)\n",
    "\n",
    "# Or we can use Python's @ symbol to shortcut that process\n",
    "@counter\n",
    "def add(a, b):\n",
    "    return a + b"
   ]
  },
  {
   "cell_type": "markdown",
   "id": "29624fc8",
   "metadata": {},
   "source": [
    "__Introspecting Decorated Functions__"
   ]
  },
  {
   "cell_type": "code",
   "execution_count": 8,
   "id": "92a6ea81",
   "metadata": {},
   "outputs": [],
   "source": [
    "@counter\n",
    "def mult(a, b, c=1):\n",
    "    \"\"\" Returns the product of three values\n",
    "    \"\"\"\n",
    "    return a * b * c"
   ]
  },
  {
   "cell_type": "code",
   "execution_count": 9,
   "id": "c98f2637",
   "metadata": {},
   "outputs": [
    {
     "data": {
      "text/plain": [
       "'inner'"
      ]
     },
     "execution_count": 9,
     "metadata": {},
     "output_type": "execute_result"
    }
   ],
   "source": [
    "# Since we actually re-assign the label 'mult' to the decorator function,\n",
    "# the function object actually points to the 'inner' function from counter.\n",
    "mult.__name__"
   ]
  },
  {
   "cell_type": "code",
   "execution_count": 10,
   "id": "d4b641bd",
   "metadata": {},
   "outputs": [
    {
     "name": "stdout",
     "output_type": "stream",
     "text": [
      "Help on function inner in module __main__:\n",
      "\n",
      "inner(*args, **kwargs)\n",
      "\n"
     ]
    }
   ],
   "source": [
    "help(mult) # we lose the function signature as well as docstrings"
   ]
  },
  {
   "cell_type": "markdown",
   "id": "b965f22a",
   "metadata": {},
   "source": [
    "__The `functools.wraps` function__\n",
    "\n",
    "The functools module has a `wraps` function, which is itself a decorator, that we can use to fix the metadata of our inner function in our decorator."
   ]
  },
  {
   "cell_type": "code",
   "execution_count": 11,
   "id": "9ab039f8",
   "metadata": {},
   "outputs": [],
   "source": [
    "from functools import wraps"
   ]
  },
  {
   "cell_type": "code",
   "execution_count": 12,
   "id": "0363951f",
   "metadata": {},
   "outputs": [],
   "source": [
    "def counter(fn):\n",
    "    count = 0\n",
    "    @wraps(fn)\n",
    "    def inner(*args, **kwargs):\n",
    "        nonlocal count\n",
    "        count += 1\n",
    "        print(f\"Function {fn.__name__} was called {count} times.\")\n",
    "        return fn(*args, **kwargs)\n",
    "    return inner"
   ]
  },
  {
   "cell_type": "code",
   "execution_count": 14,
   "id": "f4f60795",
   "metadata": {},
   "outputs": [],
   "source": [
    "@counter\n",
    "def mult(a, b, c=1):\n",
    "    \"\"\" Returns the product of three values\n",
    "    \"\"\"\n",
    "    return a * b * c"
   ]
  },
  {
   "cell_type": "code",
   "execution_count": 15,
   "id": "50b24302",
   "metadata": {},
   "outputs": [
    {
     "name": "stdout",
     "output_type": "stream",
     "text": [
      "Help on function mult in module __main__:\n",
      "\n",
      "mult(a, b, c=1)\n",
      "    Returns the product of three values\n",
      "\n"
     ]
    }
   ],
   "source": [
    "help(mult)"
   ]
  },
  {
   "cell_type": "markdown",
   "id": "d7e6d9a4",
   "metadata": {},
   "source": [
    "__Decorator Factories Or Decorators with Parameters__\n",
    "\n",
    "The `timed_with_reps` function below is itself not a decorator, instead it *returns* a decorator when called. Any arguments passed to `timed_with_reps` can be referenced insdie the decorator."
   ]
  },
  {
   "cell_type": "code",
   "execution_count": 21,
   "id": "fa2e4969",
   "metadata": {},
   "outputs": [],
   "source": [
    "def timed_with_reps(reps):\n",
    "    def timed_decorator(fn):\n",
    "        from time import perf_counter\n",
    "        @wraps(fn)\n",
    "        def inner(*args, **kwargs):\n",
    "            total_elapsed = 0\n",
    "\n",
    "            for i in range(reps): # reps is a free variable from timed_with_reps\n",
    "                start = perf_counter()\n",
    "                result = fn(*args, **kwargs)\n",
    "                total_elapsed += (perf_counter() - start)\n",
    "\n",
    "            avg_elapsed = total_elapsed / reps\n",
    "            print(avg_elapsed)\n",
    "            return result\n",
    "        \n",
    "        return inner\n",
    "    # calling timed_with_reps(n) returns the original decorator with reps set to n\n",
    "    return timed_decorator"
   ]
  },
  {
   "cell_type": "code",
   "execution_count": 22,
   "id": "0df77c22",
   "metadata": {},
   "outputs": [],
   "source": [
    "@timed_with_reps(10)\n",
    "def my_func(): ..."
   ]
  },
  {
   "cell_type": "code",
   "execution_count": null,
   "id": "6dba2eb0",
   "metadata": {},
   "outputs": [],
   "source": []
  }
 ],
 "metadata": {
  "kernelspec": {
   "display_name": "Python 3 (ipykernel)",
   "language": "python",
   "name": "python3"
  },
  "language_info": {
   "codemirror_mode": {
    "name": "ipython",
    "version": 3
   },
   "file_extension": ".py",
   "mimetype": "text/x-python",
   "name": "python",
   "nbconvert_exporter": "python",
   "pygments_lexer": "ipython3",
   "version": "3.9.7"
  }
 },
 "nbformat": 4,
 "nbformat_minor": 5
}
