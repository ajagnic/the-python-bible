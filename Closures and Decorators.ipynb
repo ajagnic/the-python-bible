{
 "cells": [
  {
   "cell_type": "markdown",
   "id": "f29243f6",
   "metadata": {},
   "source": [
    "### Global and Local Scopes\n",
    "\n",
    "For the example `a = 10`, we say that the variable 'a' points to, or is bound to, the integer object. That object can accessed using the variable in various parts of our code...but not everywhere!\n",
    "\n",
    "The variable name and its binding only exist in specific parts of our code.\n",
    "\n",
    "The portion of code where the name/binding is defined is called the *lexical scope* of the variable.\n",
    "\n",
    "These bindings are stored in __namespaces__, and each scope has an associated namespace.\n",
    "\n",
    "__The Global Scope__\n",
    "\n",
    "The global scope is essentially the module scope, and spans a single file only.\n",
    "\n",
    "[ ! ] Global scopes are nested inside the built-in scope.\n",
    "\n",
    "            |-----------------------(Built-in Scope)-----------------------|\n",
    "                   (Module1 Scope)                     (Module2 Scope)\n",
    "                   \n",
    "\n",
    "If you reference a variable name inside a scope and Python does not find it in that scope's namespace, it will traverse upwards and look in an enclosing scopes namespace.\n",
    "\n",
    "__The Local Scope__\n",
    "\n",
    "Variables defined inside a function are not created until the function is called, and every time the function is called, a new scope is created.\n",
    "\n",
    "Variables defined inside the function are assigned to that scope (the function local scope).\n",
    "\n",
    "[ ! ] The actual object the variable references could be different each time the function called\n",
    "\n"
   ]
  },
  {
   "cell_type": "code",
   "execution_count": 1,
   "id": "87338027",
   "metadata": {},
   "outputs": [],
   "source": [
    "# Here, a, b, and c are defined inside the function local scope, and will be created when\n",
    "# the function is called.\n",
    "def my_func(a, b):\n",
    "    c = a * b\n",
    "    return c"
   ]
  },
  {
   "cell_type": "code",
   "execution_count": 2,
   "id": "0ea68797",
   "metadata": {},
   "outputs": [
    {
     "data": {
      "text/plain": [
       "50"
      ]
     },
     "execution_count": 2,
     "metadata": {},
     "output_type": "execute_result"
    }
   ],
   "source": [
    "# a = 'z', b = 2, c = 'zz'\n",
    "my_func('z', 2)\n",
    "\n",
    "# a = 10, b = 5, c = 50\n",
    "my_func(10, 5)\n",
    "\n",
    "# The variable names are the same, yet they are stored in different scopes"
   ]
  },
  {
   "cell_type": "markdown",
   "id": "a4a6fb9e",
   "metadata": {},
   "source": [
    "__Nested Scopes__\n",
    "\n",
    "            |-----------------------(Built-in Scope)-----------------------|\n",
    "               |---------(Module Scope)---------|\n",
    "                 (Local Scope)    (Local Scope)\n",
    "\n",
    "__Namespace Lookups__\n",
    "\n",
    "When requesting the object bound to a variable name: eg. `print(a)` ...\n",
    "\n",
    "Python will try to find the object bound to the variable\n",
    "- in the current local scope first\n",
    "- then works up the chain of enclosing scopes\n",
    "\n",
    "__Accessing the Global Scope from a Local Scope__\n",
    "\n",
    "What if we modify a global variable from inside a function?"
   ]
  },
  {
   "cell_type": "code",
   "execution_count": 3,
   "id": "6afec502",
   "metadata": {},
   "outputs": [
    {
     "name": "stdout",
     "output_type": "stream",
     "text": [
      "100\n",
      "0\n"
     ]
    }
   ],
   "source": [
    "# Defined in global scope\n",
    "a = 0\n",
    "\n",
    "# Since we make an assigment to 'a' inside the function, Python will interpret 'a' as a \n",
    "# local variable to the function\n",
    "def my_func():\n",
    "    a = 100 # local var 'a' masks global variable 'a'\n",
    "    print(a)\n",
    "\n",
    "my_func()\n",
    "\n",
    "print(a) #Will print 0, since this global variable was never modified by my_func"
   ]
  },
  {
   "cell_type": "markdown",
   "id": "8c0705fb",
   "metadata": {},
   "source": [
    "__`global`__\n",
    "\n",
    "We can tell Python that a variable is meant to be scoped in the global scope by using the `global` keyword."
   ]
  },
  {
   "cell_type": "code",
   "execution_count": 4,
   "id": "6c022949",
   "metadata": {},
   "outputs": [
    {
     "name": "stdout",
     "output_type": "stream",
     "text": [
      "100\n"
     ]
    }
   ],
   "source": [
    "a = 0\n",
    "\n",
    "def my_func():\n",
    "    global a #This tells Python to access this variable from the global namespace.\n",
    "    a = 100\n",
    "\n",
    "my_func()\n",
    "\n",
    "print(a) # Will print 100, since my_func modified 'a' from the global scope."
   ]
  },
  {
   "cell_type": "markdown",
   "id": "efe2359e",
   "metadata": {},
   "source": [
    "__Global and Local Scoping__\n",
    "\n",
    "When Python encounters a function definition at compile-time, it will scan for any labels (variables) that have values __assigned__ to them anywhere in the function.\n",
    "\n",
    "If the label has not been specified as global, then it will be local.\n",
    "\n",
    "Variables that are referenced but __not assigned__ a value anywhere in the function will not be local, and Python will, at run-time, look for them in enclosing scopes."
   ]
  },
  {
   "cell_type": "code",
   "execution_count": 5,
   "id": "07b970bb",
   "metadata": {},
   "outputs": [],
   "source": [
    "a = 10\n",
    "\n",
    "def func1():\n",
    "    print(a) # Since 'a' is only referenced, its treated as nonlocal\n",
    "    \n",
    "def func2():\n",
    "    a = 100 # Assignment, therefore treated as local\n",
    "\n",
    "def func3():\n",
    "    global a # Specified global, will treat as nonlocal\n",
    "    a = 100\n",
    "    \n",
    "def func4():\n",
    "    print(a) #Assignment elsewhere in function, treated as local but not defined -> Exception\n",
    "    a = 100 "
   ]
  },
  {
   "cell_type": "code",
   "execution_count": null,
   "id": "a1299683",
   "metadata": {},
   "outputs": [],
   "source": []
  }
 ],
 "metadata": {
  "kernelspec": {
   "display_name": "Python 3 (ipykernel)",
   "language": "python",
   "name": "python3"
  },
  "language_info": {
   "codemirror_mode": {
    "name": "ipython",
    "version": 3
   },
   "file_extension": ".py",
   "mimetype": "text/x-python",
   "name": "python",
   "nbconvert_exporter": "python",
   "pygments_lexer": "ipython3",
   "version": "3.9.7"
  }
 },
 "nbformat": 4,
 "nbformat_minor": 5
}
