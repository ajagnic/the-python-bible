{
 "cells": [
  {
   "cell_type": "markdown",
   "id": "a85dacc1",
   "metadata": {},
   "source": [
    "__Generators__: a type of iterator\n",
    "\n",
    "__Generator functions__: generator factories; return a generator\n",
    "\n",
    "__Generator expressions__: more concise way of creating generators, uses comprehension syntax\n",
    "\n",
    "### Yielding and Generator Functions\n",
    "\n",
    "__Yield__\n",
    "\n",
    "The `yield` keyword:\n",
    "- emits a value\n",
    "- effectively suspends the function (but retains current state)\n",
    "- calling `next` resumes the function after the `yield`\n",
    "- will raise StopIteration if `next` is called after function returns\n",
    "\n",
    "__Generators__\n",
    "\n",
    "A function that contains the `yield` statement, is called a *generator function*. These are normal functions, but calling them returns a generator object. Thus, we can think of these functions as generator factories.\n",
    "\n",
    "The function body will execute until it encounters a `yield` statement, it yields the value (as the return of `next`) then suspends itself until `next` is called again."
   ]
  },
  {
   "cell_type": "code",
   "execution_count": 5,
   "id": "1c3b7b55",
   "metadata": {},
   "outputs": [],
   "source": [
    "def my_gen():\n",
    "    yield 'one'\n",
    "    yield 'two'\n",
    "    yield 'three'"
   ]
  },
  {
   "cell_type": "code",
   "execution_count": 6,
   "id": "7d7043ec",
   "metadata": {},
   "outputs": [],
   "source": [
    "# The generator object is created when we call the function\n",
    "gen = my_gen() #gen is a generator"
   ]
  },
  {
   "cell_type": "code",
   "execution_count": 7,
   "id": "e2ae95a8",
   "metadata": {},
   "outputs": [
    {
     "data": {
      "text/plain": [
       "'three'"
      ]
     },
     "execution_count": 7,
     "metadata": {},
     "output_type": "execute_result"
    }
   ],
   "source": [
    "# And is executed when we call next() on the generator\n",
    "next(gen)\n",
    "next(gen)\n",
    "next(gen)"
   ]
  },
  {
   "cell_type": "code",
   "execution_count": 8,
   "id": "80c61065",
   "metadata": {},
   "outputs": [
    {
     "ename": "StopIteration",
     "evalue": "",
     "output_type": "error",
     "traceback": [
      "\u001b[0;31m---------------------------------------------------------------------------\u001b[0m",
      "\u001b[0;31mStopIteration\u001b[0m                             Traceback (most recent call last)",
      "\u001b[0;32m/tmp/ipykernel_126770/4293081279.py\u001b[0m in \u001b[0;36m<module>\u001b[0;34m\u001b[0m\n\u001b[0;32m----> 1\u001b[0;31m \u001b[0mnext\u001b[0m\u001b[0;34m(\u001b[0m\u001b[0mgen\u001b[0m\u001b[0;34m)\u001b[0m\u001b[0;34m\u001b[0m\u001b[0;34m\u001b[0m\u001b[0m\n\u001b[0m",
      "\u001b[0;31mStopIteration\u001b[0m: "
     ]
    }
   ],
   "source": [
    "next(gen)"
   ]
  },
  {
   "cell_type": "markdown",
   "id": "2fcc7afc",
   "metadata": {},
   "source": [
    "Generators are *iterators*, since they implement the iterator protocol by having `__iter__` and `__next__` methods."
   ]
  },
  {
   "cell_type": "code",
   "execution_count": 9,
   "id": "5961cb26",
   "metadata": {},
   "outputs": [
    {
     "data": {
      "text/plain": [
       "True"
      ]
     },
     "execution_count": 9,
     "metadata": {},
     "output_type": "execute_result"
    }
   ],
   "source": [
    "iter(gen) is gen"
   ]
  },
  {
   "cell_type": "code",
   "execution_count": 10,
   "id": "c465c85f",
   "metadata": {},
   "outputs": [],
   "source": [
    "import math\n",
    "\n",
    "# Remember the Factorial Iterator\n",
    "class FactIter:\n",
    "    def __init__(self, n):\n",
    "        self.n = n\n",
    "        self.i = 0\n",
    "        \n",
    "    def __iter__(self):\n",
    "        return self\n",
    "    \n",
    "    def __next__(self):\n",
    "        if self.i >= self.n:\n",
    "            raise StopIteration\n",
    "        else:\n",
    "            result = math.factorial(self.i)\n",
    "            self.i += 1\n",
    "            return result\n",
    "        \n",
    "fact_iter = FactIter(5)"
   ]
  },
  {
   "cell_type": "code",
   "execution_count": 11,
   "id": "d7b80f05",
   "metadata": {},
   "outputs": [],
   "source": [
    "# We can rewrite this as a generator\n",
    "def factorials(n):\n",
    "    for i in range(n):\n",
    "        yield math.factorial(i)\n",
    "        \n",
    "fact_iter = factorials(5)"
   ]
  },
  {
   "cell_type": "markdown",
   "id": "6c88c027",
   "metadata": {},
   "source": [
    "### Iterables from Generators\n",
    "\n",
    "Since generators are iterators, to create an iterable all we have to do is create the class (that implements iterable) which will return new iterators every time."
   ]
  },
  {
   "cell_type": "code",
   "execution_count": 12,
   "id": "64d3e390",
   "metadata": {},
   "outputs": [],
   "source": [
    "# The generator\n",
    "def squares(n):\n",
    "    for i in range(n):\n",
    "        yield i ** 2"
   ]
  },
  {
   "cell_type": "code",
   "execution_count": 15,
   "id": "65cd0731",
   "metadata": {},
   "outputs": [],
   "source": [
    "class Squares:\n",
    "    def __init__(self, n):\n",
    "        self.n = n\n",
    "        \n",
    "    def __iter__(self):\n",
    "        return squares(self.n)"
   ]
  },
  {
   "cell_type": "code",
   "execution_count": 17,
   "id": "b7f4d03c",
   "metadata": {},
   "outputs": [
    {
     "data": {
      "text/plain": [
       "[0, 1, 4, 9, 16]"
      ]
     },
     "execution_count": 17,
     "metadata": {},
     "output_type": "execute_result"
    }
   ],
   "source": [
    "sq = Squares(5)\n",
    "\n",
    "list(sq)"
   ]
  },
  {
   "cell_type": "code",
   "execution_count": 19,
   "id": "38632a36",
   "metadata": {},
   "outputs": [
    {
     "data": {
      "text/plain": [
       "[0, 1, 4, 9, 16]"
      ]
     },
     "execution_count": 19,
     "metadata": {},
     "output_type": "execute_result"
    }
   ],
   "source": [
    "list(sq) # sq will not be exhausted because a new iterator was created"
   ]
  },
  {
   "cell_type": "markdown",
   "id": "99224eaf",
   "metadata": {},
   "source": [
    "### Generator Expressions\n",
    "\n",
    "Generator expresssion use the same syntax as comprehensions (except using () instead of []), and have all the same functionality, such as nesting and conditionals.\n",
    "\n",
    "| `[i ** 2 for i in range(5)]` | `(i ** 2 for i in range(5))`\n",
    "| ---------------------------- | ----------------------------\n",
    "| a list is returned           | a generator is returned\n",
    "| evaluation is eager          | evaluation is lazy\n",
    "| has local scope              | has local scope\n",
    "| can access nonlocal/global   | can access nonlocal/global\n",
    "| iterable                     | iterator\n",
    "\n",
    "__Resource Utilization__\n",
    "\n",
    "In general, list comprehensions:\n",
    "- load entire collection in memory\n",
    "- take longer to create\n",
    "- but iteration is faster\n",
    "\n",
    "While generator expressions:\n",
    "- only load a single object in memory at a time\n",
    "- create objects when requested\n",
    "- but iteration is slower\n",
    "\n",
    "If iterating through all the elements, performance is about the same. But if only iterating partially through a collection, generator expressions are more efficient. In general, generators tend to have less memory overhead."
   ]
  },
  {
   "cell_type": "markdown",
   "id": "49f1125b",
   "metadata": {},
   "source": [
    "### Yield From\n",
    "\n",
    "Often we may need to delegate yielding elements to another iterator.\n",
    "\n",
    "```\n",
    "def read_all_data():\n",
    "    for file in ('file1.csv', 'file2.csv'):\n",
    "        with open(file) as f:\n",
    "            for line in f:\n",
    "                yield line\n",
    "```\n",
    "\n",
    "The inner loop is basically using the file iterator and yielding values directly. We are essentially delegating yielding to the file iterator.\n",
    "\n",
    "We can replace the inner loop using `yield from`:\n",
    "\n",
    "```\n",
    "def read_all_data():\n",
    "    for file in ('file1.csv', 'file2.csv'):\n",
    "        with open(file) as f:\n",
    "            yield from f\n",
    "```"
   ]
  },
  {
   "cell_type": "code",
   "execution_count": null,
   "id": "5a76e9b0",
   "metadata": {},
   "outputs": [],
   "source": []
  }
 ],
 "metadata": {
  "kernelspec": {
   "display_name": "Python 3 (ipykernel)",
   "language": "python",
   "name": "python3"
  },
  "language_info": {
   "codemirror_mode": {
    "name": "ipython",
    "version": 3
   },
   "file_extension": ".py",
   "mimetype": "text/x-python",
   "name": "python",
   "nbconvert_exporter": "python",
   "pygments_lexer": "ipython3",
   "version": "3.9.7"
  }
 },
 "nbformat": 4,
 "nbformat_minor": 5
}
