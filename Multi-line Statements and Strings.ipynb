{
 "cells": [
  {
   "cell_type": "markdown",
   "id": "faa065dd",
   "metadata": {},
   "source": [
    "### Python Program is:\n",
    "-> physical lines of code (ends with a physical newline character)\n",
    "\n",
    "---> logical lines of code (ends with a logical newline token)\n",
    "\n",
    "-----> tokenized\n",
    "\n",
    "__Physical newline vs. Logical newline__\n",
    "\n",
    "Sometimes, physical newline characters are ignored in order to combine multiple physical lines into\n",
    "a single logical line of code.\n",
    "\n",
    "[ ! ] Conversion can either be implicit or explicit\n"
   ]
  },
  {
   "cell_type": "markdown",
   "id": "c3f74b7f",
   "metadata": {},
   "source": [
    "__Implicit__\n",
    "\n",
    "Available with:\n",
    "* list literals\n",
    "* tuple literals\n",
    "* dictionary literals\n",
    "* set literals\n",
    "* function arguments/parameters\n",
    "\n",
    "[ ! ] Supports in-line commenting\n"
   ]
  },
  {
   "cell_type": "code",
   "execution_count": 7,
   "id": "9bcbc72d",
   "metadata": {},
   "outputs": [
    {
     "name": "stdout",
     "output_type": "stream",
     "text": [
      "[1, 2, 3] (1, 2, 3) {'key1': 1, 'key2': 2}\n"
     ]
    }
   ],
   "source": [
    "a = [1, #item 1 \n",
    "     2, #item 2\n",
    "     3] #item 3\n",
    "\n",
    "b = (1, #item 1\n",
    "     2, #item 2\n",
    "     3) #item 3\n",
    "\n",
    "c = {'key1': 1, #value for key1\n",
    "     'key2': 2} #value for key2\n",
    "\n",
    "def my_func(a, #param1\n",
    "            b, #param2\n",
    "            c):#param3\n",
    "    \n",
    "    print(a, b, c)\n",
    "\n",
    "my_func(a, #arg1\n",
    "        b, #arg2\n",
    "        c) #arg3\n"
   ]
  },
  {
   "cell_type": "markdown",
   "id": "56921ea8",
   "metadata": {},
   "source": [
    "__Explicit__\n",
    "\n",
    "You can break up statements explicitly using the ' \\\\ ' backslash character.\n",
    "\n",
    "[ ! ] Comments are not supported for explicit multi-line statements\n"
   ]
  },
  {
   "cell_type": "code",
   "execution_count": 10,
   "id": "6e06666c",
   "metadata": {},
   "outputs": [
    {
     "name": "stdout",
     "output_type": "stream",
     "text": [
      "True\n"
     ]
    }
   ],
   "source": [
    "if a \\\n",
    "    and b \\\n",
    "        and c:\n",
    "    print(True)"
   ]
  },
  {
   "cell_type": "markdown",
   "id": "18847149",
   "metadata": {},
   "source": [
    "__Multi-line String Literals__\n",
    "\n",
    "Multi-line strings are created using triple delimiters (''' or \"\"\").\n",
    "\n",
    "[ ! ] You can use escaped characters( \\t or \\n), as well as string formatting\n"
   ]
  },
  {
   "cell_type": "code",
   "execution_count": 26,
   "id": "521ff33c",
   "metadata": {},
   "outputs": [],
   "source": [
    "a = '''This is a \n",
    "    multi-line string'''"
   ]
  },
  {
   "cell_type": "markdown",
   "id": "e5137197",
   "metadata": {},
   "source": [
    "[ ! ] Non-visible characters, such as newlines or tabs, are retained as part of the string"
   ]
  },
  {
   "cell_type": "code",
   "execution_count": 27,
   "id": "a4b67922",
   "metadata": {},
   "outputs": [
    {
     "data": {
      "text/plain": [
       "'This is a \\n    multi-line string'"
      ]
     },
     "execution_count": 27,
     "metadata": {},
     "output_type": "execute_result"
    }
   ],
   "source": [
    "a"
   ]
  },
  {
   "cell_type": "code",
   "execution_count": 28,
   "id": "18ff9e66",
   "metadata": {},
   "outputs": [
    {
     "name": "stdout",
     "output_type": "stream",
     "text": [
      "This is a \n",
      "    multi-line string\n"
     ]
    }
   ],
   "source": [
    "print(a)"
   ]
  },
  {
   "cell_type": "code",
   "execution_count": null,
   "id": "acbeacb0",
   "metadata": {},
   "outputs": [],
   "source": []
  }
 ],
 "metadata": {
  "kernelspec": {
   "display_name": "Python 3 (ipykernel)",
   "language": "python",
   "name": "python3"
  },
  "language_info": {
   "codemirror_mode": {
    "name": "ipython",
    "version": 3
   },
   "file_extension": ".py",
   "mimetype": "text/x-python",
   "name": "python",
   "nbconvert_exporter": "python",
   "pygments_lexer": "ipython3",
   "version": "3.9.6"
  }
 },
 "nbformat": 4,
 "nbformat_minor": 5
}
