{
 "cells": [
  {
   "cell_type": "markdown",
   "id": "56bf0da5",
   "metadata": {},
   "source": [
    "How to deal with multiple related constants?\n",
    "\n",
    "```\n",
    "STATUS_STARTED = 'started'\n",
    "STATUS_PENDING = 'pending'\n",
    "STATUS_OK = 'ok'\n",
    "```\n",
    "\n",
    "We want an immutable collection of related constant members, that have unique names, and an associated constant value.\n",
    "\n",
    "__Alias__\n",
    "\n",
    "Sometime we want multiple symbols to refer to the same 'thing'\n",
    "\n",
    "```\n",
    "POLY_4 = 4\n",
    "RECTANGLE = 4\n",
    "SQUARE = 4\n",
    "RHOMBUS = 4\n",
    "```\n",
    "\n",
    "These are all unique symbols, but point to the same value.\n",
    "\n",
    "### Using Enumerations\n",
    "\n",
    "Introduced in Python 3.4, enumerations are available in the `enum` module and can be created by subclassing `Enum`."
   ]
  },
  {
   "cell_type": "code",
   "execution_count": 16,
   "id": "dfc4f323",
   "metadata": {},
   "outputs": [],
   "source": [
    "import enum\n",
    "\n",
    "class Color(enum.Enum):\n",
    "    RED = 1\n",
    "    GREEN = 2\n",
    "    BLUE = 3"
   ]
  },
  {
   "cell_type": "code",
   "execution_count": 3,
   "id": "5ce2931f",
   "metadata": {},
   "outputs": [
    {
     "data": {
      "text/plain": [
       "True"
      ]
     },
     "execution_count": 3,
     "metadata": {},
     "output_type": "execute_result"
    }
   ],
   "source": [
    "# The type of a member is the class\n",
    "isinstance(Color.RED, Color)"
   ]
  },
  {
   "cell_type": "code",
   "execution_count": 8,
   "id": "174bb9a9",
   "metadata": {},
   "outputs": [
    {
     "data": {
      "text/plain": [
       "False"
      ]
     },
     "execution_count": 8,
     "metadata": {},
     "output_type": "execute_result"
    }
   ],
   "source": [
    "# A member and its associated value are NOT equal\n",
    "Color.RED == 1"
   ]
  },
  {
   "cell_type": "code",
   "execution_count": 18,
   "id": "9c6e632b",
   "metadata": {},
   "outputs": [
    {
     "data": {
      "text/plain": [
       "('RED', 1)"
      ]
     },
     "execution_count": 18,
     "metadata": {},
     "output_type": "execute_result"
    }
   ],
   "source": [
    "# Members have attributes for their name and value\n",
    "Color.RED.name, Color.RED.value"
   ]
  },
  {
   "cell_type": "code",
   "execution_count": 10,
   "id": "e7e6af83",
   "metadata": {},
   "outputs": [],
   "source": [
    "# Members are hashable\n",
    "pixel_color = {\n",
    "    Color.RED: 100,\n",
    "    Color.GREEN: 25,\n",
    "    Color.BLUE: 255\n",
    "}"
   ]
  },
  {
   "cell_type": "code",
   "execution_count": 13,
   "id": "baf64c07",
   "metadata": {},
   "outputs": [
    {
     "name": "stdout",
     "output_type": "stream",
     "text": [
      "Color.GREEN\n"
     ]
    },
    {
     "data": {
      "text/plain": [
       "<Color.BLUE: 3>"
      ]
     },
     "execution_count": 13,
     "metadata": {},
     "output_type": "execute_result"
    }
   ],
   "source": [
    "# Accessing member by value\n",
    "print(Color(2))\n",
    "\n",
    "Color['BLUE']"
   ]
  },
  {
   "cell_type": "code",
   "execution_count": 19,
   "id": "f453e472",
   "metadata": {},
   "outputs": [
    {
     "name": "stdout",
     "output_type": "stream",
     "text": [
      "Color.RED\n",
      "Color.GREEN\n",
      "Color.BLUE\n"
     ]
    }
   ],
   "source": [
    "# Enumerations are iterables and definition order is preserved\n",
    "for color in Color:\n",
    "    print(color)"
   ]
  },
  {
   "cell_type": "markdown",
   "id": "2e548474",
   "metadata": {},
   "source": [
    "__Constant Members and Constant Values__\n",
    "\n",
    "Once an enumeration has been declared:\n",
    "- you cannot add or remove members\n",
    "- member values are immutable\n",
    "- cannot be subclassed (unless it contains no members)"
   ]
  },
  {
   "cell_type": "code",
   "execution_count": 20,
   "id": "b766690d",
   "metadata": {},
   "outputs": [
    {
     "data": {
      "text/plain": [
       "mappingproxy({'RED': <Color.RED: 1>,\n",
       "              'GREEN': <Color.GREEN: 2>,\n",
       "              'BLUE': <Color.BLUE: 3>})"
      ]
     },
     "execution_count": 20,
     "metadata": {},
     "output_type": "execute_result"
    }
   ],
   "source": [
    "Color.__members__"
   ]
  },
  {
   "cell_type": "markdown",
   "id": "a777d7f5",
   "metadata": {},
   "source": [
    "### Aliases\n",
    "\n",
    "Enumerations are guaranteed to have only unique members, but we can stil define multiple members that hold the same value. Any members with duplicate values will point to the firstly defined member with that value, they are simply just aliases."
   ]
  },
  {
   "cell_type": "code",
   "execution_count": 21,
   "id": "d62cbeaf",
   "metadata": {},
   "outputs": [],
   "source": [
    "class Color(enum.Enum):\n",
    "    red = 1\n",
    "    crimson = 1\n",
    "    carmine = 1\n",
    "    blue = 2\n",
    "    aquamarine = 2"
   ]
  },
  {
   "cell_type": "code",
   "execution_count": 22,
   "id": "2df9f34c",
   "metadata": {},
   "outputs": [
    {
     "data": {
      "text/plain": [
       "[<Color.red: 1>, <Color.blue: 2>]"
      ]
     },
     "execution_count": 22,
     "metadata": {},
     "output_type": "execute_result"
    }
   ],
   "source": [
    "# If we iterate Color we only have the 'base' members\n",
    "list(Color)"
   ]
  },
  {
   "cell_type": "code",
   "execution_count": 23,
   "id": "f74be50d",
   "metadata": {},
   "outputs": [
    {
     "name": "stdout",
     "output_type": "stream",
     "text": [
      "Color.red\n"
     ]
    },
    {
     "data": {
      "text/plain": [
       "True"
      ]
     },
     "execution_count": 23,
     "metadata": {},
     "output_type": "execute_result"
    }
   ],
   "source": [
    "print(Color.crimson)\n",
    "\n",
    "Color.crimson is Color.red"
   ]
  },
  {
   "cell_type": "code",
   "execution_count": 24,
   "id": "b9466345",
   "metadata": {},
   "outputs": [
    {
     "name": "stdout",
     "output_type": "stream",
     "text": [
      "Color.red\n"
     ]
    },
    {
     "data": {
      "text/plain": [
       "<Color.red: 1>"
      ]
     },
     "execution_count": 24,
     "metadata": {},
     "output_type": "execute_result"
    }
   ],
   "source": [
    "print(Color(1))\n",
    "Color['crimson']"
   ]
  },
  {
   "cell_type": "code",
   "execution_count": 25,
   "id": "63fb4f8f",
   "metadata": {},
   "outputs": [
    {
     "data": {
      "text/plain": [
       "mappingproxy({'red': <Color.red: 1>,\n",
       "              'crimson': <Color.red: 1>,\n",
       "              'carmine': <Color.red: 1>,\n",
       "              'blue': <Color.blue: 2>,\n",
       "              'aquamarine': <Color.blue: 2>})"
      ]
     },
     "execution_count": 25,
     "metadata": {},
     "output_type": "execute_result"
    }
   ],
   "source": [
    "# We can see all members, even aliases, through the dunder members property\n",
    "Color.__members__"
   ]
  },
  {
   "cell_type": "code",
   "execution_count": 26,
   "id": "5f865918",
   "metadata": {},
   "outputs": [
    {
     "ename": "ValueError",
     "evalue": "duplicate values found in <enum 'Color'>: crimson -> red, carmine -> red, aquamarine -> blue",
     "output_type": "error",
     "traceback": [
      "\u001b[0;31m---------------------------------------------------------------------------\u001b[0m",
      "\u001b[0;31mValueError\u001b[0m                                Traceback (most recent call last)",
      "\u001b[0;32m/tmp/ipykernel_53147/1327110257.py\u001b[0m in \u001b[0;36m<module>\u001b[0;34m\u001b[0m\n\u001b[1;32m      1\u001b[0m \u001b[0;31m# You can restrict enumerations from having aliases\u001b[0m\u001b[0;34m\u001b[0m\u001b[0;34m\u001b[0m\u001b[0m\n\u001b[1;32m      2\u001b[0m \u001b[0;34m@\u001b[0m\u001b[0menum\u001b[0m\u001b[0;34m.\u001b[0m\u001b[0munique\u001b[0m\u001b[0;34m\u001b[0m\u001b[0;34m\u001b[0m\u001b[0m\n\u001b[0;32m----> 3\u001b[0;31m \u001b[0;32mclass\u001b[0m \u001b[0mColor\u001b[0m\u001b[0;34m(\u001b[0m\u001b[0menum\u001b[0m\u001b[0;34m.\u001b[0m\u001b[0mEnum\u001b[0m\u001b[0;34m)\u001b[0m\u001b[0;34m:\u001b[0m\u001b[0;34m\u001b[0m\u001b[0;34m\u001b[0m\u001b[0m\n\u001b[0m\u001b[1;32m      4\u001b[0m     \u001b[0mred\u001b[0m \u001b[0;34m=\u001b[0m \u001b[0;36m1\u001b[0m\u001b[0;34m\u001b[0m\u001b[0;34m\u001b[0m\u001b[0m\n\u001b[1;32m      5\u001b[0m     \u001b[0mcrimson\u001b[0m \u001b[0;34m=\u001b[0m \u001b[0;36m1\u001b[0m\u001b[0;34m\u001b[0m\u001b[0;34m\u001b[0m\u001b[0m\n",
      "\u001b[0;32m/usr/lib64/python3.9/enum.py\u001b[0m in \u001b[0;36munique\u001b[0;34m(enumeration)\u001b[0m\n\u001b[1;32m   1011\u001b[0m         alias_details = ', '.join(\n\u001b[1;32m   1012\u001b[0m                 [\"%s -> %s\" % (alias, name) for (alias, name) in duplicates])\n\u001b[0;32m-> 1013\u001b[0;31m         raise ValueError('duplicate values found in %r: %s' %\n\u001b[0m\u001b[1;32m   1014\u001b[0m                 (enumeration, alias_details))\n\u001b[1;32m   1015\u001b[0m     \u001b[0;32mreturn\u001b[0m \u001b[0menumeration\u001b[0m\u001b[0;34m\u001b[0m\u001b[0;34m\u001b[0m\u001b[0m\n",
      "\u001b[0;31mValueError\u001b[0m: duplicate values found in <enum 'Color'>: crimson -> red, carmine -> red, aquamarine -> blue"
     ]
    }
   ],
   "source": [
    "# You can restrict enumerations from having aliases\n",
    "@enum.unique\n",
    "class Color(enum.Enum):\n",
    "    red = 1\n",
    "    crimson = 1\n",
    "    carmine = 1\n",
    "    blue = 2\n",
    "    aquamarine = 2"
   ]
  },
  {
   "cell_type": "markdown",
   "id": "0212baf2",
   "metadata": {},
   "source": [
    "We can use enumerations to map status messages (from different services for example) to our own status message."
   ]
  },
  {
   "cell_type": "code",
   "execution_count": 33,
   "id": "954373fe",
   "metadata": {},
   "outputs": [],
   "source": [
    "class Status(enum.Enum):\n",
    "    ready = 1\n",
    "    \n",
    "    running = 2\n",
    "    busy = 2\n",
    "    processing = 2\n",
    "    \n",
    "    ok = 3\n",
    "    finished_no_error = 3\n",
    "    success = 3\n",
    "    \n",
    "    errors = 4\n",
    "    finished_with_error = 4"
   ]
  },
  {
   "cell_type": "code",
   "execution_count": 35,
   "id": "d71f9819",
   "metadata": {},
   "outputs": [
    {
     "name": "stdout",
     "output_type": "stream",
     "text": [
      "ok\n"
     ]
    }
   ],
   "source": [
    "import json\n",
    "\n",
    "payload = json.loads('''\n",
    "{\n",
    "    \"status\": \"success\"\n",
    "}\n",
    "''')\n",
    "\n",
    "my_status = Status[payload['status']].name\n",
    "print(my_status)"
   ]
  },
  {
   "cell_type": "markdown",
   "id": "0f4a7374",
   "metadata": {},
   "source": [
    "### Customizing/Extending Enumerations\n",
    "\n",
    "Since Enums are classes, we can define functions for that class. And because Enum members become instances of the class, we can have bound methods for that instance. \n",
    "\n",
    "We can also define dunder methods, such as `__str__, __eq__, __lt__` etc."
   ]
  },
  {
   "cell_type": "code",
   "execution_count": 37,
   "id": "617c8950",
   "metadata": {},
   "outputs": [
    {
     "name": "stdout",
     "output_type": "stream",
     "text": [
      "do work\n"
     ]
    }
   ],
   "source": [
    "# By default, every member of an enum is truthy irrespective of value,\n",
    "# but we can override that.\n",
    "class State(enum.Enum):\n",
    "    READY = 1\n",
    "    BUSY = 0\n",
    "    \n",
    "    def __bool__(self):\n",
    "        return bool(self.value)\n",
    "\n",
    "if not State.BUSY:\n",
    "    print('do work')"
   ]
  },
  {
   "cell_type": "code",
   "execution_count": 41,
   "id": "14bf7b9e",
   "metadata": {},
   "outputs": [],
   "source": [
    "# We cannot subclass enumerations that define members, but we can subclass\n",
    "# enums that define methods for example\n",
    "\n",
    "class OrderedEnum(enum.Enum):\n",
    "    def __lt__(self, other):\n",
    "        if isinstance(other, OrderedEnum):\n",
    "            return self.value < other.value\n",
    "        else:\n",
    "            return NotImplemented\n",
    "        \n",
    "class Number(OrderedEnum):\n",
    "    ONE = 1\n",
    "    TWO = 2\n",
    "    THREE = 3"
   ]
  },
  {
   "cell_type": "code",
   "execution_count": 42,
   "id": "2b91cefb",
   "metadata": {},
   "outputs": [
    {
     "data": {
      "text/plain": [
       "True"
      ]
     },
     "execution_count": 42,
     "metadata": {},
     "output_type": "execute_result"
    }
   ],
   "source": [
    "Number.ONE < Number.TWO"
   ]
  },
  {
   "cell_type": "code",
   "execution_count": 46,
   "id": "8dd5d49c",
   "metadata": {},
   "outputs": [
    {
     "data": {
      "text/plain": [
       "(200, 'OK', 'Request Successful')"
      ]
     },
     "execution_count": 46,
     "metadata": {},
     "output_type": "execute_result"
    }
   ],
   "source": [
    "class HTTPStatus(enum.Enum):\n",
    "    OK = (200, 'Request Successful')\n",
    "    NOT_FOUND = (404, 'Resource Not Found')\n",
    "    \n",
    "    def __new__(cls, value, phrase):\n",
    "        member = object.__new__(cls)\n",
    "        member._value_ = value\n",
    "        member.phrase = phrase\n",
    "        return member\n",
    "\n",
    "    \n",
    "HTTPStatus.OK.value, HTTPStatus.OK.name, HTTPStatus.OK.phrase"
   ]
  },
  {
   "cell_type": "code",
   "execution_count": 47,
   "id": "0e571fab",
   "metadata": {},
   "outputs": [
    {
     "data": {
      "text/plain": [
       "<HTTPStatus.OK: 200>"
      ]
     },
     "execution_count": 47,
     "metadata": {},
     "output_type": "execute_result"
    }
   ],
   "source": [
    "HTTPStatus(200)"
   ]
  },
  {
   "cell_type": "markdown",
   "id": "d3bc53b7",
   "metadata": {},
   "source": [
    "### Automatic Values\n",
    "\n",
    "Introduced in Python 3.6, we can use `enum.auto()` to automatically generate member values. The default implementation uses sequential integer numbers."
   ]
  },
  {
   "cell_type": "code",
   "execution_count": 48,
   "id": "c6184baf",
   "metadata": {},
   "outputs": [],
   "source": [
    "import enum"
   ]
  },
  {
   "cell_type": "code",
   "execution_count": 49,
   "id": "5075f0c5",
   "metadata": {},
   "outputs": [],
   "source": [
    "class State(enum.Enum):\n",
    "    WAITING = enum.auto()\n",
    "    STARTED = enum.auto()\n",
    "    FINISHED = enum.auto()"
   ]
  },
  {
   "cell_type": "code",
   "execution_count": 51,
   "id": "f7713023",
   "metadata": {},
   "outputs": [
    {
     "name": "stdout",
     "output_type": "stream",
     "text": [
      "WAITING 1\n",
      "STARTED 2\n",
      "FINISHED 3\n"
     ]
    }
   ],
   "source": [
    "for member in State:\n",
    "    print(member.name, member.value)"
   ]
  },
  {
   "cell_type": "code",
   "execution_count": 55,
   "id": "5b6bd2b6",
   "metadata": {},
   "outputs": [
    {
     "name": "stdout",
     "output_type": "stream",
     "text": [
      "a 1 0 []\n",
      "b 1 1 ['A']\n",
      "c 1 2 ['A', 'B']\n"
     ]
    }
   ],
   "source": [
    "class State(enum.Enum):\n",
    "    def _generate_next_value_(name, start, count, last_values):\n",
    "        print(name, start, count, last_values)\n",
    "        return name.title()\n",
    "    \n",
    "    a = enum.auto()\n",
    "    b = enum.auto()\n",
    "    c = enum.auto()"
   ]
  },
  {
   "cell_type": "code",
   "execution_count": 57,
   "id": "db744b74",
   "metadata": {},
   "outputs": [
    {
     "name": "stdout",
     "output_type": "stream",
     "text": [
      "a A\n",
      "b B\n",
      "c C\n"
     ]
    }
   ],
   "source": [
    "for mem in State:\n",
    "    print(mem.name, mem.value)"
   ]
  },
  {
   "cell_type": "code",
   "execution_count": 59,
   "id": "6d2c0436",
   "metadata": {},
   "outputs": [
    {
     "data": {
      "text/plain": [
       "(<State.Waiting: <object object at 0x7f6b0bab6040>>,\n",
       " <State.Finished: <object object at 0x7f6b0bab6050>>)"
      ]
     },
     "execution_count": 59,
     "metadata": {},
     "output_type": "execute_result"
    }
   ],
   "source": [
    "# We can use empty objects as values to force the use of\n",
    "# member names instead of values ( e.g.State(1) )\n",
    "class State(enum.Enum):\n",
    "    Waiting = object()\n",
    "    Finished = object()\n",
    "    \n",
    "State.Waiting, State['Finished']"
   ]
  },
  {
   "cell_type": "code",
   "execution_count": 60,
   "id": "9d897202",
   "metadata": {},
   "outputs": [
    {
     "data": {
      "text/plain": [
       "mappingproxy({'RED': <Color.RED: <object object at 0x7f6b0bab60c0>>,\n",
       "              'CRIMSON': <Color.RED: <object object at 0x7f6b0bab60c0>>,\n",
       "              'CARMINE': <Color.RED: <object object at 0x7f6b0bab60c0>>,\n",
       "              'BLUE': <Color.BLUE: <object object at 0x7f6b0bab60f0>>,\n",
       "              'AQUAMARINE': <Color.BLUE: <object object at 0x7f6b0bab60f0>>,\n",
       "              'AZURE': <Color.BLUE: <object object at 0x7f6b0bab60f0>>})"
      ]
     },
     "execution_count": 60,
     "metadata": {},
     "output_type": "execute_result"
    }
   ],
   "source": [
    "class AutoAlias(enum.Enum):\n",
    "    def _generate_next_value_(name, start, count, last_values):\n",
    "        return last_values[-1]\n",
    "    \n",
    "class Color(AutoAlias):\n",
    "    RED = object()\n",
    "    CRIMSON = enum.auto()\n",
    "    CARMINE = enum.auto()\n",
    "    \n",
    "    BLUE = object()\n",
    "    AQUAMARINE = enum.auto()\n",
    "    AZURE = enum.auto()\n",
    "    \n",
    "Color.__members__"
   ]
  },
  {
   "cell_type": "code",
   "execution_count": null,
   "id": "59da3134",
   "metadata": {},
   "outputs": [],
   "source": []
  }
 ],
 "metadata": {
  "kernelspec": {
   "display_name": "Python 3 (ipykernel)",
   "language": "python",
   "name": "python3"
  },
  "language_info": {
   "codemirror_mode": {
    "name": "ipython",
    "version": 3
   },
   "file_extension": ".py",
   "mimetype": "text/x-python",
   "name": "python",
   "nbconvert_exporter": "python",
   "pygments_lexer": "ipython3",
   "version": "3.9.7"
  }
 },
 "nbformat": 4,
 "nbformat_minor": 5
}
