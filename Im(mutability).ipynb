{
 "cells": [
  {
   "cell_type": "markdown",
   "id": "0e3d8b30",
   "metadata": {},
   "source": [
    "### Object Mutability\n",
    "\n",
    "Changing the data _inside_ an object is called 'modifying te internal state' of the object.\n",
    "\n",
    "my_account -> \n",
    "\n",
    "    Reference (0x100) ->\n",
    "    \n",
    "        0x100: BankAccount { Acct#: 123, Bal: 500.00 } ->\n",
    "        \n",
    "        *Modified*\n",
    "        \n",
    "        0x100: BankAccount { Acct#: 123, Bal: 450.00 }\n",
    "      \n",
    "[ ! ] Notice how the memory address has not changed\n",
    "\n",
    "The object was __mutated__\n",
    "\n",
    "An object whose internal state can be changed is called __mutable__.\n",
    "\n",
    "An object whose internal state cannot be changed is called __immutable__.\n",
    "\n",
    "__Examples in Python__\n",
    "\n",
    "Immutable:\n",
    "- Numbers (int, float, booleans, etc.)\n",
    "- Strings\n",
    "- Tuples\n",
    "- Frozen Sets\n",
    "- User-defined Classes\n",
    "\n",
    "Mutable:\n",
    "- Lists\n",
    "- Sets\n",
    "- Dictionaries\n",
    "- User-defined Classes\n",
    "\n",
    "Be careful with combinations of immutable and mutable objects, consider the following:"
   ]
  },
  {
   "cell_type": "code",
   "execution_count": 1,
   "id": "a20b1721",
   "metadata": {},
   "outputs": [
    {
     "name": "stdout",
     "output_type": "stream",
     "text": [
      "([1, 2], [3, 4])\n"
     ]
    }
   ],
   "source": [
    "# a and b are both mutable objects whose internal state can be modified\n",
    "a = [1, 2]\n",
    "b = [3, 4]\n",
    "\n",
    "# t is a immutable object but it contains mutable lists\n",
    "t = (a, b)\n",
    "\n",
    "print(t)"
   ]
  },
  {
   "cell_type": "code",
   "execution_count": 5,
   "id": "3c094926",
   "metadata": {},
   "outputs": [
    {
     "name": "stdout",
     "output_type": "stream",
     "text": [
      "([1, 2, 3, 3, 3, 3], [3, 4, 5, 5, 5, 5])\n"
     ]
    }
   ],
   "source": [
    "a.append(3)\n",
    "b.append(5)"
   ]
  },
  {
   "cell_type": "code",
   "execution_count": 6,
   "id": "30715d4f",
   "metadata": {},
   "outputs": [
    {
     "name": "stdout",
     "output_type": "stream",
     "text": [
      "([1, 2, 3, 3, 3, 3], [3, 4, 5, 5, 5, 5])\n"
     ]
    }
   ],
   "source": [
    "print(t)"
   ]
  },
  {
   "cell_type": "markdown",
   "id": "182fe109",
   "metadata": {},
   "source": [
    "[ ! ] Although we can't change or add to the memory addresses that `t` references, we can modify the _internal_ state of those references since they are mutable lists. The memory addresses of `t[0]` and `t[1]` never changes even when they are modified."
   ]
  },
  {
   "cell_type": "markdown",
   "id": "f2f2d2f3",
   "metadata": {},
   "source": [
    "__Function Arguments and Mutability__\n",
    "\n",
    "Strings are _immutable_ objects. Once a sring has been created, the contents of the object can never be changed.\n",
    "\n",
    "The only way to modify the \"value\" is to re-assign it to a new object in memory.\n",
    "\n",
    "Immutable objects are safe from unintended side-effects:"
   ]
  },
  {
   "cell_type": "code",
   "execution_count": 10,
   "id": "ac7a0b53",
   "metadata": {},
   "outputs": [],
   "source": [
    "def process(s: str):\n",
    "    s = s + ' world'\n",
    "    return s"
   ]
  },
  {
   "cell_type": "code",
   "execution_count": 11,
   "id": "7a3456e0",
   "metadata": {},
   "outputs": [],
   "source": [
    "s = 'hello'"
   ]
  },
  {
   "cell_type": "code",
   "execution_count": 12,
   "id": "7250df54",
   "metadata": {},
   "outputs": [
    {
     "data": {
      "text/plain": [
       "'hello world'"
      ]
     },
     "execution_count": 12,
     "metadata": {},
     "output_type": "execute_result"
    }
   ],
   "source": [
    "# When we pass s to process, \n",
    "# its *reference* is passed to the function\n",
    "\n",
    "process(s)\n",
    "\n",
    "# process modifies the immutable string that is passed to it, \n",
    "# therefore creating a new object in memory ('hello world') located in\n",
    "# the functions scope."
   ]
  },
  {
   "cell_type": "code",
   "execution_count": 13,
   "id": "c3314b54",
   "metadata": {},
   "outputs": [
    {
     "data": {
      "text/plain": [
       "'hello'"
      ]
     },
     "execution_count": 13,
     "metadata": {},
     "output_type": "execute_result"
    }
   ],
   "source": [
    "# Therefore, s in the *module* scope still references 'hello'\n",
    "\n",
    "s"
   ]
  },
  {
   "cell_type": "markdown",
   "id": "0a09bb67",
   "metadata": {},
   "source": [
    "[ ! ] Watch out when passing immutable objects that contain mutable objects to functions"
   ]
  },
  {
   "cell_type": "markdown",
   "id": "8719febe",
   "metadata": {},
   "source": [
    "Mutable objects are __not__ safe from unintended side-effects:"
   ]
  },
  {
   "cell_type": "code",
   "execution_count": 17,
   "id": "803ccbf5",
   "metadata": {},
   "outputs": [],
   "source": [
    "def process(lst: list):\n",
    "    lst.append(100)"
   ]
  },
  {
   "cell_type": "code",
   "execution_count": 18,
   "id": "c930ade8",
   "metadata": {},
   "outputs": [],
   "source": [
    "lst = [1, 2, 3]"
   ]
  },
  {
   "cell_type": "code",
   "execution_count": 19,
   "id": "be9e4100",
   "metadata": {},
   "outputs": [],
   "source": [
    "# When we pass lst to process, again its reference is passed\n",
    "\n",
    "process(lst)\n",
    "\n",
    "# Although, since lst is a mutable object, when process modifies\n",
    "# lst in its functions scope..."
   ]
  },
  {
   "cell_type": "code",
   "execution_count": 20,
   "id": "8844e96c",
   "metadata": {},
   "outputs": [
    {
     "data": {
      "text/plain": [
       "[1, 2, 3, 100]"
      ]
     },
     "execution_count": 20,
     "metadata": {},
     "output_type": "execute_result"
    }
   ],
   "source": [
    "# lst in the module scope is modified as well, since the memory address\n",
    "# of lst never changed when its internal state was modified\n",
    "\n",
    "lst"
   ]
  },
  {
   "cell_type": "markdown",
   "id": "7a7b5483",
   "metadata": {},
   "source": [
    "A similar thing happens when passing immutables that contain mutables:"
   ]
  },
  {
   "cell_type": "code",
   "execution_count": 21,
   "id": "69a876e6",
   "metadata": {},
   "outputs": [],
   "source": [
    "def process(t: tuple):\n",
    "    '''t: a tuple containg a list as the first item'''\n",
    "    t[0].append(3)"
   ]
  },
  {
   "cell_type": "code",
   "execution_count": 22,
   "id": "b578f9a5",
   "metadata": {},
   "outputs": [],
   "source": [
    "t = ([1, 2], 'a')"
   ]
  },
  {
   "cell_type": "code",
   "execution_count": 23,
   "id": "6bae1573",
   "metadata": {},
   "outputs": [
    {
     "data": {
      "text/plain": [
       "([1, 2, 3], 'a')"
      ]
     },
     "execution_count": 23,
     "metadata": {},
     "output_type": "execute_result"
    }
   ],
   "source": [
    "process(t)\n",
    "\n",
    "t"
   ]
  },
  {
   "cell_type": "markdown",
   "id": "268e3b00",
   "metadata": {},
   "source": [
    "__Shared References and Mutability__\n",
    "\n",
    "Shared references is the concept of two variables referencing the same object in memory (having the same address)\n",
    "\n",
    "`a = 10` -->\n",
    "\n",
    "            0x100 --> 10\n",
    "            \n",
    "`b = a`  --->"
   ]
  },
  {
   "cell_type": "code",
   "execution_count": 25,
   "id": "98d5eee3",
   "metadata": {},
   "outputs": [
    {
     "name": "stdout",
     "output_type": "stream",
     "text": [
      "140562175855280\n",
      "140562175855280\n"
     ]
    }
   ],
   "source": [
    "a = 'hello'\n",
    "b = 'hello'\n",
    "\n",
    "print(id(a))\n",
    "print(id(b))"
   ]
  },
  {
   "cell_type": "markdown",
   "id": "b687d600",
   "metadata": {},
   "source": [
    "[ ! ] In cases like this above, Pythons Memory Manager decides to automatically re-use the memory references. This is __safe__ since these specific obejcts are _immutable_. However don't count on this, as this doesn't always happen\n",
    "\n",
    "When working with mutables, you should be more careful:"
   ]
  },
  {
   "cell_type": "code",
   "execution_count": 27,
   "id": "49e13425",
   "metadata": {},
   "outputs": [
    {
     "name": "stdout",
     "output_type": "stream",
     "text": [
      "[1, 2, 3, 100]\n"
     ]
    }
   ],
   "source": [
    "a = [1, 2, 3]\n",
    "b = a\n",
    "\n",
    "b.append(100)\n",
    "\n",
    "print(a)"
   ]
  },
  {
   "cell_type": "markdown",
   "id": "6b8a7a8f",
   "metadata": {},
   "source": [
    "[ ! ] With mutables, Python Memory manager will never create shared references"
   ]
  },
  {
   "cell_type": "code",
   "execution_count": 28,
   "id": "7ea3c3ae",
   "metadata": {},
   "outputs": [
    {
     "name": "stdout",
     "output_type": "stream",
     "text": [
      "140562135679872\n",
      "140562135410944\n"
     ]
    }
   ],
   "source": [
    "a = [1, 2, 3]\n",
    "b = [1, 2, 3]\n",
    "\n",
    "print(id(a))\n",
    "print(id(b))"
   ]
  },
  {
   "cell_type": "code",
   "execution_count": null,
   "id": "947f37e3",
   "metadata": {},
   "outputs": [],
   "source": []
  }
 ],
 "metadata": {
  "kernelspec": {
   "display_name": "Python 3 (ipykernel)",
   "language": "python",
   "name": "python3"
  },
  "language_info": {
   "codemirror_mode": {
    "name": "ipython",
    "version": 3
   },
   "file_extension": ".py",
   "mimetype": "text/x-python",
   "name": "python",
   "nbconvert_exporter": "python",
   "pygments_lexer": "ipython3",
   "version": "3.9.7"
  }
 },
 "nbformat": 4,
 "nbformat_minor": 5
}
