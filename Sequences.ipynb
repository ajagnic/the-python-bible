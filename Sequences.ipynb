{
 "cells": [
  {
   "cell_type": "markdown",
   "id": "c45fcc35",
   "metadata": {},
   "source": [
    "### Sequence Types\n",
    "\n",
    "__Built-in__\n",
    "- Mutable\n",
    "    - lists, bytearrays\n",
    "- Immutable\n",
    "    - strings, tuples, range, bytes\n",
    "\n",
    "Additional Standard Types:\n",
    "- `collections` package:\n",
    "    - namedtuple, deque\n",
    "- `array` module:\n",
    "    - array\n",
    "    \n",
    "__Homogeneous vs Heterogeneous Sequences__\n",
    "\n",
    "Homogeneous: each element is of the same type, eg. strings\n",
    "\n",
    "Heterogeneous: each element may be of a different type, eg. lists\n",
    "\n",
    "__Iterable Type vs Sequence Types__\n",
    "\n",
    "Iterable: a container object which can list out its elements one by one\n"
   ]
  },
  {
   "cell_type": "code",
   "execution_count": 1,
   "id": "233e485c",
   "metadata": {},
   "outputs": [
    {
     "data": {
      "text/plain": [
       "1"
      ]
     },
     "execution_count": 1,
     "metadata": {},
     "output_type": "execute_result"
    }
   ],
   "source": [
    "# Every sequence type is an iterable\n",
    "l = [1, 2, 3]\n",
    "\n",
    "for e in l: ...\n",
    "    \n",
    "l[0]"
   ]
  },
  {
   "cell_type": "code",
   "execution_count": 2,
   "id": "44b84969",
   "metadata": {},
   "outputs": [
    {
     "ename": "TypeError",
     "evalue": "'set' object is not subscriptable",
     "output_type": "error",
     "traceback": [
      "\u001b[0;31m---------------------------------------------------------------------------\u001b[0m",
      "\u001b[0;31mTypeError\u001b[0m                                 Traceback (most recent call last)",
      "\u001b[0;32m/tmp/ipykernel_49616/1863231890.py\u001b[0m in \u001b[0;36m<module>\u001b[0;34m\u001b[0m\n\u001b[1;32m      4\u001b[0m \u001b[0;32mfor\u001b[0m \u001b[0me\u001b[0m \u001b[0;32min\u001b[0m \u001b[0ms\u001b[0m\u001b[0;34m:\u001b[0m \u001b[0;34m...\u001b[0m\u001b[0;34m\u001b[0m\u001b[0;34m\u001b[0m\u001b[0m\n\u001b[1;32m      5\u001b[0m \u001b[0;34m\u001b[0m\u001b[0m\n\u001b[0;32m----> 6\u001b[0;31m \u001b[0ms\u001b[0m\u001b[0;34m[\u001b[0m\u001b[0;36m0\u001b[0m\u001b[0;34m]\u001b[0m\u001b[0;34m\u001b[0m\u001b[0;34m\u001b[0m\u001b[0m\n\u001b[0m",
      "\u001b[0;31mTypeError\u001b[0m: 'set' object is not subscriptable"
     ]
    }
   ],
   "source": [
    "# But an iterable is not necessarily a sequence type\n",
    "s = {1, 2, 3}\n",
    "\n",
    "for e in s: ...\n",
    "    \n",
    "s[0] # Cannot access by index!"
   ]
  },
  {
   "cell_type": "markdown",
   "id": "48478e8b",
   "metadata": {},
   "source": [
    "__Standard Sequence Methods__\n"
   ]
  },
  {
   "cell_type": "code",
   "execution_count": 8,
   "id": "ef76f1e7",
   "metadata": {},
   "outputs": [
    {
     "data": {
      "text/plain": [
       "[1, 3, 1]"
      ]
     },
     "execution_count": 8,
     "metadata": {},
     "output_type": "execute_result"
    }
   ],
   "source": [
    "s = [1, 2, 3]\n",
    "x = 1\n",
    "\n",
    "# Buit-in sequences, both mutable and immutable, support the following methods:\n",
    "x in s     # membership\n",
    "x not in s\n",
    "s += [1, 1, 1] # concatenation\n",
    "s * 2      # repetition\n",
    "len(s)\n",
    "min(s)     # (if ordering b/w elements is defined (<, >, etc))\n",
    "max(s)     #\n",
    "s.index(x) # first occurence of x \n",
    "s.index(x, 3) # find x at or after index 3\n",
    "s.index(x, 3, 5) # find x between index 3 and 5\n",
    "s[0]       # index\n",
    "s[0:3]     # elements from index 0(inclusive) to 3(exclusive)\n",
    "s[0:5:2]   # same as above, but in steps of 2 (skip every other element)"
   ]
  },
  {
   "cell_type": "markdown",
   "id": "40293c5f",
   "metadata": {},
   "source": [
    "NOTE: Slices will always return the same container type as the object being sliced\n",
    "\n",
    "`range` objects are more restrictive:\n",
    "- no concat/repetition\n",
    "- min, max, `in`, `not in` are not as efficient\n",
    "\n",
    "__Beware of Concatenation/Repetition of Mutable Objects__"
   ]
  },
  {
   "cell_type": "code",
   "execution_count": 9,
   "id": "59606e65",
   "metadata": {},
   "outputs": [
    {
     "data": {
      "text/plain": [
       "False"
      ]
     },
     "execution_count": 9,
     "metadata": {},
     "output_type": "execute_result"
    }
   ],
   "source": [
    "# x is a list of immutable integers\n",
    "x = [1, 2]\n",
    "a = x + x\n",
    "\n",
    "a[0] is a[1]"
   ]
  },
  {
   "cell_type": "code",
   "execution_count": 12,
   "id": "5cc6d3c3",
   "metadata": {},
   "outputs": [
    {
     "data": {
      "text/plain": [
       "True"
      ]
     },
     "execution_count": 12,
     "metadata": {},
     "output_type": "execute_result"
    }
   ],
   "source": [
    "# x is a list of mutable lists (a 2d array)\n",
    "x = [ [0, 0] ]\n",
    "a = x + x\n",
    "\n",
    "a[0] is a[1] # ! both elements in `a` are the same object in memory!"
   ]
  },
  {
   "cell_type": "code",
   "execution_count": 13,
   "id": "3f7a66b2",
   "metadata": {},
   "outputs": [
    {
     "data": {
      "text/plain": [
       "True"
      ]
     },
     "execution_count": 13,
     "metadata": {},
     "output_type": "execute_result"
    }
   ],
   "source": [
    "x = [ [0, 0] ]\n",
    "a = x * 2\n",
    "\n",
    "a[0] is a[1]"
   ]
  },
  {
   "cell_type": "markdown",
   "id": "26dca1cc",
   "metadata": {},
   "source": [
    "### Mutable Sequence Types\n",
    "\n",
    "__Mutating Objects__"
   ]
  },
  {
   "cell_type": "code",
   "execution_count": 17,
   "id": "da81637d",
   "metadata": {},
   "outputs": [
    {
     "name": "stdout",
     "output_type": "stream",
     "text": [
      "140711249606464\n",
      "140710753227456\n"
     ]
    }
   ],
   "source": [
    "# Concatenation will create a new object in memory\n",
    "names = ['Alice', 'Bob']\n",
    "print(id(names))\n",
    "\n",
    "names = names + ['Carol']\n",
    "print(id(names))"
   ]
  },
  {
   "cell_type": "code",
   "execution_count": 18,
   "id": "e21c377b",
   "metadata": {},
   "outputs": [
    {
     "name": "stdout",
     "output_type": "stream",
     "text": [
      "140710753227456\n"
     ]
    }
   ],
   "source": [
    "# Using append mutates the original object in memory\n",
    "names.append('Darren')\n",
    "print(id(names))"
   ]
  },
  {
   "cell_type": "markdown",
   "id": "ac453212",
   "metadata": {},
   "source": [
    "__Mutating using `[]`__"
   ]
  },
  {
   "cell_type": "code",
   "execution_count": 19,
   "id": "b1d33698",
   "metadata": {},
   "outputs": [],
   "source": [
    "x = 5\n",
    "i = 0\n",
    "j = 4\n",
    "s = [1, 2, 3]\n",
    "s2 = [9, 8, 7]\n",
    "\n",
    "s[i] = x\n",
    "s[i:j] = s2\n",
    "del s[i]\n",
    "del s[i:j]"
   ]
  },
  {
   "cell_type": "markdown",
   "id": "50d78aa4",
   "metadata": {},
   "source": [
    "__Methods of Mutable Sequence Types__"
   ]
  },
  {
   "cell_type": "code",
   "execution_count": 21,
   "id": "50b697ef",
   "metadata": {},
   "outputs": [
    {
     "data": {
      "text/plain": [
       "[6, 5, 4]"
      ]
     },
     "execution_count": 21,
     "metadata": {},
     "output_type": "execute_result"
    }
   ],
   "source": [
    "s.clear()\n",
    "s.append(x)\n",
    "s.insert(i, x)\n",
    "s.extend([4, 5, 6])\n",
    "s.pop(i)\n",
    "s.remove(x)\n",
    "s.reverse()\n",
    "s.copy()"
   ]
  },
  {
   "cell_type": "markdown",
   "id": "0ed0440a",
   "metadata": {},
   "source": [
    "### Lists vs Tuples\n",
    "\n",
    "__*Constant Folding*__ is the process of recognizing and evaluatng constant expressions at compile time rather than computing them at runtime."
   ]
  },
  {
   "cell_type": "code",
   "execution_count": 22,
   "id": "46376bec",
   "metadata": {},
   "outputs": [],
   "source": [
    "from dis import dis"
   ]
  },
  {
   "cell_type": "code",
   "execution_count": 29,
   "id": "5ea12538",
   "metadata": {},
   "outputs": [
    {
     "name": "stdout",
     "output_type": "stream",
     "text": [
      "  1           0 BUILD_LIST               0\n",
      "              2 LOAD_CONST               0 ((1, 2, 3, 'a'))\n",
      "              4 LIST_EXTEND              1\n",
      "              6 RETURN_VALUE\n"
     ]
    }
   ],
   "source": [
    "dis(compile('[1, 2, 3, \"a\"]', 'string', 'eval'))"
   ]
  },
  {
   "cell_type": "code",
   "execution_count": 30,
   "id": "8ca03026",
   "metadata": {},
   "outputs": [
    {
     "name": "stdout",
     "output_type": "stream",
     "text": [
      "  1           0 LOAD_CONST               0 ((1, 2, 3, 'a'))\n",
      "              2 RETURN_VALUE\n"
     ]
    }
   ],
   "source": [
    "dis(compile('(1, 2, 3, \"a\")', 'string', 'eval'))"
   ]
  },
  {
   "cell_type": "code",
   "execution_count": 31,
   "id": "ced0b551",
   "metadata": {},
   "outputs": [],
   "source": [
    "l1 = [1, 2, 3, 4, 5, 6, 7, 8, 9]\n",
    "t1 = (1, 2, 3, 4, 5, 6, 7, 8, 9)"
   ]
  },
  {
   "cell_type": "code",
   "execution_count": 32,
   "id": "d27a0dae",
   "metadata": {},
   "outputs": [
    {
     "data": {
      "text/plain": [
       "False"
      ]
     },
     "execution_count": 32,
     "metadata": {},
     "output_type": "execute_result"
    }
   ],
   "source": [
    "# Copying a list will result in a new object in memory\n",
    "l2 = list(l1)\n",
    "\n",
    "l1 is l2"
   ]
  },
  {
   "cell_type": "code",
   "execution_count": 33,
   "id": "54576e0b",
   "metadata": {},
   "outputs": [
    {
     "data": {
      "text/plain": [
       "True"
      ]
     },
     "execution_count": 33,
     "metadata": {},
     "output_type": "execute_result"
    }
   ],
   "source": [
    "# Where as copying a tuple will not, since it is immutable\n",
    "t2 = tuple(t1)\n",
    "\n",
    "t1 is t2"
   ]
  },
  {
   "cell_type": "code",
   "execution_count": 34,
   "id": "c6867787",
   "metadata": {},
   "outputs": [
    {
     "data": {
      "text/plain": [
       "0.21645070799422683"
      ]
     },
     "execution_count": 34,
     "metadata": {},
     "output_type": "execute_result"
    }
   ],
   "source": [
    "# Constructing lists takes significantly longer than creating tuples\n",
    "from timeit import timeit\n",
    "\n",
    "timeit('tuple((1, 2, 3, 4, 5))', number=5_000_000)"
   ]
  },
  {
   "cell_type": "code",
   "execution_count": 35,
   "id": "6b78a0d8",
   "metadata": {},
   "outputs": [
    {
     "data": {
      "text/plain": [
       "0.4638821799962898"
      ]
     },
     "execution_count": 35,
     "metadata": {},
     "output_type": "execute_result"
    }
   ],
   "source": [
    "timeit('list((1, 2, 3, 4, 5))', number=5_000_000)"
   ]
  },
  {
   "cell_type": "markdown",
   "id": "e98ad9ee",
   "metadata": {},
   "source": [
    "### Copying Sequences\n",
    "\n",
    "We can copy a sequence using a variety of methods:"
   ]
  },
  {
   "cell_type": "code",
   "execution_count": 36,
   "id": "037d8698",
   "metadata": {},
   "outputs": [],
   "source": [
    "s = [10, 20, 30]\n",
    "\n",
    "# Simple Loop (not very pythonic!)\n",
    "cp = []\n",
    "for e in s:\n",
    "    cp.append(e)\n",
    "\n",
    "# List Comprehension\n",
    "cp = [e for e in s]\n",
    "\n",
    "# Using copy()\n",
    "cp = s.copy()\n",
    "\n",
    "# Slicing\n",
    "cp = s[:]\n",
    "\n",
    "# Using list()\n",
    "cp = list(s)"
   ]
  },
  {
   "cell_type": "markdown",
   "id": "5a1feaf7",
   "metadata": {},
   "source": [
    "__Shallow Copies__\n",
    "\n",
    "The above methods will create a new *list* object, but the references inside the list will be the same in both the original and the copy"
   ]
  },
  {
   "cell_type": "code",
   "execution_count": 42,
   "id": "1cc1c613",
   "metadata": {},
   "outputs": [
    {
     "name": "stdout",
     "output_type": "stream",
     "text": [
      "s: [[10, 20], [30, 40]]\n",
      " cp: ['python', [30, 40]]\n",
      "\n",
      "s: [[10, 20], [100, 40]]\n",
      " cp: ['python', [100, 40]]\n",
      "\n"
     ]
    }
   ],
   "source": [
    "s = [ [10, 20], [30, 40] ]\n",
    "cp = s.copy()\n",
    "\n",
    "# Here we can modify the copy list itself and not affect the original\n",
    "cp[0] = 'python'\n",
    "print(f's: {s}\\n cp: {cp}\\n')\n",
    "\n",
    "# But if we modify a mutable object inside the copy, we affect the original list\n",
    "cp[1][0] = 100\n",
    "print(f's: {s}\\n cp: {cp}\\n')"
   ]
  },
  {
   "cell_type": "markdown",
   "id": "547f272a",
   "metadata": {},
   "source": [
    "__Deep Copies__\n",
    "\n",
    "If collections contain mutable elements, shallow copies ae not sufficient to ensure the copy can never be able to modify the original. Instead we can use *deep copies*.\n",
    "\n",
    "In general, objects know how to make *shallow* copies of themselves, eg. lists, sets, dictionaries all have a `copy()` method.\n",
    "\n",
    "There is also the `copy` module from the standard library, which has `copy` and `deepcopy` operations."
   ]
  },
  {
   "cell_type": "code",
   "execution_count": 44,
   "id": "6534b7a3",
   "metadata": {},
   "outputs": [],
   "source": [
    "class MyClass:\n",
    "    def __init__(self, a):\n",
    "        self.a = a"
   ]
  },
  {
   "cell_type": "code",
   "execution_count": 45,
   "id": "cc275cae",
   "metadata": {},
   "outputs": [],
   "source": [
    "from copy import copy, deepcopy"
   ]
  },
  {
   "cell_type": "code",
   "execution_count": 46,
   "id": "0680504e",
   "metadata": {},
   "outputs": [
    {
     "data": {
      "text/plain": [
       "True"
      ]
     },
     "execution_count": 46,
     "metadata": {},
     "output_type": "execute_result"
    }
   ],
   "source": [
    "x = [10, 20]\n",
    "obj = MyClass(x)\n",
    "\n",
    "x is obj.a"
   ]
  },
  {
   "cell_type": "code",
   "execution_count": 47,
   "id": "890923c9",
   "metadata": {},
   "outputs": [
    {
     "data": {
      "text/plain": [
       "True"
      ]
     },
     "execution_count": 47,
     "metadata": {},
     "output_type": "execute_result"
    }
   ],
   "source": [
    "shallow_cp = copy(obj)\n",
    "\n",
    "shallow_cp.a is obj.a"
   ]
  },
  {
   "cell_type": "code",
   "execution_count": 48,
   "id": "a6f3206f",
   "metadata": {},
   "outputs": [
    {
     "data": {
      "text/plain": [
       "False"
      ]
     },
     "execution_count": 48,
     "metadata": {},
     "output_type": "execute_result"
    }
   ],
   "source": [
    "deep_cp = deepcopy(obj)\n",
    "\n",
    "deep_cp.a is obj.a"
   ]
  },
  {
   "cell_type": "markdown",
   "id": "8cd6ba0f",
   "metadata": {},
   "source": [
    "### Slicing\n",
    "\n",
    "Slicing relies on indexing, so it only works with *sequence* types.\n",
    "\n",
    "__The `slice` Type__\n",
    "\n",
    "Although we usually slice seqs using the conventional syntax: `my_list[i:j]`, slice definitions (`[i:j]`) are actually objects of type `slice`."
   ]
  },
  {
   "cell_type": "code",
   "execution_count": 52,
   "id": "64d67451",
   "metadata": {},
   "outputs": [
    {
     "data": {
      "text/plain": [
       "slice"
      ]
     },
     "execution_count": 52,
     "metadata": {},
     "output_type": "execute_result"
    }
   ],
   "source": [
    "# This is useful if we want to name slices and use symbols instead of literals\n",
    "s = slice(0, 2)\n",
    "type(s)"
   ]
  },
  {
   "cell_type": "code",
   "execution_count": 53,
   "id": "dca250a7",
   "metadata": {},
   "outputs": [
    {
     "data": {
      "text/plain": [
       "[1, 2]"
      ]
     },
     "execution_count": 53,
     "metadata": {},
     "output_type": "execute_result"
    }
   ],
   "source": [
    "l = [1, 2, 3, 4]\n",
    "\n",
    "l[s]"
   ]
  },
  {
   "cell_type": "markdown",
   "id": "465dc08a",
   "metadata": {},
   "source": [
    "__Effective Start and Stop Bounds__"
   ]
  },
  {
   "cell_type": "code",
   "execution_count": 55,
   "id": "6e2b5c26",
   "metadata": {},
   "outputs": [
    {
     "data": {
      "text/plain": [
       "[4, 5]"
      ]
     },
     "execution_count": 55,
     "metadata": {},
     "output_type": "execute_result"
    }
   ],
   "source": [
    "# Interestingly the following works:\n",
    "l = [1, 2, 3, 4, 5]\n",
    "\n",
    "l[3:100] # We can specify slices that are 'out of bounds' of the sequence they are applied to"
   ]
  },
  {
   "cell_type": "code",
   "execution_count": 57,
   "id": "267576f2",
   "metadata": {},
   "outputs": [
    {
     "data": {
      "text/plain": [
       "[3, 4]"
      ]
     },
     "execution_count": 57,
     "metadata": {},
     "output_type": "execute_result"
    }
   ],
   "source": [
    "# Negative indices also work:\n",
    "l[-1]\n",
    "\n",
    "l[-3:-1]"
   ]
  },
  {
   "cell_type": "markdown",
   "id": "bc8080d7",
   "metadata": {},
   "source": [
    "__Step Value__"
   ]
  },
  {
   "cell_type": "code",
   "execution_count": 59,
   "id": "81792aa8",
   "metadata": {},
   "outputs": [
    {
     "data": {
      "text/plain": [
       "[1, 3, 5]"
      ]
     },
     "execution_count": 59,
     "metadata": {},
     "output_type": "execute_result"
    }
   ],
   "source": [
    "# Slicing supports a third argument, the step or stride value\n",
    "l[0:6:2]"
   ]
  },
  {
   "cell_type": "code",
   "execution_count": 60,
   "id": "9c47ddee",
   "metadata": {},
   "outputs": [
    {
     "data": {
      "text/plain": [
       "[5, 4, 3, 2, 1]"
      ]
     },
     "execution_count": 60,
     "metadata": {},
     "output_type": "execute_result"
    }
   ],
   "source": [
    "# You can give a negative value for the stride as well, which will iterate backwards\n",
    "l[::-1]"
   ]
  },
  {
   "cell_type": "markdown",
   "id": "b5f04337",
   "metadata": {},
   "source": [
    "__Range Equivalence__\n",
    "\n",
    "Any slice essentially defines a sequence of indices that is used to select elements for another sequence. Any indices defined by a slice can also be defined using a `range`. The difference is that slices are defined independently of the sequence being sliced. And the equivalent range is only calculated once the length of the sequence being sliced is known.\n",
    "\n",
    "eg.\n",
    "`[0:100]` applied to -> `[1, 2, 3, 4, 5]` equals -> `range(0, 5)`\n",
    "\n",
    "\n",
    "| Case         | `[i:j:k] k > 0`        | `[i:j:k] k < 0`         |\n",
    "| ------------ | ---------------------- | ----------------------- |\n",
    "| i > len(seq) | i = len(seq)           | i = len(seq)-1          |\n",
    "| j > len(seq) | j = len(seq)           | j = len(seq)-1          |\n",
    "| i < 0        | i = max(0, len(seq)+i) | i = max(-1, len(seq)+i) |\n",
    "| j < 0        | j = max(0, len(seq)+j) | j = max(-1, len(seq)+j) |\n",
    "| i is None    | i = 0                  | i = len(seq)-1          |\n",
    "| j is None    | j = len(seq)           | j = -1                  |\n",
    "\n",
    "The `slice` object has a method, `indices`, that returns the equivalent range start/stop/step for any slice given the length of the sequence being sliced. The values in this tuple can be used to generate a list of indices using the range function."
   ]
  },
  {
   "cell_type": "code",
   "execution_count": 65,
   "id": "3b661a78",
   "metadata": {},
   "outputs": [
    {
     "name": "stdout",
     "output_type": "stream",
     "text": [
      "[5, 4, 3, 2]\n"
     ]
    }
   ],
   "source": [
    "slc = slice(10, -5, -1)\n",
    "\n",
    "rng = slc.indices(6) # 6 is length of the sequence we want to slice\n",
    "\n",
    "print(list(range(*rng)))"
   ]
  },
  {
   "cell_type": "code",
   "execution_count": null,
   "id": "0796ac2f",
   "metadata": {},
   "outputs": [],
   "source": []
  }
 ],
 "metadata": {
  "kernelspec": {
   "display_name": "Python 3 (ipykernel)",
   "language": "python",
   "name": "python3"
  },
  "language_info": {
   "codemirror_mode": {
    "name": "ipython",
    "version": 3
   },
   "file_extension": ".py",
   "mimetype": "text/x-python",
   "name": "python",
   "nbconvert_exporter": "python",
   "pygments_lexer": "ipython3",
   "version": "3.9.7"
  }
 },
 "nbformat": 4,
 "nbformat_minor": 5
}
