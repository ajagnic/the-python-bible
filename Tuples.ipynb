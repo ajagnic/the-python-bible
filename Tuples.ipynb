{
 "cells": [
  {
   "cell_type": "markdown",
   "id": "b070ea97",
   "metadata": {},
   "source": [
    "### Tuples as Data Structures\n",
    "\n",
    "__Tuples vs. Lists vs. Strings__\n",
    "\n",
    "| Tuples              | Lists                 | Strings            |\n",
    "| ------------------- | --------------------- | ------------------ |\n",
    "| container           | container             | container          |\n",
    "| order matters       | order matters         | order matters      |\n",
    "| hetero*/homogeneous | hetero/homogeneous*   | homogeneous        |\n",
    "| indexable           | indexable             | indexable          |\n",
    "| iterable            | iterable              | iterable           |\n",
    "| immutable           | mutable               | immutable          |\n",
    "| fixed length/order  | variable length/order | fixed length/order |\n",
    "\n",
    "The immutability of tuples works well for representing data structures, as we can assign meaning to the position of data.\n",
    "\n",
    "e.g. Circle: (0, 0, 10) or a City ('London', 'UK', 8_780_000)\n",
    "\n",
    "__Tuples as Data Records__\n",
    "\n",
    "Because tuples are immutable, we are guaranteed that the data and the data structure will never change."
   ]
  },
  {
   "cell_type": "code",
   "execution_count": 3,
   "id": "18eda209",
   "metadata": {},
   "outputs": [],
   "source": [
    "london = ('London', 'UK', 8_780_000)\n",
    "new_york = ('New York', 'USA', 8_500_000)"
   ]
  },
  {
   "cell_type": "markdown",
   "id": "ad372226",
   "metadata": {},
   "source": [
    "__Extracting Data from Tuples__"
   ]
  },
  {
   "cell_type": "code",
   "execution_count": 13,
   "id": "c3f989d3",
   "metadata": {},
   "outputs": [],
   "source": [
    "city, country, pop = london"
   ]
  },
  {
   "cell_type": "code",
   "execution_count": 18,
   "id": "ac80db7e",
   "metadata": {},
   "outputs": [],
   "source": [
    "# Note how the tuples themselves are heterogeneous, but the list of them is homogeneous\n",
    "cities = [london, new_york]\n",
    "\n",
    "total_pop = 0\n",
    "for city in cities:\n",
    "    total_pop += city[2]"
   ]
  },
  {
   "cell_type": "markdown",
   "id": "463add6d",
   "metadata": {},
   "source": [
    "__Dummy Variables__\n",
    "\n",
    "An underscore, `_`, can be used to indicate a variable is not intended to be used, or that it can be ignored. This is still a valid variable name however, and still holds the value of whatever was assigned to it. It is simply a convention."
   ]
  },
  {
   "cell_type": "code",
   "execution_count": 20,
   "id": "9a6dcd36",
   "metadata": {},
   "outputs": [],
   "source": [
    "city, _, pop = ('Beijing', 'China', 21_000_000)"
   ]
  },
  {
   "cell_type": "code",
   "execution_count": 24,
   "id": "ac76c068",
   "metadata": {},
   "outputs": [],
   "source": [
    "# Dummy variables can be used with extended unpacking as well\n",
    "stock_record = ('DIJA', 2018, 1, 19, 25987.35, 26071.72, 25942.83, 26071.72)\n",
    "\n",
    "symbol, year, month, day, *_, close = stock_record"
   ]
  },
  {
   "cell_type": "markdown",
   "id": "a382cf79",
   "metadata": {},
   "source": [
    "### Named Tuples\n",
    "\n",
    "If we need some sort of simple named structure for a data record, one might think to encapsulate it as a class, such as: "
   ]
  },
  {
   "cell_type": "code",
   "execution_count": 26,
   "id": "c2d42d59",
   "metadata": {},
   "outputs": [],
   "source": [
    "class Point2D:\n",
    "    def __init__(self, x, y):\n",
    "        self.x = x\n",
    "        self.y = y\n",
    "    \n",
    "    def __repr__(self):\n",
    "        return f\"Point2D(x={self.x}, y={self.y})\"\n",
    "    \n",
    "    def __eq__(self, other):\n",
    "        if isinstance(other, Point2D):\n",
    "            return self.x == other.x and self.y == other.y\n",
    "        else:\n",
    "            return False"
   ]
  },
  {
   "cell_type": "markdown",
   "id": "7d9166e9",
   "metadata": {},
   "source": [
    "However, using a class might not be the best approach for simple data structures.\n",
    "\n",
    "For one thing, the Point2D object is mutable which may not be what we want.\n",
    "\n",
    "A perceived downside to using tuples is that we lose the labels associated with class properties.\n",
    "\n",
    "e.g. class: `point.x` vs. a tuple: `point[0]`\n",
    "\n",
    "But by using __named tuples__, we get the benefits of both classes and tuples!\n",
    "\n",
    "Named tuples are a subclass of `tuple`, and add a layer to assign property names to positional elements."
   ]
  },
  {
   "cell_type": "code",
   "execution_count": 27,
   "id": "a61b5db7",
   "metadata": {},
   "outputs": [],
   "source": [
    "from collections import namedtuple"
   ]
  },
  {
   "cell_type": "markdown",
   "id": "389a2cde",
   "metadata": {},
   "source": [
    "`namedtuple` is a function which generates a new class (a class factory), this new class inherits from `tuple` and provides named properties to access elements of the tuple. But an instacne of this class is still a tuple. \n",
    "\n",
    "__Generating Named Tuple Classes__\n",
    "\n",
    "`namedtuple` needs:\n",
    "- the class name you want to use\n",
    "- a sequence of field names to assign, in the order of the elemnts in the tuple\n",
    "    - field names cannot start with an underscore!\n",
    "    \n",
    "The return value of `namedtuple` will be a class, which we will use to construct instances.\n"
   ]
  },
  {
   "cell_type": "code",
   "execution_count": 31,
   "id": "e5506f6c",
   "metadata": {},
   "outputs": [],
   "source": [
    "# The variable name should be (but not required to be) the same as the one specified in the call to namedtuple().\n",
    "# And should be capitalized like a class name would be.\n",
    "Point2D = namedtuple('Point2D', ['x', 'y'])"
   ]
  },
  {
   "cell_type": "code",
   "execution_count": 32,
   "id": "70c4dbab",
   "metadata": {},
   "outputs": [],
   "source": [
    "pt = Point2D(10, 20)"
   ]
  },
  {
   "cell_type": "code",
   "execution_count": 33,
   "id": "f045fde8",
   "metadata": {},
   "outputs": [],
   "source": [
    "# We can pass the sequence of field names to namedtuple in multiple ways:\n",
    "\n",
    "Point2D = namedtuple('Point2D', ['x', 'y']) # by list\n",
    "Point2D = namedtuple('Point2D', ('x', 'y')) # by tuple\n",
    "Point2D = namedtuple('Point2D', 'x, y' ) # by comma separated string\n",
    "Point2D = namedtuple('Point2D', 'x y' ) # by space separated string"
   ]
  },
  {
   "cell_type": "markdown",
   "id": "4c127b47",
   "metadata": {},
   "source": [
    "__Instantiating Named Tuples__"
   ]
  },
  {
   "cell_type": "code",
   "execution_count": 34,
   "id": "646d1739",
   "metadata": {},
   "outputs": [],
   "source": [
    "# Via positional arguments\n",
    "pt = Point2D(10, 20) # x = 10, y = 20\n",
    "\n",
    "# Via keyword arguments\n",
    "pt = Point2D(x=10, y=20)"
   ]
  },
  {
   "cell_type": "markdown",
   "id": "0f90bf40",
   "metadata": {},
   "source": [
    "__Accessing Data in a Named Tuple__\n"
   ]
  },
  {
   "cell_type": "code",
   "execution_count": 35,
   "id": "362cdaa9",
   "metadata": {},
   "outputs": [],
   "source": [
    "x, y = pt"
   ]
  },
  {
   "cell_type": "code",
   "execution_count": 36,
   "id": "a8b8aa0e",
   "metadata": {},
   "outputs": [],
   "source": [
    "x = pt[0]"
   ]
  },
  {
   "cell_type": "code",
   "execution_count": 37,
   "id": "94a27194",
   "metadata": {},
   "outputs": [
    {
     "name": "stdout",
     "output_type": "stream",
     "text": [
      "10\n",
      "20\n"
     ]
    }
   ],
   "source": [
    "for e in pt:\n",
    "    print(e)"
   ]
  },
  {
   "cell_type": "code",
   "execution_count": 38,
   "id": "9ea6d616",
   "metadata": {},
   "outputs": [
    {
     "data": {
      "text/plain": [
       "10"
      ]
     },
     "execution_count": 38,
     "metadata": {},
     "output_type": "execute_result"
    }
   ],
   "source": [
    "pt.x"
   ]
  },
  {
   "cell_type": "code",
   "execution_count": 39,
   "id": "296ef722",
   "metadata": {},
   "outputs": [
    {
     "data": {
      "text/plain": [
       "20"
      ]
     },
     "execution_count": 39,
     "metadata": {},
     "output_type": "execute_result"
    }
   ],
   "source": [
    "pt.y"
   ]
  },
  {
   "cell_type": "code",
   "execution_count": 40,
   "id": "9f5577b4",
   "metadata": {},
   "outputs": [
    {
     "data": {
      "text/plain": [
       "True"
      ]
     },
     "execution_count": 40,
     "metadata": {},
     "output_type": "execute_result"
    }
   ],
   "source": [
    "# Since namedtuple generates classes inheriting from Tuple, the class instances are \n",
    "# immutable just like normal tuples.\n",
    "isinstance(pt, tuple)"
   ]
  },
  {
   "cell_type": "code",
   "execution_count": 41,
   "id": "0cd8b7c3",
   "metadata": {
    "scrolled": true
   },
   "outputs": [
    {
     "ename": "AttributeError",
     "evalue": "can't set attribute",
     "output_type": "error",
     "traceback": [
      "\u001b[0;31m---------------------------------------------------------------------------\u001b[0m",
      "\u001b[0;31mAttributeError\u001b[0m                            Traceback (most recent call last)",
      "\u001b[0;32m/tmp/ipykernel_10780/2960812045.py\u001b[0m in \u001b[0;36m<module>\u001b[0;34m\u001b[0m\n\u001b[0;32m----> 1\u001b[0;31m \u001b[0mpt\u001b[0m\u001b[0;34m.\u001b[0m\u001b[0mx\u001b[0m \u001b[0;34m=\u001b[0m \u001b[0;34m'error'\u001b[0m\u001b[0;34m\u001b[0m\u001b[0;34m\u001b[0m\u001b[0m\n\u001b[0m",
      "\u001b[0;31mAttributeError\u001b[0m: can't set attribute"
     ]
    }
   ],
   "source": [
    "pt.x = 'error'"
   ]
  },
  {
   "cell_type": "code",
   "execution_count": null,
   "id": "aa985e85",
   "metadata": {},
   "outputs": [],
   "source": []
  }
 ],
 "metadata": {
  "kernelspec": {
   "display_name": "Python 3 (ipykernel)",
   "language": "python",
   "name": "python3"
  },
  "language_info": {
   "codemirror_mode": {
    "name": "ipython",
    "version": 3
   },
   "file_extension": ".py",
   "mimetype": "text/x-python",
   "name": "python",
   "nbconvert_exporter": "python",
   "pygments_lexer": "ipython3",
   "version": "3.9.7"
  }
 },
 "nbformat": 4,
 "nbformat_minor": 5
}
