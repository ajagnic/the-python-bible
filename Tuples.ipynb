{
 "cells": [
  {
   "cell_type": "markdown",
   "id": "b070ea97",
   "metadata": {},
   "source": [
    "### Tuples as Data Structures\n",
    "\n",
    "__Tuples vs. Lists vs. Strings__\n",
    "\n",
    "| Tuples              | Lists                 | Strings            |\n",
    "| ------------------- | --------------------- | ------------------ |\n",
    "| container           | container             | container          |\n",
    "| order matters       | order matters         | order matters      |\n",
    "| hetero*/homogeneous | hetero/homogeneous*   | homogeneous        |\n",
    "| indexable           | indexable             | indexable          |\n",
    "| iterable            | iterable              | iterable           |\n",
    "| immutable           | mutable               | immutable          |\n",
    "| fixed length/order  | variable length/order | fixed length/order |\n",
    "\n",
    "The immutability of tuples works well for representing data structures, as we can assign meaning to the position of data.\n",
    "\n",
    "e.g. Circle: (0, 0, 10) or a City ('London', 'UK', 8_780_000)\n",
    "\n",
    "__Tuples as Data Records__\n",
    "\n",
    "Because tuples are immutable, we are guaranteed that the data and the data structure will never change."
   ]
  },
  {
   "cell_type": "code",
   "execution_count": 3,
   "id": "18eda209",
   "metadata": {},
   "outputs": [],
   "source": [
    "london = ('London', 'UK', 8_780_000)\n",
    "new_york = ('New York', 'USA', 8_500_000)"
   ]
  },
  {
   "cell_type": "markdown",
   "id": "ad372226",
   "metadata": {},
   "source": [
    "__Extracting Data from Tuples__"
   ]
  },
  {
   "cell_type": "code",
   "execution_count": 4,
   "id": "c3f989d3",
   "metadata": {},
   "outputs": [],
   "source": [
    "city, country, pop = london"
   ]
  },
  {
   "cell_type": "code",
   "execution_count": 5,
   "id": "ac80db7e",
   "metadata": {},
   "outputs": [],
   "source": [
    "# Note how the tuples themselves are heterogeneous, but the list of them is homogeneous\n",
    "cities = [london, new_york]\n",
    "\n",
    "total_pop = 0\n",
    "for city in cities:\n",
    "    total_pop += city[2]"
   ]
  },
  {
   "cell_type": "markdown",
   "id": "463add6d",
   "metadata": {},
   "source": [
    "__Dummy Variables__\n",
    "\n",
    "An underscore, `_`, can be used to indicate a variable is not intended to be used, or that it can be ignored. This is still a valid variable name however, and still holds the value of whatever was assigned to it. It is simply a convention."
   ]
  },
  {
   "cell_type": "code",
   "execution_count": 6,
   "id": "9a6dcd36",
   "metadata": {},
   "outputs": [],
   "source": [
    "city, _, pop = ('Beijing', 'China', 21_000_000)"
   ]
  },
  {
   "cell_type": "code",
   "execution_count": 7,
   "id": "ac76c068",
   "metadata": {},
   "outputs": [],
   "source": [
    "# Dummy variables can be used with extended unpacking as well\n",
    "stock_record = ('DIJA', 2018, 1, 19, 25987.35, 26071.72, 25942.83, 26071.72)\n",
    "\n",
    "symbol, year, month, day, *_, close = stock_record"
   ]
  },
  {
   "cell_type": "markdown",
   "id": "a382cf79",
   "metadata": {},
   "source": [
    "### Named Tuples\n",
    "\n",
    "If we need some sort of simple named structure for a data record, one might think to encapsulate it as a class, such as: "
   ]
  },
  {
   "cell_type": "code",
   "execution_count": 8,
   "id": "c2d42d59",
   "metadata": {},
   "outputs": [],
   "source": [
    "class Point2D:\n",
    "    def __init__(self, x, y):\n",
    "        self.x = x\n",
    "        self.y = y\n",
    "    \n",
    "    def __repr__(self):\n",
    "        return f\"Point2D(x={self.x}, y={self.y})\"\n",
    "    \n",
    "    def __eq__(self, other):\n",
    "        if isinstance(other, Point2D):\n",
    "            return self.x == other.x and self.y == other.y\n",
    "        else:\n",
    "            return False"
   ]
  },
  {
   "cell_type": "markdown",
   "id": "7d9166e9",
   "metadata": {},
   "source": [
    "However, using a class might not be the best approach for simple data structures.\n",
    "\n",
    "For one thing, the Point2D object is mutable which may not be what we want.\n",
    "\n",
    "A perceived downside to using tuples is that we lose the labels associated with class properties.\n",
    "\n",
    "e.g. class: `point.x` vs. a tuple: `point[0]`\n",
    "\n",
    "But by using __named tuples__, we get the benefits of both classes and tuples!\n",
    "\n",
    "Named tuples are a subclass of `tuple`, and add a layer to assign property names to positional elements."
   ]
  },
  {
   "cell_type": "code",
   "execution_count": 9,
   "id": "a61b5db7",
   "metadata": {},
   "outputs": [],
   "source": [
    "from collections import namedtuple"
   ]
  },
  {
   "cell_type": "markdown",
   "id": "389a2cde",
   "metadata": {},
   "source": [
    "`namedtuple` is a function which generates a new class (a class factory), this new class inherits from `tuple` and provides named properties to access elements of the tuple. But an instacne of this class is still a tuple. \n",
    "\n",
    "__Generating Named Tuple Classes__\n",
    "\n",
    "`namedtuple` needs:\n",
    "- the class name you want to use\n",
    "- a sequence of field names to assign, in the order of the elemnts in the tuple\n",
    "    - field names cannot start with an underscore!\n",
    "    \n",
    "The return value of `namedtuple` will be a class, which we will use to construct instances.\n"
   ]
  },
  {
   "cell_type": "code",
   "execution_count": 10,
   "id": "e5506f6c",
   "metadata": {},
   "outputs": [],
   "source": [
    "# The variable name should be (but not required to be) the same as the one specified in the call to namedtuple().\n",
    "# And should be capitalized like a class name would be.\n",
    "Point2D = namedtuple('Point2D', ['x', 'y'])"
   ]
  },
  {
   "cell_type": "code",
   "execution_count": 11,
   "id": "70c4dbab",
   "metadata": {},
   "outputs": [],
   "source": [
    "pt = Point2D(10, 20)"
   ]
  },
  {
   "cell_type": "code",
   "execution_count": 12,
   "id": "f045fde8",
   "metadata": {},
   "outputs": [],
   "source": [
    "# We can pass the sequence of field names to namedtuple in multiple ways:\n",
    "\n",
    "Point2D = namedtuple('Point2D', ['x', 'y']) # by list\n",
    "Point2D = namedtuple('Point2D', ('x', 'y')) # by tuple\n",
    "Point2D = namedtuple('Point2D', 'x, y' ) # by comma separated string\n",
    "Point2D = namedtuple('Point2D', 'x y' ) # by space separated string"
   ]
  },
  {
   "cell_type": "markdown",
   "id": "4c127b47",
   "metadata": {},
   "source": [
    "__Instantiating Named Tuples__"
   ]
  },
  {
   "cell_type": "code",
   "execution_count": 13,
   "id": "646d1739",
   "metadata": {},
   "outputs": [],
   "source": [
    "# Via positional arguments\n",
    "pt = Point2D(10, 20) # x = 10, y = 20\n",
    "\n",
    "# Via keyword arguments\n",
    "pt = Point2D(x=10, y=20)"
   ]
  },
  {
   "cell_type": "markdown",
   "id": "0f90bf40",
   "metadata": {},
   "source": [
    "__Accessing Data in a Named Tuple__\n"
   ]
  },
  {
   "cell_type": "code",
   "execution_count": 14,
   "id": "362cdaa9",
   "metadata": {},
   "outputs": [],
   "source": [
    "x, y = pt"
   ]
  },
  {
   "cell_type": "code",
   "execution_count": 15,
   "id": "a8b8aa0e",
   "metadata": {},
   "outputs": [],
   "source": [
    "x = pt[0]"
   ]
  },
  {
   "cell_type": "code",
   "execution_count": 16,
   "id": "94a27194",
   "metadata": {},
   "outputs": [
    {
     "name": "stdout",
     "output_type": "stream",
     "text": [
      "10\n",
      "20\n"
     ]
    }
   ],
   "source": [
    "for e in pt:\n",
    "    print(e)"
   ]
  },
  {
   "cell_type": "code",
   "execution_count": 17,
   "id": "9ea6d616",
   "metadata": {},
   "outputs": [
    {
     "data": {
      "text/plain": [
       "10"
      ]
     },
     "execution_count": 17,
     "metadata": {},
     "output_type": "execute_result"
    }
   ],
   "source": [
    "pt.x"
   ]
  },
  {
   "cell_type": "code",
   "execution_count": 18,
   "id": "296ef722",
   "metadata": {},
   "outputs": [
    {
     "data": {
      "text/plain": [
       "20"
      ]
     },
     "execution_count": 18,
     "metadata": {},
     "output_type": "execute_result"
    }
   ],
   "source": [
    "pt.y"
   ]
  },
  {
   "cell_type": "code",
   "execution_count": 19,
   "id": "9f5577b4",
   "metadata": {},
   "outputs": [
    {
     "data": {
      "text/plain": [
       "True"
      ]
     },
     "execution_count": 19,
     "metadata": {},
     "output_type": "execute_result"
    }
   ],
   "source": [
    "# Since namedtuple generates classes inheriting from Tuple, the class instances are \n",
    "# immutable just like normal tuples.\n",
    "isinstance(pt, tuple)"
   ]
  },
  {
   "cell_type": "code",
   "execution_count": 20,
   "id": "0cd8b7c3",
   "metadata": {
    "scrolled": true
   },
   "outputs": [
    {
     "ename": "AttributeError",
     "evalue": "can't set attribute",
     "output_type": "error",
     "traceback": [
      "\u001b[0;31m---------------------------------------------------------------------------\u001b[0m",
      "\u001b[0;31mAttributeError\u001b[0m                            Traceback (most recent call last)",
      "\u001b[0;32m/tmp/ipykernel_28700/2960812045.py\u001b[0m in \u001b[0;36m<module>\u001b[0;34m\u001b[0m\n\u001b[0;32m----> 1\u001b[0;31m \u001b[0mpt\u001b[0m\u001b[0;34m.\u001b[0m\u001b[0mx\u001b[0m \u001b[0;34m=\u001b[0m \u001b[0;34m'error'\u001b[0m\u001b[0;34m\u001b[0m\u001b[0;34m\u001b[0m\u001b[0m\n\u001b[0m",
      "\u001b[0;31mAttributeError\u001b[0m: can't set attribute"
     ]
    }
   ],
   "source": [
    "pt.x = 'error'"
   ]
  },
  {
   "cell_type": "markdown",
   "id": "afe349dc",
   "metadata": {},
   "source": [
    "__Introspection__"
   ]
  },
  {
   "cell_type": "code",
   "execution_count": 25,
   "id": "bcd1c8e1",
   "metadata": {},
   "outputs": [
    {
     "data": {
      "text/plain": [
       "('name', 'age', '_2')"
      ]
     },
     "execution_count": 25,
     "metadata": {},
     "output_type": "execute_result"
    }
   ],
   "source": [
    "# You can find the field names for a named tuple\n",
    "Person = namedtuple('Person', 'name age _ssn', rename=True)\n",
    "\n",
    "Person._fields"
   ]
  },
  {
   "cell_type": "markdown",
   "id": "4794f7f7",
   "metadata": {},
   "source": [
    "__Extracting Named Tuple Values to a Dictionary__"
   ]
  },
  {
   "cell_type": "code",
   "execution_count": 28,
   "id": "17f153a1",
   "metadata": {},
   "outputs": [
    {
     "data": {
      "text/plain": [
       "{'x': 10, 'y': 20}"
      ]
     },
     "execution_count": 28,
     "metadata": {},
     "output_type": "execute_result"
    }
   ],
   "source": [
    "Point2D = namedtuple('Point2D', 'x y')\n",
    "\n",
    "pt = Point2D(10, 20)\n",
    "\n",
    "pt._asdict()"
   ]
  },
  {
   "cell_type": "markdown",
   "id": "3f8f82fc",
   "metadata": {},
   "source": [
    "__Modifying a Named Tuple__"
   ]
  },
  {
   "cell_type": "code",
   "execution_count": 50,
   "id": "9de5adff",
   "metadata": {},
   "outputs": [],
   "source": [
    "# Since tuples are immutable, we must create a new object to modify values.\n",
    "pt = Point2D(10, 20)\n",
    "\n",
    "# This, however, is not the cleanest approach if we have a tuple with lots of fields\n",
    "pt = Point2D(pt.x, 100)"
   ]
  },
  {
   "cell_type": "code",
   "execution_count": 51,
   "id": "9f169cff",
   "metadata": {},
   "outputs": [],
   "source": [
    "Stock = namedtuple('Stock', 'ticker year month day current high low close')\n",
    "djia = Stock('DJIA', 2021, 1, 1, 26, 28, 24, 25)\n",
    "\n",
    "# We can grab only the fields we want to keep by slicing\n",
    "current = djia[:7] # Returns a tuple"
   ]
  },
  {
   "cell_type": "code",
   "execution_count": 52,
   "id": "4a5142bd",
   "metadata": {},
   "outputs": [],
   "source": [
    "# Or by unpacking\n",
    "*current, _ = djia # Returns a list"
   ]
  },
  {
   "cell_type": "code",
   "execution_count": 53,
   "id": "c346c9de",
   "metadata": {},
   "outputs": [],
   "source": [
    "djia = Stock(*current, 25.5)"
   ]
  },
  {
   "cell_type": "code",
   "execution_count": 61,
   "id": "fbde65c1",
   "metadata": {},
   "outputs": [
    {
     "data": {
      "text/plain": [
       "Stock(ticker='DJIA', year=2021, month=1, day=1, current=26, high=28, low=24, close=25.5)"
      ]
     },
     "execution_count": 61,
     "metadata": {},
     "output_type": "execute_result"
    }
   ],
   "source": [
    "# We can also use the _make class method, but we need to construct the new values first\n",
    "*current, _ = djia\n",
    "\n",
    "current.append(25.5)\n",
    "\n",
    "djia = Stock._make(current)\n",
    "djia"
   ]
  },
  {
   "cell_type": "markdown",
   "id": "db8b03df",
   "metadata": {},
   "source": [
    "__The Best Way: `_replace`__"
   ]
  },
  {
   "cell_type": "code",
   "execution_count": 62,
   "id": "0eb8f825",
   "metadata": {},
   "outputs": [
    {
     "data": {
      "text/plain": [
       "Stock(ticker='DJIA', year=2021, month=1, day=26, current=26, high=29, low=24, close=25.5)"
      ]
     },
     "execution_count": 62,
     "metadata": {},
     "output_type": "execute_result"
    }
   ],
   "source": [
    "Stock = namedtuple('Stock', 'ticker year month day current high low close')\n",
    "djia = Stock('DJIA', 2021, 1, 1, 26, 28, 24, 25)\n",
    "\n",
    "djia = djia._replace(day=26, high=29, close=25.5)\n",
    "djia"
   ]
  },
  {
   "cell_type": "markdown",
   "id": "467c9bf4",
   "metadata": {},
   "source": [
    "__Extending a Named Tuple__"
   ]
  },
  {
   "cell_type": "code",
   "execution_count": 64,
   "id": "b383bac3",
   "metadata": {},
   "outputs": [],
   "source": [
    "Stock = namedtuple('Stock', 'ticker year month day current high low close')\n",
    "djia = Stock('DJIA', 2021, 1, 1, 26, 28, 24, 25)\n",
    "\n",
    "new_fields = Stock._fields + ('prev_close', )\n",
    "\n",
    "StockExt = namedtuple('StockExt', new_fields)\n",
    "djia_ext = StockExt(*djia, 26)"
   ]
  },
  {
   "cell_type": "markdown",
   "id": "d1bfe423",
   "metadata": {},
   "source": [
    "__Named Tuple Docstrings__"
   ]
  },
  {
   "cell_type": "code",
   "execution_count": 65,
   "id": "e240d521",
   "metadata": {},
   "outputs": [
    {
     "name": "stdout",
     "output_type": "stream",
     "text": [
      "Help on class Point2D in module __main__:\n",
      "\n",
      "class Point2D(builtins.tuple)\n",
      " |  Point2D(x, y)\n",
      " |  \n",
      " |  Point2D(x, y)\n",
      " |  \n",
      " |  Method resolution order:\n",
      " |      Point2D\n",
      " |      builtins.tuple\n",
      " |      builtins.object\n",
      " |  \n",
      " |  Methods defined here:\n",
      " |  \n",
      " |  __getnewargs__(self)\n",
      " |      Return self as a plain tuple.  Used by copy and pickle.\n",
      " |  \n",
      " |  __repr__(self)\n",
      " |      Return a nicely formatted representation string\n",
      " |  \n",
      " |  _asdict(self)\n",
      " |      Return a new dict which maps field names to their values.\n",
      " |  \n",
      " |  _replace(self, /, **kwds)\n",
      " |      Return a new Point2D object replacing specified fields with new values\n",
      " |  \n",
      " |  ----------------------------------------------------------------------\n",
      " |  Class methods defined here:\n",
      " |  \n",
      " |  _make(iterable) from builtins.type\n",
      " |      Make a new Point2D object from a sequence or iterable\n",
      " |  \n",
      " |  ----------------------------------------------------------------------\n",
      " |  Static methods defined here:\n",
      " |  \n",
      " |  __new__(_cls, x, y)\n",
      " |      Create new instance of Point2D(x, y)\n",
      " |  \n",
      " |  ----------------------------------------------------------------------\n",
      " |  Data descriptors defined here:\n",
      " |  \n",
      " |  x\n",
      " |      Alias for field number 0\n",
      " |  \n",
      " |  y\n",
      " |      Alias for field number 1\n",
      " |  \n",
      " |  ----------------------------------------------------------------------\n",
      " |  Data and other attributes defined here:\n",
      " |  \n",
      " |  _field_defaults = {}\n",
      " |  \n",
      " |  _fields = ('x', 'y')\n",
      " |  \n",
      " |  ----------------------------------------------------------------------\n",
      " |  Methods inherited from builtins.tuple:\n",
      " |  \n",
      " |  __add__(self, value, /)\n",
      " |      Return self+value.\n",
      " |  \n",
      " |  __contains__(self, key, /)\n",
      " |      Return key in self.\n",
      " |  \n",
      " |  __eq__(self, value, /)\n",
      " |      Return self==value.\n",
      " |  \n",
      " |  __ge__(self, value, /)\n",
      " |      Return self>=value.\n",
      " |  \n",
      " |  __getattribute__(self, name, /)\n",
      " |      Return getattr(self, name).\n",
      " |  \n",
      " |  __getitem__(self, key, /)\n",
      " |      Return self[key].\n",
      " |  \n",
      " |  __gt__(self, value, /)\n",
      " |      Return self>value.\n",
      " |  \n",
      " |  __hash__(self, /)\n",
      " |      Return hash(self).\n",
      " |  \n",
      " |  __iter__(self, /)\n",
      " |      Implement iter(self).\n",
      " |  \n",
      " |  __le__(self, value, /)\n",
      " |      Return self<=value.\n",
      " |  \n",
      " |  __len__(self, /)\n",
      " |      Return len(self).\n",
      " |  \n",
      " |  __lt__(self, value, /)\n",
      " |      Return self<value.\n",
      " |  \n",
      " |  __mul__(self, value, /)\n",
      " |      Return self*value.\n",
      " |  \n",
      " |  __ne__(self, value, /)\n",
      " |      Return self!=value.\n",
      " |  \n",
      " |  __rmul__(self, value, /)\n",
      " |      Return value*self.\n",
      " |  \n",
      " |  count(self, value, /)\n",
      " |      Return number of occurrences of value.\n",
      " |  \n",
      " |  index(self, value, start=0, stop=9223372036854775807, /)\n",
      " |      Return first index of value.\n",
      " |      \n",
      " |      Raises ValueError if the value is not present.\n",
      " |  \n",
      " |  ----------------------------------------------------------------------\n",
      " |  Class methods inherited from builtins.tuple:\n",
      " |  \n",
      " |  __class_getitem__(...) from builtins.type\n",
      " |      See PEP 585\n",
      "\n"
     ]
    }
   ],
   "source": [
    "Point2D = namedtuple('Point2D', 'x y')\n",
    "\n",
    "help(Point2D)"
   ]
  },
  {
   "cell_type": "code",
   "execution_count": 67,
   "id": "03c59771",
   "metadata": {},
   "outputs": [],
   "source": [
    "# You can also override the docstring values for the object and its attributes\n",
    "Point2D.__doc__ = 'Represents a 2D Cartesian coordinate.'\n",
    "Point2D.x.__doc__ = 'x coordinate'"
   ]
  },
  {
   "cell_type": "markdown",
   "id": "a8a3fb1b",
   "metadata": {},
   "source": [
    "__Default Values for a Named Tuple__"
   ]
  },
  {
   "cell_type": "code",
   "execution_count": 69,
   "id": "2d18bdfc",
   "metadata": {},
   "outputs": [],
   "source": [
    "# Using a prototype\n",
    "Vector2D = namedtuple('Vector2D', 'x1 y1 x2 y2 origin_x origin_y')\n",
    "\n",
    "vector_zero = Vector2D(0, 0, 0, 0, 0, 0)\n",
    "\n",
    "v1 = vector_zero._replace(x1=10, y1=10, x2=20, y2=20)"
   ]
  },
  {
   "cell_type": "code",
   "execution_count": 70,
   "id": "1c94fca6",
   "metadata": {},
   "outputs": [
    {
     "data": {
      "text/plain": [
       "Vector2D(x1=10, y1=10, x2=20, y2=20, origin_x=0, origin_y=0)"
      ]
     },
     "execution_count": 70,
     "metadata": {},
     "output_type": "execute_result"
    }
   ],
   "source": [
    "# Using the __defaults__ property (better)\n",
    "Vector2D = namedtuple('Vector2D', 'x1 y1 x2 y2 origin_x origin_y')\n",
    "\n",
    "# This will set the default value of origin_x and origin_y to 0\n",
    "Vector2D.__new__.__defaults__ = (0, 0)\n",
    "\n",
    "v1 = Vector2D(10, 10, 20, 20)\n",
    "v1"
   ]
  },
  {
   "cell_type": "markdown",
   "id": "69315c64",
   "metadata": {},
   "source": [
    "__Alternative to Dictionaries__"
   ]
  },
  {
   "cell_type": "code",
   "execution_count": 72,
   "id": "5f20ca13",
   "metadata": {},
   "outputs": [],
   "source": [
    "data_dict = {\n",
    "    'key1': 100, 'key2': 200, 'key3': 300\n",
    "}"
   ]
  },
  {
   "cell_type": "code",
   "execution_count": 73,
   "id": "d48262ce",
   "metadata": {},
   "outputs": [],
   "source": [
    "Data = namedtuple('Data', data_dict.keys())"
   ]
  },
  {
   "cell_type": "code",
   "execution_count": 76,
   "id": "8dea414a",
   "metadata": {},
   "outputs": [
    {
     "data": {
      "text/plain": [
       "Data(key1=100, key2=200, key3=300)"
      ]
     },
     "execution_count": 76,
     "metadata": {},
     "output_type": "execute_result"
    }
   ],
   "source": [
    "d1 = Data(**data_dict)\n",
    "d1"
   ]
  },
  {
   "cell_type": "code",
   "execution_count": 78,
   "id": "15e340cf",
   "metadata": {},
   "outputs": [
    {
     "data": {
      "text/plain": [
       "200"
      ]
     },
     "execution_count": 78,
     "metadata": {},
     "output_type": "execute_result"
    }
   ],
   "source": [
    "# If storing a key name as a variable\n",
    "key_name = 'key2'\n",
    "\n",
    "#We cant use this variable as an attribute obviously\n",
    "# d2.key_name\n",
    "\n",
    "getattr(d1, key_name)"
   ]
  },
  {
   "cell_type": "code",
   "execution_count": 79,
   "id": "4b9e74ec",
   "metadata": {},
   "outputs": [
    {
     "data": {
      "text/plain": [
       "10000"
      ]
     },
     "execution_count": 79,
     "metadata": {},
     "output_type": "execute_result"
    }
   ],
   "source": [
    "# Returning default value is key doesnt exist\n",
    "data_dict.get('key10', None)\n",
    "\n",
    "getattr(d1, 'key10', 10_000)"
   ]
  },
  {
   "cell_type": "code",
   "execution_count": null,
   "id": "333f9bdc",
   "metadata": {},
   "outputs": [],
   "source": []
  }
 ],
 "metadata": {
  "kernelspec": {
   "display_name": "Python 3 (ipykernel)",
   "language": "python",
   "name": "python3"
  },
  "language_info": {
   "codemirror_mode": {
    "name": "ipython",
    "version": 3
   },
   "file_extension": ".py",
   "mimetype": "text/x-python",
   "name": "python",
   "nbconvert_exporter": "python",
   "pygments_lexer": "ipython3",
   "version": "3.9.7"
  }
 },
 "nbformat": 4,
 "nbformat_minor": 5
}
