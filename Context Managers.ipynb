{
 "cells": [
  {
   "cell_type": "markdown",
   "id": "970b0bb6",
   "metadata": {},
   "source": [
    "What is a context?\n",
    "\n",
    "In Python: the state surrounding a section of code\n",
    "\n",
    "Context Managers need to:\n",
    "- create a context (the minimal amount of state needed for a block of code)\n",
    "- execute some code that uses variables from the context\n",
    "- automatically clean up the context when we are done with it\n",
    "\n",
    "Context managers manage the data in our scope, on entry and on exit.\n",
    "\n",
    "__`try...finally`__\n",
    "\n",
    "The `finally` section of a try-catch *always* executes. Even if there is an exception or a return statement in the try block. But writing try-except-finally blocks can be cumbersome and visually clutter your code.\n",
    "\n",
    "__Context Managers__\n",
    "\n",
    "Described in PEP343. The pattern of context managers is as follows:\n",
    "\n",
    "```\n",
    "with context as obj_name:\n",
    "    # do something with obj_name\n",
    "    \n",
    "# after the with block, context is cleaned up automatically\n",
    "```\n",
    "\n",
    "### The Context Management Protocol\n",
    "\n",
    "Classes implement the context management protocol by implementing two methods:\n",
    "- `__enter__`: setup, and optionally return some object\n",
    "- `__exit__`: tear down/ cleanup"
   ]
  },
  {
   "cell_type": "code",
   "execution_count": 5,
   "id": "2a9bf0ca",
   "metadata": {},
   "outputs": [],
   "source": [
    "class CtxManager:\n",
    "    def __enter__(self):\n",
    "        return self\n",
    "    \n",
    "    def __exit__(self): ..."
   ]
  },
  {
   "cell_type": "code",
   "execution_count": 9,
   "id": "a46b73f1",
   "metadata": {},
   "outputs": [],
   "source": [
    "# we can deconstruct what happens with a context manager here. This is oversimplified.\n",
    "mgr = CtxManager()\n",
    "obj = mgr.__enter__()\n",
    "try:\n",
    "    #do something with obj\n",
    "    ...\n",
    "finally:\n",
    "    #done w/ context\n",
    "    mgr.__exit__()"
   ]
  },
  {
   "cell_type": "markdown",
   "id": "d873d971",
   "metadata": {},
   "source": [
    "__Use Cases__\n",
    "\n",
    "Very common usage is for opening/closing a file, but context managers can be used for much more than creating and releasing resources.\n",
    "\n",
    "Common Patterns:\n",
    "- Open/Close\n",
    "- Lock/Release\n",
    "- Change/Reset\n",
    "- Start/Stop\n",
    "- Enter/Exit\n",
    "\n",
    "__How the Context Protocol Works__\n",
    "\n",
    "Works in conjunction with the `with` keyword.\n",
    "\n",
    "`with MyCtxMngr as obj:`\n",
    "- creates an instance of `MyCtxMngr`, but there is no handle or symbol to this instance.\n",
    "- calls `ctxmngr_instance.__enter__()`\n",
    "- return value of `__enter__` is assigned to `obj`, __not__ the instance of `MyctxMngr`\n",
    "- after the with block, or if an exception occurs within it, `ctxmngr_instance.__exit__()` is called\n",
    "\n",
    "__Scope of `with` Block__\n",
    "\n",
    "The `with` block is not like a function or comprehension. The scope of anything in the `with` block, including the object returned from `__enter__` is in the same scope as the `with` statement itself.\n"
   ]
  },
  {
   "cell_type": "code",
   "execution_count": 12,
   "id": "763aa491",
   "metadata": {},
   "outputs": [],
   "source": [
    "class FakeFile:\n",
    "    def __enter__(self):\n",
    "        return iter([1, 2, 3, 4])\n",
    "    \n",
    "    def __exit__(self, *args):\n",
    "        return\n",
    "    \n",
    "def open(filename: str) -> obj:\n",
    "    return FakeFile()"
   ]
  },
  {
   "cell_type": "code",
   "execution_count": 13,
   "id": "c52dcdb0",
   "metadata": {},
   "outputs": [],
   "source": [
    "with open(\"fake_file\") as f: # f will be stored in the global scope\n",
    "    row = next(f)  # row will also be in the global scope"
   ]
  },
  {
   "cell_type": "code",
   "execution_count": 15,
   "id": "98d0e0fe",
   "metadata": {},
   "outputs": [
    {
     "name": "stdout",
     "output_type": "stream",
     "text": [
      "<list_iterator object at 0x7fa0411a0f70>\n",
      "1\n"
     ]
    }
   ],
   "source": [
    "# f and row still exist after the with block\n",
    "print(f)\n",
    "print(row)"
   ]
  },
  {
   "cell_type": "markdown",
   "id": "d941095b",
   "metadata": {},
   "source": [
    "**`__enter__`**\n",
    "\n",
    "Should just perform whatever setup is necessary, it can optionally return an object.\n",
    "\n",
    "**`__exit__`**\n",
    "\n",
    "`exit` will always execute, even if an exception occurs (similar to the finally clause of a try-catch). `exit` needs to know about any exceptions that occurred, so it can tell Python to silence the exception or let it propagate.\n",
    "\n",
    "The `exit` method accepts three arguments:\n",
    "- the exception type that occurred (None if otherwise)\n",
    "- the exeception value that occurred (None if otherwise)\n",
    "- the traceback object if an exception occurred (None if otherwise)\n",
    "\n",
    "The `exit` method must return a boolean value:\n",
    "- `True` will silence any raised exception\n",
    "- `False` will not silence the raised exception\n"
   ]
  },
  {
   "cell_type": "code",
   "execution_count": 16,
   "id": "8c0aad9f",
   "metadata": {},
   "outputs": [],
   "source": [
    "def __exit__(self, exc_type, exc_value, exc_trace):\n",
    "    return True #or Falseexit"
   ]
  },
  {
   "cell_type": "markdown",
   "id": "1337f898",
   "metadata": {},
   "source": [
    "__Caveat with Lazy Iterators__\n",
    "\n",
    "This will result in an error, since when we try to use the iterator returned by this function, the file object will already be closed by the context manager.\n",
    "```\n",
    "def read_data():\n",
    "    with open('example_csv') as f:\n",
    "        return csv.reader(f)\n",
    "```\n",
    "\n",
    "So we can turn this function into a generator to avoid this bug.\n",
    "```\n",
    "def read_data():\n",
    "    with open('example.csv') as f:\n",
    "        yield from csv.reader(f)\n",
    "```"
   ]
  },
  {
   "cell_type": "markdown",
   "id": "58f2c1e2",
   "metadata": {},
   "source": [
    "### Generators as Context Managers\n",
    "\n",
    "__Mimic the Context Manager Pattern using a Generator__"
   ]
  },
  {
   "cell_type": "code",
   "execution_count": 15,
   "id": "3bd12b83",
   "metadata": {},
   "outputs": [],
   "source": [
    "# mask of open for example purposes\n",
    "def open_(filename):\n",
    "    class file_obj:\n",
    "        def close(self): ...\n",
    "    \n",
    "    return file_obj()"
   ]
  },
  {
   "cell_type": "code",
   "execution_count": 16,
   "id": "b71df6c2",
   "metadata": {},
   "outputs": [],
   "source": [
    "def open_file(fname):\n",
    "    f = open_(fname)\n",
    "    try:\n",
    "        yield f\n",
    "    finally:\n",
    "        f.close()"
   ]
  },
  {
   "cell_type": "code",
   "execution_count": 17,
   "id": "f3cee33e",
   "metadata": {},
   "outputs": [],
   "source": [
    "ctx = open_file('example.csv')\n",
    "\n",
    "f = next(ctx) #opens the file and yields it\n",
    "\n",
    "try:\n",
    "    #do work with file\n",
    "    pass\n",
    "finally:\n",
    "    try:\n",
    "        next(ctx) #closes the file\n",
    "    except StopIteration:\n",
    "        pass\n"
   ]
  },
  {
   "cell_type": "markdown",
   "id": "55f007da",
   "metadata": {},
   "source": [
    "The above is still quite clunky and requires alot of code. We can write a class to implement a better approach."
   ]
  },
  {
   "cell_type": "code",
   "execution_count": 18,
   "id": "36698f9d",
   "metadata": {},
   "outputs": [],
   "source": [
    "class GenContext:\n",
    "    def __init__(self, gen):\n",
    "        self.gen = gen\n",
    "        \n",
    "    def __enter__(self):\n",
    "        obj = next(self.gen) # opens the file\n",
    "        return obj\n",
    "    \n",
    "    def __exit__(self, exc_type, exc_value, exc_tb):\n",
    "        try:\n",
    "            next(self.gen) #closes the file\n",
    "        except StopIteration:\n",
    "            pass\n",
    "        return False"
   ]
  },
  {
   "cell_type": "code",
   "execution_count": 19,
   "id": "6b5c58fe",
   "metadata": {},
   "outputs": [],
   "source": [
    "gen = open_file('example.csv')\n",
    "\n",
    "with GenContext(gen) as f:\n",
    "    pass"
   ]
  },
  {
   "cell_type": "markdown",
   "id": "00e0d351",
   "metadata": {},
   "source": [
    "### Decorators as Context Managers\n",
    "\n",
    "In the above example for using generator functions with context managers, there are a 2 downsides. One, we must call the generator function first (if it has arguments) and then pass it to the context manager class. Second, we lose understanding of what the context manager is and exactly what generator is it working with. \n",
    "\n",
    "__Using a Decorator__"
   ]
  },
  {
   "cell_type": "code",
   "execution_count": 20,
   "id": "e856d7e3",
   "metadata": {},
   "outputs": [],
   "source": [
    "class GenContextManager:\n",
    "    def __init__(self, gen_obj):\n",
    "        self.gen = gen_obj\n",
    "        \n",
    "    def __enter__(self):\n",
    "        return next(self.gen)\n",
    "    \n",
    "    def __exit__(self, exc_type, exc_value, exc_tb):\n",
    "        try:\n",
    "            next(self.gen)\n",
    "        except StopIteration: ...\n",
    "        return False"
   ]
  },
  {
   "cell_type": "code",
   "execution_count": 26,
   "id": "288fa052",
   "metadata": {},
   "outputs": [],
   "source": [
    "def contextmanager(gen_fn):\n",
    "    def handler(*args, **kwargs):\n",
    "        gen = gen_fn(*args, **kwargs)\n",
    "        return GenContextManager(gen)\n",
    "    \n",
    "    return handler"
   ]
  },
  {
   "cell_type": "code",
   "execution_count": 27,
   "id": "0e756be9",
   "metadata": {},
   "outputs": [],
   "source": [
    "@contextmanager\n",
    "def open_file_gen(filename):\n",
    "    f = open_(filename)\n",
    "    try:\n",
    "        yield f\n",
    "    finally:\n",
    "        f.close()"
   ]
  },
  {
   "cell_type": "code",
   "execution_count": 28,
   "id": "1f8a66fd",
   "metadata": {},
   "outputs": [],
   "source": [
    "with open_file_gen('example.csv') as f:\n",
    "    # do something with f\n",
    "    ..."
   ]
  },
  {
   "cell_type": "markdown",
   "id": "685c0e62",
   "metadata": {},
   "source": [
    "__The `contextlib` Module__\n",
    "\n",
    "One of the goals when context managers were introduced to Python was to ensure generator functions could be used to easily create them (PEP343).\n",
    "\n",
    "The `contextlib` module provides for us a context manager decorator that replicates what we did manually above, but it it a bit more complex and has better exception handling."
   ]
  },
  {
   "cell_type": "code",
   "execution_count": 29,
   "id": "4d40e4d0",
   "metadata": {},
   "outputs": [],
   "source": [
    "from contextlib import contextmanager"
   ]
  },
  {
   "cell_type": "code",
   "execution_count": null,
   "id": "2371eaa0",
   "metadata": {},
   "outputs": [],
   "source": []
  }
 ],
 "metadata": {
  "kernelspec": {
   "display_name": "Python 3 (ipykernel)",
   "language": "python",
   "name": "python3"
  },
  "language_info": {
   "codemirror_mode": {
    "name": "ipython",
    "version": 3
   },
   "file_extension": ".py",
   "mimetype": "text/x-python",
   "name": "python",
   "nbconvert_exporter": "python",
   "pygments_lexer": "ipython3",
   "version": "3.9.7"
  }
 },
 "nbformat": 4,
 "nbformat_minor": 5
}
