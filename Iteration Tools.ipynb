{
 "cells": [
  {
   "cell_type": "markdown",
   "id": "9c639a3a",
   "metadata": {},
   "source": [
    "### Iteration Tools\n",
    "\n",
    "__Built-In__\n",
    "- `iter, reversed, next, len, slicing, zip, filter, sorted, enumerate, min, max, sum, all, any, map`\n",
    "\n",
    "__`functools`__\n",
    "- `reduce`\n",
    "\n",
    "__`itertools`__\n",
    "- Slicing:\n",
    "    - `islice`\n",
    "- Selecting/Filtering:\n",
    "    - `dropwhile, takewhile, compress, filterfalse`\n",
    "- Chaining/Teeing\n",
    "    - `chain, tee`\n",
    "- Map/Reduce\n",
    "    - `starmap, accumulate`\n",
    "- Infinite Iterators\n",
    "    - `count, cycle, repeat`\n",
    "- Zipping\n",
    "    - `zip_longest`\n",
    "- Combinatorics\n",
    "    - `product, permutations, combinations, combinations_with_replacement`\n",
    "    \n",
    "### Aggregators\n",
    "\n",
    "Functions that iterate through an iterable and return a single value that usually takes into account every element of the iterable.\n",
    "\n",
    "Examples of aggregators are `min()`, `max()`, and `sum()`\n",
    "\n",
    "__Associated Truth Values__\n",
    "\n",
    "Every object in Python has an associated truth value of `True`, __except:__\n",
    "- `None`\n",
    "- `False`\n",
    "- 0 in any numeric type\n",
    "- empty sequences\n",
    "- empty mapping types\n",
    "- custom classes that implement a `__bool__` or `__len__` method that returns `False` or 0\n",
    "\n",
    "__`any` and `all`__\n",
    "\n",
    "`any`: returns true if any element in iterable is truthy\n",
    "\n",
    "`all`: returns true if all elements in iterable are truthy\n",
    "\n",
    "Often, we are not interested in the direct truthy-ness of the elements in an iterable, but reather if they satisfy some condition.\n",
    "\n",
    "We can make `any` and `all` more useful by first applying a predicate to each element. A predicate is simply a function that takes a single argument and returns a boolean.\n"
   ]
  },
  {
   "cell_type": "code",
   "execution_count": 3,
   "id": "416aa79d",
   "metadata": {},
   "outputs": [
    {
     "data": {
      "text/plain": [
       "False"
      ]
     },
     "execution_count": 3,
     "metadata": {},
     "output_type": "execute_result"
    }
   ],
   "source": [
    "l = [1, 2, 3, 4, 100]\n",
    "\n",
    "pred = lambda x: x < 10\n",
    "less10_gen = (pred(num) for num in l)\n",
    "\n",
    "all(less10_gen)"
   ]
  },
  {
   "cell_type": "markdown",
   "id": "510ee806",
   "metadata": {},
   "source": [
    "### Slicing Iterables\n",
    "\n",
    "__`itertools.islice`__\n",
    "\n",
    "Slicing is restricted to only sequence types, but we can use the `islice` method to slice general iterables (including iterators). __Note__ that `islice` returns a *lazy iterator*. "
   ]
  },
  {
   "cell_type": "code",
   "execution_count": 4,
   "id": "217cef29",
   "metadata": {},
   "outputs": [],
   "source": [
    "from itertools import islice"
   ]
  },
  {
   "cell_type": "code",
   "execution_count": 7,
   "id": "e71f2bf8",
   "metadata": {},
   "outputs": [
    {
     "data": {
      "text/plain": [
       "[1, 2]"
      ]
     },
     "execution_count": 7,
     "metadata": {},
     "output_type": "execute_result"
    }
   ],
   "source": [
    "l = (num for num in [1, 2, 3, 4])\n",
    "\n",
    "res = islice(l, 0, 2)\n",
    "list(res)"
   ]
  },
  {
   "cell_type": "markdown",
   "id": "b685bb86",
   "metadata": {},
   "source": [
    "### Selecting/Filtering\n",
    "\n",
    "__`filter`__\n",
    "\n",
    "Returns all elements of iterable where predicate is true. The predicate can be None, in which case the truthy-ness of the element is used to filter. __Note__ that `filter` returns a *lazy iterator*."
   ]
  },
  {
   "cell_type": "code",
   "execution_count": 11,
   "id": "181c799e",
   "metadata": {},
   "outputs": [
    {
     "name": "stdout",
     "output_type": "stream",
     "text": [
      "[1, 2, 3]\n",
      "[1, 2, 3]\n"
     ]
    }
   ],
   "source": [
    "l = [1, 2, 3, 0]\n",
    "\n",
    "res = filter(None, l)\n",
    "print(list(res))\n",
    "\n",
    "# We can achieve the same thing using a generator expresssion\n",
    "res = (item for item in l if bool(item))\n",
    "print(list(res))"
   ]
  },
  {
   "cell_type": "code",
   "execution_count": 13,
   "id": "2fa4c901",
   "metadata": {},
   "outputs": [
    {
     "name": "stdout",
     "output_type": "stream",
     "text": [
      "[0, 1, 2, 3]\n"
     ]
    }
   ],
   "source": [
    "res = filter(lambda x: x < 4, [0, 1, 2, 3, 4, 10])\n",
    "\n",
    "print(list(res))"
   ]
  },
  {
   "cell_type": "markdown",
   "id": "28e92184",
   "metadata": {},
   "source": [
    "__`itertools.filterfalse`__\n",
    "\n",
    "Works the same way as filter function, but instead of retaining elements where the pedicate is true, it retains elements where the predicate is false. __Note__ `filterfalse` returns a *lazy iterator*.\n",
    "\n",
    "__`itertools.compress`__\n",
    "\n",
    "Filter an iterable, using the truthy-ness of items in another iterable. __Note__ `compress` returns a *lazy iterator*."
   ]
  },
  {
   "cell_type": "code",
   "execution_count": 14,
   "id": "a15699ef",
   "metadata": {},
   "outputs": [],
   "source": [
    "from itertools import compress"
   ]
  },
  {
   "cell_type": "code",
   "execution_count": 15,
   "id": "d63319a5",
   "metadata": {},
   "outputs": [
    {
     "name": "stdout",
     "output_type": "stream",
     "text": [
      "['a', 'c', 'd']\n"
     ]
    }
   ],
   "source": [
    "data = ['a', 'b', 'c', 'd']\n",
    "selectors = [1, 0, 1, 1]\n",
    "\n",
    "print(list(compress(data, selectors)))"
   ]
  },
  {
   "cell_type": "markdown",
   "id": "6a623c79",
   "metadata": {},
   "source": [
    "__`itertools.takewhile`__\n",
    "\n",
    "Returns an iterator that will yield items while the predicate is truthy. The iterator will be exhausted once encountering a falsey value, even if there are more truthy items in the iterable. __Note__ `takewhile` returns a *lazy iterator*."
   ]
  },
  {
   "cell_type": "code",
   "execution_count": 16,
   "id": "69dd1f68",
   "metadata": {},
   "outputs": [],
   "source": [
    "from itertools import takewhile"
   ]
  },
  {
   "cell_type": "code",
   "execution_count": 18,
   "id": "1f5661b7",
   "metadata": {},
   "outputs": [
    {
     "name": "stdout",
     "output_type": "stream",
     "text": [
      "[0, 1, 2]\n"
     ]
    }
   ],
   "source": [
    "res = takewhile(lambda x: x < 5, [0, 1, 2, 5, 2, 1])\n",
    "\n",
    "print(list(res))"
   ]
  },
  {
   "cell_type": "markdown",
   "id": "fbb64d24",
   "metadata": {},
   "source": [
    "__`itertools.dropwhile`__\n",
    "\n",
    "Returns an iterator that will *start* iterating (and yielding the remaining elements) once the predicate becomes falsey. The first falsey value is essentially the starting point of iteration. __Note__ `dropwhile` returns a *lazy iterator*."
   ]
  },
  {
   "cell_type": "code",
   "execution_count": 19,
   "id": "3def6df2",
   "metadata": {},
   "outputs": [],
   "source": [
    "from itertools import dropwhile"
   ]
  },
  {
   "cell_type": "code",
   "execution_count": 20,
   "id": "7c44ccd5",
   "metadata": {},
   "outputs": [
    {
     "name": "stdout",
     "output_type": "stream",
     "text": [
      "[5, 0, 0, 0]\n"
     ]
    }
   ],
   "source": [
    "res = dropwhile(lambda x: x < 5, [1, 2, 3, 5, 0, 0, 0])\n",
    "\n",
    "print(list(res))"
   ]
  },
  {
   "cell_type": "markdown",
   "id": "937e8aaf",
   "metadata": {},
   "source": [
    "### Infinite Iterators\n",
    "\n",
    "__`itertools.count`__\n",
    "\n",
    "Works similar to `range`, although it does not have a 'stop' parameter and iterates infinitely.\n",
    "\n",
    "__`itertools.cycle`__\n",
    "\n",
    "Allows us to iterate over a finite iterable indefinitely.\n",
    "\n",
    "__`itertools.repeat`__\n",
    "\n",
    "Yields the same value indefinitely. Note that the items yielded by `repeat` is the same object in memory.\n",
    "\n",
    "### Chaining and Teeing\n",
    "\n",
    "__`itertools.chain`__\n",
    "\n",
    "Analogous to sequence concatenation, although deals with iterables and lazily iterates. Has a variable number of positional arguments, each arg must be an iterable."
   ]
  },
  {
   "cell_type": "code",
   "execution_count": 24,
   "id": "6e057c88",
   "metadata": {},
   "outputs": [
    {
     "name": "stdout",
     "output_type": "stream",
     "text": [
      "[1, 2, 3, 1, 2, 3, 1, 2, 3]\n"
     ]
    }
   ],
   "source": [
    "# We can manually chain iterables\n",
    "l = [1, 2, 3]\n",
    "iter1, iter2, iter3 = iter(l), iter(l), iter(l)\n",
    "\n",
    "def chain_iters():\n",
    "    for item in (iter1, iter2, iter3):\n",
    "        yield from item\n",
    "\n",
    "print(list(chain_iters()))"
   ]
  },
  {
   "cell_type": "code",
   "execution_count": 26,
   "id": "6a344961",
   "metadata": {},
   "outputs": [
    {
     "name": "stdout",
     "output_type": "stream",
     "text": [
      "1\n",
      "2\n",
      "3\n",
      "1\n",
      "2\n",
      "3\n",
      "1\n",
      "2\n",
      "3\n"
     ]
    }
   ],
   "source": [
    "# Or use the chain function\n",
    "iter1, iter2, iter3 = iter(l), iter(l), iter(l)\n",
    "\n",
    "for item in chain(iter1, iter2, iter3):\n",
    "    print(item)"
   ]
  },
  {
   "cell_type": "code",
   "execution_count": 34,
   "id": "c2b6ccc9",
   "metadata": {},
   "outputs": [
    {
     "data": {
      "text/plain": [
       "<itertools.chain at 0x7f5ad640b790>"
      ]
     },
     "execution_count": 34,
     "metadata": {},
     "output_type": "execute_result"
    }
   ],
   "source": [
    "iter1, iter2, iter3 = iter(l), iter(l), iter(l)\n",
    "\n",
    "# If we have an iterable of iterators, theres no quick way to pass them to chain\n",
    "l = [iter1, iter2, iter3]\n",
    "\n",
    "# We can use unpacking, but unpacking is eager, and will exhaust the iterators.\n",
    "chain(*l)\n",
    "\n",
    "#Instead we can use the chain_from_iterable function\n",
    "chain.from_iterable(l)"
   ]
  },
  {
   "cell_type": "markdown",
   "id": "a218de6c",
   "metadata": {},
   "source": [
    "__`itertools.tee`__\n",
    "\n",
    "Returns a tuple of copies of an iterator, for when we need to iterate through the same iterator multiple time, or in parallel."
   ]
  },
  {
   "cell_type": "code",
   "execution_count": 35,
   "id": "f12dc2c9",
   "metadata": {},
   "outputs": [],
   "source": [
    "from itertools import tee"
   ]
  },
  {
   "cell_type": "code",
   "execution_count": 36,
   "id": "d0080187",
   "metadata": {},
   "outputs": [
    {
     "name": "stdout",
     "output_type": "stream",
     "text": [
      "(<itertools._tee object at 0x7f5ad6676700>, <itertools._tee object at 0x7f5ad66760c0>, <itertools._tee object at 0x7f5ad66765c0>, <itertools._tee object at 0x7f5ad6676780>, <itertools._tee object at 0x7f5ad6676980>)\n"
     ]
    }
   ],
   "source": [
    "iter_ = iter([1, 2, 3])\n",
    "\n",
    "iters = tee(iter_, 5)\n",
    "print(iters)"
   ]
  },
  {
   "cell_type": "markdown",
   "id": "aac67c62",
   "metadata": {},
   "source": [
    "### Mapping and Reducing\n",
    "\n",
    "Mapping: applying a callable to each element of an iterable\n",
    "\n",
    "Accumulation: reducing an iterable down to a single value\n",
    "\n",
    "__`map(fn, iterable)`__\n",
    "\n",
    "Applies `fn` to every element of `iterable` and returns a lazy iterator. `fn` must be a callable that requires a single argument."
   ]
  },
  {
   "cell_type": "code",
   "execution_count": 38,
   "id": "cf4cf7c0",
   "metadata": {},
   "outputs": [],
   "source": [
    "map(lambda x: x**2, [1, 2, 3, 4])\n",
    "\n",
    "# We can also achieve the same thing with a generator expression\n",
    "sq = lambda x: x**2\n",
    "mapped = (sq(item) for item in [1, 2, 3, 4])"
   ]
  },
  {
   "cell_type": "markdown",
   "id": "17324a25",
   "metadata": {},
   "source": [
    "__`reduce(fn, iterable, [initializer])`__\n",
    "\n",
    "Applies `fn` to each element, where `fn` is a function that takes two arguments and returns a single value. The first arguemnt will be the last value returned by the function and the second argument will be the next item in the iterable."
   ]
  },
  {
   "cell_type": "code",
   "execution_count": 40,
   "id": "497271ab",
   "metadata": {},
   "outputs": [],
   "source": [
    "from functools import reduce"
   ]
  },
  {
   "cell_type": "code",
   "execution_count": 42,
   "id": "0d5d27f3",
   "metadata": {},
   "outputs": [
    {
     "data": {
      "text/plain": [
       "110"
      ]
     },
     "execution_count": 42,
     "metadata": {},
     "output_type": "execute_result"
    }
   ],
   "source": [
    "l = [1, 2, 3, 4]\n",
    "\n",
    "reduce(lambda x, y: x + y, l, 100)"
   ]
  },
  {
   "cell_type": "markdown",
   "id": "095bc468",
   "metadata": {},
   "source": [
    "__`itertools.starmap`__\n",
    "\n",
    "Similar to `map`, but accepts nested iterables, and will apply the function to every sub-element of the nested iterable. Useful for mapping a multi-argument function on an iterable of iterables."
   ]
  },
  {
   "cell_type": "code",
   "execution_count": 44,
   "id": "72241ead",
   "metadata": {},
   "outputs": [],
   "source": [
    "from itertools import starmap\n",
    "import operator"
   ]
  },
  {
   "cell_type": "code",
   "execution_count": 47,
   "id": "558f1f2a",
   "metadata": {},
   "outputs": [
    {
     "data": {
      "text/plain": [
       "[2, 12]"
      ]
     },
     "execution_count": 47,
     "metadata": {},
     "output_type": "execute_result"
    }
   ],
   "source": [
    "l = [ [1, 2], [3, 4] ]\n",
    "\n",
    "#mul is a function that accepts two arguments\n",
    "res = starmap(operator.mul, l)\n",
    "\n",
    "list(res)"
   ]
  },
  {
   "cell_type": "markdown",
   "id": "6ddb502f",
   "metadata": {},
   "source": [
    "__`itertools.accumulate(iterable, fn)`__\n",
    "\n",
    "Similar to `reduce`, although returns a lazy iterator that produces all the intermediate results, while `reduce` only returns the final result. Unlike reduce, it does not accept an initializer. Also, the function argument is optional and will default to addition."
   ]
  },
  {
   "cell_type": "code",
   "execution_count": 48,
   "id": "44be10cd",
   "metadata": {},
   "outputs": [],
   "source": [
    "from itertools import accumulate"
   ]
  },
  {
   "cell_type": "code",
   "execution_count": 50,
   "id": "4044e5fc",
   "metadata": {},
   "outputs": [
    {
     "name": "stdout",
     "output_type": "stream",
     "text": [
      "24\n",
      "1\n",
      "2\n",
      "6\n",
      "24\n"
     ]
    }
   ],
   "source": [
    "l = [1, 2, 3, 4]\n",
    "\n",
    "reduced = reduce(operator.mul, l)\n",
    "print(reduced)\n",
    "\n",
    "accumulated = accumulate(l, operator.mul)\n",
    "for result in accumulated:\n",
    "    print(result)"
   ]
  },
  {
   "cell_type": "markdown",
   "id": "e54ab13e",
   "metadata": {},
   "source": [
    "###  Zipping\n",
    "\n",
    "__`zip`__\n",
    "\n",
    "Accepts a variable number of positional arguments, each of which are iterables. Returns an iterator that produces tuples containing elements of each iterable. Stops when one of the iterables has been completely iterated over."
   ]
  },
  {
   "cell_type": "code",
   "execution_count": 52,
   "id": "d70bd58a",
   "metadata": {},
   "outputs": [
    {
     "data": {
      "text/plain": [
       "[(1, 10, 'a'), (2, 20, 'b')]"
      ]
     },
     "execution_count": 52,
     "metadata": {},
     "output_type": "execute_result"
    }
   ],
   "source": [
    "list(zip([1, 2, 3], [10, 20], ['a', 'b', 'c', 'd']))"
   ]
  },
  {
   "cell_type": "markdown",
   "id": "f6a0ef5e",
   "metadata": {},
   "source": [
    "__`itertools.zip_longest`__\n",
    "\n",
    "Zips based on the longest iterable, requires a default value for missing items from shorter iterables."
   ]
  },
  {
   "cell_type": "code",
   "execution_count": 53,
   "id": "6b9f76d8",
   "metadata": {},
   "outputs": [],
   "source": [
    "from itertools import zip_longest"
   ]
  },
  {
   "cell_type": "code",
   "execution_count": 54,
   "id": "eb306125",
   "metadata": {},
   "outputs": [
    {
     "data": {
      "text/plain": [
       "[(1, 10, 'a'), (2, 20, 'b'), (3, None, 'c'), (None, None, 'd')]"
      ]
     },
     "execution_count": 54,
     "metadata": {},
     "output_type": "execute_result"
    }
   ],
   "source": [
    "list(zip_longest([1, 2, 3], [10, 20], ['a', 'b', 'c', 'd'], fillvalue=None))"
   ]
  }
 ],
 "metadata": {
  "kernelspec": {
   "display_name": "Python 3 (ipykernel)",
   "language": "python",
   "name": "python3"
  },
  "language_info": {
   "codemirror_mode": {
    "name": "ipython",
    "version": 3
   },
   "file_extension": ".py",
   "mimetype": "text/x-python",
   "name": "python",
   "nbconvert_exporter": "python",
   "pygments_lexer": "ipython3",
   "version": "3.9.7"
  }
 },
 "nbformat": 4,
 "nbformat_minor": 5
}
