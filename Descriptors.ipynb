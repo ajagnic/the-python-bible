{
 "cells": [
  {
   "cell_type": "markdown",
   "id": "b3da254f",
   "metadata": {},
   "source": [
    "What are descriptors?\n",
    "\n",
    "The underpinning mechanism for properties, slots, and even functions.\n",
    "\n",
    "__The Problem__"
   ]
  },
  {
   "cell_type": "code",
   "execution_count": 1,
   "id": "5df9f1d4",
   "metadata": {},
   "outputs": [],
   "source": [
    "# Having property functions and setters for eah attribute gets tedious and repetitive\n",
    "class Point:\n",
    "    @property\n",
    "    def x(self):\n",
    "        return self._x\n",
    "    \n",
    "    @x.setter\n",
    "    def x(self, value):\n",
    "        self._x = int(value)\n",
    "        \n",
    "    @property\n",
    "    def y(self):\n",
    "        return self._y\n",
    "    \n",
    "    @y.setter\n",
    "    def y(self, value):\n",
    "        self._y = int(value)\n",
    "        \n",
    "    def __init__(self, x, y):\n",
    "        self.x = x\n",
    "        self.y = y"
   ]
  },
  {
   "cell_type": "markdown",
   "id": "c8c51604",
   "metadata": {},
   "source": [
    "__The Descriptor Protocol__\n",
    "\n",
    "There are 4 main methods to implement the descriptor protocol (they are not all required)\n",
    "- `__get__`\n",
    "- `__set__`\n",
    "- `__delete__`\n",
    "- `__set_name__`\n",
    "\n",
    "There are also 2 categories of descriptors:\n",
    "- non-data descriptors: only implement `__get__`\n",
    "- data descriptors: implement `__set__` and/or `__delete__`\n",
    "\n",
    "__Using a Descriptor Class__"
   ]
  },
  {
   "cell_type": "code",
   "execution_count": 2,
   "id": "d4997cd3",
   "metadata": {},
   "outputs": [],
   "source": [
    "from datetime import datetime"
   ]
  },
  {
   "cell_type": "code",
   "execution_count": 3,
   "id": "6f4a03ea",
   "metadata": {},
   "outputs": [],
   "source": [
    "class TimeUTC:\n",
    "    def __get__(self, instance, owner_class):\n",
    "        return datetime.utcnow().isoformat()"
   ]
  },
  {
   "cell_type": "code",
   "execution_count": 4,
   "id": "bf866786",
   "metadata": {},
   "outputs": [],
   "source": [
    "class Logger:\n",
    "    current_time = TimeUTC()"
   ]
  },
  {
   "cell_type": "code",
   "execution_count": 5,
   "id": "5eef518a",
   "metadata": {},
   "outputs": [
    {
     "data": {
      "text/plain": [
       "'2022-02-05T16:54:48.035985'"
      ]
     },
     "execution_count": 5,
     "metadata": {},
     "output_type": "execute_result"
    }
   ],
   "source": [
    "l = Logger()\n",
    "l.current_time"
   ]
  },
  {
   "cell_type": "markdown",
   "id": "54e48e54",
   "metadata": {},
   "source": [
    "**The `__get__` Method**\n",
    "\n",
    "Logger defines a single instance of TimeUTC as a *class attribute*. But because TimeUTC implements `__get__`, Python will use that method when retrieving the instance attribute value.\n",
    "\n",
    "We can access current_time from the class or the instance:\n",
    "- if called from an instance, the 'instance' parameter will not be `None`\n",
    "- the 'owner_class' parameter describes the class that owns the TimeUTC instance\n",
    "\n",
    "We can return different values from `__get__` depending if it was called from the class or the instance.\n",
    "\n",
    "If called from the class, return the descriptor instance.\n",
    "\n",
    "If called from an instance, return the attribute value."
   ]
  },
  {
   "cell_type": "code",
   "execution_count": 6,
   "id": "caed76eb",
   "metadata": {},
   "outputs": [],
   "source": [
    "class TimeUTC:\n",
    "    def __get__(self, instance, owner_class):\n",
    "        if not instance:\n",
    "            return self\n",
    "        else:\n",
    "            return datetime.utcnow().isoformat()"
   ]
  },
  {
   "cell_type": "markdown",
   "id": "5f2933a4",
   "metadata": {},
   "source": [
    "**The `__set__` Method**\n",
    "\n",
    "The `__set__` method signature differs slightly from `__get__`:\n",
    "\n",
    "```\n",
    "def __set__(self, instance, value): ...\n",
    "```\n",
    "\n",
    "Since setters are always called from instances, there is no need for the 'owner_class' parameter.\n",
    "\n",
    "__Caveat with Set/Delete/Get__\n",
    "\n",
    "When creating multiple instances of a class with descriptors, since the descriptors are defined as class attributes, they will all use the same reference. This is mostly a problem for Set and Delete.\n",
    "\n",
    "This is one of the reasons why we pass the 'instance' parameter to these dunder methods, so we can be aware of which instance we are storing values for."
   ]
  },
  {
   "cell_type": "markdown",
   "id": "11bd6f1a",
   "metadata": {},
   "source": [
    "__Where to Store the Attribute Value__\n",
    "\n",
    "Assuming the attribute objects we want to store are hashable, we can create a dictionary in the data descriptor instance and use the instance as the key."
   ]
  },
  {
   "cell_type": "code",
   "execution_count": 1,
   "id": "4e5e1071",
   "metadata": {},
   "outputs": [],
   "source": [
    "class IntegerValue:\n",
    "    def __init__(self):\n",
    "        self.data = {}\n",
    "        \n",
    "    def __set__(self, instance, value):\n",
    "        self.data[instance] = int(value)\n",
    "        \n",
    "    def __get__(self, instance, owner_class):\n",
    "        if not instance:\n",
    "            return self\n",
    "        else:\n",
    "            return self.data.get(instance)"
   ]
  },
  {
   "cell_type": "markdown",
   "id": "a9c89651",
   "metadata": {},
   "source": [
    "This however is not the best approach in its current form, since we store an additional reference to the instance object. The object will never be garbage collected.\n",
    "\n",
    "__Weak References__\n",
    "\n",
    "We can solve this issue by creating a weak reference to the object, which will not affect the reference count."
   ]
  },
  {
   "cell_type": "code",
   "execution_count": 2,
   "id": "8159bf00",
   "metadata": {},
   "outputs": [],
   "source": [
    "import weakref"
   ]
  },
  {
   "cell_type": "code",
   "execution_count": 3,
   "id": "cf25cb84",
   "metadata": {},
   "outputs": [],
   "source": [
    "class IntegerValue:\n",
    "    def __init__(self):\n",
    "        self.data = {}\n",
    "        \n",
    "    def __set__(self, instance, value):\n",
    "        inst_ref = weakref.ref(instance)\n",
    "        self.data[inst_ref()] = int(value)\n",
    "        \n",
    "    def __get__(self, instance, owner_class):\n",
    "        if not instance:\n",
    "            return self\n",
    "        else:\n",
    "            return self.data.get(instance)"
   ]
  },
  {
   "cell_type": "code",
   "execution_count": 6,
   "id": "e9fa93f8",
   "metadata": {},
   "outputs": [],
   "source": [
    "# The weakref module has a WeakKeyDictionary to accomplish what we did above.\n",
    "# Once an object that has a weak reference is GC'd, its key will automatically be deleted\n",
    "# from the dictionary\n",
    "from weakref import WeakKeyDictionary"
   ]
  },
  {
   "cell_type": "code",
   "execution_count": 5,
   "id": "bc7398f0",
   "metadata": {},
   "outputs": [],
   "source": [
    "class IntegerValue:\n",
    "    def __init__(self):\n",
    "        self.data = WeakKeyDictionary()\n",
    "        \n",
    "    def __set__(self, instance, value):\n",
    "        self.data[instance] = int(value)\n",
    "        \n",
    "    def __get__(self, instance, owner_class):\n",
    "        if not instance:\n",
    "            return self\n",
    "        else:\n",
    "            return self.data.get(instance)"
   ]
  },
  {
   "cell_type": "markdown",
   "id": "f5877e43",
   "metadata": {},
   "source": [
    "__Improving the Weak Reference Approach__\n",
    "\n",
    "Using weak references still require that our object be hashable. We can instead use the `id()` of our instance. Using `id` alone has some drawbacks, mainly we lose the ability for the dictionary to automatically remove keys for finalized objects.\n",
    "\n",
    "Instead we can use a tuple of `(weak_ref, value)` for our dictionary vallues, and register a callback function that will remove the dead entry from the dictionary.\n",
    "\n",
    "This gives all these benefits:\n",
    "- instance specific storage\n",
    "- doesn't use the instance itself for storage (`__slots__` problem)\n",
    "- handles non-hashable objects\n",
    "- keeps data storage mechanism clean"
   ]
  },
  {
   "cell_type": "code",
   "execution_count": 1,
   "id": "18a8fc2e",
   "metadata": {},
   "outputs": [],
   "source": [
    "class IntegerValue:\n",
    "    def __init__(self):\n",
    "        self.values = dict()\n",
    "    \n",
    "    def __set__(self, instance, value):\n",
    "        self.values[id(instance)] = (weakref.ref(instance, self._remove_object), int(value))\n",
    "        \n",
    "    def __get__(self, instance, owner_class):\n",
    "        if instance is None: \n",
    "            return self\n",
    "        else:\n",
    "            return self.values[id(instance)][1]\n",
    "        \n",
    "    def _remove_object(self, weak_ref):\n",
    "        reverse_lookup = [k for k, v in self.values.items()\n",
    "                         if v[0] is weak_ref]\n",
    "        if reverse_lookup:\n",
    "            key = reverse_lookup[0]\n",
    "            del self.values[key]"
   ]
  },
  {
   "cell_type": "markdown",
   "id": "b34fae74",
   "metadata": {},
   "source": [
    "**The `__set_name__` Method**\n",
    "\n",
    "A handy method introduced in Python 3.6 that gets called once when a descriptor is first instantiated. It can be useful for better error handling, and for descriptors used for validation."
   ]
  },
  {
   "cell_type": "code",
   "execution_count": 1,
   "id": "1bce78c3",
   "metadata": {},
   "outputs": [],
   "source": [
    "class ValidString:\n",
    "    def __init__(self, min_len):\n",
    "        self.min_len = min_len\n",
    "        \n",
    "    def __set_name__(self, owner_class, property_name):\n",
    "        self.property_name = property_name\n",
    "        \n",
    "    def __set__(self, instance, value):\n",
    "        if not isinstance(value, str):\n",
    "            raise ValueError(f\"{self.property_name} must be 'str'\")\n",
    "        if len(value) < self.min_len:\n",
    "            raise ValueError(f\"{self.property_name} must be more than {self.min_len} characters\")\n",
    "        \n",
    "        instance.__dict__[self.property_name] = value\n",
    "        \n",
    "    def __get__(self, instance, owner_class):\n",
    "        if instance is None:\n",
    "            return self\n",
    "        else:\n",
    "            instance.__dict__.get(self.property_name, None)"
   ]
  },
  {
   "cell_type": "markdown",
   "id": "afaa1260",
   "metadata": {},
   "source": [
    "__Property Value Lookup Resolution__\n",
    "\n",
    "When we have a property (descriptor) called `x`, and we have an instance dictionary (`__dict__`) that also contains `x`, will Python use the instance dictionary value or the descriptor?\n",
    "\n",
    "It depends on whether the descriptor is a data or non-data descriptor.\n",
    "\n",
    "For data descriptors (`__get__` and `__set__` defined), it will always override the instance dictionary by default.\n",
    "\n",
    "For non-data descriptors (only `__get__` defined), it looks in the instance dictionary first and if not found, will use the descriptor."
   ]
  },
  {
   "cell_type": "markdown",
   "id": "93ccaf66",
   "metadata": {},
   "source": []
  }
 ],
 "metadata": {
  "kernelspec": {
   "display_name": "Python 3 (ipykernel)",
   "language": "python",
   "name": "python3"
  },
  "language_info": {
   "codemirror_mode": {
    "name": "ipython",
    "version": 3
   },
   "file_extension": ".py",
   "mimetype": "text/x-python",
   "name": "python",
   "nbconvert_exporter": "python",
   "pygments_lexer": "ipython3",
   "version": "3.9.7"
  }
 },
 "nbformat": 4,
 "nbformat_minor": 5
}
