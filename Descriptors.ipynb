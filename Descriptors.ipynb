{
 "cells": [
  {
   "cell_type": "markdown",
   "id": "b3da254f",
   "metadata": {},
   "source": [
    "What are descriptors?\n",
    "\n",
    "The underpinning mechanism for properties, slots, and even functions.\n",
    "\n",
    "__The Problem__"
   ]
  },
  {
   "cell_type": "code",
   "execution_count": 1,
   "id": "5df9f1d4",
   "metadata": {},
   "outputs": [],
   "source": [
    "# Having property functions and setters for eah attribute gets tedious and repetitive\n",
    "class Point:\n",
    "    @property\n",
    "    def x(self):\n",
    "        return self._x\n",
    "    \n",
    "    @x.setter\n",
    "    def x(self, value):\n",
    "        self._x = int(value)\n",
    "        \n",
    "    @property\n",
    "    def y(self):\n",
    "        return self._y\n",
    "    \n",
    "    @y.setter\n",
    "    def y(self, value):\n",
    "        self._y = int(value)\n",
    "        \n",
    "    def __init__(self, x, y):\n",
    "        self.x = x\n",
    "        self.y = y"
   ]
  },
  {
   "cell_type": "markdown",
   "id": "c8c51604",
   "metadata": {},
   "source": [
    "__The Descriptor Protocol__\n",
    "\n",
    "There are 4 main methods to implement the descriptor protocol (they are not all required)\n",
    "- `__get__`\n",
    "- `__set__`\n",
    "- `__delete__`\n",
    "- `__set_name__`\n",
    "\n",
    "There are also 2 categories of descriptors:\n",
    "- non-data descriptors: only implement `__get__`\n",
    "- data descriptors: implement `__set__` and/or `__delete__`\n",
    "\n",
    "__Using a Descriptor Class__"
   ]
  },
  {
   "cell_type": "code",
   "execution_count": 2,
   "id": "d4997cd3",
   "metadata": {},
   "outputs": [],
   "source": [
    "from datetime import datetime"
   ]
  },
  {
   "cell_type": "code",
   "execution_count": 3,
   "id": "6f4a03ea",
   "metadata": {},
   "outputs": [],
   "source": [
    "class TimeUTC:\n",
    "    def __get__(self, instance, owner_class):\n",
    "        return datetime.utcnow().isoformat()"
   ]
  },
  {
   "cell_type": "code",
   "execution_count": 4,
   "id": "bf866786",
   "metadata": {},
   "outputs": [],
   "source": [
    "class Logger:\n",
    "    current_time = TimeUTC()"
   ]
  },
  {
   "cell_type": "code",
   "execution_count": 5,
   "id": "5eef518a",
   "metadata": {},
   "outputs": [
    {
     "data": {
      "text/plain": [
       "'2022-02-05T16:54:48.035985'"
      ]
     },
     "execution_count": 5,
     "metadata": {},
     "output_type": "execute_result"
    }
   ],
   "source": [
    "l = Logger()\n",
    "l.current_time"
   ]
  },
  {
   "cell_type": "markdown",
   "id": "54e48e54",
   "metadata": {},
   "source": [
    "**The `__get__` Method**\n",
    "\n",
    "Logger defines a single instance of TimeUTC as a *class attribute*. But because TimeUTC implements `__get__`, Python will use that method when retrieving the instance attribute value.\n",
    "\n",
    "We can access current_time from the class or the instance:\n",
    "- if called from an instance, the 'instance' parameter will not be `None`\n",
    "- the 'owner_class' parameter describes the class that owns the TimeUTC instance\n",
    "\n",
    "We can return different values from `__get__` depending if it was called from the class or the instance.\n",
    "\n",
    "If called from the class, return the descriptor instance.\n",
    "\n",
    "If called from an instance, return the attribute value."
   ]
  },
  {
   "cell_type": "code",
   "execution_count": 6,
   "id": "caed76eb",
   "metadata": {},
   "outputs": [],
   "source": [
    "class TimeUTC:\n",
    "    def __get__(self, instance, owner_class):\n",
    "        if not instance:\n",
    "            return self\n",
    "        else:\n",
    "            return datetime.utcnow().isoformat()"
   ]
  },
  {
   "cell_type": "markdown",
   "id": "5f2933a4",
   "metadata": {},
   "source": [
    "**The `__set__` Method**\n",
    "\n",
    "The `__set__` method signature differs slightly from `__get__`:\n",
    "\n",
    "```\n",
    "def __set__(self, instance, value): ...\n",
    "```\n",
    "\n",
    "Since setters are always called from instances, there is no need for the 'owner_class' parameter.\n",
    "\n",
    "__Caveat with Set/Delete/Get__\n",
    "\n",
    "When creating multiple instances of a class with descriptors, since the descriptors are defined as class attributes, they will all use the same reference. This is mostly a problem for Set and Delete.\n",
    "\n",
    "This is one of the reasons why we pass the 'instance' parameter to these dunder methods, so we can be aware of which instance we are storing values for."
   ]
  },
  {
   "cell_type": "code",
   "execution_count": null,
   "id": "4ee5756a",
   "metadata": {},
   "outputs": [],
   "source": []
  }
 ],
 "metadata": {
  "kernelspec": {
   "display_name": "Python 3 (ipykernel)",
   "language": "python",
   "name": "python3"
  },
  "language_info": {
   "codemirror_mode": {
    "name": "ipython",
    "version": 3
   },
   "file_extension": ".py",
   "mimetype": "text/x-python",
   "name": "python",
   "nbconvert_exporter": "python",
   "pygments_lexer": "ipython3",
   "version": "3.9.7"
  }
 },
 "nbformat": 4,
 "nbformat_minor": 5
}
