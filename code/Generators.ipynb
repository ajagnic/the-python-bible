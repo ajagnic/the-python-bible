{
 "cells": [
  {
   "cell_type": "code",
   "execution_count": 1,
   "id": "3fcbe7ae",
   "metadata": {},
   "outputs": [],
   "source": [
    "from math import factorial\n",
    "\n",
    "class FactIter:\n",
    "    def __init__(self, n):\n",
    "        self.n = n\n",
    "        self.i = 0\n",
    "        \n",
    "    def __iter__(self):\n",
    "        return self\n",
    "    \n",
    "    def __next__(self):\n",
    "        if self.i >= self.n:\n",
    "            raise StopIteration\n",
    "        else:\n",
    "            result = factorial(self.i)\n",
    "            self.i += 1\n",
    "            return result"
   ]
  },
  {
   "cell_type": "code",
   "execution_count": 2,
   "id": "d1001657",
   "metadata": {},
   "outputs": [],
   "source": [
    "fact_iter = FactIter(5)"
   ]
  },
  {
   "cell_type": "code",
   "execution_count": 3,
   "id": "a4ba2ff5",
   "metadata": {},
   "outputs": [
    {
     "data": {
      "text/plain": [
       "[1, 1, 2, 6, 24]"
      ]
     },
     "execution_count": 3,
     "metadata": {},
     "output_type": "execute_result"
    }
   ],
   "source": [
    "list(fact_iter)"
   ]
  },
  {
   "cell_type": "code",
   "execution_count": 4,
   "id": "53278feb",
   "metadata": {},
   "outputs": [
    {
     "ename": "StopIteration",
     "evalue": "",
     "output_type": "error",
     "traceback": [
      "\u001b[0;31m---------------------------------------------------------------------------\u001b[0m",
      "\u001b[0;31mStopIteration\u001b[0m                             Traceback (most recent call last)",
      "\u001b[0;32m/tmp/ipykernel_216999/3005155503.py\u001b[0m in \u001b[0;36m<module>\u001b[0;34m\u001b[0m\n\u001b[0;32m----> 1\u001b[0;31m \u001b[0mnext\u001b[0m\u001b[0;34m(\u001b[0m\u001b[0mfact_iter\u001b[0m\u001b[0;34m)\u001b[0m\u001b[0;34m\u001b[0m\u001b[0;34m\u001b[0m\u001b[0m\n\u001b[0m",
      "\u001b[0;32m/tmp/ipykernel_216999/1014305121.py\u001b[0m in \u001b[0;36m__next__\u001b[0;34m(self)\u001b[0m\n\u001b[1;32m     11\u001b[0m     \u001b[0;32mdef\u001b[0m \u001b[0m__next__\u001b[0m\u001b[0;34m(\u001b[0m\u001b[0mself\u001b[0m\u001b[0;34m)\u001b[0m\u001b[0;34m:\u001b[0m\u001b[0;34m\u001b[0m\u001b[0;34m\u001b[0m\u001b[0m\n\u001b[1;32m     12\u001b[0m         \u001b[0;32mif\u001b[0m \u001b[0mself\u001b[0m\u001b[0;34m.\u001b[0m\u001b[0mi\u001b[0m \u001b[0;34m>=\u001b[0m \u001b[0mself\u001b[0m\u001b[0;34m.\u001b[0m\u001b[0mn\u001b[0m\u001b[0;34m:\u001b[0m\u001b[0;34m\u001b[0m\u001b[0;34m\u001b[0m\u001b[0m\n\u001b[0;32m---> 13\u001b[0;31m             \u001b[0;32mraise\u001b[0m \u001b[0mStopIteration\u001b[0m\u001b[0;34m\u001b[0m\u001b[0;34m\u001b[0m\u001b[0m\n\u001b[0m\u001b[1;32m     14\u001b[0m         \u001b[0;32melse\u001b[0m\u001b[0;34m:\u001b[0m\u001b[0;34m\u001b[0m\u001b[0;34m\u001b[0m\u001b[0m\n\u001b[1;32m     15\u001b[0m             \u001b[0mresult\u001b[0m \u001b[0;34m=\u001b[0m \u001b[0mfactorial\u001b[0m\u001b[0;34m(\u001b[0m\u001b[0mself\u001b[0m\u001b[0;34m.\u001b[0m\u001b[0mi\u001b[0m\u001b[0;34m)\u001b[0m\u001b[0;34m\u001b[0m\u001b[0;34m\u001b[0m\u001b[0m\n",
      "\u001b[0;31mStopIteration\u001b[0m: "
     ]
    }
   ],
   "source": [
    "next(fact_iter)"
   ]
  },
  {
   "cell_type": "code",
   "execution_count": 9,
   "id": "95b50197",
   "metadata": {},
   "outputs": [],
   "source": [
    "def fac():\n",
    "    i = 0\n",
    "    def inner():\n",
    "        nonlocal i\n",
    "        result = factorial(i)\n",
    "        i += 1\n",
    "        return result\n",
    "    return inner"
   ]
  },
  {
   "cell_type": "code",
   "execution_count": 10,
   "id": "18251df3",
   "metadata": {},
   "outputs": [],
   "source": [
    "f = fac()"
   ]
  },
  {
   "cell_type": "code",
   "execution_count": 11,
   "id": "967cbe6c",
   "metadata": {},
   "outputs": [
    {
     "data": {
      "text/plain": [
       "(1, 1, 2)"
      ]
     },
     "execution_count": 11,
     "metadata": {},
     "output_type": "execute_result"
    }
   ],
   "source": [
    "f(), f(), f()"
   ]
  },
  {
   "cell_type": "code",
   "execution_count": 12,
   "id": "7f6bf47f",
   "metadata": {},
   "outputs": [
    {
     "data": {
      "text/plain": [
       "[1, 1, 2, 6, 24, 120, 720, 5040, 40320, 362880]"
      ]
     },
     "execution_count": 12,
     "metadata": {},
     "output_type": "execute_result"
    }
   ],
   "source": [
    "fac_iter = iter(fac(), factorial(10))\n",
    "list(fac_iter)"
   ]
  },
  {
   "cell_type": "code",
   "execution_count": 13,
   "id": "6cb3c623",
   "metadata": {},
   "outputs": [],
   "source": [
    "def fac_gen(n):\n",
    "    for i in range(n):\n",
    "        yield factorial(i)"
   ]
  },
  {
   "cell_type": "code",
   "execution_count": 14,
   "id": "9861933a",
   "metadata": {},
   "outputs": [
    {
     "data": {
      "text/plain": [
       "1"
      ]
     },
     "execution_count": 14,
     "metadata": {},
     "output_type": "execute_result"
    }
   ],
   "source": [
    "five_fact = fac_gen(5)\n",
    "next(five_fact)"
   ]
  },
  {
   "cell_type": "code",
   "execution_count": 15,
   "id": "29ab9015",
   "metadata": {},
   "outputs": [
    {
     "name": "stdout",
     "output_type": "stream",
     "text": [
      "1\n",
      "2\n",
      "6\n",
      "24\n"
     ]
    }
   ],
   "source": [
    "for num in five_fact:\n",
    "    print(num)"
   ]
  },
  {
   "cell_type": "code",
   "execution_count": 19,
   "id": "35385d5e",
   "metadata": {},
   "outputs": [],
   "source": [
    "def fib_gen(n):\n",
    "    fib_0 = 1\n",
    "    yield fib_0\n",
    "    fib_1 = 1\n",
    "    yield fib_1\n",
    "    for i in range(n-2):\n",
    "        fib_0, fib_1 = fib_1, fib_0 + fib_1\n",
    "        yield fib_1"
   ]
  },
  {
   "cell_type": "code",
   "execution_count": 20,
   "id": "7691c463",
   "metadata": {},
   "outputs": [
    {
     "name": "stdout",
     "output_type": "stream",
     "text": [
      "1\n",
      "1\n",
      "2\n",
      "3\n",
      "5\n"
     ]
    }
   ],
   "source": [
    "fibs = fib_gen(5)\n",
    "for num in fibs:\n",
    "    print(num)"
   ]
  },
  {
   "cell_type": "code",
   "execution_count": 27,
   "id": "af55d603",
   "metadata": {},
   "outputs": [],
   "source": [
    "class Squares:\n",
    "    def __init__(self, n):\n",
    "        self.n = n\n",
    "        \n",
    "    def __iter__(self):\n",
    "        return Squares.squares_gen(self.n)\n",
    "    \n",
    "    @staticmethod\n",
    "    def squares_gen(n):\n",
    "        for i in range(n):\n",
    "            yield i ** 2"
   ]
  },
  {
   "cell_type": "code",
   "execution_count": 28,
   "id": "22eec5ea",
   "metadata": {},
   "outputs": [
    {
     "name": "stdout",
     "output_type": "stream",
     "text": [
      "0\n",
      "1\n",
      "4\n",
      "9\n",
      "16\n"
     ]
    }
   ],
   "source": [
    "sq = Squares(5)\n",
    "for num in sq:\n",
    "    print(num)"
   ]
  },
  {
   "cell_type": "code",
   "execution_count": 29,
   "id": "f24183ad",
   "metadata": {},
   "outputs": [
    {
     "data": {
      "text/plain": [
       "[0, 1, 4, 9, 16]"
      ]
     },
     "execution_count": 29,
     "metadata": {},
     "output_type": "execute_result"
    }
   ],
   "source": [
    "list(sq)"
   ]
  },
  {
   "cell_type": "code",
   "execution_count": 30,
   "id": "ffb00e84",
   "metadata": {},
   "outputs": [],
   "source": [
    "g = (i**2 for i in range(5))"
   ]
  },
  {
   "cell_type": "code",
   "execution_count": 31,
   "id": "5f9d9e39",
   "metadata": {},
   "outputs": [
    {
     "name": "stdout",
     "output_type": "stream",
     "text": [
      "0\n",
      "1\n",
      "4\n",
      "9\n",
      "16\n"
     ]
    }
   ],
   "source": [
    "for item in g:\n",
    "    print(item)"
   ]
  },
  {
   "cell_type": "code",
   "execution_count": 32,
   "id": "83d00643",
   "metadata": {},
   "outputs": [
    {
     "data": {
      "text/plain": [
       "[]"
      ]
     },
     "execution_count": 32,
     "metadata": {},
     "output_type": "execute_result"
    }
   ],
   "source": [
    "list(g)"
   ]
  },
  {
   "cell_type": "code",
   "execution_count": 36,
   "id": "2d14c330",
   "metadata": {},
   "outputs": [],
   "source": [
    "def matrix(n):\n",
    "    gen = ( (i * j for j in range(1, n+1))\n",
    "            for i in range(1, n+1) )\n",
    "    return gen"
   ]
  },
  {
   "cell_type": "code",
   "execution_count": 37,
   "id": "a15d1f3f",
   "metadata": {},
   "outputs": [],
   "source": [
    "def matrix_iterator(n):\n",
    "    for row in matrix(n):\n",
    "        for item in row:\n",
    "            yield item"
   ]
  },
  {
   "cell_type": "code",
   "execution_count": 38,
   "id": "17f53c85",
   "metadata": {},
   "outputs": [
    {
     "name": "stdout",
     "output_type": "stream",
     "text": [
      "1\n",
      "2\n",
      "3\n",
      "2\n",
      "4\n",
      "6\n",
      "3\n",
      "6\n",
      "9\n"
     ]
    }
   ],
   "source": [
    "for item in matrix_iterator(3):\n",
    "    print(item)"
   ]
  },
  {
   "cell_type": "code",
   "execution_count": 39,
   "id": "2fddc6ee",
   "metadata": {},
   "outputs": [],
   "source": [
    "def matrix_iterator(n):\n",
    "    for row in matrix(n):\n",
    "        yield from row"
   ]
  },
  {
   "cell_type": "code",
   "execution_count": 40,
   "id": "37472c1a",
   "metadata": {},
   "outputs": [
    {
     "name": "stdout",
     "output_type": "stream",
     "text": [
      "1\n",
      "2\n",
      "3\n",
      "2\n",
      "4\n",
      "6\n",
      "3\n",
      "6\n",
      "9\n"
     ]
    }
   ],
   "source": [
    "for item in matrix_iterator(3):\n",
    "    print(item)"
   ]
  },
  {
   "cell_type": "code",
   "execution_count": 42,
   "id": "b6a74a40",
   "metadata": {},
   "outputs": [],
   "source": [
    "def open_(filename):\n",
    "    class FakeFile:\n",
    "        def __enter__(self):\n",
    "            return iter([1, 2, 3])\n",
    "        \n",
    "        def __exit__(self, *args):\n",
    "            return False\n",
    "        \n",
    "    return FakeFile()"
   ]
  },
  {
   "cell_type": "code",
   "execution_count": 43,
   "id": "b7480a99",
   "metadata": {},
   "outputs": [],
   "source": [
    "def gen_clean_data(file):\n",
    "    with open_(file) as f:\n",
    "        for row in f:\n",
    "            yield row"
   ]
  },
  {
   "cell_type": "code",
   "execution_count": 44,
   "id": "cca42188",
   "metadata": {},
   "outputs": [],
   "source": [
    "def gen_clean_rows(*files):\n",
    "    for filename in files:\n",
    "        yield from gen_clean_data(filename)"
   ]
  },
  {
   "cell_type": "code",
   "execution_count": null,
   "id": "3afc4641",
   "metadata": {},
   "outputs": [],
   "source": []
  }
 ],
 "metadata": {
  "kernelspec": {
   "display_name": "Python 3 (ipykernel)",
   "language": "python",
   "name": "python3"
  },
  "language_info": {
   "codemirror_mode": {
    "name": "ipython",
    "version": 3
   },
   "file_extension": ".py",
   "mimetype": "text/x-python",
   "name": "python",
   "nbconvert_exporter": "python",
   "pygments_lexer": "ipython3",
   "version": "3.9.7"
  }
 },
 "nbformat": 4,
 "nbformat_minor": 5
}
