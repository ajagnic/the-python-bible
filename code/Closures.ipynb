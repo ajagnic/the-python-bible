{
 "cells": [
  {
   "cell_type": "code",
   "execution_count": 1,
   "id": "52daee43",
   "metadata": {},
   "outputs": [],
   "source": [
    "def outer():\n",
    "    x = 'python'\n",
    "    def inner():\n",
    "        print(x)\n",
    "    return inner"
   ]
  },
  {
   "cell_type": "code",
   "execution_count": 2,
   "id": "64d45560",
   "metadata": {},
   "outputs": [
    {
     "data": {
      "text/plain": [
       "('x',)"
      ]
     },
     "execution_count": 2,
     "metadata": {},
     "output_type": "execute_result"
    }
   ],
   "source": [
    "fn = outer()\n",
    "\n",
    "fn.__code__.co_freevars"
   ]
  },
  {
   "cell_type": "code",
   "execution_count": 3,
   "id": "be41513f",
   "metadata": {},
   "outputs": [
    {
     "data": {
      "text/plain": [
       "(<cell at 0x7f6418ba9730: str object at 0x7f6435a10d30>,)"
      ]
     },
     "execution_count": 3,
     "metadata": {},
     "output_type": "execute_result"
    }
   ],
   "source": [
    "# This property states that fn points to a cell object, and that\n",
    "# cell object points to a string object (x)\n",
    "fn.__closure__"
   ]
  },
  {
   "cell_type": "code",
   "execution_count": 4,
   "id": "afb3ae2f",
   "metadata": {},
   "outputs": [],
   "source": [
    "def outer():\n",
    "    x = [1, 2, 3]\n",
    "    print(hex(id(x)))\n",
    "    def inner():\n",
    "        y = x\n",
    "        print(hex(id(y)))\n",
    "    return inner"
   ]
  },
  {
   "cell_type": "code",
   "execution_count": 5,
   "id": "336c6bcd",
   "metadata": {},
   "outputs": [
    {
     "name": "stdout",
     "output_type": "stream",
     "text": [
      "0x7f6419627880\n"
     ]
    }
   ],
   "source": [
    "fn = outer()"
   ]
  },
  {
   "cell_type": "code",
   "execution_count": 6,
   "id": "134cfd7f",
   "metadata": {},
   "outputs": [
    {
     "name": "stdout",
     "output_type": "stream",
     "text": [
      "0x7f6419627880\n"
     ]
    }
   ],
   "source": [
    "# We can see that fn() uses the same reference for x that was contained in outer(),\n",
    "# even though the outer function is already out of scope\n",
    "fn()"
   ]
  },
  {
   "cell_type": "code",
   "execution_count": 20,
   "id": "41b7c196",
   "metadata": {},
   "outputs": [],
   "source": [
    "def outer():\n",
    "    count = 0\n",
    "    def inc():\n",
    "        nonlocal count\n",
    "        count += 1\n",
    "        return count\n",
    "    return inc"
   ]
  },
  {
   "cell_type": "code",
   "execution_count": 21,
   "id": "e7997d68",
   "metadata": {},
   "outputs": [
    {
     "data": {
      "text/plain": [
       "(<cell at 0x7f6418ba93a0: int object at 0x7f6438716910>,)"
      ]
     },
     "execution_count": 21,
     "metadata": {},
     "output_type": "execute_result"
    }
   ],
   "source": [
    "fn = outer()\n",
    "fn.__closure__"
   ]
  },
  {
   "cell_type": "code",
   "execution_count": 22,
   "id": "77dd65cb",
   "metadata": {},
   "outputs": [
    {
     "name": "stdout",
     "output_type": "stream",
     "text": [
      "1\n"
     ]
    },
    {
     "data": {
      "text/plain": [
       "(<cell at 0x7f6418ba93a0: int object at 0x7f6438716930>,)"
      ]
     },
     "execution_count": 22,
     "metadata": {},
     "output_type": "execute_result"
    }
   ],
   "source": [
    "# we can see that when we modify the free variable 'count' by calling inc()\n",
    "# the cell that inc references remains the same, but the int object the cell references\n",
    "# has changed (since ints are immutable, we created a new object by incrementing)\n",
    "print(fn())\n",
    "fn.__closure__"
   ]
  },
  {
   "cell_type": "code",
   "execution_count": 23,
   "id": "e722c4ab",
   "metadata": {},
   "outputs": [],
   "source": [
    "def outer():\n",
    "    count = 0\n",
    "    def inc1():\n",
    "        nonlocal count\n",
    "        count += 1\n",
    "        return count\n",
    "    \n",
    "    def inc2():\n",
    "        nonlocal count\n",
    "        count += 1\n",
    "        return count\n",
    "    \n",
    "    return inc1, inc2"
   ]
  },
  {
   "cell_type": "code",
   "execution_count": 24,
   "id": "60a3cb16",
   "metadata": {},
   "outputs": [],
   "source": [
    "fn1, fn2 = outer()"
   ]
  },
  {
   "cell_type": "code",
   "execution_count": 27,
   "id": "e616a5aa",
   "metadata": {},
   "outputs": [
    {
     "data": {
      "text/plain": [
       "((<cell at 0x7f6418ec0790: int object at 0x7f6438716910>,),\n",
       " (<cell at 0x7f6418ec0790: int object at 0x7f6438716910>,))"
      ]
     },
     "execution_count": 27,
     "metadata": {},
     "output_type": "execute_result"
    }
   ],
   "source": [
    "fn1.__closure__, fn2.__closure__"
   ]
  },
  {
   "cell_type": "code",
   "execution_count": 28,
   "id": "b5ab87a1",
   "metadata": {},
   "outputs": [
    {
     "data": {
      "text/plain": [
       "1"
      ]
     },
     "execution_count": 28,
     "metadata": {},
     "output_type": "execute_result"
    }
   ],
   "source": [
    "fn1()"
   ]
  },
  {
   "cell_type": "code",
   "execution_count": 29,
   "id": "b2617674",
   "metadata": {},
   "outputs": [
    {
     "data": {
      "text/plain": [
       "((<cell at 0x7f6418ec0790: int object at 0x7f6438716930>,),\n",
       " (<cell at 0x7f6418ec0790: int object at 0x7f6438716930>,))"
      ]
     },
     "execution_count": 29,
     "metadata": {},
     "output_type": "execute_result"
    }
   ],
   "source": [
    "fn1.__closure__, fn2.__closure__"
   ]
  },
  {
   "cell_type": "code",
   "execution_count": 30,
   "id": "e12d4326",
   "metadata": {},
   "outputs": [],
   "source": [
    "def pow(n):\n",
    "    def inner(x):\n",
    "        return x ** n\n",
    "    \n",
    "    return inner"
   ]
  },
  {
   "cell_type": "code",
   "execution_count": 31,
   "id": "2434648e",
   "metadata": {},
   "outputs": [],
   "source": [
    "sq = pow(2)"
   ]
  },
  {
   "cell_type": "code",
   "execution_count": 32,
   "id": "862ca39f",
   "metadata": {},
   "outputs": [
    {
     "data": {
      "text/plain": [
       "(<cell at 0x7f6418ec0af0: int object at 0x7f6438716950>,)"
      ]
     },
     "execution_count": 32,
     "metadata": {},
     "output_type": "execute_result"
    }
   ],
   "source": [
    "sq.__closure__"
   ]
  },
  {
   "cell_type": "code",
   "execution_count": 34,
   "id": "d405f655",
   "metadata": {},
   "outputs": [],
   "source": [
    "cube = pow(3)"
   ]
  },
  {
   "cell_type": "code",
   "execution_count": 37,
   "id": "b48f2a79",
   "metadata": {},
   "outputs": [
    {
     "data": {
      "text/plain": [
       "(<cell at 0x7f6418ec0b50: int object at 0x7f6438716970>,)"
      ]
     },
     "execution_count": 37,
     "metadata": {},
     "output_type": "execute_result"
    }
   ],
   "source": [
    "# Although both sq() and cube() were created by the same function, they reference different\n",
    "# cells. A new scope is created for each function call of pow()\n",
    "cube.__closure__"
   ]
  },
  {
   "cell_type": "code",
   "execution_count": 38,
   "id": "ef290c15",
   "metadata": {},
   "outputs": [],
   "source": [
    "def adder(n):\n",
    "    def inner(x):\n",
    "        return x + n\n",
    "    \n",
    "    return inner"
   ]
  },
  {
   "cell_type": "code",
   "execution_count": 39,
   "id": "c6ee73c6",
   "metadata": {},
   "outputs": [],
   "source": [
    "add_1 = adder(1)\n",
    "add_2 = adder(2)"
   ]
  },
  {
   "cell_type": "code",
   "execution_count": 40,
   "id": "fd871cb9",
   "metadata": {},
   "outputs": [
    {
     "data": {
      "text/plain": [
       "(<cell at 0x7f6418d367f0: int object at 0x7f6438716930>,)"
      ]
     },
     "execution_count": 40,
     "metadata": {},
     "output_type": "execute_result"
    }
   ],
   "source": [
    "add_1.__closure__"
   ]
  },
  {
   "cell_type": "code",
   "execution_count": 41,
   "id": "f2551557",
   "metadata": {},
   "outputs": [
    {
     "data": {
      "text/plain": [
       "(<cell at 0x7f6418d368e0: int object at 0x7f6438716950>,)"
      ]
     },
     "execution_count": 41,
     "metadata": {},
     "output_type": "execute_result"
    }
   ],
   "source": [
    "add_2.__closure__"
   ]
  },
  {
   "cell_type": "code",
   "execution_count": 44,
   "id": "67df6fda",
   "metadata": {},
   "outputs": [],
   "source": [
    "# Beware, since the reference for n will be the same for all appended lambdas,\n",
    "# therefore all 'adder' functions will use n==2\n",
    "def create_adders():\n",
    "    adders = list()\n",
    "    for n in range(1, 3):\n",
    "        adders.append(lambda x: x + n)\n",
    "    return adders"
   ]
  },
  {
   "cell_type": "code",
   "execution_count": 45,
   "id": "ebd9a868",
   "metadata": {},
   "outputs": [],
   "source": [
    "adders = create_adders()"
   ]
  },
  {
   "cell_type": "code",
   "execution_count": 47,
   "id": "e3b1e889",
   "metadata": {},
   "outputs": [
    {
     "data": {
      "text/plain": [
       "((<cell at 0x7f6418eb6490: int object at 0x7f6438716950>,),\n",
       " (<cell at 0x7f6418eb6490: int object at 0x7f6438716950>,))"
      ]
     },
     "execution_count": 47,
     "metadata": {},
     "output_type": "execute_result"
    }
   ],
   "source": [
    "# Here we can see both adders refference the same cell and the same int object\n",
    "adders[0].__closure__, adders[1].__closure__"
   ]
  },
  {
   "cell_type": "code",
   "execution_count": 48,
   "id": "ac372f39",
   "metadata": {},
   "outputs": [],
   "source": [
    "# We can remedy this issue by setting a default value of y==n, default values are evaluated\n",
    "# at creation, therefore each adder function will correctly reference n\n",
    "def create_adders():\n",
    "    adders = list()\n",
    "    for n in range(1, 3):\n",
    "        adders.append(lambda x, y=n: x + y)\n",
    "    return adders"
   ]
  },
  {
   "cell_type": "code",
   "execution_count": 60,
   "id": "49065da0",
   "metadata": {},
   "outputs": [],
   "source": [
    "class Averager:\n",
    "    def __init__(self):\n",
    "        self.numbers = list()\n",
    "        \n",
    "    def add(self, number):\n",
    "        self.numbers.append(number)\n",
    "        total = sum(self.numbers)\n",
    "        count = len(self.numbers)\n",
    "        return total / count"
   ]
  },
  {
   "cell_type": "code",
   "execution_count": 61,
   "id": "32634a11",
   "metadata": {},
   "outputs": [],
   "source": [
    "a = Averager()"
   ]
  },
  {
   "cell_type": "code",
   "execution_count": 62,
   "id": "cbf16c43",
   "metadata": {},
   "outputs": [
    {
     "data": {
      "text/plain": [
       "10.0"
      ]
     },
     "execution_count": 62,
     "metadata": {},
     "output_type": "execute_result"
    }
   ],
   "source": [
    "a.add(10)"
   ]
  },
  {
   "cell_type": "code",
   "execution_count": 63,
   "id": "98d8f1f4",
   "metadata": {},
   "outputs": [
    {
     "data": {
      "text/plain": [
       "55.0"
      ]
     },
     "execution_count": 63,
     "metadata": {},
     "output_type": "execute_result"
    }
   ],
   "source": [
    "a.add(100)"
   ]
  },
  {
   "cell_type": "code",
   "execution_count": 64,
   "id": "816f9e30",
   "metadata": {},
   "outputs": [],
   "source": [
    "def averager():\n",
    "    numbers = list()\n",
    "    def add(number):\n",
    "        numbers.append(number)\n",
    "        total = sum(numbers)\n",
    "        count = len(numbers)\n",
    "        return total / count\n",
    "    return add"
   ]
  },
  {
   "cell_type": "code",
   "execution_count": 65,
   "id": "60280fdb",
   "metadata": {},
   "outputs": [],
   "source": [
    "add = averager()"
   ]
  },
  {
   "cell_type": "code",
   "execution_count": 66,
   "id": "339a6035",
   "metadata": {},
   "outputs": [
    {
     "data": {
      "text/plain": [
       "10.0"
      ]
     },
     "execution_count": 66,
     "metadata": {},
     "output_type": "execute_result"
    }
   ],
   "source": [
    "add(10)"
   ]
  },
  {
   "cell_type": "code",
   "execution_count": 67,
   "id": "834126c2",
   "metadata": {},
   "outputs": [
    {
     "data": {
      "text/plain": [
       "55.0"
      ]
     },
     "execution_count": 67,
     "metadata": {},
     "output_type": "execute_result"
    }
   ],
   "source": [
    "add(100)"
   ]
  },
  {
   "cell_type": "code",
   "execution_count": 68,
   "id": "7c29292a",
   "metadata": {},
   "outputs": [],
   "source": [
    "def averager():\n",
    "    total, count = 0, 0\n",
    "    def add(number):\n",
    "        nonlocal total, count\n",
    "        total = total + number\n",
    "        count += 1\n",
    "        return total / count\n",
    "    return add"
   ]
  },
  {
   "cell_type": "code",
   "execution_count": 69,
   "id": "fc52b939",
   "metadata": {},
   "outputs": [
    {
     "data": {
      "text/plain": [
       "55.0"
      ]
     },
     "execution_count": 69,
     "metadata": {},
     "output_type": "execute_result"
    }
   ],
   "source": [
    "add = averager()\n",
    "add(10)\n",
    "add(100)"
   ]
  },
  {
   "cell_type": "code",
   "execution_count": 70,
   "id": "065afb28",
   "metadata": {},
   "outputs": [],
   "source": [
    "from time import perf_counter"
   ]
  },
  {
   "cell_type": "code",
   "execution_count": 76,
   "id": "9e3c082e",
   "metadata": {},
   "outputs": [],
   "source": [
    "class Timer:\n",
    "    def __init__(self):\n",
    "        self.start = perf_counter()\n",
    "        \n",
    "    def __call__(self):\n",
    "        return perf_counter() - self.start"
   ]
  },
  {
   "cell_type": "code",
   "execution_count": 77,
   "id": "e84b134b",
   "metadata": {},
   "outputs": [],
   "source": [
    "t1 = Timer()"
   ]
  },
  {
   "cell_type": "code",
   "execution_count": 78,
   "id": "36acd8da",
   "metadata": {},
   "outputs": [
    {
     "data": {
      "text/plain": [
       "0.32161684799939394"
      ]
     },
     "execution_count": 78,
     "metadata": {},
     "output_type": "execute_result"
    }
   ],
   "source": [
    "t1()"
   ]
  },
  {
   "cell_type": "code",
   "execution_count": 79,
   "id": "d8ea2af2",
   "metadata": {},
   "outputs": [
    {
     "data": {
      "text/plain": [
       "4.088377288004267"
      ]
     },
     "execution_count": 79,
     "metadata": {},
     "output_type": "execute_result"
    }
   ],
   "source": [
    "t1()"
   ]
  },
  {
   "cell_type": "code",
   "execution_count": 83,
   "id": "de8469e7",
   "metadata": {},
   "outputs": [],
   "source": [
    "def timer():\n",
    "    start = perf_counter()\n",
    "    def poll():\n",
    "        return perf_counter() - start\n",
    "    return poll"
   ]
  },
  {
   "cell_type": "code",
   "execution_count": 84,
   "id": "6097d5d4",
   "metadata": {},
   "outputs": [],
   "source": [
    "t2 = timer()"
   ]
  },
  {
   "cell_type": "code",
   "execution_count": 85,
   "id": "6c088220",
   "metadata": {},
   "outputs": [
    {
     "data": {
      "text/plain": [
       "0.4114427849999629"
      ]
     },
     "execution_count": 85,
     "metadata": {},
     "output_type": "execute_result"
    }
   ],
   "source": [
    "t2()"
   ]
  },
  {
   "cell_type": "code",
   "execution_count": 86,
   "id": "38418e07",
   "metadata": {},
   "outputs": [
    {
     "data": {
      "text/plain": [
       "3.882288751003216"
      ]
     },
     "execution_count": 86,
     "metadata": {},
     "output_type": "execute_result"
    }
   ],
   "source": [
    "t2()"
   ]
  },
  {
   "cell_type": "code",
   "execution_count": 87,
   "id": "65e101ef",
   "metadata": {},
   "outputs": [],
   "source": [
    "def counter(initial=0):\n",
    "    def inc(increment=1):\n",
    "        nonlocal initial\n",
    "        initial += increment\n",
    "        return initial\n",
    "    return inc"
   ]
  },
  {
   "cell_type": "code",
   "execution_count": 88,
   "id": "322e3463",
   "metadata": {},
   "outputs": [],
   "source": [
    "c1 = counter()"
   ]
  },
  {
   "cell_type": "code",
   "execution_count": 89,
   "id": "efc586b8",
   "metadata": {},
   "outputs": [
    {
     "data": {
      "text/plain": [
       "1"
      ]
     },
     "execution_count": 89,
     "metadata": {},
     "output_type": "execute_result"
    }
   ],
   "source": [
    "c1()"
   ]
  },
  {
   "cell_type": "code",
   "execution_count": 91,
   "id": "413a69e0",
   "metadata": {},
   "outputs": [
    {
     "data": {
      "text/plain": [
       "2"
      ]
     },
     "execution_count": 91,
     "metadata": {},
     "output_type": "execute_result"
    }
   ],
   "source": [
    "c1()"
   ]
  },
  {
   "cell_type": "code",
   "execution_count": 99,
   "id": "09b6163c",
   "metadata": {},
   "outputs": [],
   "source": [
    "c = dict()\n",
    "def fn_counter(fn, count_dict):\n",
    "    cnt = 0\n",
    "    def inner(*args, **kwargs):\n",
    "        nonlocal cnt\n",
    "        cnt += 1\n",
    "        count_dict[fn.__name__] = cnt\n",
    "        return fn(*args, **kwargs)\n",
    "    return inner"
   ]
  },
  {
   "cell_type": "code",
   "execution_count": 100,
   "id": "b2f69831",
   "metadata": {},
   "outputs": [],
   "source": [
    "def add(a, b): return a + b\n",
    "def mult(a, b): return a * b"
   ]
  },
  {
   "cell_type": "code",
   "execution_count": 101,
   "id": "5106e0d9",
   "metadata": {},
   "outputs": [],
   "source": [
    "add_and_count = fn_counter(add, c)"
   ]
  },
  {
   "cell_type": "code",
   "execution_count": 102,
   "id": "38392c5f",
   "metadata": {},
   "outputs": [
    {
     "data": {
      "text/plain": [
       "15"
      ]
     },
     "execution_count": 102,
     "metadata": {},
     "output_type": "execute_result"
    }
   ],
   "source": [
    "add_and_count(5, 10)"
   ]
  },
  {
   "cell_type": "code",
   "execution_count": 103,
   "id": "b9432d33",
   "metadata": {},
   "outputs": [
    {
     "data": {
      "text/plain": [
       "100"
      ]
     },
     "execution_count": 103,
     "metadata": {},
     "output_type": "execute_result"
    }
   ],
   "source": [
    "mult_and_count = fn_counter(mult, c)\n",
    "mult_and_count(10, 10)"
   ]
  },
  {
   "cell_type": "code",
   "execution_count": 104,
   "id": "aa07ec5b",
   "metadata": {},
   "outputs": [
    {
     "data": {
      "text/plain": [
       "{'add': 1, 'mult': 1}"
      ]
     },
     "execution_count": 104,
     "metadata": {},
     "output_type": "execute_result"
    }
   ],
   "source": [
    "c"
   ]
  },
  {
   "cell_type": "code",
   "execution_count": 105,
   "id": "ebad9f02",
   "metadata": {},
   "outputs": [],
   "source": [
    "def fac(n):\n",
    "    product = 1\n",
    "    for i in range(2, n+1):\n",
    "        product *= i\n",
    "    return product"
   ]
  },
  {
   "cell_type": "code",
   "execution_count": 107,
   "id": "f8a75209",
   "metadata": {},
   "outputs": [
    {
     "data": {
      "text/plain": [
       "3628800"
      ]
     },
     "execution_count": 107,
     "metadata": {},
     "output_type": "execute_result"
    }
   ],
   "source": [
    "fac = fn_counter(fac, c)\n",
    "fac(2)\n",
    "fac(5)\n",
    "fac(10)"
   ]
  },
  {
   "cell_type": "code",
   "execution_count": 108,
   "id": "4c4f6402",
   "metadata": {},
   "outputs": [
    {
     "data": {
      "text/plain": [
       "{'add': 1, 'mult': 1, 'fac': 3}"
      ]
     },
     "execution_count": 108,
     "metadata": {},
     "output_type": "execute_result"
    }
   ],
   "source": [
    "c"
   ]
  },
  {
   "cell_type": "code",
   "execution_count": null,
   "id": "fab4514e",
   "metadata": {},
   "outputs": [],
   "source": []
  }
 ],
 "metadata": {
  "kernelspec": {
   "display_name": "Python 3 (ipykernel)",
   "language": "python",
   "name": "python3"
  },
  "language_info": {
   "codemirror_mode": {
    "name": "ipython",
    "version": 3
   },
   "file_extension": ".py",
   "mimetype": "text/x-python",
   "name": "python",
   "nbconvert_exporter": "python",
   "pygments_lexer": "ipython3",
   "version": "3.9.7"
  }
 },
 "nbformat": 4,
 "nbformat_minor": 5
}
