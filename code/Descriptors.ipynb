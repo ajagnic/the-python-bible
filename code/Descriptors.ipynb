{
 "cells": [
  {
   "cell_type": "code",
   "execution_count": 1,
   "id": "8c01f080",
   "metadata": {},
   "outputs": [],
   "source": [
    "from datetime import datetime"
   ]
  },
  {
   "cell_type": "code",
   "execution_count": 2,
   "id": "d17c404a",
   "metadata": {},
   "outputs": [],
   "source": [
    "class TimeUTC:\n",
    "    def __get__(self, instance, owner_class):\n",
    "        return datetime.utcnow().isoformat()"
   ]
  },
  {
   "cell_type": "code",
   "execution_count": 3,
   "id": "87d46d78",
   "metadata": {},
   "outputs": [],
   "source": [
    "class Logger:\n",
    "    current_time = TimeUTC()"
   ]
  },
  {
   "cell_type": "code",
   "execution_count": 4,
   "id": "6f209b83",
   "metadata": {},
   "outputs": [
    {
     "data": {
      "text/plain": [
       "'2022-02-08T01:37:11.807097'"
      ]
     },
     "execution_count": 4,
     "metadata": {},
     "output_type": "execute_result"
    }
   ],
   "source": [
    "Logger.current_time"
   ]
  },
  {
   "cell_type": "code",
   "execution_count": 5,
   "id": "8a0d01fd",
   "metadata": {},
   "outputs": [
    {
     "data": {
      "text/plain": [
       "'2022-02-08T01:37:22.292410'"
      ]
     },
     "execution_count": 5,
     "metadata": {},
     "output_type": "execute_result"
    }
   ],
   "source": [
    "l = Logger\n",
    "l.current_time"
   ]
  },
  {
   "cell_type": "code",
   "execution_count": 7,
   "id": "a5f5350c",
   "metadata": {},
   "outputs": [],
   "source": [
    "from random import choice, seed\n",
    "\n",
    "class Deck:\n",
    "    @property\n",
    "    def suit(self):\n",
    "        return choice( ('Spade', 'Heart', 'Diamond', 'Club') )\n",
    "    \n",
    "    @property\n",
    "    def card(self):\n",
    "        return choice( tuple('23456789JQKA') + ('10',) )"
   ]
  },
  {
   "cell_type": "code",
   "execution_count": 8,
   "id": "47e75fec",
   "metadata": {},
   "outputs": [
    {
     "name": "stdout",
     "output_type": "stream",
     "text": [
      "6 Heart\n",
      "Q Heart\n",
      "K Heart\n",
      "10 Spade\n",
      "3 Heart\n",
      "A Club\n",
      "2 Club\n",
      "J Heart\n",
      "5 Spade\n",
      "10 Spade\n"
     ]
    }
   ],
   "source": [
    "d = Deck()\n",
    "\n",
    "for _ in range(10):\n",
    "    print(d.card, d.suit)"
   ]
  },
  {
   "cell_type": "code",
   "execution_count": 10,
   "id": "4bb5e17c",
   "metadata": {},
   "outputs": [],
   "source": [
    "class Choice:\n",
    "    def __init__(self, *choices):\n",
    "        self.choices = choices\n",
    "        \n",
    "    def __get__(self, instance, owner_class):\n",
    "        return choice(self.choices)"
   ]
  },
  {
   "cell_type": "code",
   "execution_count": 11,
   "id": "b71297c6",
   "metadata": {},
   "outputs": [],
   "source": [
    "class Deck:\n",
    "    suit = Choice('Spade', 'Heart', 'Diamond', 'Club')\n",
    "    card = Choice(*'23456789JQKA', '10')"
   ]
  },
  {
   "cell_type": "code",
   "execution_count": 12,
   "id": "83edca6d",
   "metadata": {},
   "outputs": [
    {
     "name": "stdout",
     "output_type": "stream",
     "text": [
      "5 Diamond\n",
      "3 Spade\n",
      "9 Spade\n",
      "J Spade\n",
      "A Spade\n",
      "4 Diamond\n",
      "3 Diamond\n",
      "7 Spade\n",
      "9 Club\n",
      "8 Diamond\n"
     ]
    }
   ],
   "source": [
    "d = Deck()\n",
    "for _ in range(10):\n",
    "    print(d.card, d.suit)"
   ]
  },
  {
   "cell_type": "code",
   "execution_count": 13,
   "id": "45dcce1d",
   "metadata": {},
   "outputs": [],
   "source": [
    "class TimeUTC:\n",
    "    def __get__(self, instance, owner_class):\n",
    "        print(f\"__get__ called, self={self}, instance={instance}, owner_class={owner_class}\")\n",
    "        return datetime.utcnow().isoformat()"
   ]
  },
  {
   "cell_type": "code",
   "execution_count": 14,
   "id": "2abb0549",
   "metadata": {},
   "outputs": [],
   "source": [
    "class Logger1:\n",
    "    current_time = TimeUTC()\n",
    "    \n",
    "class Logger2:\n",
    "    current_time = TimeUTC()"
   ]
  },
  {
   "cell_type": "code",
   "execution_count": 15,
   "id": "e18a7659",
   "metadata": {},
   "outputs": [
    {
     "name": "stdout",
     "output_type": "stream",
     "text": [
      "__get__ called, self=<__main__.TimeUTC object at 0x7fa2da12a940>, instance=None, owner_class=<class '__main__.Logger1'>\n"
     ]
    },
    {
     "data": {
      "text/plain": [
       "'2022-02-08T01:49:09.216662'"
      ]
     },
     "execution_count": 15,
     "metadata": {},
     "output_type": "execute_result"
    }
   ],
   "source": [
    "Logger1.current_time"
   ]
  },
  {
   "cell_type": "code",
   "execution_count": 16,
   "id": "ace26a50",
   "metadata": {},
   "outputs": [
    {
     "name": "stdout",
     "output_type": "stream",
     "text": [
      "__get__ called, self=<__main__.TimeUTC object at 0x7fa2da12a820>, instance=None, owner_class=<class '__main__.Logger2'>\n"
     ]
    },
    {
     "data": {
      "text/plain": [
       "'2022-02-08T01:50:12.055200'"
      ]
     },
     "execution_count": 16,
     "metadata": {},
     "output_type": "execute_result"
    }
   ],
   "source": [
    "Logger2.current_time"
   ]
  },
  {
   "cell_type": "code",
   "execution_count": 17,
   "id": "a5608a7f",
   "metadata": {},
   "outputs": [
    {
     "name": "stdout",
     "output_type": "stream",
     "text": [
      "0x7fa2d9bd6d30\n",
      "__get__ called, self=<__main__.TimeUTC object at 0x7fa2da12a940>, instance=<__main__.Logger1 object at 0x7fa2d9bd6d30>, owner_class=<class '__main__.Logger1'>\n"
     ]
    },
    {
     "data": {
      "text/plain": [
       "'2022-02-08T01:50:42.102319'"
      ]
     },
     "execution_count": 17,
     "metadata": {},
     "output_type": "execute_result"
    }
   ],
   "source": [
    "l1 = Logger1()\n",
    "print(hex(id(l1)))\n",
    "l1.current_time"
   ]
  },
  {
   "cell_type": "code",
   "execution_count": 18,
   "id": "baa82612",
   "metadata": {},
   "outputs": [
    {
     "name": "stdout",
     "output_type": "stream",
     "text": [
      "__get__ called, self=<__main__.TimeUTC object at 0x7fa2da12a940>, instance=<__main__.Logger1 object at 0x7fa2da01d4c0>, owner_class=<class '__main__.Logger1'>\n"
     ]
    },
    {
     "data": {
      "text/plain": [
       "'2022-02-08T01:51:28.226873'"
      ]
     },
     "execution_count": 18,
     "metadata": {},
     "output_type": "execute_result"
    }
   ],
   "source": [
    "l2 = Logger1()\n",
    "l2.current_time"
   ]
  },
  {
   "cell_type": "code",
   "execution_count": 19,
   "id": "6ebbbbcc",
   "metadata": {},
   "outputs": [],
   "source": [
    "class TimeUTC:\n",
    "    def __get__(self, instance, owner_class):\n",
    "        if instance is None:\n",
    "            return self\n",
    "        else:\n",
    "            return datetime.utcnow().isoformat()    "
   ]
  },
  {
   "cell_type": "code",
   "execution_count": 20,
   "id": "d176a05f",
   "metadata": {},
   "outputs": [],
   "source": [
    "class Logger:\n",
    "    current_time = TimeUTC()"
   ]
  },
  {
   "cell_type": "code",
   "execution_count": 21,
   "id": "54b1b26b",
   "metadata": {},
   "outputs": [
    {
     "data": {
      "text/plain": [
       "<__main__.TimeUTC at 0x7fa2d974ac70>"
      ]
     },
     "execution_count": 21,
     "metadata": {},
     "output_type": "execute_result"
    }
   ],
   "source": [
    "Logger.current_time"
   ]
  },
  {
   "cell_type": "code",
   "execution_count": 23,
   "id": "581fd41e",
   "metadata": {},
   "outputs": [
    {
     "data": {
      "text/plain": [
       "'2022-02-08T01:54:13.885535'"
      ]
     },
     "execution_count": 23,
     "metadata": {},
     "output_type": "execute_result"
    }
   ],
   "source": [
    "l = Logger()\n",
    "l.current_time"
   ]
  },
  {
   "cell_type": "code",
   "execution_count": 24,
   "id": "d3151d31",
   "metadata": {},
   "outputs": [],
   "source": [
    "class TimeUTC:\n",
    "    def __get__(self, instance, owner_class):\n",
    "        if instance is None:\n",
    "            return self\n",
    "        else:\n",
    "            print(f\"__get__ called in {self}\")\n",
    "            return datetime.utcnow().isoformat() \n",
    "        \n",
    "class Logger:\n",
    "    current_time = TimeUTC()"
   ]
  },
  {
   "cell_type": "code",
   "execution_count": 25,
   "id": "bf4d1957",
   "metadata": {},
   "outputs": [
    {
     "name": "stdout",
     "output_type": "stream",
     "text": [
      "__get__ called in <__main__.TimeUTC object at 0x7fa2d973f370>\n",
      "__get__ called in <__main__.TimeUTC object at 0x7fa2d973f370>\n"
     ]
    },
    {
     "data": {
      "text/plain": [
       "('2022-02-08T01:57:13.947465', '2022-02-08T01:57:13.947563')"
      ]
     },
     "execution_count": 25,
     "metadata": {},
     "output_type": "execute_result"
    }
   ],
   "source": [
    "l1 = Logger()\n",
    "l2 = Logger()\n",
    "\n",
    "l1.current_time, l2.current_time"
   ]
  },
  {
   "cell_type": "code",
   "execution_count": 30,
   "id": "0a91224f",
   "metadata": {},
   "outputs": [],
   "source": [
    "class Countdown:\n",
    "    def __init__(self, start):\n",
    "        self.start = start + 1\n",
    "        \n",
    "    def __get__(self, instance, owner_class):\n",
    "        if instance is None:\n",
    "            return self\n",
    "        self.start -= 1\n",
    "        return self.start\n",
    "    \n",
    "class ShuttleLaunch:\n",
    "    countdown = Countdown(10)"
   ]
  },
  {
   "cell_type": "code",
   "execution_count": 31,
   "id": "bbdd1e86",
   "metadata": {},
   "outputs": [],
   "source": [
    "s1 = ShuttleLaunch()\n",
    "s2 = ShuttleLaunch()"
   ]
  },
  {
   "cell_type": "code",
   "execution_count": 32,
   "id": "7e86e18b",
   "metadata": {},
   "outputs": [
    {
     "data": {
      "text/plain": [
       "10"
      ]
     },
     "execution_count": 32,
     "metadata": {},
     "output_type": "execute_result"
    }
   ],
   "source": [
    "s1.countdown"
   ]
  },
  {
   "cell_type": "code",
   "execution_count": 33,
   "id": "ddbe2dfe",
   "metadata": {},
   "outputs": [
    {
     "data": {
      "text/plain": [
       "9"
      ]
     },
     "execution_count": 33,
     "metadata": {},
     "output_type": "execute_result"
    }
   ],
   "source": [
    "s2.countdown"
   ]
  },
  {
   "cell_type": "code",
   "execution_count": 35,
   "id": "9d16891b",
   "metadata": {},
   "outputs": [],
   "source": [
    "class IntegerValue:\n",
    "    def __set__(self, instance, value):\n",
    "        print(f\"__set__ called, instance={instance}, value={value}\")\n",
    "        \n",
    "    def __get__(self, instance, owner_class):\n",
    "        if instance is None:\n",
    "            print('__get__ called from class')\n",
    "        else:\n",
    "            print(f\"__get__ called, instance={instance}, owner_class={owner_class}\")"
   ]
  },
  {
   "cell_type": "code",
   "execution_count": 36,
   "id": "492b1bf8",
   "metadata": {},
   "outputs": [],
   "source": [
    "class Point2D:\n",
    "    x = IntegerValue()\n",
    "    y = IntegerValue()"
   ]
  },
  {
   "cell_type": "code",
   "execution_count": 38,
   "id": "9514865f",
   "metadata": {},
   "outputs": [
    {
     "name": "stdout",
     "output_type": "stream",
     "text": [
      "__get__ called from class\n"
     ]
    }
   ],
   "source": [
    "Point2D.x"
   ]
  },
  {
   "cell_type": "code",
   "execution_count": 40,
   "id": "1cf32872",
   "metadata": {},
   "outputs": [
    {
     "name": "stdout",
     "output_type": "stream",
     "text": [
      "__get__ called, instance=<__main__.Point2D object at 0x7fa2d9f04d90>, owner_class=<class '__main__.Point2D'>\n"
     ]
    }
   ],
   "source": [
    "p = Point2D()\n",
    "p.x"
   ]
  },
  {
   "cell_type": "code",
   "execution_count": 41,
   "id": "5b0b4666",
   "metadata": {},
   "outputs": [
    {
     "name": "stdout",
     "output_type": "stream",
     "text": [
      "__set__ called, instance=<__main__.Point2D object at 0x7fa2d9f04d90>, value=100\n"
     ]
    }
   ],
   "source": [
    "p.x = 100"
   ]
  },
  {
   "cell_type": "code",
   "execution_count": 42,
   "id": "13432251",
   "metadata": {},
   "outputs": [],
   "source": [
    "class IntegerValue:\n",
    "    def __init__(self, name):\n",
    "        self.storage_name = '_' + name\n",
    "    \n",
    "    def __set__(self, instance, value):\n",
    "        setattr(instance, self.storage_name, int(value))\n",
    "        \n",
    "    def __get__(self, instance, owner_class):\n",
    "        if instance is None: \n",
    "            return self\n",
    "        return getattr(instance, self.storage_name, None)"
   ]
  },
  {
   "cell_type": "code",
   "execution_count": 44,
   "id": "2d44bf31",
   "metadata": {},
   "outputs": [],
   "source": [
    "class Point2D:\n",
    "    x = IntegerValue('x')\n",
    "    y = IntegerValue('y')"
   ]
  },
  {
   "cell_type": "code",
   "execution_count": 46,
   "id": "078d3c9b",
   "metadata": {},
   "outputs": [
    {
     "data": {
      "text/plain": [
       "{'_x': 10, '_y': 20}"
      ]
     },
     "execution_count": 46,
     "metadata": {},
     "output_type": "execute_result"
    }
   ],
   "source": [
    "p1, p2 = Point2D(), Point2D()\n",
    "\n",
    "p1.x = 10.1\n",
    "p1.y = 20.2\n",
    "p1.__dict__"
   ]
  },
  {
   "cell_type": "code",
   "execution_count": 47,
   "id": "c4ab00de",
   "metadata": {},
   "outputs": [
    {
     "data": {
      "text/plain": [
       "{}"
      ]
     },
     "execution_count": 47,
     "metadata": {},
     "output_type": "execute_result"
    }
   ],
   "source": [
    "p2.__dict__"
   ]
  },
  {
   "cell_type": "code",
   "execution_count": 72,
   "id": "cf4bfa2d",
   "metadata": {},
   "outputs": [],
   "source": [
    "# instances must be hashable, memory leak since theres always a ref to instance obj\n",
    "class IntegerValue:\n",
    "    def __init__(self):\n",
    "        self.values = dict()\n",
    "    \n",
    "    def __set__(self, instance, value):\n",
    "        self.values[instance] = int(value)\n",
    "        \n",
    "    def __get__(self, instance, owner_class):\n",
    "        if instance is None: \n",
    "            return self\n",
    "        return self.values.get(instance, None)"
   ]
  },
  {
   "cell_type": "code",
   "execution_count": 73,
   "id": "529712a9",
   "metadata": {},
   "outputs": [],
   "source": [
    "class Point2D:\n",
    "    x = IntegerValue()\n",
    "    y = IntegerValue()"
   ]
  },
  {
   "cell_type": "code",
   "execution_count": 74,
   "id": "d198f168",
   "metadata": {},
   "outputs": [
    {
     "data": {
      "text/plain": [
       "{<__main__.Point2D at 0x7fa2d9728550>: 10,\n",
       " <__main__.Point2D at 0x7fa2d9728c10>: 100}"
      ]
     },
     "execution_count": 74,
     "metadata": {},
     "output_type": "execute_result"
    }
   ],
   "source": [
    "p1, p2 = Point2D(), Point2D()\n",
    "p1.x = 10.1\n",
    "p2.x = 100.1\n",
    "\n",
    "Point2D.x.values"
   ]
  },
  {
   "cell_type": "code",
   "execution_count": 4,
   "id": "c51d9fc7",
   "metadata": {},
   "outputs": [],
   "source": [
    "import weakref"
   ]
  },
  {
   "cell_type": "code",
   "execution_count": 81,
   "id": "9cf44148",
   "metadata": {},
   "outputs": [],
   "source": [
    "# instance must be hashable\n",
    "class IntegerValue:\n",
    "    def __init__(self):\n",
    "        self.values = weakref.WeakKeyDictionary()\n",
    "    \n",
    "    def __set__(self, instance, value):\n",
    "        self.values[instance] = int(value)\n",
    "        \n",
    "    def __get__(self, instance, owner_class):\n",
    "        if instance is None: \n",
    "            return self\n",
    "        else:\n",
    "            return self.values.get(instance, None)"
   ]
  },
  {
   "cell_type": "code",
   "execution_count": 82,
   "id": "5c72ff04",
   "metadata": {},
   "outputs": [],
   "source": [
    "class Point:\n",
    "    x = IntegerValue()"
   ]
  },
  {
   "cell_type": "code",
   "execution_count": 83,
   "id": "870c6e92",
   "metadata": {},
   "outputs": [
    {
     "name": "stdout",
     "output_type": "stream",
     "text": [
      "0x7fa2da109370\n"
     ]
    },
    {
     "data": {
      "text/plain": [
       "[<weakref at 0x7fa2d9c4f3b0; to 'Point' at 0x7fa2da109370>]"
      ]
     },
     "execution_count": 83,
     "metadata": {},
     "output_type": "execute_result"
    }
   ],
   "source": [
    "p = Point()\n",
    "print(hex(id(p)))\n",
    "\n",
    "p.x = 100.1\n",
    "Point.x.values.keyrefs()"
   ]
  },
  {
   "cell_type": "code",
   "execution_count": 84,
   "id": "cf59d764",
   "metadata": {},
   "outputs": [
    {
     "data": {
      "text/plain": [
       "[]"
      ]
     },
     "execution_count": 84,
     "metadata": {},
     "output_type": "execute_result"
    }
   ],
   "source": [
    "del p\n",
    "\n",
    "Point.x.values.keyrefs()"
   ]
  },
  {
   "cell_type": "code",
   "execution_count": 89,
   "id": "e463ace7",
   "metadata": {},
   "outputs": [],
   "source": [
    "# no way for keys to be removed when instance is deleted\n",
    "class IntegerValue:\n",
    "    def __init__(self):\n",
    "        self.values = dict()\n",
    "    \n",
    "    def __set__(self, instance, value):\n",
    "        self.values[id(instance)] = int(value)\n",
    "        \n",
    "    def __get__(self, instance, owner_class):\n",
    "        if instance is None: \n",
    "            return self\n",
    "        else:\n",
    "            return self.values.get(id(instance), None)"
   ]
  },
  {
   "cell_type": "code",
   "execution_count": 90,
   "id": "1dc9c131",
   "metadata": {},
   "outputs": [],
   "source": [
    "class Point:\n",
    "    x = IntegerValue()\n",
    "    \n",
    "    def __init__(self, x):\n",
    "        self.x = x\n",
    "        \n",
    "    def __eq__(self, other):\n",
    "        return isinstance(other, Point) and self.x == other.x"
   ]
  },
  {
   "cell_type": "code",
   "execution_count": 91,
   "id": "1dec65b7",
   "metadata": {},
   "outputs": [
    {
     "data": {
      "text/plain": [
       "(140337410277184, {140337410277184: 20})"
      ]
     },
     "execution_count": 91,
     "metadata": {},
     "output_type": "execute_result"
    }
   ],
   "source": [
    "p = Point(10.1)\n",
    "p.x = 20.2\n",
    "\n",
    "id(p), Point.x.values"
   ]
  },
  {
   "cell_type": "code",
   "execution_count": 5,
   "id": "1989d2de",
   "metadata": {},
   "outputs": [],
   "source": [
    "# cannot be used with instances which utilize slots\n",
    "class IntegerValue:\n",
    "    def __init__(self):\n",
    "        self.values = dict()\n",
    "    \n",
    "    def __set__(self, instance, value):\n",
    "        self.values[id(instance)] = (weakref.ref(instance, self._remove_object), int(value))\n",
    "        \n",
    "    def __get__(self, instance, owner_class):\n",
    "        if instance is None: \n",
    "            return self\n",
    "        else:\n",
    "            return self.values[id(instance)][1]\n",
    "        \n",
    "    def _remove_object(self, weak_ref):\n",
    "        print(f\"removing dead entry for {weak_ref}\")\n",
    "        reverse_lookup = [k for k, v in self.values.items()\n",
    "                         if v[0] is weak_ref]\n",
    "        if reverse_lookup:\n",
    "            key = reverse_lookup[0]\n",
    "            del self.values[key]"
   ]
  },
  {
   "cell_type": "code",
   "execution_count": 6,
   "id": "254a5fbe",
   "metadata": {},
   "outputs": [],
   "source": [
    "class Point:\n",
    "    x = IntegerValue()"
   ]
  },
  {
   "cell_type": "code",
   "execution_count": 7,
   "id": "af21f6cc",
   "metadata": {},
   "outputs": [
    {
     "data": {
      "text/plain": [
       "(10, 20)"
      ]
     },
     "execution_count": 7,
     "metadata": {},
     "output_type": "execute_result"
    }
   ],
   "source": [
    "p1, p2 = Point(), Point()\n",
    "\n",
    "p1.x, p2.x = 10.1, 20.2\n",
    "p1.x, p2.x"
   ]
  },
  {
   "cell_type": "code",
   "execution_count": 116,
   "id": "5f241ecc",
   "metadata": {},
   "outputs": [
    {
     "data": {
      "text/plain": [
       "{140337414114272: (<weakref at 0x7fa2d956a680; to 'Point' at 0x7fa2d9b78be0>,\n",
       "  10),\n",
       " 140337414111392: (<weakref at 0x7fa2d9985a40; to 'Point' at 0x7fa2d9b780a0>,\n",
       "  20)}"
      ]
     },
     "execution_count": 116,
     "metadata": {},
     "output_type": "execute_result"
    }
   ],
   "source": [
    "Point.x.values"
   ]
  },
  {
   "cell_type": "code",
   "execution_count": 8,
   "id": "b6743d12",
   "metadata": {},
   "outputs": [
    {
     "name": "stdout",
     "output_type": "stream",
     "text": [
      "removing dead entry for <weakref at 0x7f371677e810; dead>\n"
     ]
    }
   ],
   "source": [
    "del p1"
   ]
  },
  {
   "cell_type": "code",
   "execution_count": 9,
   "id": "4368a6a7",
   "metadata": {},
   "outputs": [
    {
     "data": {
      "text/plain": [
       "{139874576844832: (<weakref at 0x7f3716757b80; to 'Point' at 0x7f3716774820>,\n",
       "  20)}"
      ]
     },
     "execution_count": 9,
     "metadata": {},
     "output_type": "execute_result"
    }
   ],
   "source": [
    "Point.x.values"
   ]
  },
  {
   "cell_type": "code",
   "execution_count": 10,
   "id": "587b6574",
   "metadata": {},
   "outputs": [],
   "source": [
    "class ValidString:\n",
    "    def __init__(self, min_len, max_len):\n",
    "        self.data = dict()\n",
    "        self._min_len = min_len\n",
    "        self._max_len = max_len\n",
    "        \n",
    "    def __set__(self, instance, value):\n",
    "        if not isinstance(value, str):\n",
    "            raise ValueError(\"Value must be 'str'\")\n",
    "        if len(value) < self._min_len:\n",
    "            raise ValueError(f\"Value must be at least {self._min_len} characters\")\n",
    "        if len(value) > self._max_len:\n",
    "            raise ValueError(f\"Value must be less than {self._max_len} characters\")\n",
    "            \n",
    "        weak_ref = weakref.ref(instance, self._finalize_instance)\n",
    "        self.data[id(instance)] = (weak_ref, value)\n",
    "        \n",
    "    def __get__(self, instance, owner_class):\n",
    "        if instance is None:\n",
    "            return self\n",
    "        else:\n",
    "            return self.data.get(id(instance))[1]\n",
    "        \n",
    "    def _finalize_instance(self, weak_ref):\n",
    "        reverse_lookup = [k for k, v in self.data.items()\n",
    "                         if v[0] is weak_ref]\n",
    "        if reverse_lookup:\n",
    "            key = reverse_lookup[0]\n",
    "            del self.data[key]"
   ]
  },
  {
   "cell_type": "code",
   "execution_count": 11,
   "id": "7760dc4f",
   "metadata": {},
   "outputs": [],
   "source": [
    "class Person:\n",
    "    __slots__ = '__weakref__',\n",
    "    \n",
    "    first_name = ValidString(1, 100)\n",
    "    last_name = ValidString(1, 100)\n",
    "    \n",
    "    def __eq__(self, other):\n",
    "        return (\n",
    "            isinstance(other, Person) and\n",
    "            self.first_name == other.first_name and\n",
    "            self.last_name == other.last_name\n",
    "        )"
   ]
  },
  {
   "cell_type": "code",
   "execution_count": 13,
   "id": "832a6270",
   "metadata": {},
   "outputs": [],
   "source": [
    "class BankAccount:\n",
    "    __slots__ = '__weakref__',\n",
    "    \n",
    "    account_number = ValidString(5, 255)\n",
    "    \n",
    "    def __eq__(self, other):\n",
    "        return isinstance(other, BankAccount) and self.account_number == other.account_number"
   ]
  },
  {
   "cell_type": "code",
   "execution_count": 14,
   "id": "96091e5d",
   "metadata": {},
   "outputs": [
    {
     "ename": "ValueError",
     "evalue": "Value must be at least 1 characters",
     "output_type": "error",
     "traceback": [
      "\u001b[0;31m---------------------------------------------------------------------------\u001b[0m",
      "\u001b[0;31mValueError\u001b[0m                                Traceback (most recent call last)",
      "\u001b[0;32m/tmp/ipykernel_46831/70288058.py\u001b[0m in \u001b[0;36m<module>\u001b[0;34m\u001b[0m\n\u001b[1;32m      1\u001b[0m \u001b[0mp1\u001b[0m \u001b[0;34m=\u001b[0m \u001b[0mPerson\u001b[0m\u001b[0;34m(\u001b[0m\u001b[0;34m)\u001b[0m\u001b[0;34m\u001b[0m\u001b[0;34m\u001b[0m\u001b[0m\n\u001b[0;32m----> 2\u001b[0;31m \u001b[0mp1\u001b[0m\u001b[0;34m.\u001b[0m\u001b[0mfirst_name\u001b[0m \u001b[0;34m=\u001b[0m \u001b[0;34m''\u001b[0m\u001b[0;34m\u001b[0m\u001b[0;34m\u001b[0m\u001b[0m\n\u001b[0m",
      "\u001b[0;32m/tmp/ipykernel_46831/409020908.py\u001b[0m in \u001b[0;36m__set__\u001b[0;34m(self, instance, value)\u001b[0m\n\u001b[1;32m      9\u001b[0m             \u001b[0;32mraise\u001b[0m \u001b[0mValueError\u001b[0m\u001b[0;34m(\u001b[0m\u001b[0;34m\"Value must be 'str'\"\u001b[0m\u001b[0;34m)\u001b[0m\u001b[0;34m\u001b[0m\u001b[0;34m\u001b[0m\u001b[0m\n\u001b[1;32m     10\u001b[0m         \u001b[0;32mif\u001b[0m \u001b[0mlen\u001b[0m\u001b[0;34m(\u001b[0m\u001b[0mvalue\u001b[0m\u001b[0;34m)\u001b[0m \u001b[0;34m<\u001b[0m \u001b[0mself\u001b[0m\u001b[0;34m.\u001b[0m\u001b[0m_min_len\u001b[0m\u001b[0;34m:\u001b[0m\u001b[0;34m\u001b[0m\u001b[0;34m\u001b[0m\u001b[0m\n\u001b[0;32m---> 11\u001b[0;31m             \u001b[0;32mraise\u001b[0m \u001b[0mValueError\u001b[0m\u001b[0;34m(\u001b[0m\u001b[0;34mf\"Value must be at least {self._min_len} characters\"\u001b[0m\u001b[0;34m)\u001b[0m\u001b[0;34m\u001b[0m\u001b[0;34m\u001b[0m\u001b[0m\n\u001b[0m\u001b[1;32m     12\u001b[0m         \u001b[0;32mif\u001b[0m \u001b[0mlen\u001b[0m\u001b[0;34m(\u001b[0m\u001b[0mvalue\u001b[0m\u001b[0;34m)\u001b[0m \u001b[0;34m>\u001b[0m \u001b[0mself\u001b[0m\u001b[0;34m.\u001b[0m\u001b[0m_max_len\u001b[0m\u001b[0;34m:\u001b[0m\u001b[0;34m\u001b[0m\u001b[0;34m\u001b[0m\u001b[0m\n\u001b[1;32m     13\u001b[0m             \u001b[0;32mraise\u001b[0m \u001b[0mValueError\u001b[0m\u001b[0;34m(\u001b[0m\u001b[0;34mf\"Value must be less than {self._max_len} characters\"\u001b[0m\u001b[0;34m)\u001b[0m\u001b[0;34m\u001b[0m\u001b[0;34m\u001b[0m\u001b[0m\n",
      "\u001b[0;31mValueError\u001b[0m: Value must be at least 1 characters"
     ]
    }
   ],
   "source": [
    "p1 = Person()\n",
    "p1.first_name = ''"
   ]
  },
  {
   "cell_type": "code",
   "execution_count": 15,
   "id": "113f0bfc",
   "metadata": {},
   "outputs": [],
   "source": [
    "p2 = Person()"
   ]
  },
  {
   "cell_type": "code",
   "execution_count": 16,
   "id": "8802fae5",
   "metadata": {},
   "outputs": [],
   "source": [
    "p1.first_name, p1.last_name = 'Guy', 'Smith'\n",
    "p2.first_name, p2.last_name = 'John', 'Doe'"
   ]
  },
  {
   "cell_type": "code",
   "execution_count": 17,
   "id": "4ad795dd",
   "metadata": {},
   "outputs": [],
   "source": [
    "b1, b2 = BankAccount(), BankAccount()\n",
    "b1.account_number = '1000100110011'\n",
    "b2.account_number = '200222202202'"
   ]
  },
  {
   "cell_type": "code",
   "execution_count": 18,
   "id": "ab9c0fb4",
   "metadata": {},
   "outputs": [
    {
     "data": {
      "text/plain": [
       "'Guy'"
      ]
     },
     "execution_count": 18,
     "metadata": {},
     "output_type": "execute_result"
    }
   ],
   "source": [
    "p1.first_name"
   ]
  },
  {
   "cell_type": "code",
   "execution_count": 19,
   "id": "cd578541",
   "metadata": {},
   "outputs": [
    {
     "data": {
      "text/plain": [
       "'200222202202'"
      ]
     },
     "execution_count": 19,
     "metadata": {},
     "output_type": "execute_result"
    }
   ],
   "source": [
    "b2.account_number"
   ]
  },
  {
   "cell_type": "code",
   "execution_count": 20,
   "id": "c066868c",
   "metadata": {},
   "outputs": [
    {
     "data": {
      "text/plain": [
       "{139874560305232: (<weakref at 0x7f3714e29a40; to 'Person' at 0x7f37157ae850>,\n",
       "  'Guy'),\n",
       " 139874557897504: (<weakref at 0x7f37152dc7c0; to 'Person' at 0x7f3715562b20>,\n",
       "  'John')}"
      ]
     },
     "execution_count": 20,
     "metadata": {},
     "output_type": "execute_result"
    }
   ],
   "source": [
    "Person.first_name.data"
   ]
  },
  {
   "cell_type": "code",
   "execution_count": 24,
   "id": "870f5908",
   "metadata": {
    "scrolled": true
   },
   "outputs": [
    {
     "data": {
      "text/plain": [
       "{139874553388048: (<weakref at 0x7f37152dc770; to 'BankAccount' at 0x7f3715115c10>,\n",
       "  '1000100110011'),\n",
       " 139874553385504: (<weakref at 0x7f3715799a40; to 'BankAccount' at 0x7f3715115220>,\n",
       "  '200222202202')}"
      ]
     },
     "execution_count": 24,
     "metadata": {},
     "output_type": "execute_result"
    }
   ],
   "source": [
    "BankAccount.account_number.data"
   ]
  },
  {
   "cell_type": "code",
   "execution_count": 2,
   "id": "58317bdc",
   "metadata": {},
   "outputs": [
    {
     "name": "stdout",
     "output_type": "stream",
     "text": [
      "__set_name__ called, owner=<class '__main__.Person'>, property=first_name\n",
      "__set_name__ called, owner=<class '__main__.Person'>, property=last_name\n"
     ]
    }
   ],
   "source": [
    "class ValidString:\n",
    "    def __set_name__(self, owner_class, property_name):\n",
    "        print(f\"__set_name__ called, owner={owner_class}, property={property_name}\")\n",
    "        self.property_name = property_name\n",
    "        \n",
    "    def __get__(self, instance, owner_class):\n",
    "        if instance is None:\n",
    "            return self\n",
    "        else:\n",
    "            print(f\"__get__ called for property: {self.property_name} of instance: {instance}\")\n",
    "            \n",
    "    \n",
    "class Person:\n",
    "    first_name = ValidString()\n",
    "    last_name = ValidString()"
   ]
  },
  {
   "cell_type": "code",
   "execution_count": 4,
   "id": "bcd6a92a",
   "metadata": {},
   "outputs": [
    {
     "name": "stdout",
     "output_type": "stream",
     "text": [
      "__get__ called for property: first_name of instance: <__main__.Person object at 0x7f8a2c3f09a0>\n"
     ]
    }
   ],
   "source": [
    "p = Person()\n",
    "p.first_name"
   ]
  },
  {
   "cell_type": "code",
   "execution_count": 9,
   "id": "34953a6c",
   "metadata": {},
   "outputs": [],
   "source": [
    "class ValidString:\n",
    "    def __init__(self, min_len):\n",
    "        self.min_len = min_len\n",
    "        \n",
    "    def __set_name__(self, owner_class, property_name):\n",
    "        self.property_name = property_name\n",
    "        \n",
    "    def __set__(self, instance, value):\n",
    "        if not isinstance(value, str):\n",
    "            raise ValueError(f\"{self.property_name} must be 'str'\")\n",
    "        if len(value) < self.min_len:\n",
    "            raise ValueError(f\"{self.property_name} must be more than {self.min_len} characters\")\n",
    "        \n",
    "        instance.__dict__[self.property_name] = value\n",
    "        \n",
    "    def __get__(self, instance, owner_class):\n",
    "        if instance is None:\n",
    "            return self\n",
    "        else:\n",
    "            instance.__dict__.get(self.property_name, None)"
   ]
  },
  {
   "cell_type": "code",
   "execution_count": 10,
   "id": "fad4ee61",
   "metadata": {},
   "outputs": [],
   "source": [
    "class Person:\n",
    "    first_name = ValidString(1)\n",
    "    last_name = ValidString(2)"
   ]
  },
  {
   "cell_type": "code",
   "execution_count": 11,
   "id": "f94cb765",
   "metadata": {},
   "outputs": [
    {
     "name": "stdout",
     "output_type": "stream",
     "text": [
      "last_name must be more than 2 characters\n"
     ]
    }
   ],
   "source": [
    "p = Person()\n",
    "\n",
    "try:\n",
    "    p.first_name = 'AJ'\n",
    "    p.last_name = 'X'\n",
    "except ValueError as exc:\n",
    "    print(exc)"
   ]
  },
  {
   "cell_type": "code",
   "execution_count": 12,
   "id": "989022a3",
   "metadata": {},
   "outputs": [
    {
     "data": {
      "text/plain": [
       "{'first_name': 'AJ', 'last_name': 'Smith'}"
      ]
     },
     "execution_count": 12,
     "metadata": {},
     "output_type": "execute_result"
    }
   ],
   "source": [
    "p.first_name, p.last_name = 'AJ', 'Smith'\n",
    "p.__dict__"
   ]
  },
  {
   "cell_type": "code",
   "execution_count": 13,
   "id": "5a24bf4a",
   "metadata": {},
   "outputs": [],
   "source": [
    "class IntegerValue:\n",
    "    def __set__(self, instance, value):\n",
    "        print('__set__ called')\n",
    "        \n",
    "    def __get__(self, instance, owner_class):\n",
    "        print('__get__ called')\n",
    "        \n",
    "class Point:\n",
    "    x = IntegerValue()"
   ]
  },
  {
   "cell_type": "code",
   "execution_count": 14,
   "id": "32d1171c",
   "metadata": {},
   "outputs": [
    {
     "name": "stdout",
     "output_type": "stream",
     "text": [
      "__set__ called\n"
     ]
    }
   ],
   "source": [
    "p = Point()\n",
    "p.x = 100"
   ]
  },
  {
   "cell_type": "code",
   "execution_count": 15,
   "id": "4ffa493a",
   "metadata": {},
   "outputs": [
    {
     "name": "stdout",
     "output_type": "stream",
     "text": [
      "__get__ called\n"
     ]
    }
   ],
   "source": [
    "p.x"
   ]
  },
  {
   "cell_type": "code",
   "execution_count": 16,
   "id": "1319030e",
   "metadata": {},
   "outputs": [
    {
     "data": {
      "text/plain": [
       "{}"
      ]
     },
     "execution_count": 16,
     "metadata": {},
     "output_type": "execute_result"
    }
   ],
   "source": [
    "p.__dict__"
   ]
  },
  {
   "cell_type": "code",
   "execution_count": 17,
   "id": "0fc89cd4",
   "metadata": {},
   "outputs": [
    {
     "name": "stdout",
     "output_type": "stream",
     "text": [
      "__get__ called\n"
     ]
    }
   ],
   "source": [
    "p.__dict__['x'] = 'hello'\n",
    "p.x"
   ]
  },
  {
   "cell_type": "code",
   "execution_count": 18,
   "id": "cd2b27d0",
   "metadata": {},
   "outputs": [],
   "source": [
    "class TimeUTC:\n",
    "    def __get__(self, instance, owner_class):\n",
    "        print('__get__ called')\n",
    "        \n",
    "class Logger:\n",
    "    current_time = TimeUTC()"
   ]
  },
  {
   "cell_type": "code",
   "execution_count": 19,
   "id": "26851fa6",
   "metadata": {},
   "outputs": [
    {
     "name": "stdout",
     "output_type": "stream",
     "text": [
      "__get__ called\n"
     ]
    }
   ],
   "source": [
    "l = Logger()\n",
    "l.current_time"
   ]
  },
  {
   "cell_type": "code",
   "execution_count": 20,
   "id": "3daeb09b",
   "metadata": {},
   "outputs": [
    {
     "name": "stdout",
     "output_type": "stream",
     "text": [
      "{}\n"
     ]
    },
    {
     "data": {
      "text/plain": [
       "{'current_time': 'hello'}"
      ]
     },
     "execution_count": 20,
     "metadata": {},
     "output_type": "execute_result"
    }
   ],
   "source": [
    "print(l.__dict__)\n",
    "l.__dict__['current_time'] = 'hello'\n",
    "l.__dict__"
   ]
  },
  {
   "cell_type": "code",
   "execution_count": null,
   "id": "5905fd9b",
   "metadata": {},
   "outputs": [],
   "source": []
  }
 ],
 "metadata": {
  "kernelspec": {
   "display_name": "Python 3 (ipykernel)",
   "language": "python",
   "name": "python3"
  },
  "language_info": {
   "codemirror_mode": {
    "name": "ipython",
    "version": 3
   },
   "file_extension": ".py",
   "mimetype": "text/x-python",
   "name": "python",
   "nbconvert_exporter": "python",
   "pygments_lexer": "ipython3",
   "version": "3.9.7"
  }
 },
 "nbformat": 4,
 "nbformat_minor": 5
}
