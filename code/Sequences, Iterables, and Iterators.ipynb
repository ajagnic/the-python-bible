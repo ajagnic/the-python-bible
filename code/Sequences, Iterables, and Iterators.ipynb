{
 "cells": [
  {
   "cell_type": "code",
   "execution_count": 22,
   "id": "4551defd",
   "metadata": {},
   "outputs": [],
   "source": [
    "from functools import lru_cache"
   ]
  },
  {
   "cell_type": "code",
   "execution_count": 75,
   "id": "45f1fd10",
   "metadata": {},
   "outputs": [],
   "source": [
    "class CustomFibSequence:\n",
    "    def __init__(self, n):\n",
    "        self.n = n\n",
    "        \n",
    "    def __len__(self):\n",
    "        return self.n\n",
    "    \n",
    "    def __getitem__(self, s):\n",
    "        if isinstance(s, int):\n",
    "            if s < 0:\n",
    "                s = self.n + s\n",
    "            if s < 0 or s >= self.n:\n",
    "                raise IndexError\n",
    "            else:\n",
    "                return CustomFibSequence._fib(s)\n",
    "        else:\n",
    "            rng = range(*s.indices(self.n))\n",
    "            return [CustomFibSequence._fib(i) for i in rng]\n",
    "    \n",
    "    @staticmethod\n",
    "    @lru_cache(2**10)\n",
    "    def _fib(n):\n",
    "        return 1 if n < 2 else CustomFibSequence._fib(n-1) + CustomFibSequence._fib(n-2)\n"
   ]
  },
  {
   "cell_type": "code",
   "execution_count": 76,
   "id": "010232e8",
   "metadata": {},
   "outputs": [],
   "source": [
    "f = Fib(10)"
   ]
  },
  {
   "cell_type": "code",
   "execution_count": 77,
   "id": "2b6d3e6b",
   "metadata": {},
   "outputs": [
    {
     "data": {
      "text/plain": [
       "(34, 55)"
      ]
     },
     "execution_count": 77,
     "metadata": {},
     "output_type": "execute_result"
    }
   ],
   "source": [
    "f[8], f[-1]"
   ]
  },
  {
   "cell_type": "code",
   "execution_count": 78,
   "id": "9d21cb02",
   "metadata": {},
   "outputs": [
    {
     "data": {
      "text/plain": [
       "[1, 1, 2, 3, 5, 8, 13, 21, 34, 55]"
      ]
     },
     "execution_count": 78,
     "metadata": {},
     "output_type": "execute_result"
    }
   ],
   "source": [
    "list(f)"
   ]
  },
  {
   "cell_type": "code",
   "execution_count": 79,
   "id": "e416ad25",
   "metadata": {},
   "outputs": [
    {
     "data": {
      "text/plain": [
       "[1, 1, 4, 9, 25, 64, 169, 441, 1156, 3025]"
      ]
     },
     "execution_count": 79,
     "metadata": {},
     "output_type": "execute_result"
    }
   ],
   "source": [
    "[item**2 for item in f]"
   ]
  },
  {
   "cell_type": "code",
   "execution_count": 80,
   "id": "a8781952",
   "metadata": {},
   "outputs": [
    {
     "data": {
      "text/plain": [
       "[55, 34, 21]"
      ]
     },
     "execution_count": 80,
     "metadata": {},
     "output_type": "execute_result"
    }
   ],
   "source": [
    "f[-1:-4:-1]"
   ]
  },
  {
   "cell_type": "code",
   "execution_count": 81,
   "id": "84569015",
   "metadata": {},
   "outputs": [],
   "source": [
    "class SquaresIterable:\n",
    "    def __init__(self, length):\n",
    "        self.i = 0\n",
    "        self.length = length\n",
    "        \n",
    "    def __len__(self):\n",
    "        return self.length\n",
    "    \n",
    "    def __next__(self):\n",
    "        if self.i >= self.length:\n",
    "            raise StopIteration\n",
    "        else:\n",
    "            result = self.i ** 2\n",
    "            self.i += 1\n",
    "            return result"
   ]
  },
  {
   "cell_type": "code",
   "execution_count": 82,
   "id": "d7798721",
   "metadata": {},
   "outputs": [],
   "source": [
    "sq = SquaresIterable(5)"
   ]
  },
  {
   "cell_type": "code",
   "execution_count": 83,
   "id": "db15751f",
   "metadata": {},
   "outputs": [
    {
     "data": {
      "text/plain": [
       "(0, 1, 4)"
      ]
     },
     "execution_count": 83,
     "metadata": {},
     "output_type": "execute_result"
    }
   ],
   "source": [
    "next(sq), next(sq), next(sq)"
   ]
  },
  {
   "cell_type": "code",
   "execution_count": 84,
   "id": "89065d91",
   "metadata": {},
   "outputs": [
    {
     "name": "stdout",
     "output_type": "stream",
     "text": [
      "0\n",
      "1\n",
      "4\n"
     ]
    }
   ],
   "source": [
    "sq = SquaresIterable(3)\n",
    "while True:\n",
    "    try:\n",
    "        print(next(sq))\n",
    "    except StopIteration:\n",
    "        break"
   ]
  },
  {
   "cell_type": "code",
   "execution_count": 92,
   "id": "59a10c72",
   "metadata": {},
   "outputs": [],
   "source": [
    "class SquaresIterator:\n",
    "    def __init__(self, length):\n",
    "        self.i = 0\n",
    "        self.length = length\n",
    "        \n",
    "    def __len__(self):\n",
    "        return self.length\n",
    "    \n",
    "    def __next__(self):\n",
    "        if self.i >= self.length:\n",
    "            raise StopIteration\n",
    "        else:\n",
    "            result = self.i ** 2\n",
    "            self.i += 1\n",
    "            return result\n",
    "        \n",
    "    def __iter__(self):\n",
    "        return self"
   ]
  },
  {
   "cell_type": "code",
   "execution_count": 93,
   "id": "e74d29d3",
   "metadata": {},
   "outputs": [],
   "source": [
    "sq = SquaresIterator(5)"
   ]
  },
  {
   "cell_type": "code",
   "execution_count": 94,
   "id": "d975c5fc",
   "metadata": {},
   "outputs": [
    {
     "name": "stdout",
     "output_type": "stream",
     "text": [
      "0\n",
      "1\n",
      "4\n",
      "9\n",
      "16\n"
     ]
    }
   ],
   "source": [
    "for item in sq:\n",
    "    print(item)"
   ]
  },
  {
   "cell_type": "code",
   "execution_count": 95,
   "id": "7a4743ba",
   "metadata": {},
   "outputs": [],
   "source": [
    "for item in sq:\n",
    "    print(item)"
   ]
  },
  {
   "cell_type": "code",
   "execution_count": 96,
   "id": "fbadf95d",
   "metadata": {},
   "outputs": [
    {
     "data": {
      "text/plain": [
       "(0, 1, 4)"
      ]
     },
     "execution_count": 96,
     "metadata": {},
     "output_type": "execute_result"
    }
   ],
   "source": [
    "sq = SquaresIterator(3)\n",
    "next(sq), next(sq), next(sq)"
   ]
  },
  {
   "cell_type": "code",
   "execution_count": 103,
   "id": "544a93ab",
   "metadata": {},
   "outputs": [],
   "source": [
    "class Cities:\n",
    "    def __init__(self):\n",
    "        self._cities = ['Paris', 'Berlin', 'Rome', 'Split']\n",
    "        self._index = 0\n",
    "        \n",
    "    def __len__(self):\n",
    "        return len(self._cities)"
   ]
  },
  {
   "cell_type": "code",
   "execution_count": 104,
   "id": "87613851",
   "metadata": {},
   "outputs": [],
   "source": [
    "class CityIterator:\n",
    "    def __init__(self, cities):\n",
    "        self._cities_obj = cities\n",
    "        self._index = 0\n",
    "        \n",
    "    def __iter__(self):\n",
    "        return self\n",
    "    \n",
    "    def __next__(self):\n",
    "        if self._index >= len(self._cities_obj):\n",
    "            raise StopIteration\n",
    "        else:\n",
    "            item = self._cities_obj._cities[self._index]\n",
    "            self._index += 1\n",
    "            return item"
   ]
  },
  {
   "cell_type": "code",
   "execution_count": 105,
   "id": "f961f264",
   "metadata": {},
   "outputs": [],
   "source": [
    "cities = Cities()"
   ]
  },
  {
   "cell_type": "code",
   "execution_count": 106,
   "id": "5b83f314",
   "metadata": {},
   "outputs": [],
   "source": [
    "city_iter = CityIterator(cities)"
   ]
  },
  {
   "cell_type": "code",
   "execution_count": 107,
   "id": "018d3a90",
   "metadata": {},
   "outputs": [
    {
     "name": "stdout",
     "output_type": "stream",
     "text": [
      "Paris\n",
      "Berlin\n",
      "Rome\n",
      "Split\n"
     ]
    }
   ],
   "source": [
    "for city in city_iter:\n",
    "    print(city)"
   ]
  },
  {
   "cell_type": "code",
   "execution_count": 109,
   "id": "3ac3ef34",
   "metadata": {},
   "outputs": [],
   "source": [
    "class CitiesIterable:\n",
    "    def __init__(self):\n",
    "        self._cities = ['Paris', 'Berlin', 'Rome', 'Split']\n",
    "        self._index = 0\n",
    "        \n",
    "    def __len__(self):\n",
    "        return len(self._cities)\n",
    "    \n",
    "    def __iter__(self):\n",
    "        return CityIterator(self)"
   ]
  },
  {
   "cell_type": "code",
   "execution_count": 110,
   "id": "10baa6fc",
   "metadata": {},
   "outputs": [],
   "source": [
    "cities = CitiesIterable()"
   ]
  },
  {
   "cell_type": "code",
   "execution_count": 111,
   "id": "2786096f",
   "metadata": {},
   "outputs": [
    {
     "name": "stdout",
     "output_type": "stream",
     "text": [
      "Paris\n",
      "Berlin\n",
      "Rome\n",
      "Split\n"
     ]
    }
   ],
   "source": [
    "for city in cities:\n",
    "    print(city)"
   ]
  },
  {
   "cell_type": "code",
   "execution_count": 114,
   "id": "f9d4fd99",
   "metadata": {},
   "outputs": [
    {
     "data": {
      "text/plain": [
       "'Paris'"
      ]
     },
     "execution_count": 114,
     "metadata": {},
     "output_type": "execute_result"
    }
   ],
   "source": [
    "city_iter = iter(cities)\n",
    "next(city_iter)"
   ]
  },
  {
   "cell_type": "code",
   "execution_count": 115,
   "id": "4e3bf004",
   "metadata": {},
   "outputs": [],
   "source": [
    "class CitiesIterable:\n",
    "    def __init__(self):\n",
    "        self._cities = ['Paris', 'Berlin', 'Rome', 'Split']\n",
    "        self._index = 0\n",
    "        \n",
    "    def __len__(self):\n",
    "        return len(self._cities)\n",
    "    \n",
    "    def __iter__(self):\n",
    "        return self.CityIterator(self)\n",
    "    \n",
    "    class CityIterator:\n",
    "        def __init__(self, cities):\n",
    "            self._cities_obj = cities\n",
    "            self._index = 0\n",
    "\n",
    "        def __iter__(self):\n",
    "            return self\n",
    "\n",
    "        def __next__(self):\n",
    "            if self._index >= len(self._cities_obj):\n",
    "                raise StopIteration\n",
    "            else:\n",
    "                item = self._cities_obj._cities[self._index]\n",
    "                self._index += 1\n",
    "                return item"
   ]
  },
  {
   "cell_type": "code",
   "execution_count": 117,
   "id": "4eb6ab94",
   "metadata": {},
   "outputs": [
    {
     "name": "stdout",
     "output_type": "stream",
     "text": [
      "Paris\n",
      "Berlin\n",
      "Rome\n",
      "Split\n",
      "Paris\n",
      "Berlin\n",
      "Rome\n",
      "Split\n"
     ]
    }
   ],
   "source": [
    "cities = CitiesIterable()\n",
    "for city in cities:\n",
    "    print(city)\n",
    "    \n",
    "for city in cities:\n",
    "    print(city)"
   ]
  },
  {
   "cell_type": "code",
   "execution_count": 118,
   "id": "0b43167e",
   "metadata": {},
   "outputs": [],
   "source": [
    "class CitiesIterableSeq:\n",
    "    def __init__(self):\n",
    "        self._cities = ['Paris', 'Berlin', 'Rome', 'Split']\n",
    "        self._index = 0\n",
    "        \n",
    "    def __len__(self):\n",
    "        return len(self._cities)\n",
    "    \n",
    "    def __iter__(self):\n",
    "        return self.CityIterator(self)\n",
    "    \n",
    "    def __getitem__(self, s):\n",
    "        if isinstance(s, int):\n",
    "            return self._cities[s]\n",
    "        elif isinstance(s, slice):\n",
    "            raise NotImplementedError(\"CitiesIterableSeq does not support slicing.\")\n",
    "        else:\n",
    "            raise TypeError\n",
    "    \n",
    "    class CityIterator:\n",
    "        def __init__(self, cities):\n",
    "            self._cities_obj = cities\n",
    "            self._index = 0\n",
    "\n",
    "        def __iter__(self):\n",
    "            return self\n",
    "\n",
    "        def __next__(self):\n",
    "            if self._index >= len(self._cities_obj):\n",
    "                raise StopIteration\n",
    "            else:\n",
    "                item = self._cities_obj._cities[self._index]\n",
    "                self._index += 1\n",
    "                return item"
   ]
  },
  {
   "cell_type": "code",
   "execution_count": 119,
   "id": "873965cc",
   "metadata": {},
   "outputs": [
    {
     "data": {
      "text/plain": [
       "'Split'"
      ]
     },
     "execution_count": 119,
     "metadata": {},
     "output_type": "execute_result"
    }
   ],
   "source": [
    "cities = CitiesIterableSeq()\n",
    "cities[3]"
   ]
  },
  {
   "cell_type": "code",
   "execution_count": 120,
   "id": "73bfc887",
   "metadata": {},
   "outputs": [
    {
     "name": "stdout",
     "output_type": "stream",
     "text": [
      "Paris\n",
      "Berlin\n",
      "Rome\n",
      "Split\n"
     ]
    }
   ],
   "source": [
    "for city in cities:\n",
    "    print(city)"
   ]
  },
  {
   "cell_type": "code",
   "execution_count": 121,
   "id": "92db116e",
   "metadata": {},
   "outputs": [],
   "source": [
    "from math import factorial\n",
    "\n",
    "class InfiniteFactorials:\n",
    "    def __iter__(self):\n",
    "        return self.FactIter()\n",
    "    \n",
    "    class FactIter:\n",
    "        def __init__(self):\n",
    "            self.i = 0\n",
    "            \n",
    "        def __iter__(self):\n",
    "            return self\n",
    "        \n",
    "        def __next__(self):\n",
    "            result = factorial(self.i)\n",
    "            self.i += 1\n",
    "            return result"
   ]
  },
  {
   "cell_type": "code",
   "execution_count": 122,
   "id": "9e3e02db",
   "metadata": {},
   "outputs": [],
   "source": [
    "facs = InfiniteFactorials()"
   ]
  },
  {
   "cell_type": "code",
   "execution_count": 123,
   "id": "b914794f",
   "metadata": {},
   "outputs": [],
   "source": [
    "facs_iter = iter(facs)"
   ]
  },
  {
   "cell_type": "code",
   "execution_count": 125,
   "id": "3ebc79f4",
   "metadata": {},
   "outputs": [
    {
     "data": {
      "text/plain": [
       "(1, 2, 6)"
      ]
     },
     "execution_count": 125,
     "metadata": {},
     "output_type": "execute_result"
    }
   ],
   "source": [
    "next(facs_iter), next(facs_iter), next(facs_iter)"
   ]
  },
  {
   "cell_type": "code",
   "execution_count": 146,
   "id": "16ee8a06",
   "metadata": {},
   "outputs": [],
   "source": [
    "class CallableIterator:\n",
    "    def __init__(self, callable_, sentinel):\n",
    "        self.callable = callable_\n",
    "        self.sentinel = sentinel\n",
    "        self.is_consumed = False\n",
    "        \n",
    "    def __iter__(self):\n",
    "        return self\n",
    "    \n",
    "    def __next__(self):\n",
    "        if self.is_consumed:\n",
    "            raise StopIteration\n",
    "        else:\n",
    "            result = self.callable()\n",
    "            if result == self.sentinel:\n",
    "                self.is_consumed = True\n",
    "                raise StopIteration\n",
    "            else:\n",
    "                return result"
   ]
  },
  {
   "cell_type": "code",
   "execution_count": 147,
   "id": "c2b601c8",
   "metadata": {},
   "outputs": [],
   "source": [
    "def counter():\n",
    "    i = 0\n",
    "    def inc():\n",
    "        nonlocal i\n",
    "        i += 1\n",
    "        return i\n",
    "    return inc"
   ]
  },
  {
   "cell_type": "code",
   "execution_count": 148,
   "id": "2c52cb6b",
   "metadata": {},
   "outputs": [],
   "source": [
    "cnt = counter()\n",
    "cnt_iter = CallableIterator(cnt, 10)"
   ]
  },
  {
   "cell_type": "code",
   "execution_count": 149,
   "id": "c6040bdd",
   "metadata": {},
   "outputs": [
    {
     "name": "stdout",
     "output_type": "stream",
     "text": [
      "1\n",
      "2\n",
      "3\n",
      "4\n",
      "5\n",
      "6\n",
      "7\n",
      "8\n",
      "9\n"
     ]
    }
   ],
   "source": [
    "for c in cnt_iter:\n",
    "    print(c)"
   ]
  },
  {
   "cell_type": "code",
   "execution_count": 150,
   "id": "c176a703",
   "metadata": {},
   "outputs": [
    {
     "ename": "StopIteration",
     "evalue": "",
     "output_type": "error",
     "traceback": [
      "\u001b[0;31m---------------------------------------------------------------------------\u001b[0m",
      "\u001b[0;31mStopIteration\u001b[0m                             Traceback (most recent call last)",
      "\u001b[0;32m/tmp/ipykernel_209499/4114624902.py\u001b[0m in \u001b[0;36m<module>\u001b[0;34m\u001b[0m\n\u001b[0;32m----> 1\u001b[0;31m \u001b[0mnext\u001b[0m\u001b[0;34m(\u001b[0m\u001b[0mcnt_iter\u001b[0m\u001b[0;34m)\u001b[0m\u001b[0;34m\u001b[0m\u001b[0;34m\u001b[0m\u001b[0m\n\u001b[0m",
      "\u001b[0;32m/tmp/ipykernel_209499/121292586.py\u001b[0m in \u001b[0;36m__next__\u001b[0;34m(self)\u001b[0m\n\u001b[1;32m     10\u001b[0m     \u001b[0;32mdef\u001b[0m \u001b[0m__next__\u001b[0m\u001b[0;34m(\u001b[0m\u001b[0mself\u001b[0m\u001b[0;34m)\u001b[0m\u001b[0;34m:\u001b[0m\u001b[0;34m\u001b[0m\u001b[0;34m\u001b[0m\u001b[0m\n\u001b[1;32m     11\u001b[0m         \u001b[0;32mif\u001b[0m \u001b[0mself\u001b[0m\u001b[0;34m.\u001b[0m\u001b[0mis_consumed\u001b[0m\u001b[0;34m:\u001b[0m\u001b[0;34m\u001b[0m\u001b[0;34m\u001b[0m\u001b[0m\n\u001b[0;32m---> 12\u001b[0;31m             \u001b[0;32mraise\u001b[0m \u001b[0mStopIteration\u001b[0m\u001b[0;34m\u001b[0m\u001b[0;34m\u001b[0m\u001b[0m\n\u001b[0m\u001b[1;32m     13\u001b[0m         \u001b[0;32melse\u001b[0m\u001b[0;34m:\u001b[0m\u001b[0;34m\u001b[0m\u001b[0;34m\u001b[0m\u001b[0m\n\u001b[1;32m     14\u001b[0m             \u001b[0mresult\u001b[0m \u001b[0;34m=\u001b[0m \u001b[0mself\u001b[0m\u001b[0;34m.\u001b[0m\u001b[0mcallable\u001b[0m\u001b[0;34m(\u001b[0m\u001b[0;34m)\u001b[0m\u001b[0;34m\u001b[0m\u001b[0;34m\u001b[0m\u001b[0m\n",
      "\u001b[0;31mStopIteration\u001b[0m: "
     ]
    }
   ],
   "source": [
    "next(cnt_iter)"
   ]
  },
  {
   "cell_type": "code",
   "execution_count": 151,
   "id": "b9bc7201",
   "metadata": {},
   "outputs": [
    {
     "name": "stdout",
     "output_type": "stream",
     "text": [
      "1\n",
      "2\n",
      "3\n",
      "4\n",
      "5\n",
      "6\n",
      "7\n",
      "8\n",
      "9\n"
     ]
    },
    {
     "ename": "StopIteration",
     "evalue": "",
     "output_type": "error",
     "traceback": [
      "\u001b[0;31m---------------------------------------------------------------------------\u001b[0m",
      "\u001b[0;31mStopIteration\u001b[0m                             Traceback (most recent call last)",
      "\u001b[0;32m/tmp/ipykernel_209499/373415757.py\u001b[0m in \u001b[0;36m<module>\u001b[0;34m\u001b[0m\n\u001b[1;32m      5\u001b[0m     \u001b[0mprint\u001b[0m\u001b[0;34m(\u001b[0m\u001b[0mc\u001b[0m\u001b[0;34m)\u001b[0m\u001b[0;34m\u001b[0m\u001b[0;34m\u001b[0m\u001b[0m\n\u001b[1;32m      6\u001b[0m \u001b[0;34m\u001b[0m\u001b[0m\n\u001b[0;32m----> 7\u001b[0;31m \u001b[0mnext\u001b[0m\u001b[0;34m(\u001b[0m\u001b[0mcnt_iter\u001b[0m\u001b[0;34m)\u001b[0m\u001b[0;34m\u001b[0m\u001b[0;34m\u001b[0m\u001b[0m\n\u001b[0m",
      "\u001b[0;31mStopIteration\u001b[0m: "
     ]
    }
   ],
   "source": [
    "cnt = counter()\n",
    "cnt_iter = iter(cnt, 10)\n",
    "\n",
    "for c in cnt_iter:\n",
    "    print(c)\n",
    "    \n",
    "next(cnt_iter)"
   ]
  },
  {
   "cell_type": "code",
   "execution_count": 152,
   "id": "1e541194",
   "metadata": {},
   "outputs": [],
   "source": [
    "from collections import namedtuple\n",
    "\n",
    "Person = namedtuple('Person', 'first last')"
   ]
  },
  {
   "cell_type": "code",
   "execution_count": 156,
   "id": "3cf526a0",
   "metadata": {},
   "outputs": [],
   "source": [
    "class PersonNames:\n",
    "    def __init__(self, persons):\n",
    "        self._persons = [person.first.capitalize() + ' ' + person.last.capitalize()\n",
    "                        for person in persons]\n",
    "        \n",
    "    def __iter__(self):\n",
    "        return iter(self._persons)"
   ]
  },
  {
   "cell_type": "code",
   "execution_count": 157,
   "id": "029f4990",
   "metadata": {},
   "outputs": [],
   "source": [
    "persons = [\n",
    "    Person('georGe', 'washinGton'),\n",
    "    Person('abrahaM', 'lincoLn'),\n",
    "    Person('john', 'Adams')\n",
    "]"
   ]
  },
  {
   "cell_type": "code",
   "execution_count": 158,
   "id": "3fb64d99",
   "metadata": {},
   "outputs": [],
   "source": [
    "person_names = PersonNames(persons)"
   ]
  },
  {
   "cell_type": "code",
   "execution_count": 159,
   "id": "284f6519",
   "metadata": {},
   "outputs": [
    {
     "name": "stdout",
     "output_type": "stream",
     "text": [
      "George Washington\n",
      "Abraham Lincoln\n",
      "John Adams\n"
     ]
    }
   ],
   "source": [
    "for name in person_names:\n",
    "    print(name)"
   ]
  },
  {
   "cell_type": "code",
   "execution_count": null,
   "id": "c37f100d",
   "metadata": {},
   "outputs": [],
   "source": []
  }
 ],
 "metadata": {
  "kernelspec": {
   "display_name": "Python 3 (ipykernel)",
   "language": "python",
   "name": "python3"
  },
  "language_info": {
   "codemirror_mode": {
    "name": "ipython",
    "version": 3
   },
   "file_extension": ".py",
   "mimetype": "text/x-python",
   "name": "python",
   "nbconvert_exporter": "python",
   "pygments_lexer": "ipython3",
   "version": "3.9.7"
  }
 },
 "nbformat": 4,
 "nbformat_minor": 5
}
