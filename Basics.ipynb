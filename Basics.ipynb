{
 "cells": [
  {
   "cell_type": "markdown",
   "id": "d68f8887",
   "metadata": {},
   "source": [
    "### Python Type Hierarchy\n",
    "\n",
    "The following is a subset of Pythons types.\n",
    "\n",
    "__Numbers__\n",
    "\n",
    "* Integral: integers, booleans\n",
    "* Non-integral: floats, decimals, complex, fractions\n",
    "\n",
    "__Collections__\n",
    "\n",
    "* Sequences:\n",
    "    - Mutable: lists\n",
    "    - Immutable: tuples, strings\n",
    "\n",
    "* Sets:\n",
    "    - Mutable: sets\n",
    "    - Immutable: frozen sets\n",
    "\n",
    "* Mappings: dictionaries\n",
    "\n",
    "__Callables__\n",
    "\n",
    "Functions, generators, classes, instance methods, class instances\n",
    "\n",
    "__Singletons__\n",
    "\n",
    "`None`, `NotImplemented`, ellipsis operator ( ... )"
   ]
  },
  {
   "cell_type": "markdown",
   "id": "a9ef48c7",
   "metadata": {},
   "source": [
    "### Variable Names\n",
    "\n",
    "Identifier names:\n",
    "* are case-sensitive\n",
    "* _must_ follow certain rules\n",
    "* _should_ follow certain conventions\n",
    "\n",
    "__Must__\n",
    "* Start with either an underscore ( _ ) or a letter ( a-z, A-Z )\n",
    "* Followed by any number of underscores, letters or digits ( 0-9 )\n",
    "\n",
    "[ ! ] Cannot be any of Pythons reserved key words, like `finally` or `return`\n",
    "\n",
    "__Conventions__\n",
    "\n",
    "_my_var (single underscore): indicates internal or private use, but doesn't actually have any added functionality\n",
    "\n",
    "[ ! ] Single-underscore variables will not be imported if used with a wildcard( * ), e.g. `from module import *` \n",
    "\n",
    "\\__my_var (double underscore): used to 'mangle' class attributes, can be used in inheritance chains\n",
    "\n",
    "_ \\_my_var_ _ (dunder variable): used for system-defined names that have special meaning to the interpreter\n",
    "\n",
    "[ ! ] Don't invent new dunder variables, stick with the ones Python provides!\n",
    "\n",
    "\n",
    "Packages: short, all lowercase, one-word, preferably no underscores e.g. `import utilities`\n",
    "\n",
    "Modules: short, all lowercase, can have underscores e.g. `import db_util`\n",
    "\n",
    "Classes: CapWords (upper camel case) e.g. `class BankAccount`\n",
    "\n",
    "Functions: all lowercase, words seperated by underscores e.g. `my_func()`\n",
    "\n",
    "Variables: same as functions (snake-case) e.g. `my_var`\n",
    "\n",
    "Constants: all uppercase, words seperated by underscores e.g. `MIN_APR`\n",
    "\n",
    "[ ! ] Refer to PEP8 for further style conventions\n"
   ]
  },
  {
   "cell_type": "markdown",
   "id": "53875c4a",
   "metadata": {},
   "source": [
    "### Conditionals"
   ]
  },
  {
   "cell_type": "code",
   "execution_count": 1,
   "id": "0e07bcbf",
   "metadata": {},
   "outputs": [
    {
     "name": "stdout",
     "output_type": "stream",
     "text": [
      "a >= 5\n"
     ]
    }
   ],
   "source": [
    "a = 6\n",
    "\n",
    "if a < 5:\n",
    "    print('a < 5')\n",
    "else:\n",
    "    print('a >= 5')"
   ]
  },
  {
   "cell_type": "code",
   "execution_count": 7,
   "id": "17cb650f",
   "metadata": {},
   "outputs": [
    {
     "name": "stdout",
     "output_type": "stream",
     "text": [
      "10 <= a < 15\n"
     ]
    }
   ],
   "source": [
    "a = 12\n",
    "\n",
    "if a < 5:\n",
    "    print('a < 5')\n",
    "elif a < 10:\n",
    "    print('5 <= a < 10')\n",
    "elif a < 15:\n",
    "    print('10 <= a < 15')\n",
    "else:\n",
    "    print('a >= 15')"
   ]
  },
  {
   "cell_type": "markdown",
   "id": "00642f18",
   "metadata": {},
   "source": [
    "__One Line Conditional Expression__\n",
    "\n",
    "X if (condition is true) else Y"
   ]
  },
  {
   "cell_type": "code",
   "execution_count": 9,
   "id": "515147b9",
   "metadata": {},
   "outputs": [
    {
     "data": {
      "text/plain": [
       "'a >= 5'"
      ]
     },
     "execution_count": 9,
     "metadata": {},
     "output_type": "execute_result"
    }
   ],
   "source": [
    "a = 10\n",
    "\n",
    "b = 'a < 5' if a < 5 else 'a >= 5'\n",
    "\n",
    "b"
   ]
  },
  {
   "cell_type": "markdown",
   "id": "18b01040",
   "metadata": {},
   "source": [
    "### Functions"
   ]
  },
  {
   "cell_type": "markdown",
   "id": "1dd4ff05",
   "metadata": {},
   "source": [
    "__Built-in Functions__"
   ]
  },
  {
   "cell_type": "code",
   "execution_count": 1,
   "id": "b048b11a",
   "metadata": {},
   "outputs": [
    {
     "data": {
      "text/plain": [
       "3"
      ]
     },
     "execution_count": 1,
     "metadata": {},
     "output_type": "execute_result"
    }
   ],
   "source": [
    "s = [1, 2, 3]\n",
    "\n",
    "len(s)"
   ]
  },
  {
   "cell_type": "markdown",
   "id": "3cc3642e",
   "metadata": {},
   "source": [
    "__Imported Functions__"
   ]
  },
  {
   "cell_type": "code",
   "execution_count": 2,
   "id": "390b658b",
   "metadata": {},
   "outputs": [
    {
     "data": {
      "text/plain": [
       "2.0"
      ]
     },
     "execution_count": 2,
     "metadata": {},
     "output_type": "execute_result"
    }
   ],
   "source": [
    "from math import sqrt\n",
    "\n",
    "sqrt(4)"
   ]
  },
  {
   "cell_type": "markdown",
   "id": "6a6563e5",
   "metadata": {},
   "source": [
    "__Defining Functions__"
   ]
  },
  {
   "cell_type": "code",
   "execution_count": 4,
   "id": "63dde345",
   "metadata": {},
   "outputs": [
    {
     "name": "stdout",
     "output_type": "stream",
     "text": [
      "running func_1\n"
     ]
    }
   ],
   "source": [
    "def func_1():\n",
    "    print(\"running func_1\")\n",
    "\n",
    "func_1()"
   ]
  },
  {
   "cell_type": "markdown",
   "id": "c48e07f7",
   "metadata": {},
   "source": [
    "__Type Annotations__\n",
    "\n",
    "Documentation for the expected type of a given parameter. \n",
    "\n",
    "[ ! ] Does not have any actual control over what types are passed to a function when invoked, simply used for documentation"
   ]
  },
  {
   "cell_type": "code",
   "execution_count": 5,
   "id": "149b246a",
   "metadata": {},
   "outputs": [],
   "source": [
    "def func_2(a: int, b: int):\n",
    "    return a * b"
   ]
  },
  {
   "cell_type": "code",
   "execution_count": 6,
   "id": "141308cf",
   "metadata": {},
   "outputs": [
    {
     "data": {
      "text/plain": [
       "'aaa'"
      ]
     },
     "execution_count": 6,
     "metadata": {},
     "output_type": "execute_result"
    }
   ],
   "source": [
    "func_2(2, 3)\n",
    "\n",
    "func_2('a', 3)"
   ]
  },
  {
   "cell_type": "code",
   "execution_count": 7,
   "id": "d4215ddc",
   "metadata": {},
   "outputs": [],
   "source": [
    "# Functions can be used even if they dont exist yet,\n",
    "# as long as they are defined before they are actually called\n",
    "\n",
    "def func_3():\n",
    "    return func_4()\n",
    "\n",
    "def func_4():\n",
    "    return 'running func_4'"
   ]
  },
  {
   "cell_type": "code",
   "execution_count": 8,
   "id": "fe7e718b",
   "metadata": {},
   "outputs": [
    {
     "ename": "NameError",
     "evalue": "name 'func_6' is not defined",
     "output_type": "error",
     "traceback": [
      "\u001b[0;31m---------------------------------------------------------------------------\u001b[0m",
      "\u001b[0;31mNameError\u001b[0m                                 Traceback (most recent call last)",
      "\u001b[0;32m/tmp/ipykernel_62815/3731135347.py\u001b[0m in \u001b[0;36m<module>\u001b[0;34m\u001b[0m\n\u001b[1;32m      5\u001b[0m     \u001b[0;32mreturn\u001b[0m \u001b[0mfunc_6\u001b[0m\u001b[0;34m(\u001b[0m\u001b[0;34m)\u001b[0m\u001b[0;34m\u001b[0m\u001b[0;34m\u001b[0m\u001b[0m\n\u001b[1;32m      6\u001b[0m \u001b[0;34m\u001b[0m\u001b[0m\n\u001b[0;32m----> 7\u001b[0;31m \u001b[0mfunc_5\u001b[0m\u001b[0;34m(\u001b[0m\u001b[0;34m)\u001b[0m\u001b[0;34m\u001b[0m\u001b[0;34m\u001b[0m\u001b[0m\n\u001b[0m\u001b[1;32m      8\u001b[0m \u001b[0;34m\u001b[0m\u001b[0m\n\u001b[1;32m      9\u001b[0m \u001b[0;32mdef\u001b[0m \u001b[0mfunc_6\u001b[0m\u001b[0;34m(\u001b[0m\u001b[0;34m)\u001b[0m\u001b[0;34m:\u001b[0m\u001b[0;34m\u001b[0m\u001b[0;34m\u001b[0m\u001b[0m\n",
      "\u001b[0;32m/tmp/ipykernel_62815/3731135347.py\u001b[0m in \u001b[0;36mfunc_5\u001b[0;34m()\u001b[0m\n\u001b[1;32m      3\u001b[0m \u001b[0;34m\u001b[0m\u001b[0m\n\u001b[1;32m      4\u001b[0m \u001b[0;32mdef\u001b[0m \u001b[0mfunc_5\u001b[0m\u001b[0;34m(\u001b[0m\u001b[0;34m)\u001b[0m\u001b[0;34m:\u001b[0m\u001b[0;34m\u001b[0m\u001b[0;34m\u001b[0m\u001b[0m\n\u001b[0;32m----> 5\u001b[0;31m     \u001b[0;32mreturn\u001b[0m \u001b[0mfunc_6\u001b[0m\u001b[0;34m(\u001b[0m\u001b[0;34m)\u001b[0m\u001b[0;34m\u001b[0m\u001b[0;34m\u001b[0m\u001b[0m\n\u001b[0m\u001b[1;32m      6\u001b[0m \u001b[0;34m\u001b[0m\u001b[0m\n\u001b[1;32m      7\u001b[0m \u001b[0mfunc_5\u001b[0m\u001b[0;34m(\u001b[0m\u001b[0;34m)\u001b[0m\u001b[0;34m\u001b[0m\u001b[0;34m\u001b[0m\u001b[0m\n",
      "\u001b[0;31mNameError\u001b[0m: name 'func_6' is not defined"
     ]
    }
   ],
   "source": [
    "# So this would NOT work, as func_6 is being invoked (via func_5),\n",
    "# before it is defined\n",
    "\n",
    "def func_5():\n",
    "    return func_6()\n",
    "\n",
    "func_5()\n",
    "\n",
    "def func_6():\n",
    "    return 'running func_6'"
   ]
  },
  {
   "cell_type": "code",
   "execution_count": 9,
   "id": "f047cb3c",
   "metadata": {},
   "outputs": [
    {
     "data": {
      "text/plain": [
       "function"
      ]
     },
     "execution_count": 9,
     "metadata": {},
     "output_type": "execute_result"
    }
   ],
   "source": [
    "# Functions are objects just like any other type in Python\n",
    "\n",
    "type(func_5)"
   ]
  },
  {
   "cell_type": "code",
   "execution_count": 10,
   "id": "58bfbdf5",
   "metadata": {},
   "outputs": [
    {
     "data": {
      "text/plain": [
       "'running func_4'"
      ]
     },
     "execution_count": 10,
     "metadata": {},
     "output_type": "execute_result"
    }
   ],
   "source": [
    "# So therefore, we can assign functions to variables\n",
    "\n",
    "my_func = func_4\n",
    "\n",
    "my_func()"
   ]
  },
  {
   "cell_type": "markdown",
   "id": "103258fb",
   "metadata": {},
   "source": [
    "__Lambda Functions__"
   ]
  },
  {
   "cell_type": "code",
   "execution_count": 11,
   "id": "2a2aa24b",
   "metadata": {},
   "outputs": [
    {
     "data": {
      "text/plain": [
       "4"
      ]
     },
     "execution_count": 11,
     "metadata": {},
     "output_type": "execute_result"
    }
   ],
   "source": [
    "fn = lambda x: x**2\n",
    "\n",
    "fn(2)"
   ]
  },
  {
   "cell_type": "markdown",
   "id": "08a43a1f",
   "metadata": {},
   "source": [
    "### While Loops (and break and continue)"
   ]
  },
  {
   "cell_type": "code",
   "execution_count": 12,
   "id": "da5d1447",
   "metadata": {},
   "outputs": [
    {
     "name": "stdout",
     "output_type": "stream",
     "text": [
      "0\n",
      "1\n",
      "2\n",
      "3\n",
      "4\n"
     ]
    }
   ],
   "source": [
    "i = 0\n",
    "\n",
    "while i < 5:\n",
    "    print(i)\n",
    "    i += 1"
   ]
  },
  {
   "cell_type": "markdown",
   "id": "834be459",
   "metadata": {},
   "source": [
    "__Emulating a Do While Loop__\n",
    "\n",
    "[ ! ] A Do While loop always runs atleast once"
   ]
  },
  {
   "cell_type": "code",
   "execution_count": 14,
   "id": "c4d50bcb",
   "metadata": {},
   "outputs": [
    {
     "name": "stdout",
     "output_type": "stream",
     "text": [
      "5\n"
     ]
    }
   ],
   "source": [
    "i = 5\n",
    "\n",
    "while True:\n",
    "    print(i)\n",
    "    if i >= 5:\n",
    "        break"
   ]
  },
  {
   "cell_type": "markdown",
   "id": "4e851746",
   "metadata": {},
   "source": [
    "Example case for a Do While loop"
   ]
  },
  {
   "cell_type": "code",
   "execution_count": 16,
   "id": "989273ef",
   "metadata": {},
   "outputs": [
    {
     "name": "stdout",
     "output_type": "stream",
     "text": [
      "Name: a\n",
      "Name: 12\n",
      "Name: AJ\n",
      "Hello, AJ\n"
     ]
    }
   ],
   "source": [
    "# This code is not ideal as the call to input must be repeated\n",
    "\n",
    "min_length = 2\n",
    "name = input('Name: ')\n",
    "\n",
    "while not (len(name) >= min_length \\\n",
    "           and name.isprintable() \\\n",
    "           and name.isalpha()):\n",
    "    name = input('Name: ')\n",
    "\n",
    "print(f\"Hello, {name}\")"
   ]
  },
  {
   "cell_type": "code",
   "execution_count": null,
   "id": "4070d388",
   "metadata": {},
   "outputs": [],
   "source": [
    "# Using a do while loop results in a cleaner version of this code\n",
    "\n",
    "min_length = 2\n",
    "\n",
    "while True:\n",
    "    name = input(\"Name: \")\n",
    "    if len(name) >= min_length \\\n",
    "    and name.isprintable() \\\n",
    "    and name.isalpha():\n",
    "        break\n",
    "\n",
    "print(f\"Hello, {name}\")"
   ]
  },
  {
   "cell_type": "markdown",
   "id": "05826ca7",
   "metadata": {},
   "source": [
    "__Continue__\n",
    "\n",
    "The `continue` keyword will stop the current execution of the\n",
    "loop and continue onto the next iteration."
   ]
  },
  {
   "cell_type": "code",
   "execution_count": 18,
   "id": "eb12d3c9",
   "metadata": {},
   "outputs": [
    {
     "name": "stdout",
     "output_type": "stream",
     "text": [
      "1\n",
      "3\n",
      "5\n",
      "7\n",
      "9\n"
     ]
    }
   ],
   "source": [
    "a = 0\n",
    "\n",
    "while a < 10:\n",
    "    a += 1\n",
    "    if a % 2 == 0:\n",
    "        continue\n",
    "    print(a)"
   ]
  },
  {
   "cell_type": "markdown",
   "id": "08520737",
   "metadata": {},
   "source": [
    "__While Else__\n",
    "\n",
    "[ ! ] The `else` keyword can be used with `while` loops"
   ]
  },
  {
   "cell_type": "code",
   "execution_count": 19,
   "id": "d5e438ce",
   "metadata": {},
   "outputs": [
    {
     "name": "stdout",
     "output_type": "stream",
     "text": [
      "[1, 2, 3, 10]\n"
     ]
    }
   ],
   "source": [
    "# This is an example of code that can be written in a better way\n",
    "# using the else clause \n",
    "\n",
    "l = [1, 2, 3]\n",
    "val = 10\n",
    "found = False\n",
    "idx = 0\n",
    "\n",
    "while idx < len(l):\n",
    "    if l[idx] == val:\n",
    "        found = True\n",
    "        break\n",
    "        \n",
    "    idx += 1\n",
    "\n",
    "if not found:\n",
    "    l.append(val)\n",
    "    \n",
    "print(l)"
   ]
  },
  {
   "cell_type": "code",
   "execution_count": 2,
   "id": "53c740fd",
   "metadata": {},
   "outputs": [
    {
     "name": "stdout",
     "output_type": "stream",
     "text": [
      "[1, 2, 3, 10]\n"
     ]
    }
   ],
   "source": [
    "# The else clause for a while loop will only run if the while\n",
    "# loop runs without encountering a break\n",
    "\n",
    "l = [1, 2, 3]\n",
    "val = 10\n",
    "idx = 0\n",
    "\n",
    "while idx < len(l):\n",
    "    if l[idx] == val:\n",
    "        break\n",
    "    \n",
    "    idx += 1\n",
    "else:\n",
    "    l.append(val)\n",
    "    \n",
    "print(l)"
   ]
  },
  {
   "cell_type": "markdown",
   "id": "520ffe15",
   "metadata": {},
   "source": [
    "### Try...Except...FInally"
   ]
  },
  {
   "cell_type": "code",
   "execution_count": 4,
   "id": "021514e9",
   "metadata": {},
   "outputs": [
    {
     "name": "stdout",
     "output_type": "stream",
     "text": [
      "division by zero\n",
      "this always executes\n"
     ]
    }
   ],
   "source": [
    "a = 10\n",
    "b = 0\n",
    "\n",
    "try:\n",
    "    a / b\n",
    "except ZeroDivisionError:\n",
    "    print('division by zero')\n",
    "finally:\n",
    "    print('this always executes')"
   ]
  },
  {
   "cell_type": "code",
   "execution_count": 10,
   "id": "cd934e62",
   "metadata": {},
   "outputs": [
    {
     "name": "stdout",
     "output_type": "stream",
     "text": [
      "------------\n",
      "1/1 always executes\n",
      "1/1 main loop\n",
      "------------\n",
      "2/0 - divsion by zero\n",
      "2/0 always executes\n",
      "------------\n",
      "3/-1 always executes\n",
      "3/-1 main loop\n",
      "------------\n",
      "4/-2 always executes\n",
      "4/-2 main loop\n"
     ]
    }
   ],
   "source": [
    "a = 0\n",
    "b = 2\n",
    "\n",
    "while a < 4:\n",
    "    print('------------')\n",
    "    a += 1\n",
    "    b -= 1\n",
    "    \n",
    "    try:\n",
    "        a / b\n",
    "    except ZeroDivisionError:\n",
    "        print(f\"{a}/{b} - divsion by zero\")\n",
    "        continue\n",
    "    finally:\n",
    "        print(f\"{a}/{b} always executes\")\n",
    "    \n",
    "    print(f\"{a}/{b} main loop\")"
   ]
  },
  {
   "cell_type": "code",
   "execution_count": 9,
   "id": "ac6de9b4",
   "metadata": {},
   "outputs": [
    {
     "name": "stdout",
     "output_type": "stream",
     "text": [
      "Code executed without a ZeroDivisionError\n"
     ]
    }
   ],
   "source": [
    "a = 4\n",
    "b = 2\n",
    "\n",
    "while a < 4:\n",
    "    print('------------')\n",
    "    a += 1\n",
    "    b -= 1\n",
    "    \n",
    "    try:\n",
    "        a / b\n",
    "    except ZeroDivisionError:\n",
    "        print(f\"{a}/{b} - divsion by zero\")\n",
    "        break\n",
    "    finally:\n",
    "        print(f\"{a}/{b} always executes\")\n",
    "    \n",
    "    print(f\"{a}/{b} main loop\")\n",
    "else:\n",
    "    print('Code executed without a ZeroDivisionError')"
   ]
  },
  {
   "cell_type": "markdown",
   "id": "3a5291c1",
   "metadata": {},
   "source": [
    "### For Loops\n",
    "\n",
    "The traditional format of a for loop in other languages does not exist\n",
    "in Python.\n",
    "\n",
    "e.g. `for (int i = 0; i < 10; i++) { ... }`\n",
    "\n",
    "The for loop in Python is something that allows us to iterate\n",
    "over an iterable.\n",
    "\n",
    "[ ! ] In Python, an iterable is an __object__ capable of returning\n",
    "values one at a time."
   ]
  },
  {
   "cell_type": "code",
   "execution_count": 13,
   "id": "bb7c38d9",
   "metadata": {},
   "outputs": [
    {
     "name": "stdout",
     "output_type": "stream",
     "text": [
      "0\n",
      "1\n",
      "2\n",
      "3\n",
      "4\n"
     ]
    }
   ],
   "source": [
    "# A while loop is the closest thing to a traditional for loop in Python\n",
    "i = 0\n",
    "while i < 5:\n",
    "    print(i)\n",
    "    i += 1"
   ]
  },
  {
   "cell_type": "code",
   "execution_count": 14,
   "id": "cf5f120c",
   "metadata": {},
   "outputs": [
    {
     "name": "stdout",
     "output_type": "stream",
     "text": [
      "0\n",
      "1\n",
      "2\n",
      "3\n",
      "4\n"
     ]
    }
   ],
   "source": [
    "for i in range(5):\n",
    "    print(i)"
   ]
  },
  {
   "cell_type": "code",
   "execution_count": 15,
   "id": "dabb3d91",
   "metadata": {},
   "outputs": [
    {
     "name": "stdout",
     "output_type": "stream",
     "text": [
      "2\n",
      "4\n",
      "6\n"
     ]
    }
   ],
   "source": [
    "for i in [2, 4, 6]:\n",
    "    print(i)"
   ]
  },
  {
   "cell_type": "code",
   "execution_count": 16,
   "id": "6b35f3ee",
   "metadata": {},
   "outputs": [
    {
     "name": "stdout",
     "output_type": "stream",
     "text": [
      "h\n",
      "e\n",
      "l\n",
      "l\n",
      "o\n"
     ]
    }
   ],
   "source": [
    "for c in 'hello':\n",
    "    print(c)"
   ]
  },
  {
   "cell_type": "code",
   "execution_count": 17,
   "id": "082a7739",
   "metadata": {},
   "outputs": [
    {
     "name": "stdout",
     "output_type": "stream",
     "text": [
      "a\n",
      "2\n",
      "c\n"
     ]
    }
   ],
   "source": [
    "for x in ('a', 2, 'c'):\n",
    "    print(x)"
   ]
  },
  {
   "cell_type": "code",
   "execution_count": 18,
   "id": "9ff42b1a",
   "metadata": {},
   "outputs": [
    {
     "name": "stdout",
     "output_type": "stream",
     "text": [
      "a b\n",
      "c d\n"
     ]
    }
   ],
   "source": [
    "for i, j in [('a', 'b'), ('c', 'd')]:\n",
    "    print(i, j)"
   ]
  },
  {
   "cell_type": "code",
   "execution_count": 21,
   "id": "4a4c8166",
   "metadata": {},
   "outputs": [
    {
     "name": "stdout",
     "output_type": "stream",
     "text": [
      "1\n",
      "2\n",
      "3\n",
      "4\n",
      "no 7 found\n"
     ]
    }
   ],
   "source": [
    "# The else clause will run if the for loop never encounters a break,\n",
    "# similiar to the while else\n",
    "for i in range(1, 5):\n",
    "    print(i)\n",
    "    \n",
    "    if i == 7:\n",
    "        print('7 found')\n",
    "        break\n",
    "else:\n",
    "    print('no 7 found')"
   ]
  },
  {
   "cell_type": "code",
   "execution_count": 22,
   "id": "a714e93c",
   "metadata": {},
   "outputs": [
    {
     "name": "stdout",
     "output_type": "stream",
     "text": [
      "-----------\n",
      "always executes\n",
      "0\n",
      "-----------\n",
      "always executes\n",
      "1\n",
      "-----------\n",
      "always executes\n",
      "2\n",
      "-----------\n",
      "division by zero\n",
      "always executes\n",
      "-----------\n",
      "always executes\n",
      "4\n"
     ]
    }
   ],
   "source": [
    "for i in range(5):\n",
    "    print('-----------')\n",
    "    try:\n",
    "        10 / (i-3)\n",
    "    except ZeroDivisionError:\n",
    "        print('division by zero')\n",
    "        continue\n",
    "    finally:\n",
    "        print('always executes')\n",
    "    \n",
    "    print(i)"
   ]
  },
  {
   "cell_type": "markdown",
   "id": "cf4d5716",
   "metadata": {},
   "source": [
    "__Indexing__"
   ]
  },
  {
   "cell_type": "code",
   "execution_count": 23,
   "id": "5059fb5d",
   "metadata": {},
   "outputs": [
    {
     "name": "stdout",
     "output_type": "stream",
     "text": [
      "0 h\n",
      "1 e\n",
      "2 l\n",
      "3 l\n",
      "4 o\n"
     ]
    }
   ],
   "source": [
    "# This represents a functional yet inconcise way of grabbing the index\n",
    "# of a value\n",
    "s = 'hello'\n",
    "i = 0\n",
    "for c in s:\n",
    "    print(i, c)\n",
    "    i += 1"
   ]
  },
  {
   "cell_type": "code",
   "execution_count": 25,
   "id": "baabcbde",
   "metadata": {},
   "outputs": [
    {
     "name": "stdout",
     "output_type": "stream",
     "text": [
      "0 h\n",
      "1 e\n",
      "2 l\n",
      "3 l\n",
      "4 o\n"
     ]
    }
   ],
   "source": [
    "# This is a slightly better way, yet still a not the best\n",
    "for i in range(len(s)):\n",
    "    print(i, s[i])"
   ]
  },
  {
   "cell_type": "code",
   "execution_count": 26,
   "id": "868ae8e1",
   "metadata": {},
   "outputs": [
    {
     "name": "stdout",
     "output_type": "stream",
     "text": [
      "0 h\n",
      "1 e\n",
      "2 l\n",
      "3 l\n",
      "4 o\n"
     ]
    }
   ],
   "source": [
    "# This is the most concise way of grabbing an index\n",
    "for i, c in enumerate(s):\n",
    "    print(i, c)"
   ]
  },
  {
   "cell_type": "markdown",
   "id": "c25dd7c1",
   "metadata": {},
   "source": [
    "### Classes"
   ]
  },
  {
   "cell_type": "code",
   "execution_count": 58,
   "id": "f2d8397d",
   "metadata": {},
   "outputs": [
    {
     "data": {
      "text/plain": [
       "5"
      ]
     },
     "execution_count": 58,
     "metadata": {},
     "output_type": "execute_result"
    }
   ],
   "source": [
    "class Rectangle:\n",
    "    def __init__(self, width, height):\n",
    "        self.width = width\n",
    "        self.height = height\n",
    "    \n",
    "    def __str__(self):\n",
    "        return f\"Rectangle with width {self.width} and height {self.height}\"\n",
    "    \n",
    "    def __repr__(self):\n",
    "        return f\"Rectangle({self.width}, {self.height})\"\n",
    "    \n",
    "    def area(self):\n",
    "        return self.width * self.height\n",
    "    \n",
    "    def perimeter(self):\n",
    "        return 2 * (self.width + self.height)\n",
    "\n",
    "r = Rectangle(5, 10)\n",
    "r.width\n"
   ]
  },
  {
   "cell_type": "code",
   "execution_count": 59,
   "id": "8a231742",
   "metadata": {},
   "outputs": [
    {
     "data": {
      "text/plain": [
       "50"
      ]
     },
     "execution_count": 59,
     "metadata": {},
     "output_type": "execute_result"
    }
   ],
   "source": [
    "r.area()"
   ]
  },
  {
   "cell_type": "code",
   "execution_count": 60,
   "id": "517fc4b1",
   "metadata": {},
   "outputs": [
    {
     "data": {
      "text/plain": [
       "30"
      ]
     },
     "execution_count": 60,
     "metadata": {},
     "output_type": "execute_result"
    }
   ],
   "source": [
    "r.perimeter()"
   ]
  },
  {
   "cell_type": "code",
   "execution_count": 61,
   "id": "1be8aae3",
   "metadata": {},
   "outputs": [
    {
     "data": {
      "text/plain": [
       "'Rectangle with width 5 and height 10'"
      ]
     },
     "execution_count": 61,
     "metadata": {},
     "output_type": "execute_result"
    }
   ],
   "source": [
    "str(r)"
   ]
  },
  {
   "cell_type": "code",
   "execution_count": 62,
   "id": "61ee90b2",
   "metadata": {},
   "outputs": [
    {
     "data": {
      "text/plain": [
       "Rectangle(5, 10)"
      ]
     },
     "execution_count": 62,
     "metadata": {},
     "output_type": "execute_result"
    }
   ],
   "source": [
    "r"
   ]
  },
  {
   "cell_type": "code",
   "execution_count": 63,
   "id": "93aaf688",
   "metadata": {},
   "outputs": [],
   "source": [
    "r2 = Rectangle(5, 10)"
   ]
  },
  {
   "cell_type": "code",
   "execution_count": 64,
   "id": "3a694ace",
   "metadata": {},
   "outputs": [
    {
     "data": {
      "text/plain": [
       "False"
      ]
     },
     "execution_count": 64,
     "metadata": {},
     "output_type": "execute_result"
    }
   ],
   "source": [
    "r is r2"
   ]
  },
  {
   "cell_type": "code",
   "execution_count": 65,
   "id": "d923f806",
   "metadata": {},
   "outputs": [
    {
     "data": {
      "text/plain": [
       "False"
      ]
     },
     "execution_count": 65,
     "metadata": {},
     "output_type": "execute_result"
    }
   ],
   "source": [
    "r == r2"
   ]
  },
  {
   "cell_type": "code",
   "execution_count": 66,
   "id": "cec66522",
   "metadata": {},
   "outputs": [],
   "source": [
    "class Rectangle:\n",
    "    def __init__(self, width, height):\n",
    "        self.width = width\n",
    "        self.height = height\n",
    "    \n",
    "    def __eq__(self, other):\n",
    "        if isinstance(other, Rectangle):\n",
    "            return (self.width, self.height) == (other.width, other.height)\n",
    "        else:\n",
    "            return False\n"
   ]
  },
  {
   "cell_type": "code",
   "execution_count": 67,
   "id": "105de257",
   "metadata": {},
   "outputs": [
    {
     "data": {
      "text/plain": [
       "True"
      ]
     },
     "execution_count": 67,
     "metadata": {},
     "output_type": "execute_result"
    }
   ],
   "source": [
    "r = Rectangle(5, 10)\n",
    "r2 = Rectangle(5, 10)\n",
    "\n",
    "r is not r2"
   ]
  },
  {
   "cell_type": "code",
   "execution_count": 68,
   "id": "a71608d3",
   "metadata": {},
   "outputs": [
    {
     "data": {
      "text/plain": [
       "True"
      ]
     },
     "execution_count": 68,
     "metadata": {},
     "output_type": "execute_result"
    }
   ],
   "source": [
    "r == r2"
   ]
  },
  {
   "cell_type": "code",
   "execution_count": 69,
   "id": "de752b95",
   "metadata": {},
   "outputs": [
    {
     "data": {
      "text/plain": [
       "False"
      ]
     },
     "execution_count": 69,
     "metadata": {},
     "output_type": "execute_result"
    }
   ],
   "source": [
    "r == 100"
   ]
  },
  {
   "cell_type": "markdown",
   "id": "3e7514f9",
   "metadata": {},
   "source": [
    "__Encapsulating Class Attributes__\n",
    "\n",
    "The following represents a Java-esque way of encapsulating class\n",
    "attributes with getters and setters.\n",
    "\n",
    "[ ! ] This is not the 'Pythonic' way and doesn't accomplish much\n",
    "since these attribtes can still be modified. And if this was implemented after a previous version which did not have get/set, then others code might break."
   ]
  },
  {
   "cell_type": "code",
   "execution_count": 78,
   "id": "53e43f99",
   "metadata": {},
   "outputs": [],
   "source": [
    "class Square:\n",
    "    def __init__(self, width):\n",
    "        self._width = width\n",
    "    \n",
    "    def get_width(self):\n",
    "        return self._width\n",
    "    \n",
    "    def set_width(self, width):\n",
    "        if width <= 0:\n",
    "            raise ValueError('Width must be greater than 0')\n",
    "        else:\n",
    "            self._width = width"
   ]
  },
  {
   "cell_type": "markdown",
   "id": "e4e96563",
   "metadata": {},
   "source": [
    "This is the 'Pythonic' way of controlling your attributes.\n",
    "\n",
    "Instead of modifying the attribute values directly, the corresponding \n",
    "methods will be called instead, even for instantiation."
   ]
  },
  {
   "cell_type": "code",
   "execution_count": 96,
   "id": "30cf13e4",
   "metadata": {},
   "outputs": [],
   "source": [
    "class Square:\n",
    "    def __init__(self, width):\n",
    "        self.width = width\n",
    "    \n",
    "    @property\n",
    "    def width(self):\n",
    "        print(\"Getting width\")\n",
    "        return self._width\n",
    "    \n",
    "    @width.setter\n",
    "    def width(self, width):\n",
    "        print(\"Setting width\")\n",
    "        if width <= 0:\n",
    "            raise ValueError('Width must be greater than 0')\n",
    "        else:\n",
    "            self._width = width"
   ]
  },
  {
   "cell_type": "code",
   "execution_count": 97,
   "id": "65310a3d",
   "metadata": {},
   "outputs": [
    {
     "name": "stdout",
     "output_type": "stream",
     "text": [
      "Setting width\n"
     ]
    }
   ],
   "source": [
    "s = Square(10)"
   ]
  },
  {
   "cell_type": "code",
   "execution_count": 98,
   "id": "ef81df72",
   "metadata": {},
   "outputs": [
    {
     "name": "stdout",
     "output_type": "stream",
     "text": [
      "Setting width\n"
     ]
    }
   ],
   "source": [
    "s.width = 100"
   ]
  },
  {
   "cell_type": "code",
   "execution_count": 99,
   "id": "ad6e833b",
   "metadata": {},
   "outputs": [
    {
     "name": "stdout",
     "output_type": "stream",
     "text": [
      "Getting width\n"
     ]
    },
    {
     "data": {
      "text/plain": [
       "100"
      ]
     },
     "execution_count": 99,
     "metadata": {},
     "output_type": "execute_result"
    }
   ],
   "source": [
    "s.width"
   ]
  },
  {
   "cell_type": "code",
   "execution_count": 100,
   "id": "739e77a6",
   "metadata": {},
   "outputs": [
    {
     "name": "stdout",
     "output_type": "stream",
     "text": [
      "Setting width\n"
     ]
    },
    {
     "ename": "ValueError",
     "evalue": "Width must be greater than 0",
     "output_type": "error",
     "traceback": [
      "\u001b[0;31m---------------------------------------------------------------------------\u001b[0m",
      "\u001b[0;31mValueError\u001b[0m                                Traceback (most recent call last)",
      "\u001b[0;32m/tmp/ipykernel_63972/2323140471.py\u001b[0m in \u001b[0;36m<module>\u001b[0;34m\u001b[0m\n\u001b[0;32m----> 1\u001b[0;31m \u001b[0ms1\u001b[0m \u001b[0;34m=\u001b[0m \u001b[0mSquare\u001b[0m\u001b[0;34m(\u001b[0m\u001b[0;34m-\u001b[0m\u001b[0;36m5\u001b[0m\u001b[0;34m)\u001b[0m\u001b[0;34m\u001b[0m\u001b[0;34m\u001b[0m\u001b[0m\n\u001b[0m",
      "\u001b[0;32m/tmp/ipykernel_63972/1206343909.py\u001b[0m in \u001b[0;36m__init__\u001b[0;34m(self, width)\u001b[0m\n\u001b[1;32m      1\u001b[0m \u001b[0;32mclass\u001b[0m \u001b[0mSquare\u001b[0m\u001b[0;34m:\u001b[0m\u001b[0;34m\u001b[0m\u001b[0;34m\u001b[0m\u001b[0m\n\u001b[1;32m      2\u001b[0m     \u001b[0;32mdef\u001b[0m \u001b[0m__init__\u001b[0m\u001b[0;34m(\u001b[0m\u001b[0mself\u001b[0m\u001b[0;34m,\u001b[0m \u001b[0mwidth\u001b[0m\u001b[0;34m)\u001b[0m\u001b[0;34m:\u001b[0m\u001b[0;34m\u001b[0m\u001b[0;34m\u001b[0m\u001b[0m\n\u001b[0;32m----> 3\u001b[0;31m         \u001b[0mself\u001b[0m\u001b[0;34m.\u001b[0m\u001b[0mwidth\u001b[0m \u001b[0;34m=\u001b[0m \u001b[0mwidth\u001b[0m\u001b[0;34m\u001b[0m\u001b[0;34m\u001b[0m\u001b[0m\n\u001b[0m\u001b[1;32m      4\u001b[0m \u001b[0;34m\u001b[0m\u001b[0m\n\u001b[1;32m      5\u001b[0m     \u001b[0;34m@\u001b[0m\u001b[0mproperty\u001b[0m\u001b[0;34m\u001b[0m\u001b[0;34m\u001b[0m\u001b[0m\n",
      "\u001b[0;32m/tmp/ipykernel_63972/1206343909.py\u001b[0m in \u001b[0;36mwidth\u001b[0;34m(self, width)\u001b[0m\n\u001b[1;32m     12\u001b[0m         \u001b[0mprint\u001b[0m\u001b[0;34m(\u001b[0m\u001b[0;34m\"Setting width\"\u001b[0m\u001b[0;34m)\u001b[0m\u001b[0;34m\u001b[0m\u001b[0;34m\u001b[0m\u001b[0m\n\u001b[1;32m     13\u001b[0m         \u001b[0;32mif\u001b[0m \u001b[0mwidth\u001b[0m \u001b[0;34m<=\u001b[0m \u001b[0;36m0\u001b[0m\u001b[0;34m:\u001b[0m\u001b[0;34m\u001b[0m\u001b[0;34m\u001b[0m\u001b[0m\n\u001b[0;32m---> 14\u001b[0;31m             \u001b[0;32mraise\u001b[0m \u001b[0mValueError\u001b[0m\u001b[0;34m(\u001b[0m\u001b[0;34m'Width must be greater than 0'\u001b[0m\u001b[0;34m)\u001b[0m\u001b[0;34m\u001b[0m\u001b[0;34m\u001b[0m\u001b[0m\n\u001b[0m\u001b[1;32m     15\u001b[0m         \u001b[0;32melse\u001b[0m\u001b[0;34m:\u001b[0m\u001b[0;34m\u001b[0m\u001b[0;34m\u001b[0m\u001b[0m\n\u001b[1;32m     16\u001b[0m             \u001b[0mself\u001b[0m\u001b[0;34m.\u001b[0m\u001b[0m_width\u001b[0m \u001b[0;34m=\u001b[0m \u001b[0mwidth\u001b[0m\u001b[0;34m\u001b[0m\u001b[0;34m\u001b[0m\u001b[0m\n",
      "\u001b[0;31mValueError\u001b[0m: Width must be greater than 0"
     ]
    }
   ],
   "source": [
    "s1 = Square(-5)"
   ]
  },
  {
   "cell_type": "markdown",
   "id": "7282a686",
   "metadata": {},
   "source": [
    "### Dynamic vs Static Typing\n",
    "\n",
    "Some languages (Java, C++, Go) are _statically typed_. This means a variable also has a type associated with it.\n",
    "\n",
    "e.g. `String myVar = \"hello\";`\n",
    "\n",
    "Therefore, `myVar = 10` will not work, since `myVar` was declared as a String.\n",
    "\n",
    "`myVar = \"abc\";` This is OK\n",
    "\n",
    "In contrast, Python is _dynamically typed_\n",
    "\n",
    "e.g. `my_var = 'hello'`\n",
    "\n",
    "The variable `my_var` is purely a reference to a string object in memory with the value \"hello\". No type is \"attached\" to my_var.\n",
    "\n",
    "`my_var = 10` This is OK, since we are only changing the reference of my_var to a different object.\n",
    "\n",
    "[ ! ] We can use `type()` to determine the type of the object currently referenced by a variable.\n",
    "\n",
    "Remember: variables in Python do not have an inherent static type, instead when we call `type(my_var)`, Python looks up the type of the object that `my_var` is _referencing_"
   ]
  },
  {
   "cell_type": "code",
   "execution_count": 1,
   "id": "4c534a30",
   "metadata": {},
   "outputs": [
    {
     "data": {
      "text/plain": [
       "str"
      ]
     },
     "execution_count": 1,
     "metadata": {},
     "output_type": "execute_result"
    }
   ],
   "source": [
    "a = \"hello\"\n",
    "\n",
    "type(a)"
   ]
  },
  {
   "cell_type": "code",
   "execution_count": 2,
   "id": "97d4216b",
   "metadata": {},
   "outputs": [
    {
     "data": {
      "text/plain": [
       "int"
      ]
     },
     "execution_count": 2,
     "metadata": {},
     "output_type": "execute_result"
    }
   ],
   "source": [
    "a = 10\n",
    "\n",
    "type(a)"
   ]
  },
  {
   "cell_type": "code",
   "execution_count": 3,
   "id": "f3494298",
   "metadata": {},
   "outputs": [
    {
     "data": {
      "text/plain": [
       "function"
      ]
     },
     "execution_count": 3,
     "metadata": {},
     "output_type": "execute_result"
    }
   ],
   "source": [
    "a = lambda x: x**2\n",
    "\n",
    "type(a)"
   ]
  },
  {
   "cell_type": "markdown",
   "id": "50bec783",
   "metadata": {},
   "source": [
    "__Everything is an Object__\n",
    "\n",
    "Types:\n",
    "- Ints, Bools, Strings, Dicts, None, etc...\n",
    "\n",
    "Operators:\n",
    "- +, -, ==, is, ... (ellipsis operator), etc...\n",
    "\n",
    "Others:\n",
    "- Functions, Classes, Types, etc...\n",
    "\n",
    "These are all objects, or instances of classes, which means they all have memory addresses\n",
    "\n",
    "As a consequence:\n",
    "- Any object can be assigned to a variable\n",
    "- Any object can be passed to a function\n",
    "- Any object can be returned from a function"
   ]
  },
  {
   "cell_type": "code",
   "execution_count": null,
   "id": "c7703d13",
   "metadata": {},
   "outputs": [],
   "source": []
  }
 ],
 "metadata": {
  "kernelspec": {
   "display_name": "Python 3 (ipykernel)",
   "language": "python",
   "name": "python3"
  },
  "language_info": {
   "codemirror_mode": {
    "name": "ipython",
    "version": 3
   },
   "file_extension": ".py",
   "mimetype": "text/x-python",
   "name": "python",
   "nbconvert_exporter": "python",
   "pygments_lexer": "ipython3",
   "version": "3.9.6"
  }
 },
 "nbformat": 4,
 "nbformat_minor": 5
}
