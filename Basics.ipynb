{
 "cells": [
  {
   "cell_type": "markdown",
   "id": "d68f8887",
   "metadata": {},
   "source": [
    "### Python Type Hierarchy\n",
    "\n",
    "The following is a subset of Pythons types.\n",
    "\n",
    "__Numbers__\n",
    "\n",
    "* Integral: integers, booleans\n",
    "* Non-integral: floats, decimals, complex, fractions\n",
    "\n",
    "__Collections__\n",
    "\n",
    "* Sequences:\n",
    "    - Mutable: lists\n",
    "    - Immutable: tuples, strings\n",
    "\n",
    "* Sets:\n",
    "    - Mutable: sets\n",
    "    - Immutable: frozen sets\n",
    "\n",
    "* Mappings: dictionaries\n",
    "\n",
    "__Callables__\n",
    "\n",
    "Functions, generators, classes, instance methods, class instances\n",
    "\n",
    "__Singletons__\n",
    "\n",
    "`None`, `NotImplemented`, ellipsis operator ( ... )"
   ]
  },
  {
   "cell_type": "markdown",
   "id": "a9ef48c7",
   "metadata": {},
   "source": [
    "### Variable Names\n",
    "\n",
    "Identifier names:\n",
    "* are case-sensitive\n",
    "* _must_ follow certain rules\n",
    "* _should_ follow certain conventions\n",
    "\n",
    "__Must__\n",
    "* Start with either an underscore ( _ ) or a letter ( a-z, A-Z )\n",
    "* Followed by any number of underscores, letters or digits ( 0-9 )\n",
    "\n",
    "[ ! ] Cannot be any of Pythons reserved key words, like `finally` or `return`\n",
    "\n",
    "__Conventions__\n",
    "\n",
    "_my_var (single underscore): indicates internal or private use, but doesn't actually have any added functionality\n",
    "\n",
    "[ ! ] Single-underscore variables will not be imported if used with a wildcard( * ), e.g. `from module import *` \n",
    "\n",
    "\\__my_var (double underscore): used to 'mangle' class attributes, can be used in inheritance chains\n",
    "\n",
    "_ \\_my_var_ _ (dunder variable): used for system-defined names that have special meaning to the interpreter\n",
    "\n",
    "[ ! ] Don't invent new dunder variables, stick with the ones Python provides!\n",
    "\n",
    "\n",
    "Packages: short, all lowercase, one-word, preferably no underscores e.g. `import utilities`\n",
    "\n",
    "Modules: short, all lowercase, can have underscores e.g. `import db_util`\n",
    "\n",
    "Classes: CapWords (upper camel case) e.g. `class BankAccount`\n",
    "\n",
    "Functions: all lowercase, words seperated by underscores e.g. `my_func()`\n",
    "\n",
    "Variables: same as functions (snake-case) e.g. `my_var`\n",
    "\n",
    "Constants: all uppercase, words seperated by underscores e.g. `MIN_APR`\n",
    "\n",
    "[ ! ] Refer to PEP8 for further style conventions\n"
   ]
  },
  {
   "cell_type": "markdown",
   "id": "53875c4a",
   "metadata": {},
   "source": [
    "### Conditionals"
   ]
  },
  {
   "cell_type": "code",
   "execution_count": 1,
   "id": "0e07bcbf",
   "metadata": {},
   "outputs": [
    {
     "name": "stdout",
     "output_type": "stream",
     "text": [
      "a >= 5\n"
     ]
    }
   ],
   "source": [
    "a = 6\n",
    "\n",
    "if a < 5:\n",
    "    print('a < 5')\n",
    "else:\n",
    "    print('a >= 5')"
   ]
  },
  {
   "cell_type": "code",
   "execution_count": 7,
   "id": "17cb650f",
   "metadata": {},
   "outputs": [
    {
     "name": "stdout",
     "output_type": "stream",
     "text": [
      "10 <= a < 15\n"
     ]
    }
   ],
   "source": [
    "a = 12\n",
    "\n",
    "if a < 5:\n",
    "    print('a < 5')\n",
    "elif a < 10:\n",
    "    print('5 <= a < 10')\n",
    "elif a < 15:\n",
    "    print('10 <= a < 15')\n",
    "else:\n",
    "    print('a >= 15')"
   ]
  },
  {
   "cell_type": "markdown",
   "id": "00642f18",
   "metadata": {},
   "source": [
    "__One Line Conditional Expression__\n",
    "\n",
    "X if (condition is true) else Y"
   ]
  },
  {
   "cell_type": "code",
   "execution_count": 9,
   "id": "515147b9",
   "metadata": {},
   "outputs": [
    {
     "data": {
      "text/plain": [
       "'a >= 5'"
      ]
     },
     "execution_count": 9,
     "metadata": {},
     "output_type": "execute_result"
    }
   ],
   "source": [
    "a = 10\n",
    "\n",
    "b = 'a < 5' if a < 5 else 'a >= 5'\n",
    "\n",
    "b"
   ]
  },
  {
   "cell_type": "code",
   "execution_count": null,
   "id": "dbd687b7",
   "metadata": {},
   "outputs": [],
   "source": []
  }
 ],
 "metadata": {
  "kernelspec": {
   "display_name": "Python 3 (ipykernel)",
   "language": "python",
   "name": "python3"
  },
  "language_info": {
   "codemirror_mode": {
    "name": "ipython",
    "version": 3
   },
   "file_extension": ".py",
   "mimetype": "text/x-python",
   "name": "python",
   "nbconvert_exporter": "python",
   "pygments_lexer": "ipython3",
   "version": "3.9.6"
  }
 },
 "nbformat": 4,
 "nbformat_minor": 5
}
