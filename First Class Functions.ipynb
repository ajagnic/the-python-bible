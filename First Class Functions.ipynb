{
 "cells": [
  {
   "cell_type": "markdown",
   "id": "4769e0cd",
   "metadata": {},
   "source": [
    "### First-Class Objects\n",
    "* can be passed to a function as an argument\n",
    "* can be returned from a function\n",
    "* can be assigned to a variable\n",
    "* can be stored in a data structure (list, tuple, etc)\n",
    "\n",
    "__Higher-Order Functions__\n",
    "\n",
    "Functions that:\n",
    "* take a function as an argument\n",
    "\n",
    "OR\n",
    "\n",
    "* returns a function\n",
    "\n",
    "__Docstrings__\n",
    "\n",
    "We can document functions by creating a standalone string as the first line in a function. This information is used for general documentation as well as being returned in cases like the `help()` function. Docstrings are defined by PEP257."
   ]
  },
  {
   "cell_type": "code",
   "execution_count": 24,
   "id": "6e86b164",
   "metadata": {},
   "outputs": [],
   "source": [
    "def func():\n",
    "    \"documentation for func\"\n",
    "    pass"
   ]
  },
  {
   "cell_type": "code",
   "execution_count": 25,
   "id": "b80e9a94",
   "metadata": {},
   "outputs": [
    {
     "name": "stdout",
     "output_type": "stream",
     "text": [
      "Help on function func in module __main__:\n",
      "\n",
      "func()\n",
      "    documentation for func\n",
      "\n"
     ]
    }
   ],
   "source": [
    "help(func)"
   ]
  },
  {
   "cell_type": "code",
   "execution_count": 26,
   "id": "a705feae",
   "metadata": {},
   "outputs": [],
   "source": [
    "#Docstrings are usually created using triple-delimiters which allows multi-line strings\n",
    "def func():\n",
    "    '''\n",
    "    documentation for func\n",
    "    '''\n",
    "    pass"
   ]
  },
  {
   "cell_type": "code",
   "execution_count": 27,
   "id": "319de029",
   "metadata": {},
   "outputs": [
    {
     "data": {
      "text/plain": [
       "'\\n    documentation for func\\n    '"
      ]
     },
     "execution_count": 27,
     "metadata": {},
     "output_type": "execute_result"
    }
   ],
   "source": [
    "#Docstrings are stored in the functions `__doc__` property\n",
    "func.__doc__"
   ]
  },
  {
   "cell_type": "markdown",
   "id": "bc97f35b",
   "metadata": {},
   "source": [
    "__Function Annotations__\n",
    "\n",
    "Annotations give us a way of documenting functions parameters and return values (PEP3107)."
   ]
  },
  {
   "cell_type": "code",
   "execution_count": 28,
   "id": "7044e782",
   "metadata": {},
   "outputs": [],
   "source": [
    "def func(a: str, b: list) -> list:\n",
    "    return [*b, *a]"
   ]
  },
  {
   "cell_type": "code",
   "execution_count": 29,
   "id": "2ceb7df8",
   "metadata": {},
   "outputs": [
    {
     "name": "stdout",
     "output_type": "stream",
     "text": [
      "Help on function func in module __main__:\n",
      "\n",
      "func(a: str, b: list) -> list\n",
      "\n"
     ]
    }
   ],
   "source": [
    "help(func)"
   ]
  },
  {
   "cell_type": "code",
   "execution_count": 30,
   "id": "9c04c3de",
   "metadata": {},
   "outputs": [
    {
     "name": "stdout",
     "output_type": "stream",
     "text": [
      "Help on function query in module __main__:\n",
      "\n",
      "query(sql: str, db: 'mongodb://test')\n",
      "\n"
     ]
    }
   ],
   "source": [
    "#Annotations can be any expression! \n",
    "DB_URL = 'mongodb://test'\n",
    "\n",
    "def query(sql: str, db: DB_URL): ...\n",
    "\n",
    "help(query)"
   ]
  },
  {
   "cell_type": "code",
   "execution_count": 31,
   "id": "f2c12567",
   "metadata": {},
   "outputs": [],
   "source": [
    "#Default values can still be used:\n",
    "\n",
    "def func(a: str = 'xyz',\n",
    "         *args: 'additional args',\n",
    "         b: int = 1,\n",
    "         **kwargs: 'addtional kwargs') -> str:\n",
    "    pass"
   ]
  },
  {
   "cell_type": "code",
   "execution_count": 32,
   "id": "2ce68e4d",
   "metadata": {},
   "outputs": [
    {
     "data": {
      "text/plain": [
       "{'a': str,\n",
       " 'args': 'additional args',\n",
       " 'b': int,\n",
       " 'kwargs': 'addtional kwargs',\n",
       " 'return': str}"
      ]
     },
     "execution_count": 32,
     "metadata": {},
     "output_type": "execute_result"
    }
   ],
   "source": [
    "#Annotations are stored in the __annotations__ property\n",
    "func.__annotations__"
   ]
  },
  {
   "cell_type": "markdown",
   "id": "6f1034d2",
   "metadata": {},
   "source": [
    "### Lambda Expressions\n",
    "\n",
    "Lambda expressions are a way of defining anonymous functions. Lambdas are first-class functions just like regular functions.\n",
    "\n",
    "Syntax:\n",
    "\n",
    "lambda \\[optional parameter list]: expression \n",
    "\n",
    "^ This returns a function object that evaluates and returns the expression when it is called.\n",
    "\n"
   ]
  },
  {
   "cell_type": "code",
   "execution_count": 36,
   "id": "6be15919",
   "metadata": {},
   "outputs": [
    {
     "data": {
      "text/plain": [
       "<function __main__.<lambda>()>"
      ]
     },
     "execution_count": 36,
     "metadata": {},
     "output_type": "execute_result"
    }
   ],
   "source": [
    "lambda x: x**2\n",
    "lambda x, y: x + y\n",
    "lambda: 'hello'"
   ]
  },
  {
   "cell_type": "code",
   "execution_count": 37,
   "id": "cda48bc5",
   "metadata": {},
   "outputs": [
    {
     "data": {
      "text/plain": [
       "function"
      ]
     },
     "execution_count": 37,
     "metadata": {},
     "output_type": "execute_result"
    }
   ],
   "source": [
    "type(lambda x:x**2)"
   ]
  },
  {
   "cell_type": "code",
   "execution_count": 38,
   "id": "8f65f712",
   "metadata": {},
   "outputs": [
    {
     "data": {
      "text/plain": [
       "16"
      ]
     },
     "execution_count": 38,
     "metadata": {},
     "output_type": "execute_result"
    }
   ],
   "source": [
    "my_func = lambda x: x**2\n",
    "\n",
    "my_func(4)"
   ]
  },
  {
   "cell_type": "code",
   "execution_count": 43,
   "id": "a7507ab4",
   "metadata": {},
   "outputs": [
    {
     "data": {
      "text/plain": [
       "6"
      ]
     },
     "execution_count": 43,
     "metadata": {},
     "output_type": "execute_result"
    }
   ],
   "source": [
    "def apply(x, fn):\n",
    "    return fn(x)\n",
    "\n",
    "apply(3, lambda x: x*2)"
   ]
  },
  {
   "cell_type": "markdown",
   "id": "70ce1015",
   "metadata": {},
   "source": [
    "[ ! ] Lambdas, or anonymous functions, are NOT equivalent to closures"
   ]
  },
  {
   "cell_type": "markdown",
   "id": "0a6bdf8f",
   "metadata": {},
   "source": [
    "__Limitations__\n",
    "* body of a lambda is limited to a single expression\n",
    "* no assignments eg. lambda x: x=5\n",
    "* no annotations\n",
    "* single logical line of code (line continuations (/) are allowed but not convention)"
   ]
  },
  {
   "cell_type": "markdown",
   "id": "0c122f17",
   "metadata": {},
   "source": [
    "__Lambdas and Sorting__"
   ]
  },
  {
   "cell_type": "code",
   "execution_count": 45,
   "id": "33160a71",
   "metadata": {},
   "outputs": [
    {
     "name": "stdout",
     "output_type": "stream",
     "text": [
      "Help on built-in function sorted in module builtins:\n",
      "\n",
      "sorted(iterable, /, *, key=None, reverse=False)\n",
      "    Return a new list containing all items from the iterable in ascending order.\n",
      "    \n",
      "    A custom key function can be supplied to customize the sort order, and the\n",
      "    reverse flag can be set to request the result in descending order.\n",
      "\n"
     ]
    }
   ],
   "source": [
    "help(sorted)"
   ]
  },
  {
   "cell_type": "code",
   "execution_count": 46,
   "id": "8413e033",
   "metadata": {},
   "outputs": [
    {
     "data": {
      "text/plain": [
       "[1, 3, 6, 7, 9]"
      ]
     },
     "execution_count": 46,
     "metadata": {},
     "output_type": "execute_result"
    }
   ],
   "source": [
    "l = [3, 6, 1, 9, 7]\n",
    "\n",
    "sorted(l)"
   ]
  },
  {
   "cell_type": "code",
   "execution_count": 48,
   "id": "7d5153eb",
   "metadata": {},
   "outputs": [
    {
     "data": {
      "text/plain": [
       "[3, 6, 1, 9, 7]"
      ]
     },
     "execution_count": 48,
     "metadata": {},
     "output_type": "execute_result"
    }
   ],
   "source": [
    "# Sorted returns a new list, so the original is unaffected\n",
    "l"
   ]
  },
  {
   "cell_type": "code",
   "execution_count": 51,
   "id": "a324316e",
   "metadata": {},
   "outputs": [
    {
     "data": {
      "text/plain": [
       "['B', 'X', 'a', 'c']"
      ]
     },
     "execution_count": 51,
     "metadata": {},
     "output_type": "execute_result"
    }
   ],
   "source": [
    "# The uppercase alphabet technically is sorted before any lowercase letters\n",
    "l = ['c', 'X', 'B', 'a']\n",
    "\n",
    "sorted(l)"
   ]
  },
  {
   "cell_type": "code",
   "execution_count": 53,
   "id": "7ca4a45f",
   "metadata": {},
   "outputs": [
    {
     "data": {
      "text/plain": [
       "['a', 'B', 'c', 'X']"
      ]
     },
     "execution_count": 53,
     "metadata": {},
     "output_type": "execute_result"
    }
   ],
   "source": [
    "# We can associate a key to avoid this\n",
    "\n",
    "sorted(l, key=lambda s:s.upper())"
   ]
  },
  {
   "cell_type": "markdown",
   "id": "f6aa8973",
   "metadata": {},
   "source": [
    "### Function Introspection\n",
    "\n",
    "Since functions are first-class objects, they have attributes.\n",
    "\n",
    "Most commonly, these are the dunder properties, eg. `__doc__`, `__annotations__`\n",
    "\n",
    "However, we can attach our own attributes:"
   ]
  },
  {
   "cell_type": "code",
   "execution_count": 56,
   "id": "39267f18",
   "metadata": {},
   "outputs": [
    {
     "name": "stdout",
     "output_type": "stream",
     "text": [
      "math\n"
     ]
    }
   ],
   "source": [
    "def my_func(): ...\n",
    "\n",
    "my_func.category = 'math'\n",
    "my_func.sub_category = 'arithmetic'\n",
    "\n",
    "print(my_func.category)"
   ]
  },
  {
   "cell_type": "markdown",
   "id": "b7d0b0ad",
   "metadata": {},
   "source": [
    "__dir__\n",
    "\n",
    "`dir()` is a built-in function that returns a list of the valid attributes for a given object"
   ]
  },
  {
   "cell_type": "code",
   "execution_count": 57,
   "id": "920de443",
   "metadata": {},
   "outputs": [
    {
     "data": {
      "text/plain": [
       "['__annotations__',\n",
       " '__call__',\n",
       " '__class__',\n",
       " '__closure__',\n",
       " '__code__',\n",
       " '__defaults__',\n",
       " '__delattr__',\n",
       " '__dict__',\n",
       " '__dir__',\n",
       " '__doc__',\n",
       " '__eq__',\n",
       " '__format__',\n",
       " '__ge__',\n",
       " '__get__',\n",
       " '__getattribute__',\n",
       " '__globals__',\n",
       " '__gt__',\n",
       " '__hash__',\n",
       " '__init__',\n",
       " '__init_subclass__',\n",
       " '__kwdefaults__',\n",
       " '__le__',\n",
       " '__lt__',\n",
       " '__module__',\n",
       " '__name__',\n",
       " '__ne__',\n",
       " '__new__',\n",
       " '__qualname__',\n",
       " '__reduce__',\n",
       " '__reduce_ex__',\n",
       " '__repr__',\n",
       " '__setattr__',\n",
       " '__sizeof__',\n",
       " '__str__',\n",
       " '__subclasshook__',\n",
       " 'category',\n",
       " 'sub_category']"
      ]
     },
     "execution_count": 57,
     "metadata": {},
     "output_type": "execute_result"
    }
   ],
   "source": [
    "dir(my_func)"
   ]
  },
  {
   "cell_type": "markdown",
   "id": "0713ba87",
   "metadata": {},
   "source": [
    "__Function Attribute: __code__\\__"
   ]
  },
  {
   "cell_type": "code",
   "execution_count": 69,
   "id": "bfb8cb87",
   "metadata": {},
   "outputs": [],
   "source": [
    "#TODO: Some additional notes\n",
    "def my_func(a, b=1, *args, **kwargs):\n",
    "    i = 10\n",
    "    b = min(i, b)\n",
    "    return a * b"
   ]
  },
  {
   "cell_type": "code",
   "execution_count": 70,
   "id": "24b6fecb",
   "metadata": {},
   "outputs": [
    {
     "data": {
      "text/plain": [
       "<code object my_func at 0x7fcc641dd0e0, file \"/tmp/ipykernel_13797/3402122119.py\", line 2>"
      ]
     },
     "execution_count": 70,
     "metadata": {},
     "output_type": "execute_result"
    }
   ],
   "source": [
    "my_func.__code__"
   ]
  },
  {
   "cell_type": "code",
   "execution_count": 71,
   "id": "0ef4375a",
   "metadata": {},
   "outputs": [
    {
     "data": {
      "text/plain": [
       "2"
      ]
     },
     "execution_count": 71,
     "metadata": {},
     "output_type": "execute_result"
    }
   ],
   "source": [
    "#__code__ has various properties:\n",
    "\n",
    "my_func.__code__.co_varnames #parameters and local variables\n",
    "my_func.__code__.co_argcount #number of params (doesnt count args/kwargs)"
   ]
  },
  {
   "cell_type": "markdown",
   "id": "1adec4e1",
   "metadata": {},
   "source": [
    "__The `inspect` module__"
   ]
  },
  {
   "cell_type": "code",
   "execution_count": 72,
   "id": "8b38251f",
   "metadata": {},
   "outputs": [
    {
     "data": {
      "text/plain": [
       "True"
      ]
     },
     "execution_count": 72,
     "metadata": {},
     "output_type": "execute_result"
    }
   ],
   "source": [
    "import inspect\n",
    "\n",
    "inspect.ismethod(my_func)\n",
    "inspect.isfunction(my_func)"
   ]
  },
  {
   "cell_type": "code",
   "execution_count": 73,
   "id": "4da4699b",
   "metadata": {},
   "outputs": [
    {
     "name": "stdout",
     "output_type": "stream",
     "text": [
      "def my_func(a, b=1, *args, **kwargs):\n",
      "    i = 10\n",
      "    b = min(i, b)\n",
      "    return a * b\n",
      "\n"
     ]
    }
   ],
   "source": [
    "# Code introspection\n",
    "print(inspect.getsource(my_func))"
   ]
  },
  {
   "cell_type": "code",
   "execution_count": 74,
   "id": "881cb9f9",
   "metadata": {},
   "outputs": [
    {
     "data": {
      "text/plain": [
       "<module '__main__'>"
      ]
     },
     "execution_count": 74,
     "metadata": {},
     "output_type": "execute_result"
    }
   ],
   "source": [
    "inspect.getmodule(my_func)"
   ]
  },
  {
   "cell_type": "code",
   "execution_count": 75,
   "id": "41f5185f",
   "metadata": {},
   "outputs": [
    {
     "data": {
      "text/plain": [
       "'#TODO: Some additional notes\\n'"
      ]
     },
     "execution_count": 75,
     "metadata": {},
     "output_type": "execute_result"
    }
   ],
   "source": [
    "inspect.getcomments(my_func)"
   ]
  },
  {
   "cell_type": "code",
   "execution_count": 77,
   "id": "ef7dce87",
   "metadata": {},
   "outputs": [],
   "source": [
    "def my_func(a: str,\n",
    "           b: int = 1,\n",
    "           *args: 'additional args',\n",
    "           kw1: 'first keyword arg' = 10,\n",
    "           **kwargs: 'addt. kwargs') -> str:\n",
    "    '''\n",
    "    Does something unknown\n",
    "    '''\n",
    "    pass"
   ]
  },
  {
   "cell_type": "code",
   "execution_count": 82,
   "id": "5886b6cb",
   "metadata": {},
   "outputs": [
    {
     "name": "stdout",
     "output_type": "stream",
     "text": [
      "Name: a\n",
      "Default: <class 'inspect._empty'>\n",
      "Annotations: <class 'str'>\n",
      "Kind: POSITIONAL_OR_KEYWORD\n",
      "-----\n",
      "Name: b\n",
      "Default: 1\n",
      "Annotations: <class 'int'>\n",
      "Kind: POSITIONAL_OR_KEYWORD\n",
      "-----\n",
      "Name: args\n",
      "Default: <class 'inspect._empty'>\n",
      "Annotations: additional args\n",
      "Kind: VAR_POSITIONAL\n",
      "-----\n",
      "Name: kw1\n",
      "Default: 10\n",
      "Annotations: first keyword arg\n",
      "Kind: KEYWORD_ONLY\n",
      "-----\n",
      "Name: kwargs\n",
      "Default: <class 'inspect._empty'>\n",
      "Annotations: addt. kwargs\n",
      "Kind: VAR_KEYWORD\n",
      "-----\n"
     ]
    }
   ],
   "source": [
    "for param in inspect.signature(my_func).parameters.values():\n",
    "    print(f\"Name: {param.name}\")\n",
    "    print(f\"Default: {param.default}\")\n",
    "    print(f\"Annotations: {param.annotation}\")\n",
    "    print(f\"Kind: {param.kind}\")\n",
    "    print('-' * 5)"
   ]
  },
  {
   "cell_type": "markdown",
   "id": "6dfbc3d4",
   "metadata": {},
   "source": [
    "### Higher-Order Functions: Map, Filter, Zip, and Comprehensions\n",
    "\n",
    "__The `map` function__\n",
    "\n",
    "`map(func, *iterables)`\n",
    "\n",
    "\\*iterables: a variable number of iterable objects\n",
    "\n",
    "func: some function that takes as many arguments as there are iterable objects passed to \\*iterables\n",
    "\n",
    "[ ! ] `map` returns an *iterator that calculates the function applied to each element of the iterables"
   ]
  },
  {
   "cell_type": "code",
   "execution_count": 83,
   "id": "95de895a",
   "metadata": {},
   "outputs": [
    {
     "data": {
      "text/plain": [
       "[4, 9, 16]"
      ]
     },
     "execution_count": 83,
     "metadata": {},
     "output_type": "execute_result"
    }
   ],
   "source": [
    "l = [2, 3, 4]\n",
    "\n",
    "def sq(x): return x**2\n",
    "\n",
    "list(map(sq, l))"
   ]
  },
  {
   "cell_type": "code",
   "execution_count": 84,
   "id": "e01b2b70",
   "metadata": {},
   "outputs": [
    {
     "data": {
      "text/plain": [
       "[11, 22, 33]"
      ]
     },
     "execution_count": 84,
     "metadata": {},
     "output_type": "execute_result"
    }
   ],
   "source": [
    "l1 = [1, 2, 3]\n",
    "l2 = [10, 20, 30]\n",
    "\n",
    "def add(x, y): return x + y\n",
    "\n",
    "list(map(add, l1, l2))"
   ]
  },
  {
   "cell_type": "code",
   "execution_count": 85,
   "id": "8b73d11f",
   "metadata": {},
   "outputs": [
    {
     "data": {
      "text/plain": [
       "[11, 22, 33]"
      ]
     },
     "execution_count": 85,
     "metadata": {},
     "output_type": "execute_result"
    }
   ],
   "source": [
    "list(map(lambda x,y: x+y, l1, l2))"
   ]
  },
  {
   "cell_type": "markdown",
   "id": "40b7baf9",
   "metadata": {},
   "source": [
    "__The `filter` function__\n",
    "\n",
    "`filter(func, iterable)`\n",
    "\n",
    "iterable: a single iterable\n",
    "\n",
    "func: some function that takes a single argument\n",
    "\n",
    "[ ! ] `filter` returns an iterator that contains all the elements of the iterable for which the function call on it it 'truthy'. If the function is `None`, it simply returns the elements of iterable that are 'truthy' themselves.\n"
   ]
  },
  {
   "cell_type": "code",
   "execution_count": 86,
   "id": "2d215f4d",
   "metadata": {},
   "outputs": [
    {
     "data": {
      "text/plain": [
       "[1, 2, 3, 4]"
      ]
     },
     "execution_count": 86,
     "metadata": {},
     "output_type": "execute_result"
    }
   ],
   "source": [
    "l = [0, 1, 2, 3, 4]\n",
    "\n",
    "list(filter(None, l))"
   ]
  },
  {
   "cell_type": "code",
   "execution_count": 89,
   "id": "fdefe23f",
   "metadata": {},
   "outputs": [
    {
     "data": {
      "text/plain": [
       "[0, 2, 4]"
      ]
     },
     "execution_count": 89,
     "metadata": {},
     "output_type": "execute_result"
    }
   ],
   "source": [
    "list(filter(lambda x: x%2==0, l))"
   ]
  },
  {
   "cell_type": "markdown",
   "id": "0107e641",
   "metadata": {},
   "source": [
    "__The `zip` function__\n",
    "\n",
    "`zip(*iterables)`\n",
    "\n",
    "[ ! ] `zip` returns an `Iterable` that contains the combinations of all the iterables, pair-wise."
   ]
  },
  {
   "cell_type": "code",
   "execution_count": 90,
   "id": "80e0e1fe",
   "metadata": {},
   "outputs": [
    {
     "data": {
      "text/plain": [
       "[(1, 10, 'p'), (2, 20, 'y'), (3, 30, 't')]"
      ]
     },
     "execution_count": 90,
     "metadata": {},
     "output_type": "execute_result"
    }
   ],
   "source": [
    "l1 = [1, 2, 3]\n",
    "l2 = [10, 20, 30]\n",
    "l3 = 'python'\n",
    "\n",
    "list(zip(l1, l2, l3))"
   ]
  },
  {
   "cell_type": "markdown",
   "id": "69cd2c64",
   "metadata": {},
   "source": [
    "__List Comprehension Alternative to `map`__"
   ]
  },
  {
   "cell_type": "code",
   "execution_count": 93,
   "id": "1c04d1aa",
   "metadata": {
    "scrolled": true
   },
   "outputs": [
    {
     "data": {
      "text/plain": [
       "[11, 22, 33]"
      ]
     },
     "execution_count": 93,
     "metadata": {},
     "output_type": "execute_result"
    }
   ],
   "source": [
    "l1 = [1, 2, 3]\n",
    "l2 = [10, 20, 30]\n",
    "\n",
    "list(map(lambda x,y:x+y, l1, l2))"
   ]
  },
  {
   "cell_type": "code",
   "execution_count": 94,
   "id": "fd165a10",
   "metadata": {},
   "outputs": [
    {
     "data": {
      "text/plain": [
       "[11, 22, 33]"
      ]
     },
     "execution_count": 94,
     "metadata": {},
     "output_type": "execute_result"
    }
   ],
   "source": [
    "[x + y for x,y in zip(l1, l2)]"
   ]
  },
  {
   "cell_type": "markdown",
   "id": "2a5e447e",
   "metadata": {},
   "source": [
    "__List Comprehension Alternative to `filter`__"
   ]
  },
  {
   "cell_type": "code",
   "execution_count": 95,
   "id": "8997ae41",
   "metadata": {},
   "outputs": [
    {
     "data": {
      "text/plain": [
       "[2, 4]"
      ]
     },
     "execution_count": 95,
     "metadata": {},
     "output_type": "execute_result"
    }
   ],
   "source": [
    "l = [1, 2, 3, 4]\n",
    "list(filter(lambda n:n%2==0, l))"
   ]
  },
  {
   "cell_type": "code",
   "execution_count": 96,
   "id": "1cedb33e",
   "metadata": {},
   "outputs": [
    {
     "data": {
      "text/plain": [
       "[2, 4]"
      ]
     },
     "execution_count": 96,
     "metadata": {},
     "output_type": "execute_result"
    }
   ],
   "source": [
    "[x for x in l if x % 2 == 0]"
   ]
  },
  {
   "cell_type": "markdown",
   "id": "2b1ee999",
   "metadata": {},
   "source": [
    "### Reducing Functions\n",
    "\n",
    "Functions that recombine an iterable recursively, ending up with a single return value.\n",
    "\n",
    "Also called accumulators, aggregators, or folding functions."
   ]
  },
  {
   "cell_type": "code",
   "execution_count": 1,
   "id": "35ec9ad2",
   "metadata": {},
   "outputs": [],
   "source": [
    "minimum = lambda x,y: x if x < y else y\n",
    "add = lambda x,y: x + y"
   ]
  },
  {
   "cell_type": "code",
   "execution_count": 11,
   "id": "6f8e668d",
   "metadata": {},
   "outputs": [],
   "source": [
    "# Example reduce for sequences\n",
    "def _reduce(fn, sequence):\n",
    "    res = sequence[0]\n",
    "    for x in sequence[1:]:\n",
    "        res = fn(res, x)\n",
    "    return res"
   ]
  },
  {
   "cell_type": "code",
   "execution_count": 12,
   "id": "ac04994a",
   "metadata": {},
   "outputs": [
    {
     "data": {
      "text/plain": [
       "39"
      ]
     },
     "execution_count": 12,
     "metadata": {},
     "output_type": "execute_result"
    }
   ],
   "source": [
    "l = [5, 8, 6, 10, 1, 9]\n",
    "\n",
    "_reduce(add, l)"
   ]
  },
  {
   "cell_type": "code",
   "execution_count": 13,
   "id": "354b8855",
   "metadata": {},
   "outputs": [
    {
     "data": {
      "text/plain": [
       "1"
      ]
     },
     "execution_count": 13,
     "metadata": {},
     "output_type": "execute_result"
    }
   ],
   "source": [
    "_reduce(minimum, l)"
   ]
  },
  {
   "cell_type": "markdown",
   "id": "6e088ac9",
   "metadata": {},
   "source": [
    "__`functools.reduce`__\n",
    "\n",
    "Python implements a reduce function but it also can handle any iterable, not just sequences."
   ]
  },
  {
   "cell_type": "code",
   "execution_count": 14,
   "id": "b16066a4",
   "metadata": {},
   "outputs": [],
   "source": [
    "from functools import reduce"
   ]
  },
  {
   "cell_type": "code",
   "execution_count": 15,
   "id": "d13d5bfd",
   "metadata": {},
   "outputs": [
    {
     "data": {
      "text/plain": [
       "38"
      ]
     },
     "execution_count": 15,
     "metadata": {},
     "output_type": "execute_result"
    }
   ],
   "source": [
    "l = [5, 8, 6, 10, 9]\n",
    "\n",
    "reduce(lambda x,y: x + y, l)"
   ]
  },
  {
   "cell_type": "code",
   "execution_count": 16,
   "id": "3124a181",
   "metadata": {},
   "outputs": [
    {
     "data": {
      "text/plain": [
       "2"
      ]
     },
     "execution_count": 16,
     "metadata": {},
     "output_type": "execute_result"
    }
   ],
   "source": [
    "s = {10, 5, 2, 4}\n",
    "\n",
    "reduce(lambda x,y: x if x < y else y, s)"
   ]
  },
  {
   "cell_type": "markdown",
   "id": "c532d767",
   "metadata": {},
   "source": [
    "__Built-in Reducing Functions__"
   ]
  },
  {
   "cell_type": "code",
   "execution_count": 17,
   "id": "ec101bdb",
   "metadata": {},
   "outputs": [],
   "source": [
    "l = [5, 8, 6, 10, 9]"
   ]
  },
  {
   "cell_type": "code",
   "execution_count": 18,
   "id": "8b05bca3",
   "metadata": {},
   "outputs": [
    {
     "data": {
      "text/plain": [
       "True"
      ]
     },
     "execution_count": 18,
     "metadata": {},
     "output_type": "execute_result"
    }
   ],
   "source": [
    "min(l)\n",
    "max(l)\n",
    "sum(l)\n",
    "any(l) #Returns true if any element in l is truthy\n",
    "all(l) #Returns true if all elemnets in l are truthy"
   ]
  },
  {
   "cell_type": "code",
   "execution_count": 61,
   "id": "ca3f1522",
   "metadata": {},
   "outputs": [
    {
     "data": {
      "text/plain": [
       "3628800"
      ]
     },
     "execution_count": 61,
     "metadata": {},
     "output_type": "execute_result"
    }
   ],
   "source": [
    "# Use Case: Calculating n! without recursion\n",
    "n = 10\n",
    "reduce(lambda x,y: x * y, iter(range(1, n+1)))"
   ]
  },
  {
   "cell_type": "markdown",
   "id": "cbffdc80",
   "metadata": {},
   "source": [
    "__The `reduce` initializer__\n",
    "\n",
    "The reduce function has a third (optional) parameter: initializer. If specified, it is essentially like adding a value to the front of the iterable.\n",
    "\n",
    "Often used as a way to avoid exceptions when the iterable is empty"
   ]
  },
  {
   "cell_type": "markdown",
   "id": "17f78bb6",
   "metadata": {},
   "source": [
    "### Partial Functions\n",
    "\n",
    "__Reducing Function Arguments__"
   ]
  },
  {
   "cell_type": "code",
   "execution_count": 69,
   "id": "97f81bf7",
   "metadata": {},
   "outputs": [],
   "source": [
    "def my_func(a, b, c): print(a, b, c)"
   ]
  },
  {
   "cell_type": "code",
   "execution_count": 70,
   "id": "8d7c00eb",
   "metadata": {},
   "outputs": [],
   "source": [
    "# What if we want to avoid having the 'a' param when calling my_func?\n",
    "def fn(b, c):\n",
    "    return my_func(10, b, c)"
   ]
  },
  {
   "cell_type": "code",
   "execution_count": 74,
   "id": "721e2bd4",
   "metadata": {},
   "outputs": [
    {
     "name": "stdout",
     "output_type": "stream",
     "text": [
      "10 20 30\n"
     ]
    }
   ],
   "source": [
    "f = lambda b,c: my_func(10, b, c)\n",
    "\n",
    "f(20, 30)"
   ]
  },
  {
   "cell_type": "code",
   "execution_count": null,
   "id": "b8a58f62",
   "metadata": {},
   "outputs": [],
   "source": []
  },
  {
   "cell_type": "code",
   "execution_count": 72,
   "id": "d6a977d7",
   "metadata": {},
   "outputs": [],
   "source": [
    "from functools import partial"
   ]
  },
  {
   "cell_type": "code",
   "execution_count": 73,
   "id": "00f874ab",
   "metadata": {},
   "outputs": [
    {
     "name": "stdout",
     "output_type": "stream",
     "text": [
      "10 20 30\n"
     ]
    }
   ],
   "source": [
    "f = partial(my_func, 10) # Arguments after my_func will be passed in positionally to my_func\n",
    "\n",
    "f(20, 30)"
   ]
  },
  {
   "cell_type": "code",
   "execution_count": 77,
   "id": "d405ec48",
   "metadata": {},
   "outputs": [],
   "source": [
    "def my_func(a, b, *args, k1, k2, **kwargs): ...\n",
    "\n",
    "# Here we set default values for a and k1, so we dont have to specify them when calling f()\n",
    "f = partial(my_func, 10, k1='a')\n",
    "\n",
    "f(20, k2='b')"
   ]
  },
  {
   "cell_type": "code",
   "execution_count": 78,
   "id": "a20e35ce",
   "metadata": {},
   "outputs": [],
   "source": [
    "def pow(base, exponent):\n",
    "    return base ** exponent"
   ]
  },
  {
   "cell_type": "code",
   "execution_count": 79,
   "id": "a29d288e",
   "metadata": {},
   "outputs": [],
   "source": [
    "square = partial(pow, exponent=2)\n",
    "cube = partial(pow, exponent=3)"
   ]
  },
  {
   "cell_type": "code",
   "execution_count": 80,
   "id": "3a9e2382",
   "metadata": {},
   "outputs": [
    {
     "data": {
      "text/plain": [
       "4"
      ]
     },
     "execution_count": 80,
     "metadata": {},
     "output_type": "execute_result"
    }
   ],
   "source": [
    "square(2)"
   ]
  },
  {
   "cell_type": "code",
   "execution_count": 81,
   "id": "5f48e0ef",
   "metadata": {},
   "outputs": [
    {
     "data": {
      "text/plain": [
       "8"
      ]
     },
     "execution_count": 81,
     "metadata": {},
     "output_type": "execute_result"
    }
   ],
   "source": [
    "cube(2)"
   ]
  },
  {
   "cell_type": "code",
   "execution_count": 82,
   "id": "dc8f8669",
   "metadata": {},
   "outputs": [],
   "source": [
    "def my_func(a, b, c): ..."
   ]
  },
  {
   "cell_type": "code",
   "execution_count": 85,
   "id": "73fef1e6",
   "metadata": {},
   "outputs": [],
   "source": [
    "#Beware!\n",
    "#You can use variables when creating partials:\n",
    "a = 10\n",
    "f = partial(my_func, a) #The memory addr of a will be baked into the partial\n",
    "\n",
    "a = 100\n",
    "f(20, 30) #Will still contain a as 10, NOT 100\n",
    "\n",
    "# NOTE: If a was mutable, then its contents CAN be changed and will reflect in the partial"
   ]
  },
  {
   "cell_type": "markdown",
   "id": "e862758a",
   "metadata": {},
   "source": [
    "### The `operator` Module\n",
    "\n",
    "The operator module provides functional equivalents to common operators, such as * (multiplication), ** (power), % (modulo), etc..."
   ]
  },
  {
   "cell_type": "code",
   "execution_count": 87,
   "id": "127225ca",
   "metadata": {},
   "outputs": [
    {
     "data": {
      "text/plain": [
       "24"
      ]
     },
     "execution_count": 87,
     "metadata": {},
     "output_type": "execute_result"
    }
   ],
   "source": [
    "l = [1, 2, 3, 4]\n",
    "\n",
    "# Here we create a functional version of the * operator\n",
    "reduce(lambda x,y: x * y, l)"
   ]
  },
  {
   "cell_type": "code",
   "execution_count": 92,
   "id": "a1d719f6",
   "metadata": {},
   "outputs": [
    {
     "data": {
      "text/plain": [
       "False"
      ]
     },
     "execution_count": 92,
     "metadata": {},
     "output_type": "execute_result"
    }
   ],
   "source": [
    "from operator import *\n",
    "\n",
    "a, b = 2, 3\n",
    "\n",
    "# Arithmetic Functions\n",
    "add(a, b)\n",
    "mul(a, b)\n",
    "pow(a, b)\n",
    "mod(a, b)\n",
    "floordiv(a, b)\n",
    "neg(a)\n",
    "\n",
    "#Comparison and Boolean Functions\n",
    "lt(a, b)\n",
    "le(a, b)\n",
    "gt(a, b)\n",
    "ge(a, b)\n",
    "eq(a, b)\n",
    "ne(a, b)\n",
    "is_(a, b)\n",
    "is_not(a, b)\n",
    "and_(a, b)\n",
    "or_(a, b)\n",
    "not_(a)\n",
    "\n",
    "#Sequence and Mapping Functions\n",
    "s1, s2 = 'hello', 'world'\n",
    "\n",
    "concat(s1, s2)\n",
    "contains(s1, 'e')\n",
    "countOf(s1, 'l')\n",
    "getitem(s, 1)\n",
    "setitem(s, 0, 'j')\n",
    "delitem(s, 1)"
   ]
  },
  {
   "cell_type": "markdown",
   "id": "a90912ad",
   "metadata": {},
   "source": [
    "__Item Getters__\n",
    "\n",
    "The `itemgetter` function returns a __callable__"
   ]
  },
  {
   "cell_type": "code",
   "execution_count": 93,
   "id": "93c424b0",
   "metadata": {},
   "outputs": [
    {
     "data": {
      "text/plain": [
       "2"
      ]
     },
     "execution_count": 93,
     "metadata": {},
     "output_type": "execute_result"
    }
   ],
   "source": [
    "s = [1, 2, 3]\n",
    "\n",
    "#getitem takes 2 parameters, a sequence and an index\n",
    "getitem(s, 1)"
   ]
  },
  {
   "cell_type": "code",
   "execution_count": 95,
   "id": "97ebaaee",
   "metadata": {},
   "outputs": [
    {
     "name": "stdout",
     "output_type": "stream",
     "text": [
      "4 y\n"
     ]
    }
   ],
   "source": [
    "#itemgetter returns a callable with the index preset, \n",
    "# so only a sequence needs to be passed to f\n",
    "f = itemgetter(1)\n",
    "\n",
    "s = [2, 4, 6]\n",
    "word = 'python'\n",
    "\n",
    "print(f(s), f(word))"
   ]
  },
  {
   "cell_type": "code",
   "execution_count": 96,
   "id": "30c9cc13",
   "metadata": {},
   "outputs": [],
   "source": [
    "# We can use multiple indices with itemgetter\n",
    "f = itemgetter(1, 3, 4)\n",
    "\n",
    "l = [2, 4, 6, 8, 10, 12]\n",
    "word = 'python'"
   ]
  },
  {
   "cell_type": "code",
   "execution_count": 97,
   "id": "330c7a39",
   "metadata": {},
   "outputs": [
    {
     "data": {
      "text/plain": [
       "(4, 8, 10)"
      ]
     },
     "execution_count": 97,
     "metadata": {},
     "output_type": "execute_result"
    }
   ],
   "source": [
    "f(l)"
   ]
  },
  {
   "cell_type": "code",
   "execution_count": 98,
   "id": "26605cfb",
   "metadata": {},
   "outputs": [
    {
     "data": {
      "text/plain": [
       "('y', 'h', 'o')"
      ]
     },
     "execution_count": 98,
     "metadata": {},
     "output_type": "execute_result"
    }
   ],
   "source": [
    "f(word)"
   ]
  },
  {
   "cell_type": "markdown",
   "id": "080cc4ae",
   "metadata": {},
   "source": [
    "__Attribute Getters__\n",
    "\n",
    "`attrgetter` is similar to `itemgetter`, but it is used to retrieve object attributes. It also returns a __callable__"
   ]
  },
  {
   "cell_type": "code",
   "execution_count": 103,
   "id": "3484d2ae",
   "metadata": {},
   "outputs": [],
   "source": [
    "class MyObject:\n",
    "    a = 10\n",
    "    b = 20\n",
    "    c = 30\n",
    "\n",
    "my_obj = MyObject()\n",
    "my_obj.a = 10\n",
    "my_obj.b = 20\n",
    "my_obj.c = 30"
   ]
  },
  {
   "cell_type": "code",
   "execution_count": 104,
   "id": "5ac663bb",
   "metadata": {},
   "outputs": [
    {
     "data": {
      "text/plain": [
       "10"
      ]
     },
     "execution_count": 104,
     "metadata": {},
     "output_type": "execute_result"
    }
   ],
   "source": [
    "f = attrgetter('a')\n",
    "\n",
    "f(my_obj)"
   ]
  },
  {
   "cell_type": "markdown",
   "id": "5804b7fb",
   "metadata": {},
   "source": [
    "__Method Caller__\n",
    "\n",
    "`methodcaller` is similar to `attrgetter` but it is used to grab a method and then call it."
   ]
  },
  {
   "cell_type": "code",
   "execution_count": 105,
   "id": "961de89b",
   "metadata": {},
   "outputs": [
    {
     "data": {
      "text/plain": [
       "'PYTHON'"
      ]
     },
     "execution_count": 105,
     "metadata": {},
     "output_type": "execute_result"
    }
   ],
   "source": [
    "s = 'python'\n",
    "methodcaller('upper')(s)"
   ]
  },
  {
   "cell_type": "code",
   "execution_count": null,
   "id": "47006311",
   "metadata": {},
   "outputs": [],
   "source": []
  }
 ],
 "metadata": {
  "kernelspec": {
   "display_name": "Python 3 (ipykernel)",
   "language": "python",
   "name": "python3"
  },
  "language_info": {
   "codemirror_mode": {
    "name": "ipython",
    "version": 3
   },
   "file_extension": ".py",
   "mimetype": "text/x-python",
   "name": "python",
   "nbconvert_exporter": "python",
   "pygments_lexer": "ipython3",
   "version": "3.9.7"
  }
 },
 "nbformat": 4,
 "nbformat_minor": 5
}
