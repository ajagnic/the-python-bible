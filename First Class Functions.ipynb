{
 "cells": [
  {
   "cell_type": "markdown",
   "id": "4769e0cd",
   "metadata": {},
   "source": [
    "### First-Class Objects\n",
    "* can be passed to a function as an argument\n",
    "* can be returned from a function\n",
    "* can be assigned to a variable\n",
    "* can be stored in a data structure (list, tuple, etc)\n",
    "\n",
    "__Higher-Order Functions__\n",
    "\n",
    "Functions that:\n",
    "* take a function as an argument\n",
    "\n",
    "OR\n",
    "\n",
    "* returns a function\n",
    "\n",
    "__Docstrings__\n",
    "\n",
    "We can document functions by creating a standalone string as the first line in a function. This information is used for general documentation as well as being returned in cases like the `help()` function. Docstrings are defined by PEP257."
   ]
  },
  {
   "cell_type": "code",
   "execution_count": 24,
   "id": "6e86b164",
   "metadata": {},
   "outputs": [],
   "source": [
    "def func():\n",
    "    \"documentation for func\"\n",
    "    pass"
   ]
  },
  {
   "cell_type": "code",
   "execution_count": 25,
   "id": "b80e9a94",
   "metadata": {},
   "outputs": [
    {
     "name": "stdout",
     "output_type": "stream",
     "text": [
      "Help on function func in module __main__:\n",
      "\n",
      "func()\n",
      "    documentation for func\n",
      "\n"
     ]
    }
   ],
   "source": [
    "help(func)"
   ]
  },
  {
   "cell_type": "code",
   "execution_count": 26,
   "id": "a705feae",
   "metadata": {},
   "outputs": [],
   "source": [
    "#Docstrings are usually created using triple-delimiters which allows multi-line strings\n",
    "def func():\n",
    "    '''\n",
    "    documentation for func\n",
    "    '''\n",
    "    pass"
   ]
  },
  {
   "cell_type": "code",
   "execution_count": 27,
   "id": "319de029",
   "metadata": {},
   "outputs": [
    {
     "data": {
      "text/plain": [
       "'\\n    documentation for func\\n    '"
      ]
     },
     "execution_count": 27,
     "metadata": {},
     "output_type": "execute_result"
    }
   ],
   "source": [
    "#Docstrings are stored in the functions `__doc__` property\n",
    "func.__doc__"
   ]
  },
  {
   "cell_type": "markdown",
   "id": "bc97f35b",
   "metadata": {},
   "source": [
    "__Function Annotations__\n",
    "\n",
    "Annotations give us a way of documenting functions parameters and return values (PEP3107)."
   ]
  },
  {
   "cell_type": "code",
   "execution_count": 28,
   "id": "7044e782",
   "metadata": {},
   "outputs": [],
   "source": [
    "def func(a: str, b: list) -> list:\n",
    "    return [*b, *a]"
   ]
  },
  {
   "cell_type": "code",
   "execution_count": 29,
   "id": "2ceb7df8",
   "metadata": {},
   "outputs": [
    {
     "name": "stdout",
     "output_type": "stream",
     "text": [
      "Help on function func in module __main__:\n",
      "\n",
      "func(a: str, b: list) -> list\n",
      "\n"
     ]
    }
   ],
   "source": [
    "help(func)"
   ]
  },
  {
   "cell_type": "code",
   "execution_count": 30,
   "id": "9c04c3de",
   "metadata": {},
   "outputs": [
    {
     "name": "stdout",
     "output_type": "stream",
     "text": [
      "Help on function query in module __main__:\n",
      "\n",
      "query(sql: str, db: 'mongodb://test')\n",
      "\n"
     ]
    }
   ],
   "source": [
    "#Annotations can be any expression! \n",
    "DB_URL = 'mongodb://test'\n",
    "\n",
    "def query(sql: str, db: DB_URL): ...\n",
    "\n",
    "help(query)"
   ]
  },
  {
   "cell_type": "code",
   "execution_count": 31,
   "id": "f2c12567",
   "metadata": {},
   "outputs": [],
   "source": [
    "#Default values can still be used:\n",
    "\n",
    "def func(a: str = 'xyz',\n",
    "         *args: 'additional args',\n",
    "         b: int = 1,\n",
    "         **kwargs: 'addtional kwargs') -> str:\n",
    "    pass"
   ]
  },
  {
   "cell_type": "code",
   "execution_count": 32,
   "id": "2ce68e4d",
   "metadata": {},
   "outputs": [
    {
     "data": {
      "text/plain": [
       "{'a': str,\n",
       " 'args': 'additional args',\n",
       " 'b': int,\n",
       " 'kwargs': 'addtional kwargs',\n",
       " 'return': str}"
      ]
     },
     "execution_count": 32,
     "metadata": {},
     "output_type": "execute_result"
    }
   ],
   "source": [
    "#Annotations are stored in the __annotations__ property\n",
    "func.__annotations__"
   ]
  },
  {
   "cell_type": "markdown",
   "id": "6f1034d2",
   "metadata": {},
   "source": [
    "### Lambda Expressions\n",
    "\n",
    "Lambda expressions are a way of defining anonymous functions. Lambdas are first-class functions just like regular functions.\n",
    "\n",
    "Syntax:\n",
    "\n",
    "lambda \\[optional parameter list]: expression \n",
    "\n",
    "^ This returns a function object that evaluates and returns the expression when it is called.\n",
    "\n"
   ]
  },
  {
   "cell_type": "code",
   "execution_count": 36,
   "id": "6be15919",
   "metadata": {},
   "outputs": [
    {
     "data": {
      "text/plain": [
       "<function __main__.<lambda>()>"
      ]
     },
     "execution_count": 36,
     "metadata": {},
     "output_type": "execute_result"
    }
   ],
   "source": [
    "lambda x: x**2\n",
    "lambda x, y: x + y\n",
    "lambda: 'hello'"
   ]
  },
  {
   "cell_type": "code",
   "execution_count": 37,
   "id": "cda48bc5",
   "metadata": {},
   "outputs": [
    {
     "data": {
      "text/plain": [
       "function"
      ]
     },
     "execution_count": 37,
     "metadata": {},
     "output_type": "execute_result"
    }
   ],
   "source": [
    "type(lambda x:x**2)"
   ]
  },
  {
   "cell_type": "code",
   "execution_count": 38,
   "id": "8f65f712",
   "metadata": {},
   "outputs": [
    {
     "data": {
      "text/plain": [
       "16"
      ]
     },
     "execution_count": 38,
     "metadata": {},
     "output_type": "execute_result"
    }
   ],
   "source": [
    "my_func = lambda x: x**2\n",
    "\n",
    "my_func(4)"
   ]
  },
  {
   "cell_type": "code",
   "execution_count": 43,
   "id": "a7507ab4",
   "metadata": {},
   "outputs": [
    {
     "data": {
      "text/plain": [
       "6"
      ]
     },
     "execution_count": 43,
     "metadata": {},
     "output_type": "execute_result"
    }
   ],
   "source": [
    "def apply(x, fn):\n",
    "    return fn(x)\n",
    "\n",
    "apply(3, lambda x: x*2)"
   ]
  },
  {
   "cell_type": "markdown",
   "id": "70ce1015",
   "metadata": {},
   "source": [
    "[ ! ] Lambdas, or anonymous functions, are NOT equivalent to closures"
   ]
  },
  {
   "cell_type": "markdown",
   "id": "0a6bdf8f",
   "metadata": {},
   "source": [
    "__Limitations__\n",
    "* body of a lambda is limited to a single expression\n",
    "* no assignments eg. lambda x: x=5\n",
    "* no annotations\n",
    "* single logical line of code (line continuations (/) are allowed but not convention)"
   ]
  },
  {
   "cell_type": "markdown",
   "id": "0c122f17",
   "metadata": {},
   "source": [
    "__Lambdas and Sorting__"
   ]
  },
  {
   "cell_type": "code",
   "execution_count": 45,
   "id": "33160a71",
   "metadata": {},
   "outputs": [
    {
     "name": "stdout",
     "output_type": "stream",
     "text": [
      "Help on built-in function sorted in module builtins:\n",
      "\n",
      "sorted(iterable, /, *, key=None, reverse=False)\n",
      "    Return a new list containing all items from the iterable in ascending order.\n",
      "    \n",
      "    A custom key function can be supplied to customize the sort order, and the\n",
      "    reverse flag can be set to request the result in descending order.\n",
      "\n"
     ]
    }
   ],
   "source": [
    "help(sorted)"
   ]
  },
  {
   "cell_type": "code",
   "execution_count": 46,
   "id": "8413e033",
   "metadata": {},
   "outputs": [
    {
     "data": {
      "text/plain": [
       "[1, 3, 6, 7, 9]"
      ]
     },
     "execution_count": 46,
     "metadata": {},
     "output_type": "execute_result"
    }
   ],
   "source": [
    "l = [3, 6, 1, 9, 7]\n",
    "\n",
    "sorted(l)"
   ]
  },
  {
   "cell_type": "code",
   "execution_count": 48,
   "id": "7d5153eb",
   "metadata": {},
   "outputs": [
    {
     "data": {
      "text/plain": [
       "[3, 6, 1, 9, 7]"
      ]
     },
     "execution_count": 48,
     "metadata": {},
     "output_type": "execute_result"
    }
   ],
   "source": [
    "# Sorted returns a new list, so the original is unaffected\n",
    "l"
   ]
  },
  {
   "cell_type": "code",
   "execution_count": 51,
   "id": "a324316e",
   "metadata": {},
   "outputs": [
    {
     "data": {
      "text/plain": [
       "['B', 'X', 'a', 'c']"
      ]
     },
     "execution_count": 51,
     "metadata": {},
     "output_type": "execute_result"
    }
   ],
   "source": [
    "# The uppercase alphabet technically is sorted before any lowercase letters\n",
    "l = ['c', 'X', 'B', 'a']\n",
    "\n",
    "sorted(l)"
   ]
  },
  {
   "cell_type": "code",
   "execution_count": 53,
   "id": "7ca4a45f",
   "metadata": {},
   "outputs": [
    {
     "data": {
      "text/plain": [
       "['a', 'B', 'c', 'X']"
      ]
     },
     "execution_count": 53,
     "metadata": {},
     "output_type": "execute_result"
    }
   ],
   "source": [
    "# We can associate a key to avoid this\n",
    "\n",
    "sorted(l, key=lambda s:s.upper())"
   ]
  },
  {
   "cell_type": "markdown",
   "id": "f6aa8973",
   "metadata": {},
   "source": [
    "### Function Introspection\n",
    "\n",
    "Since functions are first-class objects, they have attributes.\n",
    "\n",
    "Most commonly, these are the dunder properties, eg. `__doc__`, `__annotations__`\n",
    "\n",
    "However, we can attach our own attributes:"
   ]
  },
  {
   "cell_type": "code",
   "execution_count": 56,
   "id": "39267f18",
   "metadata": {},
   "outputs": [
    {
     "name": "stdout",
     "output_type": "stream",
     "text": [
      "math\n"
     ]
    }
   ],
   "source": [
    "def my_func(): ...\n",
    "\n",
    "my_func.category = 'math'\n",
    "my_func.sub_category = 'arithmetic'\n",
    "\n",
    "print(my_func.category)"
   ]
  },
  {
   "cell_type": "markdown",
   "id": "b7d0b0ad",
   "metadata": {},
   "source": [
    "__dir__\n",
    "\n",
    "`dir()` is a built-in function that returns a list of the valid attributes for a given object"
   ]
  },
  {
   "cell_type": "code",
   "execution_count": 57,
   "id": "920de443",
   "metadata": {},
   "outputs": [
    {
     "data": {
      "text/plain": [
       "['__annotations__',\n",
       " '__call__',\n",
       " '__class__',\n",
       " '__closure__',\n",
       " '__code__',\n",
       " '__defaults__',\n",
       " '__delattr__',\n",
       " '__dict__',\n",
       " '__dir__',\n",
       " '__doc__',\n",
       " '__eq__',\n",
       " '__format__',\n",
       " '__ge__',\n",
       " '__get__',\n",
       " '__getattribute__',\n",
       " '__globals__',\n",
       " '__gt__',\n",
       " '__hash__',\n",
       " '__init__',\n",
       " '__init_subclass__',\n",
       " '__kwdefaults__',\n",
       " '__le__',\n",
       " '__lt__',\n",
       " '__module__',\n",
       " '__name__',\n",
       " '__ne__',\n",
       " '__new__',\n",
       " '__qualname__',\n",
       " '__reduce__',\n",
       " '__reduce_ex__',\n",
       " '__repr__',\n",
       " '__setattr__',\n",
       " '__sizeof__',\n",
       " '__str__',\n",
       " '__subclasshook__',\n",
       " 'category',\n",
       " 'sub_category']"
      ]
     },
     "execution_count": 57,
     "metadata": {},
     "output_type": "execute_result"
    }
   ],
   "source": [
    "dir(my_func)"
   ]
  },
  {
   "cell_type": "markdown",
   "id": "0713ba87",
   "metadata": {},
   "source": [
    "__Function Attribute: __code__\\__"
   ]
  },
  {
   "cell_type": "code",
   "execution_count": 69,
   "id": "bfb8cb87",
   "metadata": {},
   "outputs": [],
   "source": [
    "#TODO: Some additional notes\n",
    "def my_func(a, b=1, *args, **kwargs):\n",
    "    i = 10\n",
    "    b = min(i, b)\n",
    "    return a * b"
   ]
  },
  {
   "cell_type": "code",
   "execution_count": 70,
   "id": "24b6fecb",
   "metadata": {},
   "outputs": [
    {
     "data": {
      "text/plain": [
       "<code object my_func at 0x7fcc641dd0e0, file \"/tmp/ipykernel_13797/3402122119.py\", line 2>"
      ]
     },
     "execution_count": 70,
     "metadata": {},
     "output_type": "execute_result"
    }
   ],
   "source": [
    "my_func.__code__"
   ]
  },
  {
   "cell_type": "code",
   "execution_count": 71,
   "id": "0ef4375a",
   "metadata": {},
   "outputs": [
    {
     "data": {
      "text/plain": [
       "2"
      ]
     },
     "execution_count": 71,
     "metadata": {},
     "output_type": "execute_result"
    }
   ],
   "source": [
    "#__code__ has various properties:\n",
    "\n",
    "my_func.__code__.co_varnames #parameters and local variables\n",
    "my_func.__code__.co_argcount #number of params (doesnt count args/kwargs)"
   ]
  },
  {
   "cell_type": "markdown",
   "id": "1adec4e1",
   "metadata": {},
   "source": [
    "__The `inspect` module__"
   ]
  },
  {
   "cell_type": "code",
   "execution_count": 72,
   "id": "8b38251f",
   "metadata": {},
   "outputs": [
    {
     "data": {
      "text/plain": [
       "True"
      ]
     },
     "execution_count": 72,
     "metadata": {},
     "output_type": "execute_result"
    }
   ],
   "source": [
    "import inspect\n",
    "\n",
    "inspect.ismethod(my_func)\n",
    "inspect.isfunction(my_func)"
   ]
  },
  {
   "cell_type": "code",
   "execution_count": 73,
   "id": "4da4699b",
   "metadata": {},
   "outputs": [
    {
     "name": "stdout",
     "output_type": "stream",
     "text": [
      "def my_func(a, b=1, *args, **kwargs):\n",
      "    i = 10\n",
      "    b = min(i, b)\n",
      "    return a * b\n",
      "\n"
     ]
    }
   ],
   "source": [
    "# Code introspection\n",
    "print(inspect.getsource(my_func))"
   ]
  },
  {
   "cell_type": "code",
   "execution_count": 74,
   "id": "881cb9f9",
   "metadata": {},
   "outputs": [
    {
     "data": {
      "text/plain": [
       "<module '__main__'>"
      ]
     },
     "execution_count": 74,
     "metadata": {},
     "output_type": "execute_result"
    }
   ],
   "source": [
    "inspect.getmodule(my_func)"
   ]
  },
  {
   "cell_type": "code",
   "execution_count": 75,
   "id": "41f5185f",
   "metadata": {},
   "outputs": [
    {
     "data": {
      "text/plain": [
       "'#TODO: Some additional notes\\n'"
      ]
     },
     "execution_count": 75,
     "metadata": {},
     "output_type": "execute_result"
    }
   ],
   "source": [
    "inspect.getcomments(my_func)"
   ]
  },
  {
   "cell_type": "code",
   "execution_count": 77,
   "id": "ef7dce87",
   "metadata": {},
   "outputs": [],
   "source": [
    "def my_func(a: str,\n",
    "           b: int = 1,\n",
    "           *args: 'additional args',\n",
    "           kw1: 'first keyword arg' = 10,\n",
    "           **kwargs: 'addt. kwargs') -> str:\n",
    "    '''\n",
    "    Does something unknown\n",
    "    '''\n",
    "    pass"
   ]
  },
  {
   "cell_type": "code",
   "execution_count": 82,
   "id": "5886b6cb",
   "metadata": {},
   "outputs": [
    {
     "name": "stdout",
     "output_type": "stream",
     "text": [
      "Name: a\n",
      "Default: <class 'inspect._empty'>\n",
      "Annotations: <class 'str'>\n",
      "Kind: POSITIONAL_OR_KEYWORD\n",
      "-----\n",
      "Name: b\n",
      "Default: 1\n",
      "Annotations: <class 'int'>\n",
      "Kind: POSITIONAL_OR_KEYWORD\n",
      "-----\n",
      "Name: args\n",
      "Default: <class 'inspect._empty'>\n",
      "Annotations: additional args\n",
      "Kind: VAR_POSITIONAL\n",
      "-----\n",
      "Name: kw1\n",
      "Default: 10\n",
      "Annotations: first keyword arg\n",
      "Kind: KEYWORD_ONLY\n",
      "-----\n",
      "Name: kwargs\n",
      "Default: <class 'inspect._empty'>\n",
      "Annotations: addt. kwargs\n",
      "Kind: VAR_KEYWORD\n",
      "-----\n"
     ]
    }
   ],
   "source": [
    "for param in inspect.signature(my_func).parameters.values():\n",
    "    print(f\"Name: {param.name}\")\n",
    "    print(f\"Default: {param.default}\")\n",
    "    print(f\"Annotations: {param.annotation}\")\n",
    "    print(f\"Kind: {param.kind}\")\n",
    "    print('-' * 5)"
   ]
  },
  {
   "cell_type": "markdown",
   "id": "6dfbc3d4",
   "metadata": {},
   "source": [
    "### Higher-Order Functions: Map, Filter, Zip, and Comprehensions\n",
    "\n",
    "__The `map` function__\n",
    "\n",
    "`map(func, *iterables)`\n",
    "\n",
    "\\*iterables: a variable number of iterable objects\n",
    "\n",
    "func: some function that takes as many arguments as there are iterable objects passed to \\*iterables\n",
    "\n",
    "[ ! ] `map` returns an *iterator that calculates the function applied to each element of the iterables"
   ]
  },
  {
   "cell_type": "code",
   "execution_count": 83,
   "id": "95de895a",
   "metadata": {},
   "outputs": [
    {
     "data": {
      "text/plain": [
       "[4, 9, 16]"
      ]
     },
     "execution_count": 83,
     "metadata": {},
     "output_type": "execute_result"
    }
   ],
   "source": [
    "l = [2, 3, 4]\n",
    "\n",
    "def sq(x): return x**2\n",
    "\n",
    "list(map(sq, l))"
   ]
  },
  {
   "cell_type": "code",
   "execution_count": 84,
   "id": "e01b2b70",
   "metadata": {},
   "outputs": [
    {
     "data": {
      "text/plain": [
       "[11, 22, 33]"
      ]
     },
     "execution_count": 84,
     "metadata": {},
     "output_type": "execute_result"
    }
   ],
   "source": [
    "l1 = [1, 2, 3]\n",
    "l2 = [10, 20, 30]\n",
    "\n",
    "def add(x, y): return x + y\n",
    "\n",
    "list(map(add, l1, l2))"
   ]
  },
  {
   "cell_type": "code",
   "execution_count": 85,
   "id": "8b73d11f",
   "metadata": {},
   "outputs": [
    {
     "data": {
      "text/plain": [
       "[11, 22, 33]"
      ]
     },
     "execution_count": 85,
     "metadata": {},
     "output_type": "execute_result"
    }
   ],
   "source": [
    "list(map(lambda x,y: x+y, l1, l2))"
   ]
  },
  {
   "cell_type": "markdown",
   "id": "40b7baf9",
   "metadata": {},
   "source": [
    "__The `filter` function__\n",
    "\n",
    "`filter(func, iterable)`\n",
    "\n",
    "iterable: a single iterable\n",
    "\n",
    "func: some function that takes a single argument\n",
    "\n",
    "[ ! ] `filter` returns an iterator that contains all the elements of the iterable for which the function call on it it 'truthy'. If the function is `None`, it simply returns the elements of iterable that are 'truthy' themselves.\n"
   ]
  },
  {
   "cell_type": "code",
   "execution_count": 86,
   "id": "2d215f4d",
   "metadata": {},
   "outputs": [
    {
     "data": {
      "text/plain": [
       "[1, 2, 3, 4]"
      ]
     },
     "execution_count": 86,
     "metadata": {},
     "output_type": "execute_result"
    }
   ],
   "source": [
    "l = [0, 1, 2, 3, 4]\n",
    "\n",
    "list(filter(None, l))"
   ]
  },
  {
   "cell_type": "code",
   "execution_count": 89,
   "id": "fdefe23f",
   "metadata": {},
   "outputs": [
    {
     "data": {
      "text/plain": [
       "[0, 2, 4]"
      ]
     },
     "execution_count": 89,
     "metadata": {},
     "output_type": "execute_result"
    }
   ],
   "source": [
    "list(filter(lambda x: x%2==0, l))"
   ]
  },
  {
   "cell_type": "markdown",
   "id": "0107e641",
   "metadata": {},
   "source": [
    "__The `zip` function__\n",
    "\n",
    "`zip(*iterables)`\n",
    "\n",
    "[ ! ] `zip` returns an `Iterable` that contains the combinations of all the iterables, pair-wise."
   ]
  },
  {
   "cell_type": "code",
   "execution_count": 90,
   "id": "80e0e1fe",
   "metadata": {},
   "outputs": [
    {
     "data": {
      "text/plain": [
       "[(1, 10, 'p'), (2, 20, 'y'), (3, 30, 't')]"
      ]
     },
     "execution_count": 90,
     "metadata": {},
     "output_type": "execute_result"
    }
   ],
   "source": [
    "l1 = [1, 2, 3]\n",
    "l2 = [10, 20, 30]\n",
    "l3 = 'python'\n",
    "\n",
    "list(zip(l1, l2, l3))"
   ]
  },
  {
   "cell_type": "markdown",
   "id": "69cd2c64",
   "metadata": {},
   "source": [
    "__List Comprehension Alternative to `map`__"
   ]
  },
  {
   "cell_type": "code",
   "execution_count": 93,
   "id": "1c04d1aa",
   "metadata": {
    "scrolled": true
   },
   "outputs": [
    {
     "data": {
      "text/plain": [
       "[11, 22, 33]"
      ]
     },
     "execution_count": 93,
     "metadata": {},
     "output_type": "execute_result"
    }
   ],
   "source": [
    "l1 = [1, 2, 3]\n",
    "l2 = [10, 20, 30]\n",
    "\n",
    "list(map(lambda x,y:x+y, l1, l2))"
   ]
  },
  {
   "cell_type": "code",
   "execution_count": 94,
   "id": "fd165a10",
   "metadata": {},
   "outputs": [
    {
     "data": {
      "text/plain": [
       "[11, 22, 33]"
      ]
     },
     "execution_count": 94,
     "metadata": {},
     "output_type": "execute_result"
    }
   ],
   "source": [
    "[x + y for x,y in zip(l1, l2)]"
   ]
  },
  {
   "cell_type": "markdown",
   "id": "2a5e447e",
   "metadata": {},
   "source": [
    "__List Comprehension Alternative to `filter`__"
   ]
  },
  {
   "cell_type": "code",
   "execution_count": 95,
   "id": "8997ae41",
   "metadata": {},
   "outputs": [
    {
     "data": {
      "text/plain": [
       "[2, 4]"
      ]
     },
     "execution_count": 95,
     "metadata": {},
     "output_type": "execute_result"
    }
   ],
   "source": [
    "l = [1, 2, 3, 4]\n",
    "list(filter(lambda n:n%2==0, l))"
   ]
  },
  {
   "cell_type": "code",
   "execution_count": 96,
   "id": "1cedb33e",
   "metadata": {},
   "outputs": [
    {
     "data": {
      "text/plain": [
       "[2, 4]"
      ]
     },
     "execution_count": 96,
     "metadata": {},
     "output_type": "execute_result"
    }
   ],
   "source": [
    "[x for x in l if x % 2 == 0]"
   ]
  },
  {
   "cell_type": "code",
   "execution_count": null,
   "id": "a86c4000",
   "metadata": {},
   "outputs": [],
   "source": []
  }
 ],
 "metadata": {
  "kernelspec": {
   "display_name": "Python 3 (ipykernel)",
   "language": "python",
   "name": "python3"
  },
  "language_info": {
   "codemirror_mode": {
    "name": "ipython",
    "version": 3
   },
   "file_extension": ".py",
   "mimetype": "text/x-python",
   "name": "python",
   "nbconvert_exporter": "python",
   "pygments_lexer": "ipython3",
   "version": "3.9.7"
  }
 },
 "nbformat": 4,
 "nbformat_minor": 5
}
