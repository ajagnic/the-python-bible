{
 "cells": [
  {
   "cell_type": "markdown",
   "id": "ef4db585",
   "metadata": {},
   "source": [
    "What is an object?\n",
    "\n",
    "A container:\n",
    "- contains data or state, accessed through attributes\n",
    "- contains functionality or behavior, accessed through methods\n",
    "\n",
    "What is a class?\n",
    "\n",
    "Classes are themselves objects:\n",
    "- The have attributes (class name)\n",
    "- And behavior (how to create the class)\n",
    "\n",
    "If a class is an object, but objects are created from classes, how are classes created?\n",
    "\n",
    "They are created from the `type` metaclass.\n",
    "\n",
    "### Class Attributes\n",
    "\n",
    "__Defining/Retrieving/Setting Attributes of Classes__"
   ]
  },
  {
   "cell_type": "code",
   "execution_count": 2,
   "id": "a53fcfa0",
   "metadata": {},
   "outputs": [],
   "source": [
    "class MyClass:\n",
    "    language = 'python'\n",
    "    version = '3.6'"
   ]
  },
  {
   "cell_type": "code",
   "execution_count": 4,
   "id": "352ea370",
   "metadata": {},
   "outputs": [
    {
     "data": {
      "text/plain": [
       "'3.6'"
      ]
     },
     "execution_count": 4,
     "metadata": {},
     "output_type": "execute_result"
    }
   ],
   "source": [
    "getattr(MyClass, 'version', '3.0')"
   ]
  },
  {
   "cell_type": "code",
   "execution_count": 5,
   "id": "c44fe897",
   "metadata": {},
   "outputs": [
    {
     "data": {
      "text/plain": [
       "'3.6'"
      ]
     },
     "execution_count": 5,
     "metadata": {},
     "output_type": "execute_result"
    }
   ],
   "source": [
    "MyClass.version"
   ]
  },
  {
   "cell_type": "code",
   "execution_count": 6,
   "id": "6cff0e64",
   "metadata": {},
   "outputs": [],
   "source": [
    "setattr(MyClass, 'version', '3.8')"
   ]
  },
  {
   "cell_type": "code",
   "execution_count": 7,
   "id": "ad06e205",
   "metadata": {},
   "outputs": [],
   "source": [
    "MyClass.version = '3.8'"
   ]
  },
  {
   "cell_type": "code",
   "execution_count": 8,
   "id": "9e6dd45f",
   "metadata": {},
   "outputs": [],
   "source": [
    "MyClass.x = 100"
   ]
  },
  {
   "cell_type": "markdown",
   "id": "35c76bdc",
   "metadata": {},
   "source": [
    "Where is this state stored?\n",
    "\n",
    "In a dictionary! Referred to as the class namespace"
   ]
  },
  {
   "cell_type": "code",
   "execution_count": 9,
   "id": "ff552a27",
   "metadata": {},
   "outputs": [
    {
     "data": {
      "text/plain": [
       "mappingproxy({'__module__': '__main__',\n",
       "              'language': 'python',\n",
       "              'version': '3.8',\n",
       "              '__dict__': <attribute '__dict__' of 'MyClass' objects>,\n",
       "              '__weakref__': <attribute '__weakref__' of 'MyClass' objects>,\n",
       "              '__doc__': None,\n",
       "              'x': 100})"
      ]
     },
     "execution_count": 9,
     "metadata": {},
     "output_type": "execute_result"
    }
   ],
   "source": [
    "MyClass.__dict__"
   ]
  },
  {
   "cell_type": "code",
   "execution_count": 10,
   "id": "7c5bc449",
   "metadata": {},
   "outputs": [],
   "source": [
    "# You can also delete attributes (most of the time)\n",
    "delattr(MyClass, 'x')"
   ]
  },
  {
   "cell_type": "code",
   "execution_count": 11,
   "id": "dcf4d2de",
   "metadata": {},
   "outputs": [],
   "source": [
    "del MyClass.language"
   ]
  },
  {
   "cell_type": "markdown",
   "id": "f22df47a",
   "metadata": {},
   "source": [
    "### Callable Class Attributes\n",
    "\n",
    "Since attrbutes can be any object, that means they can also be callable."
   ]
  },
  {
   "cell_type": "code",
   "execution_count": 20,
   "id": "1d350b15",
   "metadata": {},
   "outputs": [],
   "source": [
    "class MyClass:\n",
    "    version = \"3.6\"\n",
    "    \n",
    "    def hello():\n",
    "        print('Hello')"
   ]
  },
  {
   "cell_type": "code",
   "execution_count": 21,
   "id": "ba70d4e5",
   "metadata": {},
   "outputs": [
    {
     "data": {
      "text/plain": [
       "<function __main__.MyClass.hello()>"
      ]
     },
     "execution_count": 21,
     "metadata": {},
     "output_type": "execute_result"
    }
   ],
   "source": [
    "MyClass.__dict__['hello']"
   ]
  },
  {
   "cell_type": "code",
   "execution_count": 22,
   "id": "37389f7c",
   "metadata": {},
   "outputs": [
    {
     "name": "stdout",
     "output_type": "stream",
     "text": [
      "Hello\n"
     ]
    }
   ],
   "source": [
    "MyClass.hello()"
   ]
  },
  {
   "cell_type": "markdown",
   "id": "f681d061",
   "metadata": {},
   "source": [
    "### Classes are Callables\n",
    "\n",
    "When we define a class, Python adds behaviors to make that class callable. The return of this call will be an object of the type of the class. (Instantiating the class)"
   ]
  },
  {
   "cell_type": "code",
   "execution_count": 23,
   "id": "610d1246",
   "metadata": {},
   "outputs": [
    {
     "data": {
      "text/plain": [
       "True"
      ]
     },
     "execution_count": 23,
     "metadata": {},
     "output_type": "execute_result"
    }
   ],
   "source": [
    "my_obj = MyClass()\n",
    "isinstance(my_obj, MyClass)"
   ]
  },
  {
   "cell_type": "markdown",
   "id": "9117d5ca",
   "metadata": {},
   "source": [
    "The class object has its own namespace that is distinct from the namespace of the class itself."
   ]
  },
  {
   "cell_type": "code",
   "execution_count": 24,
   "id": "0ebb1f2e",
   "metadata": {},
   "outputs": [
    {
     "data": {
      "text/plain": [
       "{}"
      ]
     },
     "execution_count": 24,
     "metadata": {},
     "output_type": "execute_result"
    }
   ],
   "source": [
    "my_obj.__dict__"
   ]
  },
  {
   "cell_type": "code",
   "execution_count": 25,
   "id": "c0b14fbe",
   "metadata": {},
   "outputs": [
    {
     "data": {
      "text/plain": [
       "__main__.MyClass"
      ]
     },
     "execution_count": 25,
     "metadata": {},
     "output_type": "execute_result"
    }
   ],
   "source": [
    "my_obj.__class__"
   ]
  },
  {
   "cell_type": "markdown",
   "id": "d5a5bc49",
   "metadata": {},
   "source": [
    "### Data Attributes\n",
    "\n",
    "If Python doesn't find an attribute in an instance of a class, it will look for that attribute in the class namespace."
   ]
  },
  {
   "cell_type": "code",
   "execution_count": 28,
   "id": "19d8f7b3",
   "metadata": {},
   "outputs": [
    {
     "name": "stdout",
     "output_type": "stream",
     "text": [
      "{}\n",
      "{'__module__': '__main__', 'version': '3.6', 'hello': <function MyClass.hello at 0x7f0985091ca0>, '__dict__': <attribute '__dict__' of 'MyClass' objects>, '__weakref__': <attribute '__weakref__' of 'MyClass' objects>, '__doc__': None}\n"
     ]
    }
   ],
   "source": [
    "# The instance dict is empty\n",
    "print(my_obj.__dict__)\n",
    "\n",
    "# But the class dict has values we want\n",
    "print(MyClass.__dict__)"
   ]
  },
  {
   "cell_type": "code",
   "execution_count": 27,
   "id": "31ad401c",
   "metadata": {},
   "outputs": [
    {
     "data": {
      "text/plain": [
       "'3.6'"
      ]
     },
     "execution_count": 27,
     "metadata": {},
     "output_type": "execute_result"
    }
   ],
   "source": [
    "# If we try and access the version attribute, Python will get it from the class object instead.\n",
    "my_obj.version"
   ]
  },
  {
   "cell_type": "markdown",
   "id": "7c1359b6",
   "metadata": {},
   "source": [
    "### Function Attributes\n",
    "\n",
    "We can see attributes that are functions are treated differently"
   ]
  },
  {
   "cell_type": "code",
   "execution_count": 29,
   "id": "3c236735",
   "metadata": {},
   "outputs": [
    {
     "data": {
      "text/plain": [
       "<function __main__.MyClass.hello()>"
      ]
     },
     "execution_count": 29,
     "metadata": {},
     "output_type": "execute_result"
    }
   ],
   "source": [
    "MyClass.hello"
   ]
  },
  {
   "cell_type": "code",
   "execution_count": 31,
   "id": "643aa9d8",
   "metadata": {},
   "outputs": [
    {
     "data": {
      "text/plain": [
       "<bound method MyClass.hello of <__main__.MyClass object at 0x7f09851f9100>>"
      ]
     },
     "execution_count": 31,
     "metadata": {},
     "output_type": "execute_result"
    }
   ],
   "source": [
    "# Here we see the hello function for the instance, is referred to as a 'bound method'\n",
    "my_obj.hello"
   ]
  },
  {
   "cell_type": "markdown",
   "id": "52ce2485",
   "metadata": {},
   "source": [
    "`method` is an actual object type in Python, it is callable, and bound to some object. That object is passed to the method as its first parameter."
   ]
  },
  {
   "cell_type": "code",
   "execution_count": 34,
   "id": "ec0866f7",
   "metadata": {},
   "outputs": [
    {
     "ename": "TypeError",
     "evalue": "hello() takes 0 positional arguments but 1 was given",
     "output_type": "error",
     "traceback": [
      "\u001b[0;31m---------------------------------------------------------------------------\u001b[0m",
      "\u001b[0;31mTypeError\u001b[0m                                 Traceback (most recent call last)",
      "\u001b[0;32m/tmp/ipykernel_5515/4066700563.py\u001b[0m in \u001b[0;36m<module>\u001b[0;34m\u001b[0m\n\u001b[1;32m      1\u001b[0m \u001b[0;31m# If we call hello() on the instance, the instance object will be injected as\u001b[0m\u001b[0;34m\u001b[0m\u001b[0;34m\u001b[0m\u001b[0m\n\u001b[1;32m      2\u001b[0m \u001b[0;31m# the first parameter, but the function does not expect any parameters so it will error\u001b[0m\u001b[0;34m\u001b[0m\u001b[0;34m\u001b[0m\u001b[0m\n\u001b[0;32m----> 3\u001b[0;31m \u001b[0mmy_obj\u001b[0m\u001b[0;34m.\u001b[0m\u001b[0mhello\u001b[0m\u001b[0;34m(\u001b[0m\u001b[0;34m)\u001b[0m\u001b[0;34m\u001b[0m\u001b[0;34m\u001b[0m\u001b[0m\n\u001b[0m",
      "\u001b[0;31mTypeError\u001b[0m: hello() takes 0 positional arguments but 1 was given"
     ]
    }
   ],
   "source": [
    "# If we call hello() on the instance, the instance object will be injected as \n",
    "# the first parameter, but the function does not expect any parameters so it will error\n",
    "my_obj.hello()"
   ]
  },
  {
   "cell_type": "markdown",
   "id": "e443b0a1",
   "metadata": {},
   "source": [
    "Methods are objects that combine an instance of some class, and a function.\n",
    "\n",
    "Method objects have attributes:\n",
    "- `__self__`: the instacne the method is bound to\n",
    "- `__func__`: the original function defined in the class"
   ]
  },
  {
   "cell_type": "code",
   "execution_count": 35,
   "id": "3bf89f60",
   "metadata": {},
   "outputs": [],
   "source": [
    "# When we define an instacne method, we must account for the first argument\n",
    "# which will be the instance object itself\n",
    "class Person:\n",
    "    def hello(self):\n",
    "        print(\"Hello\")\n",
    "        \n",
    "p = Person()"
   ]
  },
  {
   "cell_type": "code",
   "execution_count": 39,
   "id": "8fec0d1b",
   "metadata": {},
   "outputs": [
    {
     "name": "stdout",
     "output_type": "stream",
     "text": [
      "0x7f0985422dc0\n"
     ]
    },
    {
     "data": {
      "text/plain": [
       "<__main__.Person at 0x7f0985422dc0>"
      ]
     },
     "execution_count": 39,
     "metadata": {},
     "output_type": "execute_result"
    }
   ],
   "source": [
    "print(hex(id(p)))\n",
    "p.hello.__self__"
   ]
  },
  {
   "cell_type": "markdown",
   "id": "deb5ab29",
   "metadata": {},
   "source": [
    "Through this first argument which is the instance object, we can access the instance namespace."
   ]
  },
  {
   "cell_type": "code",
   "execution_count": 42,
   "id": "de05ea1d",
   "metadata": {},
   "outputs": [],
   "source": [
    "class MyClass:\n",
    "    language = 'python'\n",
    "    version = '3.0'\n",
    "    \n",
    "    def get_version(self):\n",
    "        print(f\"Language: {MyClass.language}, Version: {self.version}\")"
   ]
  },
  {
   "cell_type": "code",
   "execution_count": 46,
   "id": "8566535c",
   "metadata": {},
   "outputs": [
    {
     "name": "stdout",
     "output_type": "stream",
     "text": [
      "Language: python, Version: 3.7\n"
     ]
    }
   ],
   "source": [
    "new_version = MyClass()\n",
    "new_version.version = \"3.7\"\n",
    "new_version.get_version()"
   ]
  },
  {
   "cell_type": "markdown",
   "id": "2bc5e6a2",
   "metadata": {},
   "source": [
    "### Initializing Class Instances\n",
    "\n",
    "When we instantiate a class, Python does two things:\n",
    "- creates a new instance\n",
    "- initializes the namespace\n",
    "\n",
    "We can provide a custom initializer that Python will use."
   ]
  },
  {
   "cell_type": "code",
   "execution_count": 48,
   "id": "7704d6e9",
   "metadata": {},
   "outputs": [],
   "source": [
    "class MyClass:\n",
    "    language = 'python'\n",
    "    \n",
    "    def __init__(self, version):\n",
    "        self.version = version"
   ]
  },
  {
   "cell_type": "markdown",
   "id": "83d66cc1",
   "metadata": {},
   "source": [
    "By the time `__init__` is called, Python has already created the instance object and a namespace for it. Then `__init__` is called as a bound method to the new instance. \n",
    "\n",
    "We can optionally specify a custom function for creating the instance object (before `__init__` is called): `__new__`"
   ]
  },
  {
   "cell_type": "code",
   "execution_count": null,
   "id": "5a6c7d41",
   "metadata": {},
   "outputs": [],
   "source": []
  }
 ],
 "metadata": {
  "kernelspec": {
   "display_name": "Python 3 (ipykernel)",
   "language": "python",
   "name": "python3"
  },
  "language_info": {
   "codemirror_mode": {
    "name": "ipython",
    "version": 3
   },
   "file_extension": ".py",
   "mimetype": "text/x-python",
   "name": "python",
   "nbconvert_exporter": "python",
   "pygments_lexer": "ipython3",
   "version": "3.9.7"
  }
 },
 "nbformat": 4,
 "nbformat_minor": 5
}
