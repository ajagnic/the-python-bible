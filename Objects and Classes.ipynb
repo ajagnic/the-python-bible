{
 "cells": [
  {
   "cell_type": "markdown",
   "id": "ef4db585",
   "metadata": {},
   "source": [
    "What is an object?\n",
    "\n",
    "A container:\n",
    "- contains data or state, accessed through attributes\n",
    "- contains functionality or behavior, accessed through methods\n",
    "\n",
    "What is a class?\n",
    "\n",
    "Classes are themselves objects:\n",
    "- The have attributes (class name)\n",
    "- And behavior (how to create the class)\n",
    "\n",
    "If a class is an object, but objects are created from classes, how are classes created?\n",
    "\n",
    "They are created from the `type` metaclass.\n",
    "\n",
    "### Class Attributes\n",
    "\n",
    "__Defining/Retrieving/Setting Attributes of Classes__"
   ]
  },
  {
   "cell_type": "code",
   "execution_count": 2,
   "id": "a53fcfa0",
   "metadata": {},
   "outputs": [],
   "source": [
    "class MyClass:\n",
    "    language = 'python'\n",
    "    version = '3.6'"
   ]
  },
  {
   "cell_type": "code",
   "execution_count": 4,
   "id": "352ea370",
   "metadata": {},
   "outputs": [
    {
     "data": {
      "text/plain": [
       "'3.6'"
      ]
     },
     "execution_count": 4,
     "metadata": {},
     "output_type": "execute_result"
    }
   ],
   "source": [
    "getattr(MyClass, 'version', '3.0')"
   ]
  },
  {
   "cell_type": "code",
   "execution_count": 5,
   "id": "c44fe897",
   "metadata": {},
   "outputs": [
    {
     "data": {
      "text/plain": [
       "'3.6'"
      ]
     },
     "execution_count": 5,
     "metadata": {},
     "output_type": "execute_result"
    }
   ],
   "source": [
    "MyClass.version"
   ]
  },
  {
   "cell_type": "code",
   "execution_count": 6,
   "id": "6cff0e64",
   "metadata": {},
   "outputs": [],
   "source": [
    "setattr(MyClass, 'version', '3.8')"
   ]
  },
  {
   "cell_type": "code",
   "execution_count": 7,
   "id": "ad06e205",
   "metadata": {},
   "outputs": [],
   "source": [
    "MyClass.version = '3.8'"
   ]
  },
  {
   "cell_type": "code",
   "execution_count": 8,
   "id": "9e6dd45f",
   "metadata": {},
   "outputs": [],
   "source": [
    "MyClass.x = 100"
   ]
  },
  {
   "cell_type": "markdown",
   "id": "35c76bdc",
   "metadata": {},
   "source": [
    "Where is this state stored?\n",
    "\n",
    "In a dictionary! Referred to as the class namespace"
   ]
  },
  {
   "cell_type": "code",
   "execution_count": 9,
   "id": "ff552a27",
   "metadata": {},
   "outputs": [
    {
     "data": {
      "text/plain": [
       "mappingproxy({'__module__': '__main__',\n",
       "              'language': 'python',\n",
       "              'version': '3.8',\n",
       "              '__dict__': <attribute '__dict__' of 'MyClass' objects>,\n",
       "              '__weakref__': <attribute '__weakref__' of 'MyClass' objects>,\n",
       "              '__doc__': None,\n",
       "              'x': 100})"
      ]
     },
     "execution_count": 9,
     "metadata": {},
     "output_type": "execute_result"
    }
   ],
   "source": [
    "MyClass.__dict__"
   ]
  },
  {
   "cell_type": "code",
   "execution_count": 10,
   "id": "7c5bc449",
   "metadata": {},
   "outputs": [],
   "source": [
    "# You can also delete attributes (most of the time)\n",
    "delattr(MyClass, 'x')"
   ]
  },
  {
   "cell_type": "code",
   "execution_count": 11,
   "id": "dcf4d2de",
   "metadata": {},
   "outputs": [],
   "source": [
    "del MyClass.language"
   ]
  },
  {
   "cell_type": "markdown",
   "id": "f22df47a",
   "metadata": {},
   "source": [
    "### Callable Class Attributes\n",
    "\n",
    "Since attrbutes can be any object, that means they can also be callable."
   ]
  },
  {
   "cell_type": "code",
   "execution_count": 20,
   "id": "1d350b15",
   "metadata": {},
   "outputs": [],
   "source": [
    "class MyClass:\n",
    "    version = \"3.6\"\n",
    "    \n",
    "    def hello():\n",
    "        print('Hello')"
   ]
  },
  {
   "cell_type": "code",
   "execution_count": 21,
   "id": "ba70d4e5",
   "metadata": {},
   "outputs": [
    {
     "data": {
      "text/plain": [
       "<function __main__.MyClass.hello()>"
      ]
     },
     "execution_count": 21,
     "metadata": {},
     "output_type": "execute_result"
    }
   ],
   "source": [
    "MyClass.__dict__['hello']"
   ]
  },
  {
   "cell_type": "code",
   "execution_count": 22,
   "id": "37389f7c",
   "metadata": {},
   "outputs": [
    {
     "name": "stdout",
     "output_type": "stream",
     "text": [
      "Hello\n"
     ]
    }
   ],
   "source": [
    "MyClass.hello()"
   ]
  },
  {
   "cell_type": "markdown",
   "id": "f681d061",
   "metadata": {},
   "source": [
    "### Classes are Callables\n",
    "\n",
    "When we define a class, Python adds behaviors to make that class callable. The return of this call will be an object of the type of the class. (Instantiating the class)"
   ]
  },
  {
   "cell_type": "code",
   "execution_count": 23,
   "id": "610d1246",
   "metadata": {},
   "outputs": [
    {
     "data": {
      "text/plain": [
       "True"
      ]
     },
     "execution_count": 23,
     "metadata": {},
     "output_type": "execute_result"
    }
   ],
   "source": [
    "my_obj = MyClass()\n",
    "isinstance(my_obj, MyClass)"
   ]
  },
  {
   "cell_type": "markdown",
   "id": "9117d5ca",
   "metadata": {},
   "source": [
    "The class object has its own namespace that is distinct from the namespace of the class itself."
   ]
  },
  {
   "cell_type": "code",
   "execution_count": 24,
   "id": "0ebb1f2e",
   "metadata": {},
   "outputs": [
    {
     "data": {
      "text/plain": [
       "{}"
      ]
     },
     "execution_count": 24,
     "metadata": {},
     "output_type": "execute_result"
    }
   ],
   "source": [
    "my_obj.__dict__"
   ]
  },
  {
   "cell_type": "code",
   "execution_count": 25,
   "id": "c0b14fbe",
   "metadata": {},
   "outputs": [
    {
     "data": {
      "text/plain": [
       "__main__.MyClass"
      ]
     },
     "execution_count": 25,
     "metadata": {},
     "output_type": "execute_result"
    }
   ],
   "source": [
    "my_obj.__class__"
   ]
  },
  {
   "cell_type": "markdown",
   "id": "d5a5bc49",
   "metadata": {},
   "source": [
    "### Data Attributes\n",
    "\n",
    "If Python doesn't find an attribute in an instance of a class, it will look for that attribute in the class namespace."
   ]
  },
  {
   "cell_type": "code",
   "execution_count": 28,
   "id": "19d8f7b3",
   "metadata": {},
   "outputs": [
    {
     "name": "stdout",
     "output_type": "stream",
     "text": [
      "{}\n",
      "{'__module__': '__main__', 'version': '3.6', 'hello': <function MyClass.hello at 0x7f0985091ca0>, '__dict__': <attribute '__dict__' of 'MyClass' objects>, '__weakref__': <attribute '__weakref__' of 'MyClass' objects>, '__doc__': None}\n"
     ]
    }
   ],
   "source": [
    "# The instance dict is empty\n",
    "print(my_obj.__dict__)\n",
    "\n",
    "# But the class dict has values we want\n",
    "print(MyClass.__dict__)"
   ]
  },
  {
   "cell_type": "code",
   "execution_count": 27,
   "id": "31ad401c",
   "metadata": {},
   "outputs": [
    {
     "data": {
      "text/plain": [
       "'3.6'"
      ]
     },
     "execution_count": 27,
     "metadata": {},
     "output_type": "execute_result"
    }
   ],
   "source": [
    "# If we try and access the version attribute, Python will get it from the class object instead.\n",
    "my_obj.version"
   ]
  },
  {
   "cell_type": "markdown",
   "id": "7c1359b6",
   "metadata": {},
   "source": [
    "### Function Attributes\n",
    "\n",
    "We can see attributes that are functions are treated differently"
   ]
  },
  {
   "cell_type": "code",
   "execution_count": 29,
   "id": "3c236735",
   "metadata": {},
   "outputs": [
    {
     "data": {
      "text/plain": [
       "<function __main__.MyClass.hello()>"
      ]
     },
     "execution_count": 29,
     "metadata": {},
     "output_type": "execute_result"
    }
   ],
   "source": [
    "MyClass.hello"
   ]
  },
  {
   "cell_type": "code",
   "execution_count": 31,
   "id": "643aa9d8",
   "metadata": {},
   "outputs": [
    {
     "data": {
      "text/plain": [
       "<bound method MyClass.hello of <__main__.MyClass object at 0x7f09851f9100>>"
      ]
     },
     "execution_count": 31,
     "metadata": {},
     "output_type": "execute_result"
    }
   ],
   "source": [
    "# Here we see the hello function for the instance, is referred to as a 'bound method'\n",
    "my_obj.hello"
   ]
  },
  {
   "cell_type": "markdown",
   "id": "52ce2485",
   "metadata": {},
   "source": [
    "`method` is an actual object type in Python, it is callable, and bound to some object. That object is passed to the method as its first parameter."
   ]
  },
  {
   "cell_type": "code",
   "execution_count": 34,
   "id": "ec0866f7",
   "metadata": {},
   "outputs": [
    {
     "ename": "TypeError",
     "evalue": "hello() takes 0 positional arguments but 1 was given",
     "output_type": "error",
     "traceback": [
      "\u001b[0;31m---------------------------------------------------------------------------\u001b[0m",
      "\u001b[0;31mTypeError\u001b[0m                                 Traceback (most recent call last)",
      "\u001b[0;32m/tmp/ipykernel_5515/4066700563.py\u001b[0m in \u001b[0;36m<module>\u001b[0;34m\u001b[0m\n\u001b[1;32m      1\u001b[0m \u001b[0;31m# If we call hello() on the instance, the instance object will be injected as\u001b[0m\u001b[0;34m\u001b[0m\u001b[0;34m\u001b[0m\u001b[0m\n\u001b[1;32m      2\u001b[0m \u001b[0;31m# the first parameter, but the function does not expect any parameters so it will error\u001b[0m\u001b[0;34m\u001b[0m\u001b[0;34m\u001b[0m\u001b[0m\n\u001b[0;32m----> 3\u001b[0;31m \u001b[0mmy_obj\u001b[0m\u001b[0;34m.\u001b[0m\u001b[0mhello\u001b[0m\u001b[0;34m(\u001b[0m\u001b[0;34m)\u001b[0m\u001b[0;34m\u001b[0m\u001b[0;34m\u001b[0m\u001b[0m\n\u001b[0m",
      "\u001b[0;31mTypeError\u001b[0m: hello() takes 0 positional arguments but 1 was given"
     ]
    }
   ],
   "source": [
    "# If we call hello() on the instance, the instance object will be injected as \n",
    "# the first parameter, but the function does not expect any parameters so it will error\n",
    "my_obj.hello()"
   ]
  },
  {
   "cell_type": "markdown",
   "id": "e443b0a1",
   "metadata": {},
   "source": [
    "Methods are objects that combine an instance of some class, and a function.\n",
    "\n",
    "Method objects have attributes:\n",
    "- `__self__`: the instacne the method is bound to\n",
    "- `__func__`: the original function defined in the class"
   ]
  },
  {
   "cell_type": "code",
   "execution_count": 35,
   "id": "3bf89f60",
   "metadata": {},
   "outputs": [],
   "source": [
    "# When we define an instacne method, we must account for the first argument\n",
    "# which will be the instance object itself\n",
    "class Person:\n",
    "    def hello(self):\n",
    "        print(\"Hello\")\n",
    "        \n",
    "p = Person()"
   ]
  },
  {
   "cell_type": "code",
   "execution_count": 39,
   "id": "8fec0d1b",
   "metadata": {},
   "outputs": [
    {
     "name": "stdout",
     "output_type": "stream",
     "text": [
      "0x7f0985422dc0\n"
     ]
    },
    {
     "data": {
      "text/plain": [
       "<__main__.Person at 0x7f0985422dc0>"
      ]
     },
     "execution_count": 39,
     "metadata": {},
     "output_type": "execute_result"
    }
   ],
   "source": [
    "print(hex(id(p)))\n",
    "p.hello.__self__"
   ]
  },
  {
   "cell_type": "markdown",
   "id": "deb5ab29",
   "metadata": {},
   "source": [
    "Through this first argument which is the instance object, we can access the instance namespace."
   ]
  },
  {
   "cell_type": "code",
   "execution_count": 42,
   "id": "de05ea1d",
   "metadata": {},
   "outputs": [],
   "source": [
    "class MyClass:\n",
    "    language = 'python'\n",
    "    version = '3.0'\n",
    "    \n",
    "    def get_version(self):\n",
    "        print(f\"Language: {MyClass.language}, Version: {self.version}\")"
   ]
  },
  {
   "cell_type": "code",
   "execution_count": 46,
   "id": "8566535c",
   "metadata": {},
   "outputs": [
    {
     "name": "stdout",
     "output_type": "stream",
     "text": [
      "Language: python, Version: 3.7\n"
     ]
    }
   ],
   "source": [
    "new_version = MyClass()\n",
    "new_version.version = \"3.7\"\n",
    "new_version.get_version()"
   ]
  },
  {
   "cell_type": "markdown",
   "id": "2bc5e6a2",
   "metadata": {},
   "source": [
    "### Initializing Class Instances\n",
    "\n",
    "When we instantiate a class, Python does two things:\n",
    "- creates a new instance\n",
    "- initializes the namespace\n",
    "\n",
    "We can provide a custom initializer that Python will use."
   ]
  },
  {
   "cell_type": "code",
   "execution_count": 1,
   "id": "7704d6e9",
   "metadata": {},
   "outputs": [],
   "source": [
    "class MyClass:\n",
    "    language = 'python'\n",
    "    \n",
    "    def __init__(self, version):\n",
    "        self.version = version"
   ]
  },
  {
   "cell_type": "markdown",
   "id": "83d66cc1",
   "metadata": {},
   "source": [
    "By the time `__init__` is called, Python has already created the instance object and a namespace for it. Then `__init__` is called as a bound method to the new instance. \n",
    "\n",
    "We can optionally specify a custom function for creating the instance object (before `__init__` is called): `__new__`"
   ]
  },
  {
   "cell_type": "markdown",
   "id": "2eebc0db",
   "metadata": {},
   "source": [
    "### Creating Attributes at Run-Time\n",
    "\n",
    "If we set an function attribute on an already created object, that function will not be a bound method."
   ]
  },
  {
   "cell_type": "code",
   "execution_count": 2,
   "id": "55321549",
   "metadata": {},
   "outputs": [
    {
     "data": {
      "text/plain": [
       "<function __main__.<lambda>()>"
      ]
     },
     "execution_count": 2,
     "metadata": {},
     "output_type": "execute_result"
    }
   ],
   "source": [
    "my_obj = MyClass(\"3.0\")\n",
    "my_obj.hello = lambda: print(\"Hello\")\n",
    "\n",
    "my_obj.hello"
   ]
  },
  {
   "cell_type": "markdown",
   "id": "fcd11b2e",
   "metadata": {},
   "source": [
    "But you can create a bound method at run-time by using a `MethodType`."
   ]
  },
  {
   "cell_type": "code",
   "execution_count": 3,
   "id": "46b64d59",
   "metadata": {},
   "outputs": [],
   "source": [
    "from types import MethodType"
   ]
  },
  {
   "cell_type": "code",
   "execution_count": 4,
   "id": "ba04f662",
   "metadata": {},
   "outputs": [],
   "source": [
    "my_obj.get_version = MethodType(lambda self: f\"Version: {self.version}\", my_obj)"
   ]
  },
  {
   "cell_type": "code",
   "execution_count": 5,
   "id": "86415ba7",
   "metadata": {},
   "outputs": [
    {
     "data": {
      "text/plain": [
       "'Version: 3.0'"
      ]
     },
     "execution_count": 5,
     "metadata": {},
     "output_type": "execute_result"
    }
   ],
   "source": [
    "my_obj.get_version()"
   ]
  },
  {
   "cell_type": "markdown",
   "id": "f5c62de1",
   "metadata": {},
   "source": [
    "### Properties\n",
    "\n",
    "We saw that we can create \"bare\" attributes in classes and instances.\n",
    "\n",
    "```\n",
    "class MyClass:\n",
    "    def __init__(self, version):\n",
    "        self.version = version\n",
    "```\n",
    "\n",
    "However, in most languages, direct access to attributes is discouraged. Instead, the convention is to make an attribute \"private\" and create public getter/setter methods. Note that \"private\" doesn't really exist in Python, so we use the naming convention of prefixing an underscore for attributes intended to be private."
   ]
  },
  {
   "cell_type": "code",
   "execution_count": 8,
   "id": "2373bfa1",
   "metadata": {},
   "outputs": [],
   "source": [
    "class MyClass:\n",
    "    def __init__(self, version):\n",
    "        self._version = version\n",
    "        \n",
    "    def get_version(self):\n",
    "        return self._version\n",
    "    \n",
    "    def set_version(self, value):\n",
    "        self._version = value"
   ]
  },
  {
   "cell_type": "markdown",
   "id": "a857421b",
   "metadata": {},
   "source": [
    "We can use the `property` class to improve this approach by not having to call the get/set methods explictly, but instead interact with the attribute as if it was a \"bare attribute\""
   ]
  },
  {
   "cell_type": "code",
   "execution_count": 13,
   "id": "153503d8",
   "metadata": {},
   "outputs": [],
   "source": [
    "class MyClass:\n",
    "    def __init__(self, version):\n",
    "        self._version = version\n",
    "        \n",
    "    def get_version(self):\n",
    "        print(\"Getting version\")\n",
    "        return self._version\n",
    "    \n",
    "    def set_version(self, value):\n",
    "        print(\"Setting version\")\n",
    "        self._version = value\n",
    "        \n",
    "    version = property(fget=get_version, fset=set_version)"
   ]
  },
  {
   "cell_type": "code",
   "execution_count": 14,
   "id": "1c568db2",
   "metadata": {},
   "outputs": [
    {
     "name": "stdout",
     "output_type": "stream",
     "text": [
      "Setting version\n",
      "Getting version\n"
     ]
    },
    {
     "data": {
      "text/plain": [
       "'3.9'"
      ]
     },
     "execution_count": 14,
     "metadata": {},
     "output_type": "execute_result"
    }
   ],
   "source": [
    "my_obj = MyClass(\"3.0\")\n",
    "my_obj.version = \"3.9\"\n",
    "my_obj.version"
   ]
  },
  {
   "cell_type": "markdown",
   "id": "71c05b41",
   "metadata": {},
   "source": [
    "__The `property` Class__\n",
    "\n",
    "`property` is a class and its constructor has a few parameters:\n",
    "- `fget`: specifies function to get instance properties\n",
    "- `fset`: specifies function to set instance properties\n",
    "- `fdel`: specifies function to call when deleting instance properties\n",
    "- `doc`: string representing the docstring for a property\n",
    "\n",
    "In general, we start with bare attributes, and implement them as properties later if needed. By using the `property` class, we can change access to properties without changing the interface."
   ]
  },
  {
   "cell_type": "markdown",
   "id": "c676bad6",
   "metadata": {},
   "source": [
    "### Property Decorators\n",
    "\n",
    "The `property` class defines methods (`getter, setter, deleter`) that can take a callable as an argument and returns the instance with the appropriate method now set."
   ]
  },
  {
   "cell_type": "code",
   "execution_count": 16,
   "id": "b3f1481e",
   "metadata": {},
   "outputs": [],
   "source": [
    "class MyClass:\n",
    "    def __init__(self, version):\n",
    "        self._version = version\n",
    "    \n",
    "    @property\n",
    "    def version(self):\n",
    "        return self._version\n",
    "    \n",
    "    @version.setter\n",
    "    def version(self, value):\n",
    "        self._version = value"
   ]
  },
  {
   "cell_type": "markdown",
   "id": "1e88c9f9",
   "metadata": {},
   "source": [
    "### Read-Only and Computed Properties\n",
    "\n",
    "To create a read-only property, we just need to create a property with only the get accessor defined."
   ]
  },
  {
   "cell_type": "code",
   "execution_count": 17,
   "id": "60ab0280",
   "metadata": {},
   "outputs": [],
   "source": [
    "from math import pi\n",
    "\n",
    "class Circle:\n",
    "    def __init__(self, r):\n",
    "        self.r = r\n",
    "        \n",
    "    @property\n",
    "    def area(self):\n",
    "        return pi * (self.r ** 2)"
   ]
  },
  {
   "cell_type": "code",
   "execution_count": 18,
   "id": "ac76aa72",
   "metadata": {},
   "outputs": [
    {
     "data": {
      "text/plain": [
       "314.1592653589793"
      ]
     },
     "execution_count": 18,
     "metadata": {},
     "output_type": "execute_result"
    }
   ],
   "source": [
    "c = Circle(10)\n",
    "c.area"
   ]
  },
  {
   "cell_type": "code",
   "execution_count": 19,
   "id": "31df7ec5",
   "metadata": {},
   "outputs": [],
   "source": [
    "# Caching result of area for a given radius\n",
    "from math import pi\n",
    "\n",
    "class Circle:\n",
    "    def __init__(self, r):\n",
    "        self._r = r\n",
    "        self._area = None\n",
    "        \n",
    "    @property\n",
    "    def radius(self):\n",
    "        return self._r\n",
    "    \n",
    "    @radius.setter\n",
    "    def radius(self, r):\n",
    "        if r < 0:\n",
    "            raise ValueError(\"Radius cannot be less than 0\")\n",
    "        else:\n",
    "            self._r = r\n",
    "            self._area = None\n",
    "    \n",
    "    @property\n",
    "    def area(self):\n",
    "        if self._area is None:\n",
    "            self._area = pi * (self._r ** 2)\n",
    "        else:\n",
    "            return self._area"
   ]
  },
  {
   "cell_type": "markdown",
   "id": "0a27c61b",
   "metadata": {},
   "source": [
    "### Deleting Properties"
   ]
  },
  {
   "cell_type": "code",
   "execution_count": 20,
   "id": "0b086640",
   "metadata": {},
   "outputs": [],
   "source": [
    "class Circle:\n",
    "    def __init__(self, color):\n",
    "        self._color = color\n",
    "        \n",
    "    @property\n",
    "    def color(self):\n",
    "        return self._color\n",
    "    \n",
    "    @color.deleter\n",
    "    def color(self):\n",
    "        # Removes from the instance object, not the class\n",
    "        del self._color"
   ]
  },
  {
   "cell_type": "markdown",
   "id": "02f28647",
   "metadata": {},
   "source": [
    "### Class and Static Methods\n",
    "\n",
    "__Class Methods__"
   ]
  },
  {
   "cell_type": "code",
   "execution_count": 22,
   "id": "a66f5a46",
   "metadata": {},
   "outputs": [],
   "source": [
    "class MyClass:\n",
    "    def hello():\n",
    "        print(\"hello\")\n",
    "        \n",
    "    def instance_hello(self):\n",
    "        print(f\"hello from {self}\")\n",
    "    \n",
    "    @classmethod\n",
    "    def class_hello(cls):\n",
    "        print(f\"hello from {cls}\")"
   ]
  },
  {
   "cell_type": "code",
   "execution_count": 23,
   "id": "043078c3",
   "metadata": {},
   "outputs": [],
   "source": [
    "my_obj = MyClass()"
   ]
  },
  {
   "cell_type": "code",
   "execution_count": 28,
   "id": "7a397359",
   "metadata": {},
   "outputs": [
    {
     "data": {
      "text/plain": [
       "<bound method MyClass.instance_hello of <__main__.MyClass object at 0x7f25df2cefd0>>"
      ]
     },
     "execution_count": 28,
     "metadata": {},
     "output_type": "execute_result"
    }
   ],
   "source": [
    "my_obj.instance_hello"
   ]
  },
  {
   "cell_type": "code",
   "execution_count": 27,
   "id": "93e0f694",
   "metadata": {},
   "outputs": [
    {
     "data": {
      "text/plain": [
       "<bound method MyClass.class_hello of <class '__main__.MyClass'>>"
      ]
     },
     "execution_count": 27,
     "metadata": {},
     "output_type": "execute_result"
    }
   ],
   "source": [
    "my_obj.class_hello"
   ]
  },
  {
   "cell_type": "markdown",
   "id": "a76ec78f",
   "metadata": {},
   "source": [
    "__Static Methods__\n",
    "\n",
    "Can we define a function in a class that will never be bound to either an instance or the class?\n",
    "\n",
    "Note that static methods are not commonly used and in some circles their use is discouraged entirely."
   ]
  },
  {
   "cell_type": "code",
   "execution_count": 32,
   "id": "9ccd3e1c",
   "metadata": {},
   "outputs": [],
   "source": [
    "class Circle:\n",
    "    @staticmethod\n",
    "    def help():\n",
    "        return 'heres some help'"
   ]
  },
  {
   "cell_type": "code",
   "execution_count": 33,
   "id": "059e04a9",
   "metadata": {},
   "outputs": [
    {
     "data": {
      "text/plain": [
       "<function __main__.Circle.help()>"
      ]
     },
     "execution_count": 33,
     "metadata": {},
     "output_type": "execute_result"
    }
   ],
   "source": [
    "c = Circle()\n",
    "c.help"
   ]
  },
  {
   "cell_type": "markdown",
   "id": "acd2c9f7",
   "metadata": {},
   "source": [
    "### Built-in and Standard Types\n",
    "\n",
    "__The `types` Module__\n",
    "\n",
    "Some standard types are not available directly in the built-ins."
   ]
  },
  {
   "cell_type": "code",
   "execution_count": 34,
   "id": "1a82c799",
   "metadata": {},
   "outputs": [
    {
     "data": {
      "text/plain": [
       "True"
      ]
     },
     "execution_count": 34,
     "metadata": {},
     "output_type": "execute_result"
    }
   ],
   "source": [
    "import types\n",
    "\n",
    "def my_func(): ...\n",
    "    \n",
    "isinstance(my_func, types.FunctionType)"
   ]
  },
  {
   "cell_type": "code",
   "execution_count": 35,
   "id": "693001f6",
   "metadata": {},
   "outputs": [
    {
     "data": {
      "text/plain": [
       "generator"
      ]
     },
     "execution_count": 35,
     "metadata": {},
     "output_type": "execute_result"
    }
   ],
   "source": [
    "types.ModuleType\n",
    "types.GeneratorType"
   ]
  },
  {
   "cell_type": "markdown",
   "id": "cf4b1950",
   "metadata": {},
   "source": [
    "### Class Body Scope\n",
    "\n",
    "Inside the class body scope, the *labels* for functions will reside within the scope, but the function objects those labels point to will reside in the classes containing scope (module scope)"
   ]
  },
  {
   "cell_type": "code",
   "execution_count": 36,
   "id": "eaa2bbbc",
   "metadata": {},
   "outputs": [],
   "source": [
    "# module scope: Python, p\n",
    "\n",
    "class Python: # class body scope: kingdom, phylum, __init__, speak\n",
    "    kingdom = 'animalia'\n",
    "    phylum = 'chordata'\n",
    "    \n",
    "    def __init__(self, species):\n",
    "        self.species = species\n",
    "        \n",
    "    def speak(self):\n",
    "        return 'sss'\n",
    "    \n",
    "p = Python('monty')"
   ]
  },
  {
   "cell_type": "code",
   "execution_count": 38,
   "id": "31e19f68",
   "metadata": {},
   "outputs": [],
   "source": [
    "# This example kind of shows where the scopes of the function objects reside \n",
    "def callable_1(self, species): ...\n",
    "def callable_2(self): ...\n",
    "    \n",
    "class Python:\n",
    "    __init__ = callable_1\n",
    "    speak = callable_2"
   ]
  },
  {
   "cell_type": "code",
   "execution_count": null,
   "id": "71c7d3d9",
   "metadata": {},
   "outputs": [],
   "source": []
  }
 ],
 "metadata": {
  "kernelspec": {
   "display_name": "Python 3 (ipykernel)",
   "language": "python",
   "name": "python3"
  },
  "language_info": {
   "codemirror_mode": {
    "name": "ipython",
    "version": 3
   },
   "file_extension": ".py",
   "mimetype": "text/x-python",
   "name": "python",
   "nbconvert_exporter": "python",
   "pygments_lexer": "ipython3",
   "version": "3.9.7"
  }
 },
 "nbformat": 4,
 "nbformat_minor": 5
}
