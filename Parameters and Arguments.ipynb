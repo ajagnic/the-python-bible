{
 "cells": [
  {
   "cell_type": "markdown",
   "id": "c9827565",
   "metadata": {},
   "source": [
    "### Parameters vs Arguments\n",
    "\n",
    "Semantics!\n",
    "\n",
    "Technically, _parameters_ are part of a functions definition\n",
    "\n",
    "e.g.\n",
    "\n",
    "`def my_func(a, b):`\n",
    "\n",
    "While _arguments_ ae the values passed to a function when invoked\n",
    "\n",
    "e.g.\n",
    "\n",
    "`my_func(x, y)`\n",
    "\n",
    "__Positional Arguments__\n",
    "\n",
    "Most common way of assigning arguments to parameters: via the order in which they are passed, i.e. their _position_\n",
    "\n",
    "`def my_func(a, b):`\n",
    "\n",
    "`my_func(10, 20)` --> a = 10, b = 20\n",
    "\n",
    "__Default Values__\n",
    "\n",
    "Positional arguments can be made optional by specifying a default value for the corresponding parameter\n",
    "\n",
    "`def my_func(a, b=100):`\n",
    "\n",
    "`my_func(10, 20)` --> a = 10, b = 20\n",
    "\n",
    "`my_func(5)` --> a = 5, b = 100\n",
    "\n",
    "[ ! ] If a positional parameter is defined with a default value, every positional parameter after it bust also be given a default value\n",
    "\n",
    "`def my_func(a, b=100, c):` Therefore, this will not work!\n",
    "\n",
    "__Keyword Arguments__\n",
    "\n",
    "Positional argumments can, optionally, be specified by using the parameter name whether or not they have default values.\n",
    "\n",
    "`my_func(5, c=15)` --> a = 5, b = 100, c = 15\n",
    "\n",
    "[ ! ] Once you use a named argument, all arguments thereafter must be named as well\n",
    "\n",
    "`my_func(a=10, 2, 4)` Therefore, this will not work!\n"
   ]
  },
  {
   "cell_type": "markdown",
   "id": "b1a5bb29",
   "metadata": {},
   "source": [
    "### Unpacking Iterables\n",
    "\n",
    "__A Side Note on Tuples__\n",
    "\n",
    "What defines a tuple in Python is not `()`, but `,`\n",
    "\n",
    "`1, 2, 3` is a tuple --> (1, 2, 3)\n",
    "\n",
    "To create a tuple with a single element:\n",
    "\n",
    "`(1)` will __not__ work as intended, it will simply create an `int`\n",
    "\n",
    "So you either must do:\n",
    "\n",
    "`1,` OR `(1, )`\n",
    "\n",
    "The only exception is an empty tuple, which can be created with just paranthese or the class constructor\n",
    "\n",
    "`()` OR `tuple()`\n",
    "\n",
    "__Packed Values__\n",
    "\n",
    "Packed values refer to values that are bundled together in some way\n",
    "- tuples and lists\n",
    "- sets and dictionaries\n",
    "- even strings are packed values!\n",
    "\n",
    "[ ! ] In fact, any iterable can be considered a packed value\n",
    "\n",
    "__Unpacking Packed Values__\n",
    "\n",
    "Unpacking is the act of splitting packed values into individual variables contained in a list or tuple, etc.\n",
    "\n",
    "`a, b, c = [2, 4, 6]` Here, `a, b, c` is technically a tuple\n",
    "\n",
    "The unpacking into individual variables is based on the relative postions of each element\n",
    "\n",
    "e.g. a = 2, b = 4, c = 6\n",
    "\n",
    "[ ! ] __This should remind you of how positional arguments were assigned to parameters of a function!__\n"
   ]
  },
  {
   "cell_type": "code",
   "execution_count": 1,
   "id": "6a71d913",
   "metadata": {},
   "outputs": [],
   "source": [
    "a, b, c = 10, 20, 'hello'"
   ]
  },
  {
   "cell_type": "code",
   "execution_count": 2,
   "id": "9ba5f0b1",
   "metadata": {},
   "outputs": [],
   "source": [
    "a, b, c = 'XYZ'"
   ]
  },
  {
   "cell_type": "code",
   "execution_count": 3,
   "id": "f47e7f98",
   "metadata": {},
   "outputs": [
    {
     "name": "stdout",
     "output_type": "stream",
     "text": [
      "10\n",
      "20\n",
      "hello\n"
     ]
    }
   ],
   "source": [
    "for e in 10, 20, 'hello':\n",
    "    print(e)"
   ]
  },
  {
   "cell_type": "code",
   "execution_count": 5,
   "id": "de212d93",
   "metadata": {},
   "outputs": [
    {
     "name": "stdout",
     "output_type": "stream",
     "text": [
      "X\n",
      "Y\n",
      "Z\n"
     ]
    }
   ],
   "source": [
    "for c in 'XYZ':\n",
    "    print(c)"
   ]
  },
  {
   "cell_type": "markdown",
   "id": "38d3a666",
   "metadata": {},
   "source": [
    "A simple application of unpacking: swapping 2 variables\n",
    "\n",
    "Traditional Approach:\n",
    "```\n",
    "tmp = a\n",
    "a = b\n",
    "b = tmp\n",
    "```\n",
    "\n",
    "Using Unpacking:\n",
    "\n",
    "`a, b = b, a`\n",
    "\n",
    "[ ! ] This works because in Python, the entire right-hand side is evaluated first and then assignments are made to the left-hand side\n",
    "\n",
    "__Unpacking Sets and Dictionaries__\n",
    "\n",
    "When looping through a dictionary, we actually iterate through its keys by default (instead of key-value pairs)\n",
    "\n",
    "[ ! ] Unpacking dicts and sets via `a, b, c = d` is rarely used, since we cannot guarantee the order of what will be unpacked "
   ]
  },
  {
   "cell_type": "code",
   "execution_count": 8,
   "id": "6660dbc9",
   "metadata": {},
   "outputs": [
    {
     "name": "stdout",
     "output_type": "stream",
     "text": [
      "key1\n",
      "key2\n",
      "key3\n"
     ]
    }
   ],
   "source": [
    "d = {'key1': 1, 'key2': 2, 'key3': 3}\n",
    "\n",
    "for e in d:\n",
    "    print(e)"
   ]
  },
  {
   "cell_type": "code",
   "execution_count": 9,
   "id": "7f4ff2cb",
   "metadata": {},
   "outputs": [
    {
     "name": "stdout",
     "output_type": "stream",
     "text": [
      "c\n",
      "d\n",
      "b\n",
      "e\n",
      "a\n"
     ]
    }
   ],
   "source": [
    "s = {'a', 'b', 'c', 'd', 'e'}\n",
    "\n",
    "for c in s:\n",
    "    print(c)"
   ]
  },
  {
   "cell_type": "markdown",
   "id": "b0e1b5cc",
   "metadata": {},
   "source": [
    "[ ! ] Similar to dictionaries, for sets we cannot guarantee the order of what will be unpacked"
   ]
  },
  {
   "cell_type": "code",
   "execution_count": null,
   "id": "f58bbe53",
   "metadata": {},
   "outputs": [],
   "source": []
  }
 ],
 "metadata": {
  "kernelspec": {
   "display_name": "Python 3 (ipykernel)",
   "language": "python",
   "name": "python3"
  },
  "language_info": {
   "codemirror_mode": {
    "name": "ipython",
    "version": 3
   },
   "file_extension": ".py",
   "mimetype": "text/x-python",
   "name": "python",
   "nbconvert_exporter": "python",
   "pygments_lexer": "ipython3",
   "version": "3.9.7"
  }
 },
 "nbformat": 4,
 "nbformat_minor": 5
}
