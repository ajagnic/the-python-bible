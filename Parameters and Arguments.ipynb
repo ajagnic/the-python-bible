{
 "cells": [
  {
   "cell_type": "markdown",
   "id": "c9827565",
   "metadata": {},
   "source": [
    "### Parameters vs Arguments\n",
    "\n",
    "Semantics!\n",
    "\n",
    "Technically, _parameters_ are part of a functions definition\n",
    "\n",
    "e.g.\n",
    "\n",
    "`def my_func(a, b):`\n",
    "\n",
    "While _arguments_ ae the values passed to a function when invoked\n",
    "\n",
    "e.g.\n",
    "\n",
    "`my_func(x, y)`\n",
    "\n",
    "__Positional Arguments__\n",
    "\n",
    "Most common way of assigning arguments to parameters: via the order in which they are passed, i.e. their _position_\n",
    "\n",
    "`def my_func(a, b):`\n",
    "\n",
    "`my_func(10, 20)` --> a = 10, b = 20\n",
    "\n",
    "__Default Values__\n",
    "\n",
    "Positional arguments can be made optional by specifying a default value for the corresponding parameter\n",
    "\n",
    "`def my_func(a, b=100):`\n",
    "\n",
    "`my_func(10, 20)` --> a = 10, b = 20\n",
    "\n",
    "`my_func(5)` --> a = 5, b = 100\n",
    "\n",
    "[ ! ] If a positional parameter is defined with a default value, every positional parameter after it bust also be given a default value\n",
    "\n",
    "`def my_func(a, b=100, c):` Therefore, this will not work!\n",
    "\n",
    "__Keyword Arguments__\n",
    "\n",
    "Positional argumments can, optionally, be specified by using the parameter name whether or not they have default values.\n",
    "\n",
    "`my_func(5, c=15)` --> a = 5, b = 100, c = 15\n",
    "\n",
    "[ ! ] Once you use a named argument, all arguments thereafter must be named as well\n",
    "\n",
    "`my_func(a=10, 2, 4)` Therefore, this will not work!\n"
   ]
  },
  {
   "cell_type": "markdown",
   "id": "b1a5bb29",
   "metadata": {},
   "source": [
    "### Unpacking Iterables\n",
    "\n",
    "__A Side Note on Tuples__\n",
    "\n",
    "What defines a tuple in Python is not `()`, but `,`\n",
    "\n",
    "`1, 2, 3` is a tuple --> (1, 2, 3)\n",
    "\n",
    "To create a tuple with a single element:\n",
    "\n",
    "`(1)` will __not__ work as intended, it will simply create an `int`\n",
    "\n",
    "So you either must do:\n",
    "\n",
    "`1,` OR `(1, )`\n",
    "\n",
    "The only exception is an empty tuple, which can be created with just paranthese or the class constructor\n",
    "\n",
    "`()` OR `tuple()`\n",
    "\n",
    "__Packed Values__\n",
    "\n",
    "Packed values refer to values that are bundled together in some way\n",
    "- tuples and lists\n",
    "- sets and dictionaries\n",
    "- even strings are packed values!\n",
    "\n",
    "[ ! ] In fact, any iterable can be considered a packed value\n",
    "\n",
    "__Unpacking Packed Values__\n",
    "\n",
    "Unpacking is the act of splitting packed values into individual variables contained in a list or tuple, etc.\n",
    "\n",
    "`a, b, c = [2, 4, 6]` Here, `a, b, c` is technically a tuple\n",
    "\n",
    "The unpacking into individual variables is based on the relative postions of each element\n",
    "\n",
    "e.g. a = 2, b = 4, c = 6\n",
    "\n",
    "[ ! ] __This should remind you of how positional arguments were assigned to parameters of a function!__\n"
   ]
  },
  {
   "cell_type": "code",
   "execution_count": 1,
   "id": "6a71d913",
   "metadata": {},
   "outputs": [],
   "source": [
    "a, b, c = 10, 20, 'hello'"
   ]
  },
  {
   "cell_type": "code",
   "execution_count": 2,
   "id": "9ba5f0b1",
   "metadata": {},
   "outputs": [],
   "source": [
    "a, b, c = 'XYZ'"
   ]
  },
  {
   "cell_type": "code",
   "execution_count": 3,
   "id": "f47e7f98",
   "metadata": {},
   "outputs": [
    {
     "name": "stdout",
     "output_type": "stream",
     "text": [
      "10\n",
      "20\n",
      "hello\n"
     ]
    }
   ],
   "source": [
    "for e in 10, 20, 'hello':\n",
    "    print(e)"
   ]
  },
  {
   "cell_type": "code",
   "execution_count": 4,
   "id": "de212d93",
   "metadata": {},
   "outputs": [
    {
     "name": "stdout",
     "output_type": "stream",
     "text": [
      "X\n",
      "Y\n",
      "Z\n"
     ]
    }
   ],
   "source": [
    "for c in 'XYZ':\n",
    "    print(c)"
   ]
  },
  {
   "cell_type": "markdown",
   "id": "38d3a666",
   "metadata": {},
   "source": [
    "A simple application of unpacking: swapping 2 variables\n",
    "\n",
    "Traditional Approach:\n",
    "```\n",
    "tmp = a\n",
    "a = b\n",
    "b = tmp\n",
    "```\n",
    "\n",
    "Using Unpacking:\n",
    "\n",
    "`a, b = b, a`\n",
    "\n",
    "[ ! ] This works because in Python, the entire right-hand side is evaluated first and then assignments are made to the left-hand side\n",
    "\n",
    "__Unpacking Sets and Dictionaries__\n",
    "\n",
    "When looping through a dictionary, we actually iterate through its keys by default (instead of key-value pairs)\n",
    "\n",
    "[ ! ] Unpacking dicts and sets via `a, b, c = d` is rarely used, since we cannot guarantee the order of what will be unpacked "
   ]
  },
  {
   "cell_type": "code",
   "execution_count": 5,
   "id": "6660dbc9",
   "metadata": {},
   "outputs": [
    {
     "name": "stdout",
     "output_type": "stream",
     "text": [
      "key1\n",
      "key2\n",
      "key3\n"
     ]
    }
   ],
   "source": [
    "d = {'key1': 1, 'key2': 2, 'key3': 3}\n",
    "\n",
    "for e in d:\n",
    "    print(e)"
   ]
  },
  {
   "cell_type": "code",
   "execution_count": 6,
   "id": "7f4ff2cb",
   "metadata": {},
   "outputs": [
    {
     "name": "stdout",
     "output_type": "stream",
     "text": [
      "a\n",
      "c\n",
      "b\n",
      "e\n",
      "d\n"
     ]
    }
   ],
   "source": [
    "s = {'a', 'b', 'c', 'd', 'e'}\n",
    "\n",
    "for c in s:\n",
    "    print(c)"
   ]
  },
  {
   "cell_type": "markdown",
   "id": "b0e1b5cc",
   "metadata": {},
   "source": [
    "[ ! ] Similar to dictionaries, for sets we cannot guarantee the order of what will be unpacked"
   ]
  },
  {
   "cell_type": "markdown",
   "id": "8425b029",
   "metadata": {},
   "source": [
    "### Extended Unpacking\n",
    "\n",
    "__The * Operator__\n",
    "\n",
    "Instead of unpacking every item in an iterable, we may want to unpack the first value then unpack the rest into another variable."
   ]
  },
  {
   "cell_type": "code",
   "execution_count": 7,
   "id": "8c12867b",
   "metadata": {},
   "outputs": [],
   "source": [
    "l = [1, 2, 3, 4, 5]"
   ]
  },
  {
   "cell_type": "code",
   "execution_count": 9,
   "id": "0d476f3a",
   "metadata": {},
   "outputs": [
    {
     "name": "stdout",
     "output_type": "stream",
     "text": [
      "1 [2, 3, 4, 5]\n"
     ]
    }
   ],
   "source": [
    "# We can achieve this through slicing\n",
    "a, b = l[0], l[1:]\n",
    "\n",
    "print(a, b)"
   ]
  },
  {
   "cell_type": "code",
   "execution_count": 10,
   "id": "c27b1d6d",
   "metadata": {},
   "outputs": [
    {
     "name": "stdout",
     "output_type": "stream",
     "text": [
      "1 [2, 3, 4, 5]\n"
     ]
    }
   ],
   "source": [
    "# We can also use the * operator\n",
    "a, *b = l\n",
    "\n",
    "print(a, b)"
   ]
  },
  {
   "cell_type": "markdown",
   "id": "8a660181",
   "metadata": {},
   "source": [
    "[ ! ] This works for any iterable, not just sequence types"
   ]
  },
  {
   "cell_type": "code",
   "execution_count": 11,
   "id": "fc6474f0",
   "metadata": {},
   "outputs": [
    {
     "name": "stdout",
     "output_type": "stream",
     "text": [
      "-10 [5, 7, 9]\n"
     ]
    }
   ],
   "source": [
    "a, *b = (-10, 5, 7, 9)\n",
    "\n",
    "print(a, b)"
   ]
  },
  {
   "cell_type": "code",
   "execution_count": 12,
   "id": "8520d363",
   "metadata": {},
   "outputs": [
    {
     "name": "stdout",
     "output_type": "stream",
     "text": [
      "X ['Y', 'Z']\n"
     ]
    }
   ],
   "source": [
    "a, *b = 'XYZ'\n",
    "\n",
    "print(a, b)"
   ]
  },
  {
   "cell_type": "code",
   "execution_count": 13,
   "id": "49749a0d",
   "metadata": {},
   "outputs": [
    {
     "name": "stdout",
     "output_type": "stream",
     "text": [
      "1 2 [3, 4, 5]\n"
     ]
    }
   ],
   "source": [
    "a, b, *c = 1, 2, 3, 4, 5\n",
    "\n",
    "print(a, b, c)"
   ]
  },
  {
   "cell_type": "code",
   "execution_count": 14,
   "id": "e8f710e6",
   "metadata": {},
   "outputs": [
    {
     "name": "stdout",
     "output_type": "stream",
     "text": [
      "p ['y', 't', 'h'] o n\n"
     ]
    }
   ],
   "source": [
    "a, *b, c, d = 'python'\n",
    "\n",
    "print(a, b, c, d)"
   ]
  },
  {
   "cell_type": "code",
   "execution_count": 16,
   "id": "08738873",
   "metadata": {},
   "outputs": [
    {
     "name": "stdout",
     "output_type": "stream",
     "text": [
      "[1, 2, 3, 4, 5, 6]\n"
     ]
    }
   ],
   "source": [
    "# You can the * operator on the right-hand side for some occasions:\n",
    "l1 = [1, 2, 3]\n",
    "l2 = [4, 5, 6]\n",
    "l = [*l1, *l2]\n",
    "\n",
    "print(l)"
   ]
  },
  {
   "cell_type": "markdown",
   "id": "7306f996",
   "metadata": {},
   "source": [
    "__Using * with Unordered Types__\n",
    "\n",
    "This might be handy when you need to create a single collection containing all items of multiple sets, or all the keys in multiple dicts."
   ]
  },
  {
   "cell_type": "code",
   "execution_count": 17,
   "id": "fd871090",
   "metadata": {},
   "outputs": [
    {
     "name": "stdout",
     "output_type": "stream",
     "text": [
      "['p', 'y', 't', 'h', 'h', 'o', 'n'] {'h', 'p', 'o', 'n', 'y', 't'}\n"
     ]
    }
   ],
   "source": [
    "d1 = {'p':1, 'y':2}\n",
    "d2 = {'t':3, 'h':4}\n",
    "d3 = {'h':5, 'o':6, 'n':7}\n",
    "\n",
    "l = [*d1, *d2, *d3]\n",
    "s = {*d1, *d2, *d3}\n",
    "\n",
    "print(l, s)"
   ]
  },
  {
   "cell_type": "markdown",
   "id": "8eef5598",
   "metadata": {},
   "source": [
    "__The ** Operator__\n",
    "\n",
    "If * is a way to iterate the keys of a dictionary, how can we iterate the key-value pairs? Using **"
   ]
  },
  {
   "cell_type": "code",
   "execution_count": 18,
   "id": "bd202a21",
   "metadata": {},
   "outputs": [
    {
     "name": "stdout",
     "output_type": "stream",
     "text": [
      "{'p': 1, 'y': 2, 't': 3, 'h': 5, 'o': 6, 'n': 7}\n"
     ]
    }
   ],
   "source": [
    "d1 = {'p':1, 'y':2}\n",
    "d2 = {'t':3, 'h':4}\n",
    "d3 = {'h':5, 'o':6, 'n':7}\n",
    "\n",
    "d = {**d1, **d2, **d3}\n",
    "print(d)"
   ]
  },
  {
   "cell_type": "markdown",
   "id": "e848204a",
   "metadata": {},
   "source": [
    "[ ! ] The ** operator can __NOT__ be used in the LHS of an assignment\n",
    "\n",
    "[ ! ] Note that the value of 'h' in d3 overwrote the value of 'h' in d2. The last collection merged will overwrite any duplicate keys"
   ]
  },
  {
   "cell_type": "markdown",
   "id": "53210a1a",
   "metadata": {},
   "source": [
    "__Nested Unpacking__"
   ]
  },
  {
   "cell_type": "code",
   "execution_count": 19,
   "id": "9c56c5f8",
   "metadata": {},
   "outputs": [],
   "source": [
    "l = [1, 2, [3, 4]]"
   ]
  },
  {
   "cell_type": "code",
   "execution_count": 20,
   "id": "9116fb79",
   "metadata": {},
   "outputs": [
    {
     "name": "stdout",
     "output_type": "stream",
     "text": [
      "1 2 [3, 4]\n"
     ]
    }
   ],
   "source": [
    "# We can unpack the usual way, but c will be a list\n",
    "a, b, c = l\n",
    "\n",
    "print(a, b, c)"
   ]
  },
  {
   "cell_type": "code",
   "execution_count": 21,
   "id": "ec97bc18",
   "metadata": {},
   "outputs": [
    {
     "name": "stdout",
     "output_type": "stream",
     "text": [
      "1 2 3 4\n"
     ]
    }
   ],
   "source": [
    "# However we can structure c and d as a tuple to unpack further\n",
    "a, b, (c, d) = l\n",
    "\n",
    "print(a, b, c, d)"
   ]
  },
  {
   "cell_type": "code",
   "execution_count": 22,
   "id": "0e030c28",
   "metadata": {},
   "outputs": [
    {
     "name": "stdout",
     "output_type": "stream",
     "text": [
      "1 [2, 3] X Y Z\n"
     ]
    }
   ],
   "source": [
    "a, *b, (c, d, e) = [1, 2, 3, 'XYZ']\n",
    "\n",
    "print(a, b, c, d, e)"
   ]
  },
  {
   "cell_type": "code",
   "execution_count": 24,
   "id": "b40aa860",
   "metadata": {},
   "outputs": [
    {
     "name": "stdout",
     "output_type": "stream",
     "text": [
      "1 [2, 3] p ['y', 't', 'h', 'o', 'n']\n"
     ]
    }
   ],
   "source": [
    "# even though this looks like the use of 2 * operators on the LHS, its not really\n",
    "# since the tuple counts as nested unpacking.\n",
    "a, *b, (c, *d) = [1, 2, 3, 'python']\n",
    "\n",
    "print(a, b, c, d)"
   ]
  },
  {
   "cell_type": "markdown",
   "id": "80654853",
   "metadata": {},
   "source": [
    "### *args\n",
    "\n",
    "The functionality displayed above is exactly what happens when we use `*args` in a function definition for variadic input.\n",
    "\n",
    "[ ! ] \\*args exhausts positional input, you cannot add more positional arguments after \\*args"
   ]
  },
  {
   "cell_type": "code",
   "execution_count": 25,
   "id": "9bb8715e",
   "metadata": {},
   "outputs": [],
   "source": [
    "def fn(a, b, *c): ..."
   ]
  },
  {
   "cell_type": "code",
   "execution_count": 27,
   "id": "6ce21c40",
   "metadata": {},
   "outputs": [],
   "source": [
    "# 'a', 'b' and 'c' will be passed as the tuple ('a', 'b', 'c') to the function\n",
    "fn(10, 20, 'a', 'b', 'c')"
   ]
  },
  {
   "cell_type": "markdown",
   "id": "44c6da53",
   "metadata": {},
   "source": [
    "__Unpacking Arguments__"
   ]
  },
  {
   "cell_type": "code",
   "execution_count": 28,
   "id": "9cf6447f",
   "metadata": {},
   "outputs": [],
   "source": [
    "def func(a, b, c): ..."
   ]
  },
  {
   "cell_type": "code",
   "execution_count": 30,
   "id": "8fbf2497",
   "metadata": {},
   "outputs": [],
   "source": [
    "l = [10, 20, 30]\n",
    "\n",
    "#This will not work\n",
    "# func(l)\n",
    "\n",
    "#However we can unpack the list first using * then pass it to the function,\n",
    "#or unpack it as we pass it in\n",
    "func(*l)"
   ]
  },
  {
   "cell_type": "markdown",
   "id": "1175aa21",
   "metadata": {},
   "source": [
    "__Mandatory Arguments__\n",
    "\n",
    "We can make keyword arguments mandatory by defining keyword parameters after \\*args in our definition."
   ]
  },
  {
   "cell_type": "code",
   "execution_count": 31,
   "id": "afbfd70c",
   "metadata": {},
   "outputs": [],
   "source": [
    "# here, d must be passed in and it also must be specified by keyword when being passed\n",
    "def func(a, b, *args, d): ..."
   ]
  },
  {
   "cell_type": "code",
   "execution_count": 32,
   "id": "c5ee9d48",
   "metadata": {},
   "outputs": [],
   "source": [
    "func(1, 2, 3, 4, 5, 6, d=10)"
   ]
  },
  {
   "cell_type": "code",
   "execution_count": 35,
   "id": "259f594d",
   "metadata": {},
   "outputs": [],
   "source": [
    "# you can omit any mandatory positional arguments:\n",
    "def func(*args, d): ...\n",
    "\n",
    "func(d=100)\n",
    "\n",
    "# or force no positional args:\n",
    "def func(*, d): ... # here * indicates the end of pos args, with no variable to capture them\n",
    "\n",
    "func(d=100)"
   ]
  },
  {
   "cell_type": "markdown",
   "id": "21ece434",
   "metadata": {},
   "source": [
    "### **kwargs\n",
    "\n",
    "If `*args` scoops up variable positional arguments, `**kwargs` scoops up variable keyword arguments."
   ]
  },
  {
   "cell_type": "code",
   "execution_count": 38,
   "id": "f88a3c81",
   "metadata": {},
   "outputs": [],
   "source": [
    "def func(*, d, **kwargs):\n",
    "    print(kwargs)"
   ]
  },
  {
   "cell_type": "code",
   "execution_count": 39,
   "id": "30f17a41",
   "metadata": {},
   "outputs": [
    {
     "name": "stdout",
     "output_type": "stream",
     "text": [
      "{'e': 10, 'f': 15}\n"
     ]
    }
   ],
   "source": [
    "func(d=100, e=10, f=15)"
   ]
  },
  {
   "cell_type": "code",
   "execution_count": null,
   "id": "2ef3c8d3",
   "metadata": {},
   "outputs": [],
   "source": []
  }
 ],
 "metadata": {
  "kernelspec": {
   "display_name": "Python 3 (ipykernel)",
   "language": "python",
   "name": "python3"
  },
  "language_info": {
   "codemirror_mode": {
    "name": "ipython",
    "version": 3
   },
   "file_extension": ".py",
   "mimetype": "text/x-python",
   "name": "python",
   "nbconvert_exporter": "python",
   "pygments_lexer": "ipython3",
   "version": "3.9.7"
  }
 },
 "nbformat": 4,
 "nbformat_minor": 5
}
