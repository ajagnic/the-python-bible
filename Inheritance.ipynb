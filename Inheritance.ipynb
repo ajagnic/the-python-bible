{
 "cells": [
  {
   "cell_type": "markdown",
   "id": "39301502",
   "metadata": {},
   "source": [
    "Multiple vs Single Inheritance\n",
    "\n",
    "Python supports multiple inheritance, which is inheriting from more than one class.\n",
    "\n",
    "Single inheritance is inheriting from a single class, even if forming an inheritance chain.\n",
    "\n",
    "__Inheritance__\n",
    "\n",
    "When classes define properties and methods, they can form a natural hierarchy.\n",
    "\n",
    "Shape:\n",
    "- Polygon\n",
    "    - Rectangle\n",
    "        - Square\n",
    "    - Triangle\n",
    "- Ellipse\n",
    "    - Circle\n",
    "    \n",
    "These hierarchies show IS-A relationships (Cicle is a Ellipse which is a Polygon)\n",
    "\n",
    "When we inherit from a class, we inherit charcteristics (state and behavior). We can also extend and override charcteristics.\n",
    "\n",
    "__`isinstance()` vs `type()`__\n",
    "\n",
    "`isinstance` will traverse inheritance chains and return true if the type is found anywhere up the chain.\n",
    "\n",
    "`type` only returns the class that the instance was created from."
   ]
  },
  {
   "cell_type": "code",
   "execution_count": 1,
   "id": "dd65ae57",
   "metadata": {},
   "outputs": [
    {
     "data": {
      "text/plain": [
       "True"
      ]
     },
     "execution_count": 1,
     "metadata": {},
     "output_type": "execute_result"
    }
   ],
   "source": [
    "isinstance(list(), object)"
   ]
  },
  {
   "cell_type": "code",
   "execution_count": 2,
   "id": "c6170896",
   "metadata": {},
   "outputs": [
    {
     "data": {
      "text/plain": [
       "list"
      ]
     },
     "execution_count": 2,
     "metadata": {},
     "output_type": "execute_result"
    }
   ],
   "source": [
    "type(list())"
   ]
  },
  {
   "cell_type": "markdown",
   "id": "b133cf6b",
   "metadata": {},
   "source": [
    "__`issubclass`__\n",
    "\n",
    "Used to inspect inheritance relationships between classes (not instances)\n",
    "\n",
    "__Defining Subclasses__"
   ]
  },
  {
   "cell_type": "code",
   "execution_count": 3,
   "id": "f82feec2",
   "metadata": {},
   "outputs": [],
   "source": [
    "class Person:\n",
    "    pass\n",
    "\n",
    "class Teacher(Person):\n",
    "    pass\n",
    "\n",
    "class Student(Person):\n",
    "    pass\n",
    "\n",
    "class CollegeStudent(Student):\n",
    "    pass"
   ]
  },
  {
   "cell_type": "markdown",
   "id": "94f1f328",
   "metadata": {},
   "source": [
    "__The `object` Class__\n",
    "\n",
    "When we define a class that does not inherit explicitly form another class, Python makes the class inherit from `object` implicitly. This means that every class we create is a subclass of `object`, even functions and modules are objects."
   ]
  },
  {
   "cell_type": "code",
   "execution_count": 5,
   "id": "3975bc55",
   "metadata": {},
   "outputs": [
    {
     "data": {
      "text/plain": [
       "True"
      ]
     },
     "execution_count": 5,
     "metadata": {},
     "output_type": "execute_result"
    }
   ],
   "source": [
    "class Person: ...\n",
    "    \n",
    "isinstance(Person(), object)"
   ]
  },
  {
   "cell_type": "code",
   "execution_count": 6,
   "id": "5a8247e6",
   "metadata": {},
   "outputs": [],
   "source": [
    "# We could define our class like this, although Python does this for us\n",
    "class Person(object): ..."
   ]
  },
  {
   "cell_type": "markdown",
   "id": "edf802d4",
   "metadata": {},
   "source": [
    "Some of the behaviors that classes automatically inherit from the object class:\n",
    "- `__name__`\n",
    "- `__new__`\n",
    "- `__init__`\n",
    "- `__repr__`\n",
    "- `__hash__`\n",
    "- `__eq__`"
   ]
  },
  {
   "cell_type": "markdown",
   "id": "4ae7abce",
   "metadata": {},
   "source": [
    "__Overriding Functionality__"
   ]
  },
  {
   "cell_type": "code",
   "execution_count": 7,
   "id": "366447e7",
   "metadata": {},
   "outputs": [],
   "source": [
    "class Person:\n",
    "    def hello(self):\n",
    "        return 'Hello'\n",
    "    \n",
    "    def bye(self):\n",
    "        return 'Bye'\n",
    "    \n",
    "class Student(Person):\n",
    "    def bye(self):\n",
    "        return 'Cya'"
   ]
  },
  {
   "cell_type": "code",
   "execution_count": 8,
   "id": "e718e52d",
   "metadata": {},
   "outputs": [
    {
     "data": {
      "text/plain": [
       "('Hello', 'Bye')"
      ]
     },
     "execution_count": 8,
     "metadata": {},
     "output_type": "execute_result"
    }
   ],
   "source": [
    "p = Person()\n",
    "s = Student()\n",
    "\n",
    "p.hello(), p.bye()"
   ]
  },
  {
   "cell_type": "code",
   "execution_count": 9,
   "id": "a593a1fd",
   "metadata": {},
   "outputs": [
    {
     "data": {
      "text/plain": [
       "('Hello', 'Cya')"
      ]
     },
     "execution_count": 9,
     "metadata": {},
     "output_type": "execute_result"
    }
   ],
   "source": [
    "s.hello(), s.bye()"
   ]
  },
  {
   "cell_type": "markdown",
   "id": "17594a0a",
   "metadata": {},
   "source": [
    "__Delegating to the Parent__\n",
    "\n",
    "When overriding methods, often it is useful to delegate functionality back to the parent class to reduce duplicate code. `super()` will look up the inheritance chain until it finds the method. Note that any method called using `super` will still be bound to the calling instance."
   ]
  },
  {
   "cell_type": "code",
   "execution_count": 11,
   "id": "d3103f79",
   "metadata": {},
   "outputs": [
    {
     "data": {
      "text/plain": [
       "'I am a Person that is also a student'"
      ]
     },
     "execution_count": 11,
     "metadata": {},
     "output_type": "execute_result"
    }
   ],
   "source": [
    "class Person:\n",
    "    def describe(self):\n",
    "        return 'I am a Person'\n",
    "    \n",
    "class Student(Person):\n",
    "    def describe(self):\n",
    "        return super().describe() + ' ' + 'that is also a student'\n",
    "    \n",
    "s = Student()\n",
    "s.describe()"
   ]
  },
  {
   "cell_type": "code",
   "execution_count": 12,
   "id": "d8647529",
   "metadata": {},
   "outputs": [],
   "source": [
    "class Person:\n",
    "    def __init__(self, name, age):\n",
    "        self.name = name\n",
    "        self.age = age\n",
    "\n",
    "class Student(Person):\n",
    "    def __init__(self, name, age, major):\n",
    "        super().__init__(name, age)\n",
    "        self.major = major"
   ]
  },
  {
   "cell_type": "markdown",
   "id": "b9e0a47e",
   "metadata": {},
   "source": [
    "__Slots__\n",
    "\n",
    "Instance attributes are normally stored in the local dictionary of a class instance (`__dict__`). However, there is a certain memory overhead using dictionaries. We can alleviate this issue by allowing Python to use a more compact data structure for certain predetermind attributes. Slots result in faster access and less memory overhead.\n",
    "\n",
    "Note that you cannot add additional attributes to an instance that are not defined in the slots."
   ]
  },
  {
   "cell_type": "code",
   "execution_count": 13,
   "id": "34ef08eb",
   "metadata": {},
   "outputs": [
    {
     "ename": "AttributeError",
     "evalue": "'Point' object has no attribute '__dict__'",
     "output_type": "error",
     "traceback": [
      "\u001b[0;31m---------------------------------------------------------------------------\u001b[0m",
      "\u001b[0;31mAttributeError\u001b[0m                            Traceback (most recent call last)",
      "\u001b[0;32m/tmp/ipykernel_22478/1473814536.py\u001b[0m in \u001b[0;36m<module>\u001b[0;34m\u001b[0m\n\u001b[1;32m      6\u001b[0m \u001b[0;34m\u001b[0m\u001b[0m\n\u001b[1;32m      7\u001b[0m \u001b[0mp\u001b[0m \u001b[0;34m=\u001b[0m \u001b[0mPoint\u001b[0m\u001b[0;34m(\u001b[0m\u001b[0;36m4\u001b[0m\u001b[0;34m,\u001b[0m \u001b[0;36m2\u001b[0m\u001b[0;34m)\u001b[0m\u001b[0;34m\u001b[0m\u001b[0;34m\u001b[0m\u001b[0m\n\u001b[0;32m----> 8\u001b[0;31m \u001b[0mp\u001b[0m\u001b[0;34m.\u001b[0m\u001b[0m__dict__\u001b[0m\u001b[0;34m\u001b[0m\u001b[0;34m\u001b[0m\u001b[0m\n\u001b[0m",
      "\u001b[0;31mAttributeError\u001b[0m: 'Point' object has no attribute '__dict__'"
     ]
    }
   ],
   "source": [
    "class Point:\n",
    "    __slots__ = ('x', 'y')\n",
    "    def __init__(self, x, y):\n",
    "        self.x = x\n",
    "        self.y = y\n",
    "        \n",
    "p = Point(4, 2)\n",
    "p.__dict__"
   ]
  },
  {
   "cell_type": "markdown",
   "id": "2b85845b",
   "metadata": {},
   "source": [
    "__Slots and Single Inheritance__\n",
    "\n",
    "Subclasses will use slots from the parents, but will also use an instance dictionary. If we want to also use slots in the subclass, we specify the slots for only the additional attributes."
   ]
  },
  {
   "cell_type": "code",
   "execution_count": null,
   "id": "4adcc2e6",
   "metadata": {},
   "outputs": [],
   "source": []
  }
 ],
 "metadata": {
  "kernelspec": {
   "display_name": "Python 3 (ipykernel)",
   "language": "python",
   "name": "python3"
  },
  "language_info": {
   "codemirror_mode": {
    "name": "ipython",
    "version": 3
   },
   "file_extension": ".py",
   "mimetype": "text/x-python",
   "name": "python",
   "nbconvert_exporter": "python",
   "pygments_lexer": "ipython3",
   "version": "3.9.7"
  }
 },
 "nbformat": 4,
 "nbformat_minor": 5
}
